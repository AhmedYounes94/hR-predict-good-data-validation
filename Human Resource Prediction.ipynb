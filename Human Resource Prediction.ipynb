{
 "cells": [
  {
   "cell_type": "markdown",
   "metadata": {},
   "source": [
    "# Predicting Why Employees Leave\n",
    "\n",
    "# Definition\n",
    "\n",
    "## Abstract\n",
    "Measuring employee satisfaction is a tough and highly complex task. There are a lot of different dimensions in play and turning them into quantifiable format, less to say machine-readable information, can pose a challenge. Information from employee reviews, demographics, balanced scorecards and key performance indicators can offer a first gateway to understanding employee turnover. Modern machine learning algorithms offer tools to leverage this pool of information and extract actionable insights regarding employee behaviour. In this research a model is introduced using supervised and unsupervised algorithms to predict employee turnover. The novelty of the work is in the hybrid approach leveraging both unsupervised and supervised learning results. Based on recent research it was possible to increase the prediction outcome and to introduce a hybrid model that could work as a blueprint for similar tasks in this domain.\n",
    "\n",
    "\n",
    "\n",
    "## Introduction\n",
    "\n",
    "According to the [Bureau of Labor Statistics](http://www.bls.gov/news.release/tenure.nr0.htm) the median number of years that wage and salary workers had been with their current employer is 4.2 years \\cite{labor1:bls}. While this number varies from industry to industry the story of an employee who sticks with one company for the entirety of a working life seems to be rather antiquated. This observation is combined with economical aspects. Employee turnover has been identified as a key issue for organizations because of its adverse impact on work place productivity and long term growth strategies <cite data-cite=\"4046282/DZ7FB7XU\"></cite>. One of the key issues with a high employee turnover rate combined with, but reaching beyond, cultural and sociological effects is the cost associated with it. Research shows that the replacement cost for an hourly worker can be as high as 50\\% of her annual salary. This number increases with the skill set of the worker up to 200\\% for senior-level workers and surges up to 400\\% for [executive level positions](www.visier.com/tech-insights/do-predictive-workforce-analytics-actually-work/). It becomes obvious that the trend of shorter tenure in addition to high employee turnover rates can be a costly endeavour. Therefore it becomes increasingly important to acquire the necessary tools for employers to understand where its workforce is standing. Additional insights from employee reports, scorecards as well as general statistical information can offer prediction values for companies when it comes to the longevity of jobs. This research aims to predict the likelihood of an employee quitting her job based on available information. It tries to deliver a hybrid machine learning method to gain actionable insights on how to prevent a high employee turnover. The novel contribution of this paper is the usage of a two-layered approach using unsupervised and supervised machine learning algorithms to achieve a higher predictive outcome.\n",
    "\n",
    "## Literature Review\n",
    "Employee turnover is a high impact topic and has been researched in both, management as well as psychology studies. Employee turnover can be defined as \"the gross movement of workers in and out of employment with respect to a given company\" <cite data-cite=\"4046282/4E5VI8HP\"></cite>. According to the Bureau of Labor Statistic there are two categories of turnover. Employee turnover is measured in terms of persons that quit their job, also known as voluntary turnover, and total separations. The subtraction of both numbers resulting in the amount for involuntary turnover. This research focuses on voluntary turnover and the reason behind it. Research suggests four categories of factors when it comes to employee turnover. Organization-wide factors, immediate work environment factors, job-related factors, and personal factors <cite data-cite=\"4046282/HPCFW2W5\"></cite>.\n",
    "<cite data-cite=\"4046282/I6B68G3U\"></cite> indicate in their model a multi-layered approach to turnover motivators including traditional features such as job satisfaction, meeting of expectations or job involvement as well as newer attitudes like stress, psychological uncertainty, challenge, hindrance stressors or organizational context like company size, group cohesion and demography. Adding to the complexity of the field, research has shown, that turnover rates are also affected by moderating factors. General job availability, movement of capital and job satisfaction can interact with each other simultaneously to affect turnover <cite data-cite=\"4046282/5P9K6ZAZ\">. Personal traits tend to have moderating effects as well. The relationship between turnover intentions and turnover for example can be moderated by various personality traits. This relationship was found to be stronger for employees with low self-monitoring, low risk aversion, and an internal locus of control <cite data-cite=\"4046282/SJ3BZIGV\"></cite>.\n",
    "Some research explored the relationship between job satisfaction and turnover and found it to be significant and consistent, but not particularly strong <cite data-cite=\"4046282/E5IGJ7T9\"></cite>. Capturing all these dimensions stays a problem. A more complete understanding of the psychology of the withdrawal decision process requires investigation beyond the replication of the satisfaction–turnover relationship. <cite data-cite=\"4046282/UZ4GGATW\"></cite> recommend a thorough comparison of several models and data exploration. Explicitly stating the need to continue model testing rather than simply correlating variables with turnover. <cite data-cite=\"undefined\"></cite> have found that most studies of voluntary turnover have one or two independent variables with voluntary turnover as the dependent variable. Machine learning algorithms are offering the opportunity to handle complex data structures and a large amount of variables. After capturing the needed data, machine learning can facilitate the ground truth hidden in massive data sets. \n",
    "\n",
    "## Problem Statement\n",
    "Machine learning differentiates between two classification problems. In some cases the data set contains unstructured data and machine learning is used to find clusters or classes. In other cases there are certain already predefined classes or labels. The task is to search for relationships or rules to distinguish one class from another. The first category of classification is called unsupervised learning. The second category falls into supervised learning. This research deals with a binary prediction task, to detect whether an employee has left the company or is still employed. But since employee turnover research is maneuvering in a highly interdependent context, the underlying relationship between features are important. In an attempt to create employee clusters and to use them in the prediction task, this research wants to offer a way of visualizing and categorizing employee behaviour.\n",
    "The problem to be solved is detecting the key elements of employee tenure and predicting whether an employee might be quitting her job. The setup of this research can be seen as a classification problem. Based on a set of features our solution should be able to determine if an employee quits or stays with a company. The core path to solving this problem is a supervised learning approach which will test the relationship between our independent variables and our dependent variable (did an employee leave or stay). The high-level tasks involved are the following:\n",
    "\n",
    "1. Download and preprocess the kaggle dataset about employment\n",
    "2. Use statistical methods such as descriptive analysis, regression and/or correlation to lay groundwork.\n",
    "3. Train a clustering algorithm to group employees into different segments. 1\n",
    "4. Train a classifier that determines whether an employee has left. 5. Compare our results against the benchmark model.\n",
    "\n",
    "A desirable solution can be quantified by correct detection of potential job quitters and the amount of created intervention opportunities. This problem affects companies of all sizes. Although it can be said that based on statistics there are certain industry traits that have a higher tenure the tendency to switch jobs has increased over time. The boundaries of this problem are the underlying mechanisms of every individual company. It is also important to mention that prediction is not equal to prevention. Company culture, direct reports and individual needs might turn out to be far more complicated than a list of features. However, if this problem is detected and fixed the path to a more successful and sustainable company culture is given. It shall be stated that a mechanism such as this can only work as a supplement to human interaction and empathy skills.\n",
    "\n",
    "## Solution Statement\n",
    "First an in-depth exploratory analysis is performed in an attempt to explain the underlying relationships in the data set. Afterwards the problem is approached on two dimensions by combining unsupervised and supervised learning algorithms:\n",
    "\n",
    "1. Two clustering algorithms namely K-Means or Gaussian Mixture Model will be discussed in an attempt to add more semantic to the employee set. Since the problem is based in a sociological domain, the more we can derive from our feature set, the more human interaction and perception we can gather, the better. By clustering, we might be able to hand additional information to the supervised algorithm for a better prediction down the road.\n",
    "2. Afterwards features and additional cluster-information are used to predict whether an employee left or stayed. Given that the data is labeled and considering the amount of data points, a range of algorithms is discussed starting with more basic solutions and working towards more complex methods.\n",
    "\n",
    "The solution is trying to implement a model that will empower employers not only to detect, which of their own employees is about to leave the company but also determine which of the features contributes the most to a happy company culture. The success of the final solution however will be measured by its predicting accuracy on a held-out test set.\n",
    "\n",
    "## Benchmark\n",
    "As mentioned earlier, a lot of research and work has been performed to retain talent and decrease employee turnover rates. From corporate funded research and [analytics services of companies](www.visier.com/tech-insights/do-predictive-workforce-analytics-actually-work/) to management study classics <cite data-cite=\"4046282/UZ4GGATW\"></cite> or more recent research <cite data-cite=\"4046282/DZ7FB7XU\"></cite>. There are several methods for predicting employee turnover rate and results that can be taken as benchmark models. In this research the machine learning approach of <cite data-cite=\"4046282/DZ7FB7XU\"></cite> serves as a benchmark. Their research performed predictive tasks on company information with an area under the curve (AUC) score of .86 on hold-out data implementing an Extreme Gradient Boosting model.\n",
    "\n",
    "### Evaluation Metrics\n",
    "AUC (Area under the Curve) is a common evaluation metric for binary classification problems. Its value is between 0 to 1 and describes the accuracy of a binary classification based on its true positive values. As [described](https://en.wikipedia.org/wiki/Receiver_operating_characteristic#Area_under_the_curve), an area under the curve score is equal to the probability that a classifier will rank a randomly chosen positive instance higher than a randomly chosen negative one.\n",
    "\n",
    "Area under the curve (AUC) is a common evaluation metric for binary classification problems. Its value is between 0 to 1 and describes the accuracy of a binary classification based on its true positive values. An [AUC score](https://en.wikipedia.org/wiki/Receiver_operating_characteristic#Area_under_the_curve) is equal to the probability that a classifier will rank a randomly chosen positive instance higher than a randomly chosen negative one.\n",
    "\n",
    "To put this more into perspective [AUC](https://www.kaggle.com/wiki/AreaUnderCurve) can be seen as a plot of the true positive rate vs. the false positive rate where the threshold value for classifying an item as 0 or is increased from 0 to 1. If the classifier is very good, the true positive rate will increase quickly and the area under the curve will be close to 1. If the classifier is no better than random guessing, the true positive rate will increase linearly with the false positive rate and the area under the curve will be around 0.5 <cite data-cite=\"4046282/M4CWJ7CZ\"></cite>.\n",
    "\n",
    "### AUC vs. F1 Score\n",
    "There is some controversy about the value of AUC scores. Especially when it comes to precision and recall it is possible for a classifier to have a low recall but a very high AUC score. To avoid this, F1 scoring can be used which is a way to incorporate both precision and recall. For a F1 score to be high, both, precision and recall have to be high. The problem of a low recall score will be addressed for the leading model when testing for robustness.\n",
    "\n",
    "# Analysis\n",
    "In a data set published on [Kaggle](https://www.kaggle.com/ludobenistant/hr-analytics), information on current and former employees is offered plus key features of their employment status. Unfortunately there is no available code book besides a brief information on the available inputs. The data set contains 14,999 data points and 10 variables. \n",
    "\n",
    "Since there is no additional information regarding the data set we are starting with some assumptions about the variables based on their description. Information that's comprised in this data set seems to include a measure of employee satisfaction level, evaluation scores, amount of projects, average monthly hours spend on the job, overall time spent at the company, whether the employee had a work accident or received a promotion within the last 5 years, a description of the department the employee works for and a salary indicator. In addition there is a variable called left that indicates, whether an employee is still actively working for this company or not. This indicator will be seen as the dependent or target variable that is being predicted.\n",
    "\n",
    "## Data Exploration\n",
    "As mentioned earlier, there is no code-book that can be linked to this data set. Since there is no additional information regarding the data set some assumptions about the variables are made based on their description. A sample of the data looks like this:"
   ]
  },
  {
   "cell_type": "code",
   "execution_count": 1,
   "metadata": {
    "collapsed": false
   },
   "outputs": [],
   "source": [
    "# Read in data & import of packages & frameworks\n",
    "import matplotlib.pyplot as plt\n",
    "import pandas as pd\n",
    "import seaborn as sns\n",
    "import numpy as np\n",
    "\n",
    "%matplotlib inline\n",
    "\n",
    "from bokeh.charts import Bar, output_file, show\n",
    "from bokeh.io import output_notebook\n",
    "from bokeh.plotting import figure\n",
    "from bokeh.layouts import gridplot\n",
    "from bokeh.layouts import column, row\n",
    "from bokeh.plotting import reset_output\n",
    "from bokeh.charts.attributes import cat\n",
    "from collections import Counter\n",
    "from IPython.display import display\n",
    "\n",
    "plot_color = 'crimson'\n",
    "cmap = sns.diverging_palette(222, 10, as_cmap=True)\n",
    "\n",
    "hr_data = pd.read_csv('data/HR_comma_sep.csv', header=0)"
   ]
  },
  {
   "cell_type": "code",
   "execution_count": 2,
   "metadata": {
    "collapsed": false
   },
   "outputs": [],
   "source": [
    "# Rename column to fit better, get rid of typos and instill consistency\n",
    "hr_data = hr_data.rename(\n",
    "    columns = {'sales' : 'department', \n",
    "               'average_montly_hours' : 'average_monthly_hours',\n",
    "               'Work_accident' : 'work_accident'})"
   ]
  },
  {
   "cell_type": "code",
   "execution_count": 3,
   "metadata": {
    "collapsed": false
   },
   "outputs": [
    {
     "data": {
      "text/html": [
       "<div>\n",
       "<table border=\"1\" class=\"dataframe\">\n",
       "  <thead>\n",
       "    <tr style=\"text-align: right;\">\n",
       "      <th></th>\n",
       "      <th>satisfaction_level</th>\n",
       "      <th>last_evaluation</th>\n",
       "      <th>number_project</th>\n",
       "      <th>average_monthly_hours</th>\n",
       "      <th>time_spend_company</th>\n",
       "      <th>work_accident</th>\n",
       "      <th>left</th>\n",
       "      <th>promotion_last_5years</th>\n",
       "      <th>department</th>\n",
       "      <th>salary</th>\n",
       "    </tr>\n",
       "  </thead>\n",
       "  <tbody>\n",
       "    <tr>\n",
       "      <th>0</th>\n",
       "      <td>0.38</td>\n",
       "      <td>0.53</td>\n",
       "      <td>2</td>\n",
       "      <td>157</td>\n",
       "      <td>3</td>\n",
       "      <td>0</td>\n",
       "      <td>1</td>\n",
       "      <td>0</td>\n",
       "      <td>sales</td>\n",
       "      <td>low</td>\n",
       "    </tr>\n",
       "    <tr>\n",
       "      <th>1</th>\n",
       "      <td>0.80</td>\n",
       "      <td>0.86</td>\n",
       "      <td>5</td>\n",
       "      <td>262</td>\n",
       "      <td>6</td>\n",
       "      <td>0</td>\n",
       "      <td>1</td>\n",
       "      <td>0</td>\n",
       "      <td>sales</td>\n",
       "      <td>medium</td>\n",
       "    </tr>\n",
       "    <tr>\n",
       "      <th>2</th>\n",
       "      <td>0.11</td>\n",
       "      <td>0.88</td>\n",
       "      <td>7</td>\n",
       "      <td>272</td>\n",
       "      <td>4</td>\n",
       "      <td>0</td>\n",
       "      <td>1</td>\n",
       "      <td>0</td>\n",
       "      <td>sales</td>\n",
       "      <td>medium</td>\n",
       "    </tr>\n",
       "    <tr>\n",
       "      <th>3</th>\n",
       "      <td>0.72</td>\n",
       "      <td>0.87</td>\n",
       "      <td>5</td>\n",
       "      <td>223</td>\n",
       "      <td>5</td>\n",
       "      <td>0</td>\n",
       "      <td>1</td>\n",
       "      <td>0</td>\n",
       "      <td>sales</td>\n",
       "      <td>low</td>\n",
       "    </tr>\n",
       "    <tr>\n",
       "      <th>4</th>\n",
       "      <td>0.37</td>\n",
       "      <td>0.52</td>\n",
       "      <td>2</td>\n",
       "      <td>159</td>\n",
       "      <td>3</td>\n",
       "      <td>0</td>\n",
       "      <td>1</td>\n",
       "      <td>0</td>\n",
       "      <td>sales</td>\n",
       "      <td>low</td>\n",
       "    </tr>\n",
       "  </tbody>\n",
       "</table>\n",
       "</div>"
      ],
      "text/plain": [
       "   satisfaction_level  last_evaluation  number_project  average_monthly_hours  \\\n",
       "0                0.38             0.53               2                    157   \n",
       "1                0.80             0.86               5                    262   \n",
       "2                0.11             0.88               7                    272   \n",
       "3                0.72             0.87               5                    223   \n",
       "4                0.37             0.52               2                    159   \n",
       "\n",
       "   time_spend_company  work_accident  left  promotion_last_5years department  \\\n",
       "0                   3              0     1                      0      sales   \n",
       "1                   6              0     1                      0      sales   \n",
       "2                   4              0     1                      0      sales   \n",
       "3                   5              0     1                      0      sales   \n",
       "4                   3              0     1                      0      sales   \n",
       "\n",
       "   salary  \n",
       "0     low  \n",
       "1  medium  \n",
       "2  medium  \n",
       "3     low  \n",
       "4     low  "
      ]
     },
     "execution_count": 3,
     "metadata": {},
     "output_type": "execute_result"
    }
   ],
   "source": [
    "hr_data.head()"
   ]
  },
  {
   "cell_type": "markdown",
   "metadata": {},
   "source": [
    "First, let's have a look at how much data we're dealing with and how it's structured."
   ]
  },
  {
   "cell_type": "code",
   "execution_count": 4,
   "metadata": {
    "collapsed": false
   },
   "outputs": [
    {
     "name": "stdout",
     "output_type": "stream",
     "text": [
      "The data set has 14999 data points and 10 variables.\n"
     ]
    }
   ],
   "source": [
    "print \"The data set has {} data points and {} variables.\".format(*hr_data.shape)"
   ]
  },
  {
   "cell_type": "code",
   "execution_count": 5,
   "metadata": {
    "collapsed": false,
    "scrolled": true
   },
   "outputs": [
    {
     "name": "stdout",
     "output_type": "stream",
     "text": [
      "['satisfaction_level' 'last_evaluation' 'number_project'\n",
      " 'average_monthly_hours' 'time_spend_company' 'work_accident' 'left'\n",
      " 'promotion_last_5years' 'department' 'salary']\n"
     ]
    }
   ],
   "source": [
    "print hr_data.columns.values"
   ]
  },
  {
   "cell_type": "markdown",
   "metadata": {},
   "source": [
    "Given by its column names we have 10 variables that need to be taken into account. Since there is no additional information regarding the data set we are starting with some assumptions about the variables based on their description. Information that's comprised in this data set seems to include a measure of employee satisfaction level, evaluation scores, amount of projects and average monthly hours spend on the job, overall time spent at the company, whether the employee had a work accident or received a promotion within the last 5 years, a description of the department the employee works for and a salary indicator. In addition there is a variable called `left` that indicates, whether an employee is still actively working for this company or not.\n",
    "In addition the dataset provides an indicator whether an employee has left. This indicator will be seen as the dependent variable that is being predicted.\n",
    "This indicator will be seen as the dependent variable that is being predicted.\n",
    "\n",
    "\n",
    "\n",
    "As a first summary, the predictors we will be using consist of:\n",
    "\n",
    "* Employee satisfaction level \n",
    "* Last evaluation score\n",
    "* Number of projects\n",
    "* Average monthly hours\n",
    "* Time spent at the company\n",
    "* Whether they have had a work accident\n",
    "* Whether they have had a promotion in the last 5 years \n",
    "* Department\n",
    "* Salary\n",
    "\n",
    "The target variable is `left`."
   ]
  },
  {
   "cell_type": "markdown",
   "metadata": {},
   "source": [
    "### Variable Description\n",
    "As mentioned earlier, there is no codebook that can be linked to this data set. And since there is no additional information regarding the data set we are starting with some assumptions about the variables based on their description."
   ]
  },
  {
   "cell_type": "code",
   "execution_count": 6,
   "metadata": {
    "collapsed": false
   },
   "outputs": [
    {
     "data": {
      "text/html": [
       "<div>\n",
       "<table border=\"1\" class=\"dataframe\">\n",
       "  <thead>\n",
       "    <tr style=\"text-align: right;\">\n",
       "      <th></th>\n",
       "      <th>satisfaction_level</th>\n",
       "      <th>last_evaluation</th>\n",
       "      <th>number_project</th>\n",
       "      <th>average_monthly_hours</th>\n",
       "      <th>time_spend_company</th>\n",
       "      <th>work_accident</th>\n",
       "      <th>left</th>\n",
       "      <th>promotion_last_5years</th>\n",
       "    </tr>\n",
       "  </thead>\n",
       "  <tbody>\n",
       "    <tr>\n",
       "      <th>count</th>\n",
       "      <td>14999.000000</td>\n",
       "      <td>14999.000000</td>\n",
       "      <td>14999.000000</td>\n",
       "      <td>14999.000000</td>\n",
       "      <td>14999.000000</td>\n",
       "      <td>14999.000000</td>\n",
       "      <td>14999.000000</td>\n",
       "      <td>14999.000000</td>\n",
       "    </tr>\n",
       "    <tr>\n",
       "      <th>mean</th>\n",
       "      <td>0.612834</td>\n",
       "      <td>0.716102</td>\n",
       "      <td>3.803054</td>\n",
       "      <td>201.050337</td>\n",
       "      <td>3.498233</td>\n",
       "      <td>0.144610</td>\n",
       "      <td>0.238083</td>\n",
       "      <td>0.021268</td>\n",
       "    </tr>\n",
       "    <tr>\n",
       "      <th>std</th>\n",
       "      <td>0.248631</td>\n",
       "      <td>0.171169</td>\n",
       "      <td>1.232592</td>\n",
       "      <td>49.943099</td>\n",
       "      <td>1.460136</td>\n",
       "      <td>0.351719</td>\n",
       "      <td>0.425924</td>\n",
       "      <td>0.144281</td>\n",
       "    </tr>\n",
       "    <tr>\n",
       "      <th>min</th>\n",
       "      <td>0.090000</td>\n",
       "      <td>0.360000</td>\n",
       "      <td>2.000000</td>\n",
       "      <td>96.000000</td>\n",
       "      <td>2.000000</td>\n",
       "      <td>0.000000</td>\n",
       "      <td>0.000000</td>\n",
       "      <td>0.000000</td>\n",
       "    </tr>\n",
       "    <tr>\n",
       "      <th>25%</th>\n",
       "      <td>0.440000</td>\n",
       "      <td>0.560000</td>\n",
       "      <td>3.000000</td>\n",
       "      <td>156.000000</td>\n",
       "      <td>3.000000</td>\n",
       "      <td>0.000000</td>\n",
       "      <td>0.000000</td>\n",
       "      <td>0.000000</td>\n",
       "    </tr>\n",
       "    <tr>\n",
       "      <th>50%</th>\n",
       "      <td>0.640000</td>\n",
       "      <td>0.720000</td>\n",
       "      <td>4.000000</td>\n",
       "      <td>200.000000</td>\n",
       "      <td>3.000000</td>\n",
       "      <td>0.000000</td>\n",
       "      <td>0.000000</td>\n",
       "      <td>0.000000</td>\n",
       "    </tr>\n",
       "    <tr>\n",
       "      <th>75%</th>\n",
       "      <td>0.820000</td>\n",
       "      <td>0.870000</td>\n",
       "      <td>5.000000</td>\n",
       "      <td>245.000000</td>\n",
       "      <td>4.000000</td>\n",
       "      <td>0.000000</td>\n",
       "      <td>0.000000</td>\n",
       "      <td>0.000000</td>\n",
       "    </tr>\n",
       "    <tr>\n",
       "      <th>max</th>\n",
       "      <td>1.000000</td>\n",
       "      <td>1.000000</td>\n",
       "      <td>7.000000</td>\n",
       "      <td>310.000000</td>\n",
       "      <td>10.000000</td>\n",
       "      <td>1.000000</td>\n",
       "      <td>1.000000</td>\n",
       "      <td>1.000000</td>\n",
       "    </tr>\n",
       "  </tbody>\n",
       "</table>\n",
       "</div>"
      ],
      "text/plain": [
       "       satisfaction_level  last_evaluation  number_project  \\\n",
       "count        14999.000000     14999.000000    14999.000000   \n",
       "mean             0.612834         0.716102        3.803054   \n",
       "std              0.248631         0.171169        1.232592   \n",
       "min              0.090000         0.360000        2.000000   \n",
       "25%              0.440000         0.560000        3.000000   \n",
       "50%              0.640000         0.720000        4.000000   \n",
       "75%              0.820000         0.870000        5.000000   \n",
       "max              1.000000         1.000000        7.000000   \n",
       "\n",
       "       average_monthly_hours  time_spend_company  work_accident          left  \\\n",
       "count           14999.000000        14999.000000   14999.000000  14999.000000   \n",
       "mean              201.050337            3.498233       0.144610      0.238083   \n",
       "std                49.943099            1.460136       0.351719      0.425924   \n",
       "min                96.000000            2.000000       0.000000      0.000000   \n",
       "25%               156.000000            3.000000       0.000000      0.000000   \n",
       "50%               200.000000            3.000000       0.000000      0.000000   \n",
       "75%               245.000000            4.000000       0.000000      0.000000   \n",
       "max               310.000000           10.000000       1.000000      1.000000   \n",
       "\n",
       "       promotion_last_5years  \n",
       "count           14999.000000  \n",
       "mean                0.021268  \n",
       "std                 0.144281  \n",
       "min                 0.000000  \n",
       "25%                 0.000000  \n",
       "50%                 0.000000  \n",
       "75%                 0.000000  \n",
       "max                 1.000000  "
      ]
     },
     "execution_count": 6,
     "metadata": {},
     "output_type": "execute_result"
    }
   ],
   "source": [
    "hr_description = hr_data.describe()\n",
    "hr_description"
   ]
  },
  {
   "cell_type": "code",
   "execution_count": 7,
   "metadata": {
    "collapsed": false
   },
   "outputs": [
    {
     "data": {
      "text/html": [
       "<div>\n",
       "<table border=\"1\" class=\"dataframe\">\n",
       "  <thead>\n",
       "    <tr style=\"text-align: right;\">\n",
       "      <th></th>\n",
       "      <th>satisfaction_level</th>\n",
       "      <th>last_evaluation</th>\n",
       "      <th>number_project</th>\n",
       "      <th>average_monthly_hours</th>\n",
       "      <th>time_spend_company</th>\n",
       "      <th>work_accident</th>\n",
       "      <th>left</th>\n",
       "      <th>promotion_last_5years</th>\n",
       "      <th>department</th>\n",
       "      <th>salary</th>\n",
       "    </tr>\n",
       "  </thead>\n",
       "  <tbody>\n",
       "    <tr>\n",
       "      <th>0</th>\n",
       "      <td>0.38</td>\n",
       "      <td>0.53</td>\n",
       "      <td>2</td>\n",
       "      <td>157</td>\n",
       "      <td>3</td>\n",
       "      <td>0</td>\n",
       "      <td>1</td>\n",
       "      <td>0</td>\n",
       "      <td>sales</td>\n",
       "      <td>low</td>\n",
       "    </tr>\n",
       "    <tr>\n",
       "      <th>1</th>\n",
       "      <td>0.80</td>\n",
       "      <td>0.86</td>\n",
       "      <td>5</td>\n",
       "      <td>262</td>\n",
       "      <td>6</td>\n",
       "      <td>0</td>\n",
       "      <td>1</td>\n",
       "      <td>0</td>\n",
       "      <td>sales</td>\n",
       "      <td>medium</td>\n",
       "    </tr>\n",
       "    <tr>\n",
       "      <th>2</th>\n",
       "      <td>0.11</td>\n",
       "      <td>0.88</td>\n",
       "      <td>7</td>\n",
       "      <td>272</td>\n",
       "      <td>4</td>\n",
       "      <td>0</td>\n",
       "      <td>1</td>\n",
       "      <td>0</td>\n",
       "      <td>sales</td>\n",
       "      <td>medium</td>\n",
       "    </tr>\n",
       "    <tr>\n",
       "      <th>3</th>\n",
       "      <td>0.72</td>\n",
       "      <td>0.87</td>\n",
       "      <td>5</td>\n",
       "      <td>223</td>\n",
       "      <td>5</td>\n",
       "      <td>0</td>\n",
       "      <td>1</td>\n",
       "      <td>0</td>\n",
       "      <td>sales</td>\n",
       "      <td>low</td>\n",
       "    </tr>\n",
       "    <tr>\n",
       "      <th>4</th>\n",
       "      <td>0.37</td>\n",
       "      <td>0.52</td>\n",
       "      <td>2</td>\n",
       "      <td>159</td>\n",
       "      <td>3</td>\n",
       "      <td>0</td>\n",
       "      <td>1</td>\n",
       "      <td>0</td>\n",
       "      <td>sales</td>\n",
       "      <td>low</td>\n",
       "    </tr>\n",
       "  </tbody>\n",
       "</table>\n",
       "</div>"
      ],
      "text/plain": [
       "   satisfaction_level  last_evaluation  number_project  average_monthly_hours  \\\n",
       "0                0.38             0.53               2                    157   \n",
       "1                0.80             0.86               5                    262   \n",
       "2                0.11             0.88               7                    272   \n",
       "3                0.72             0.87               5                    223   \n",
       "4                0.37             0.52               2                    159   \n",
       "\n",
       "   time_spend_company  work_accident  left  promotion_last_5years department  \\\n",
       "0                   3              0     1                      0      sales   \n",
       "1                   6              0     1                      0      sales   \n",
       "2                   4              0     1                      0      sales   \n",
       "3                   5              0     1                      0      sales   \n",
       "4                   3              0     1                      0      sales   \n",
       "\n",
       "   salary  \n",
       "0     low  \n",
       "1  medium  \n",
       "2  medium  \n",
       "3     low  \n",
       "4     low  "
      ]
     },
     "execution_count": 7,
     "metadata": {},
     "output_type": "execute_result"
    }
   ],
   "source": [
    "hr_data.head()"
   ]
  },
  {
   "cell_type": "markdown",
   "metadata": {},
   "source": [
    "A brief summary of the numeric values in the data set offers following insights about the variables:\n",
    "\n",
    "* **satisfaction_level:** 1 most likely indicating a high satisfaction level [continuous value in the range of 0 and 1]\n",
    "* **last_evaluation:** Most likely the rating of given employee [continuous numeric value between 0 and 1]\n",
    "* **number_project:** The amount of projects an employee has. [discrete numeric value between 2 and 7]\n",
    "* **average_monthly_hours:** The hours an employee works per month [continous numeric value between 96 and 310]\n",
    "* **time_spend_company:** Given current working statistics we are most likely dealing with years. [discrete numeric value between 2 and 10]\n",
    "* **work_accident:** Numeric expression of boolean value whether an employee had a work accident [discrete: 1 = true, 0 = false]\n",
    "* **left:** Label if person left or not [discrete: 1 = true, 0 false]\n",
    "* **promotion_last_5years:** Numeric expression of boolean value whether an employee was promoted within the last 5 years [discrete: 1 = true, 0 = false]\n",
    "\n",
    "The dataset contains some non-numeric variables as well that need further exploration. `department` and `salary` have character values that seem to describe the data points further."
   ]
  },
  {
   "cell_type": "code",
   "execution_count": 8,
   "metadata": {
    "collapsed": false
   },
   "outputs": [
    {
     "name": "stdout",
     "output_type": "stream",
     "text": [
      "hr_data['department']: ['sales' 'accounting' 'hr' 'technical' 'support' 'management' 'IT'\n",
      " 'product_mng' 'marketing' 'RandD'] \n",
      "\n",
      "hr_data['salary']: ['low' 'medium' 'high']\n"
     ]
    }
   ],
   "source": [
    "# Describe categorical data\n",
    "print \"hr_data['department']:\", hr_data['department'].unique(), '\\n'\n",
    "print \"hr_data['salary']:\", hr_data['salary'].unique()"
   ]
  },
  {
   "cell_type": "markdown",
   "metadata": {},
   "source": [
    "This completes the variable descriptions and offers additional insights:\n",
    "\n",
    "* **department:** Categorical variable describing the position of an employee. [discrete: sales, accounting, hr, technical, support, management, IT, product_mng, marketing, RanD]\n",
    "* **salary:** Categorical variable indicating salary level of employee. [discrete: low, medium, high]"
   ]
  },
  {
   "cell_type": "markdown",
   "metadata": {},
   "source": [
    "### Mean vs median\n",
    "In order to decide whether to pick the mean or median values for comparison, we'll be computing the variance of each option."
   ]
  },
  {
   "cell_type": "code",
   "execution_count": 9,
   "metadata": {
    "collapsed": false
   },
   "outputs": [
    {
     "data": {
      "text/html": [
       "<div>\n",
       "<table border=\"1\" class=\"dataframe\">\n",
       "  <thead>\n",
       "    <tr style=\"text-align: right;\">\n",
       "      <th></th>\n",
       "      <th>mean</th>\n",
       "      <th>median</th>\n",
       "    </tr>\n",
       "  </thead>\n",
       "  <tbody>\n",
       "    <tr>\n",
       "      <th>satisfaction_level</th>\n",
       "      <td>0.000157</td>\n",
       "      <td>0.000291</td>\n",
       "    </tr>\n",
       "    <tr>\n",
       "      <th>last_evaluation</th>\n",
       "      <td>0.000028</td>\n",
       "      <td>0.000143</td>\n",
       "    </tr>\n",
       "    <tr>\n",
       "      <th>number_project</th>\n",
       "      <td>0.005299</td>\n",
       "      <td>0.000000</td>\n",
       "    </tr>\n",
       "    <tr>\n",
       "      <th>average_monthly_hours</th>\n",
       "      <td>1.376778</td>\n",
       "      <td>4.011111</td>\n",
       "    </tr>\n",
       "    <tr>\n",
       "      <th>time_spend_company</th>\n",
       "      <td>0.077200</td>\n",
       "      <td>0.000000</td>\n",
       "    </tr>\n",
       "    <tr>\n",
       "      <th>work_accident</th>\n",
       "      <td>0.000276</td>\n",
       "      <td>0.000000</td>\n",
       "    </tr>\n",
       "    <tr>\n",
       "      <th>left</th>\n",
       "      <td>0.002177</td>\n",
       "      <td>0.000000</td>\n",
       "    </tr>\n",
       "    <tr>\n",
       "      <th>promotion_last_5years</th>\n",
       "      <td>0.001051</td>\n",
       "      <td>0.000000</td>\n",
       "    </tr>\n",
       "  </tbody>\n",
       "</table>\n",
       "</div>"
      ],
      "text/plain": [
       "                           mean    median\n",
       "satisfaction_level     0.000157  0.000291\n",
       "last_evaluation        0.000028  0.000143\n",
       "number_project         0.005299  0.000000\n",
       "average_monthly_hours  1.376778  4.011111\n",
       "time_spend_company     0.077200  0.000000\n",
       "work_accident          0.000276  0.000000\n",
       "left                   0.002177  0.000000\n",
       "promotion_last_5years  0.001051  0.000000"
      ]
     },
     "execution_count": 9,
     "metadata": {},
     "output_type": "execute_result"
    }
   ],
   "source": [
    "# Mean or median\n",
    "mean_by_dept = hr_data.groupby('department').mean()\n",
    "median_by_dept = hr_data.groupby('department').median()\n",
    "\n",
    "mm_comp = []\n",
    "index = []\n",
    "for row_mean, row_median in zip(mean_by_dept.var().iteritems(), median_by_dept.var().iteritems()):\n",
    "    mm_comp.append([row_mean[1], row_median[1]])\n",
    "    index.append(row_mean[0])\n",
    "\n",
    "mm_comp = pd.DataFrame(mm_comp, columns=['mean', 'median'], index=index)\n",
    "mm_comp"
   ]
  },
  {
   "cell_type": "markdown",
   "metadata": {},
   "source": [
    "There is clearly more information gain from the mean values in our data set. We'll be continuing using average values for our analysis where needed."
   ]
  },
  {
   "cell_type": "code",
   "execution_count": 10,
   "metadata": {
    "collapsed": false
   },
   "outputs": [
    {
     "data": {
      "text/html": [
       "<div>\n",
       "<table border=\"1\" class=\"dataframe\">\n",
       "  <thead>\n",
       "    <tr style=\"text-align: right;\">\n",
       "      <th></th>\n",
       "      <th>std</th>\n",
       "      <th>min</th>\n",
       "      <th>max</th>\n",
       "    </tr>\n",
       "  </thead>\n",
       "  <tbody>\n",
       "    <tr>\n",
       "      <th>satisfaction_level</th>\n",
       "      <td>0.248631</td>\n",
       "      <td>0.09</td>\n",
       "      <td>1.0</td>\n",
       "    </tr>\n",
       "    <tr>\n",
       "      <th>last_evaluation</th>\n",
       "      <td>0.171169</td>\n",
       "      <td>0.36</td>\n",
       "      <td>1.0</td>\n",
       "    </tr>\n",
       "    <tr>\n",
       "      <th>number_project</th>\n",
       "      <td>1.232592</td>\n",
       "      <td>2.00</td>\n",
       "      <td>7.0</td>\n",
       "    </tr>\n",
       "    <tr>\n",
       "      <th>average_monthly_hours</th>\n",
       "      <td>49.943099</td>\n",
       "      <td>96.00</td>\n",
       "      <td>310.0</td>\n",
       "    </tr>\n",
       "    <tr>\n",
       "      <th>time_spend_company</th>\n",
       "      <td>1.460136</td>\n",
       "      <td>2.00</td>\n",
       "      <td>10.0</td>\n",
       "    </tr>\n",
       "    <tr>\n",
       "      <th>work_accident</th>\n",
       "      <td>0.351719</td>\n",
       "      <td>0.00</td>\n",
       "      <td>1.0</td>\n",
       "    </tr>\n",
       "    <tr>\n",
       "      <th>left</th>\n",
       "      <td>0.425924</td>\n",
       "      <td>0.00</td>\n",
       "      <td>1.0</td>\n",
       "    </tr>\n",
       "    <tr>\n",
       "      <th>promotion_last_5years</th>\n",
       "      <td>0.144281</td>\n",
       "      <td>0.00</td>\n",
       "      <td>1.0</td>\n",
       "    </tr>\n",
       "  </tbody>\n",
       "</table>\n",
       "</div>"
      ],
      "text/plain": [
       "                             std    min    max\n",
       "satisfaction_level      0.248631   0.09    1.0\n",
       "last_evaluation         0.171169   0.36    1.0\n",
       "number_project          1.232592   2.00    7.0\n",
       "average_monthly_hours  49.943099  96.00  310.0\n",
       "time_spend_company      1.460136   2.00   10.0\n",
       "work_accident           0.351719   0.00    1.0\n",
       "left                    0.425924   0.00    1.0\n",
       "promotion_last_5years   0.144281   0.00    1.0"
      ]
     },
     "execution_count": 10,
     "metadata": {},
     "output_type": "execute_result"
    }
   ],
   "source": [
    "hr_description.transpose()[['std', 'min', 'max']]"
   ]
  },
  {
   "cell_type": "markdown",
   "metadata": {},
   "source": [
    "### Univariate Analysis\n",
    "Next all variables are explored one-by-one. The method used depends on whether the variable is continuous or discrete. For continuous variables the spread and central tendency is important. For discrete variables frequency and histograms will be used to gain additional information. \n",
    "\n",
    "Based on the numeric information about mean, minimum and maximum values it can already be said that the numeric values seem to contain only little anomalies when it comes to tendency. The standard deviation values indicate a balanced dispersion. In order to visualize the findings. Density plots will further help investigate the distribution."
   ]
  },
  {
   "cell_type": "code",
   "execution_count": 11,
   "metadata": {
    "collapsed": false
   },
   "outputs": [
    {
     "data": {
      "text/plain": [
       "<matplotlib.text.Text at 0x115ed72d0>"
      ]
     },
     "execution_count": 11,
     "metadata": {},
     "output_type": "execute_result"
    },
    {
     "data": {
      "image/png": "[encoded data removed]",
      "text/plain": [
       "<matplotlib.figure.Figure at 0x115896650>"
      ]
     },
     "metadata": {},
     "output_type": "display_data"
    }
   ],
   "source": [
    "sns.set_style('dark')\n",
    "plt.figure(figsize=(16, 5))\n",
    "plt.subplot(231)\n",
    "ax1 = sns.kdeplot(hr_data['satisfaction_level'], bw=.5, color=\"#de3e5e\", linewidth=3)\n",
    "ax1.set_xlabel('Satisfaction Level')\n",
    "ax1.set_ylabel('Density')\n",
    "ax1.set_title('Satisfaction Density Plot')\n",
    "ax1.legend_.remove()\n",
    "plt.subplot(232)\n",
    "ax2 = sns.kdeplot(hr_data['last_evaluation'], bw=.5, color=\"#de3e5e\", linewidth=3)\n",
    "ax2.set_xlabel('Last Evaluation Level')\n",
    "ax2.set_ylabel('Density')\n",
    "ax2.set_title('Evaluation Score Density Plot')\n",
    "ax2.legend_.remove()\n",
    "plt.subplot(233)\n",
    "ax3 = sns.kdeplot(hr_data['average_monthly_hours'], bw=.5, color=\"#de3e5e\", linewidth=3)\n",
    "ax3.legend_.remove()\n",
    "ax3.set_title('Monthly Hours Density Plot')\n",
    "ax3.set_xlabel('Average Monthly Hours')\n",
    "ax3.set_ylabel('Density')"
   ]
  },
  {
   "cell_type": "markdown",
   "metadata": {},
   "source": [
    "Given that the density curve describes the relative likelihood for a random variable to take on a given value, following observations can be made. With some smoothing, the `satisfaction_level` seems to be pretty normal in regards of distribution. Both `last_evaluation` as well as `average_monthly_hours` have two peaks. Yet there is no anomaly in the dibstribution.\n",
    "\n",
    "The discrete variables can be explored with "
   ]
  },
  {
   "cell_type": "code",
   "execution_count": 12,
   "metadata": {
    "collapsed": false
   },
   "outputs": [],
   "source": [
    "#plt.figure()\n",
    "#plt.subplot(221)\n",
    "#pd.DataFrame.from_dict(Counter(hr_data['department']), orient='index').plot()\n",
    "cols = ['number_project', \n",
    "        'time_spend_company', \n",
    "        'department', \n",
    "        'salary', \n",
    "        'work_accident', \n",
    "        'left', \n",
    "        'promotion_last_5years']\n",
    "col_dict = {}\n",
    "for col in cols:\n",
    "    col_dict[col] = pd.DataFrame.from_dict(Counter(hr_data[col]), orient='index')\n",
    "    col_dict[col].columns = [col]"
   ]
  },
  {
   "cell_type": "code",
   "execution_count": 13,
   "metadata": {
    "collapsed": false
   },
   "outputs": [
    {
     "data": {
      "text/html": [
       "\n",
       "    <div class=\"bk-root\">\n",
       "        <a href=\"http://bokeh.pydata.org\" target=\"_blank\" class=\"bk-logo bk-logo-small bk-logo-notebook\"></a>\n",
       "        <span id=\"466732fa-8733-441f-abfa-995cc0630c9f\">Loading BokehJS ...</span>\n",
       "    </div>"
      ]
     },
     "metadata": {},
     "output_type": "display_data"
    },
    {
     "data": {
      "application/javascript": [
       "\n",
       "(function(global) {\n",
       "  function now() {\n",
       "    return new Date();\n",
       "  }\n",
       "\n",
       "  var force = \"1\";\n",
       "\n",
       "  if (typeof (window._bokeh_onload_callbacks) === \"undefined\" || force !== \"\") {\n",
       "    window._bokeh_onload_callbacks = [];\n",
       "    window._bokeh_is_loading = undefined;\n",
       "  }\n",
       "\n",
       "\n",
       "  \n",
       "  if (typeof (window._bokeh_timeout) === \"undefined\" || force !== \"\") {\n",
       "    window._bokeh_timeout = Date.now() + 5000;\n",
       "    window._bokeh_failed_load = false;\n",
       "  }\n",
       "\n",
       "  var NB_LOAD_WARNING = {'data': {'text/html':\n",
       "     \"<div style='background-color: #fdd'>\\n\"+\n",
       "     \"<p>\\n\"+\n",
       "     \"BokehJS does not appear to have successfully loaded. If loading BokehJS from CDN, this \\n\"+\n",
       "     \"may be due to a slow or bad network connection. Possible fixes:\\n\"+\n",
       "     \"</p>\\n\"+\n",
       "     \"<ul>\\n\"+\n",
       "     \"<li>re-rerun `output_notebook()` to attempt to load from CDN again, or</li>\\n\"+\n",
       "     \"<li>use INLINE resources instead, as so:</li>\\n\"+\n",
       "     \"</ul>\\n\"+\n",
       "     \"<code>\\n\"+\n",
       "     \"from bokeh.resources import INLINE\\n\"+\n",
       "     \"output_notebook(resources=INLINE)\\n\"+\n",
       "     \"</code>\\n\"+\n",
       "     \"</div>\"}};\n",
       "\n",
       "  function display_loaded() {\n",
       "    if (window.Bokeh !== undefined) {\n",
       "      Bokeh.$(\"#466732fa-8733-441f-abfa-995cc0630c9f\").text(\"BokehJS successfully loaded.\");\n",
       "    } else if (Date.now() < window._bokeh_timeout) {\n",
       "      setTimeout(display_loaded, 100)\n",
       "    }\n",
       "  }\n",
       "\n",
       "  function run_callbacks() {\n",
       "    window._bokeh_onload_callbacks.forEach(function(callback) { callback() });\n",
       "    delete window._bokeh_onload_callbacks\n",
       "    console.info(\"Bokeh: all callbacks have finished\");\n",
       "  }\n",
       "\n",
       "  function load_libs(js_urls, callback) {\n",
       "    window._bokeh_onload_callbacks.push(callback);\n",
       "    if (window._bokeh_is_loading > 0) {\n",
       "      console.log(\"Bokeh: BokehJS is being loaded, scheduling callback at\", now());\n",
       "      return null;\n",
       "    }\n",
       "    if (js_urls == null || js_urls.length === 0) {\n",
       "      run_callbacks();\n",
       "      return null;\n",
       "    }\n",
       "    console.log(\"Bokeh: BokehJS not loaded, scheduling load and callback at\", now());\n",
       "    window._bokeh_is_loading = js_urls.length;\n",
       "    for (var i = 0; i < js_urls.length; i++) {\n",
       "      var url = js_urls[i];\n",
       "      var s = document.createElement('script');\n",
       "      s.src = url;\n",
       "      s.async = false;\n",
       "      s.onreadystatechange = s.onload = function() {\n",
       "        window._bokeh_is_loading--;\n",
       "        if (window._bokeh_is_loading === 0) {\n",
       "          console.log(\"Bokeh: all BokehJS libraries loaded\");\n",
       "          run_callbacks()\n",
       "        }\n",
       "      };\n",
       "      s.onerror = function() {\n",
       "        console.warn(\"failed to load library \" + url);\n",
       "      };\n",
       "      console.log(\"Bokeh: injecting script tag for BokehJS library: \", url);\n",
       "      document.getElementsByTagName(\"head\")[0].appendChild(s);\n",
       "    }\n",
       "  };var element = document.getElementById(\"466732fa-8733-441f-abfa-995cc0630c9f\");\n",
       "  if (element == null) {\n",
       "    console.log(\"Bokeh: ERROR: autoload.js configured with elementid '466732fa-8733-441f-abfa-995cc0630c9f' but no matching script tag was found. \")\n",
       "    return false;\n",
       "  }\n",
       "\n",
       "  var js_urls = ['https://cdn.pydata.org/bokeh/release/bokeh-0.12.2.min.js', 'https://cdn.pydata.org/bokeh/release/bokeh-widgets-0.12.2.min.js', 'https://cdn.pydata.org/bokeh/release/bokeh-compiler-0.12.2.min.js'];\n",
       "\n",
       "  var inline_js = [\n",
       "    function(Bokeh) {\n",
       "      Bokeh.set_log_level(\"info\");\n",
       "    },\n",
       "    \n",
       "    function(Bokeh) {\n",
       "      \n",
       "      Bokeh.$(\"#466732fa-8733-441f-abfa-995cc0630c9f\").text(\"BokehJS is loading...\");\n",
       "    },\n",
       "    function(Bokeh) {\n",
       "      console.log(\"Bokeh: injecting CSS: https://cdn.pydata.org/bokeh/release/bokeh-0.12.2.min.css\");\n",
       "      Bokeh.embed.inject_css(\"https://cdn.pydata.org/bokeh/release/bokeh-0.12.2.min.css\");\n",
       "      console.log(\"Bokeh: injecting CSS: https://cdn.pydata.org/bokeh/release/bokeh-widgets-0.12.2.min.css\");\n",
       "      Bokeh.embed.inject_css(\"https://cdn.pydata.org/bokeh/release/bokeh-widgets-0.12.2.min.css\");\n",
       "    }\n",
       "  ];\n",
       "\n",
       "  function run_inline_js() {\n",
       "    \n",
       "    if ((window.Bokeh !== undefined) || (force === \"1\")) {\n",
       "      for (var i = 0; i < inline_js.length; i++) {\n",
       "        inline_js[i](window.Bokeh);\n",
       "      }if (force === \"1\") {\n",
       "        display_loaded();\n",
       "      }} else if (Date.now() < window._bokeh_timeout) {\n",
       "      setTimeout(run_inline_js, 100);\n",
       "    } else if (!window._bokeh_failed_load) {\n",
       "      console.log(\"Bokeh: BokehJS failed to load within specified timeout.\");\n",
       "      window._bokeh_failed_load = true;\n",
       "    } else if (!force) {\n",
       "      var cell = $(\"#466732fa-8733-441f-abfa-995cc0630c9f\").parents('.cell').data().cell;\n",
       "      cell.output_area.append_execute_result(NB_LOAD_WARNING)\n",
       "    }\n",
       "\n",
       "  }\n",
       "\n",
       "  if (window._bokeh_is_loading === 0) {\n",
       "    console.log(\"Bokeh: BokehJS loaded, going straight to plotting\");\n",
       "    run_inline_js();\n",
       "  } else {\n",
       "    load_libs(js_urls, function() {\n",
       "      console.log(\"Bokeh: BokehJS plotting callback run at\", now());\n",
       "      run_inline_js();\n",
       "    });\n",
       "  }\n",
       "}(this));"
      ]
     },
     "metadata": {},
     "output_type": "display_data"
    },
    {
     "data": {
      "text/html": [
       "\n",
       "\n",
       "    <div class=\"bk-root\">\n",
       "        <div class=\"plotdiv\" id=\"19d5630b-446e-487b-abb5-1e4bd7b89b6e\"></div>\n",
       "    </div>\n",
       "<script type=\"text/javascript\">\n",
       "  \n",
       "  (function(global) {\n",
       "    function now() {\n",
       "      return new Date();\n",
       "    }\n",
       "  \n",
       "    var force = \"\";\n",
       "  \n",
       "    if (typeof (window._bokeh_onload_callbacks) === \"undefined\" || force !== \"\") {\n",
       "      window._bokeh_onload_callbacks = [];\n",
       "      window._bokeh_is_loading = undefined;\n",
       "    }\n",
       "  \n",
       "  \n",
       "    \n",
       "    if (typeof (window._bokeh_timeout) === \"undefined\" || force !== \"\") {\n",
       "      window._bokeh_timeout = Date.now() + 0;\n",
       "      window._bokeh_failed_load = false;\n",
       "    }\n",
       "  \n",
       "    var NB_LOAD_WARNING = {'data': {'text/html':\n",
       "       \"<div style='background-color: #fdd'>\\n\"+\n",
       "       \"<p>\\n\"+\n",
       "       \"BokehJS does not appear to have successfully loaded. If loading BokehJS from CDN, this \\n\"+\n",
       "       \"may be due to a slow or bad network connection. Possible fixes:\\n\"+\n",
       "       \"</p>\\n\"+\n",
       "       \"<ul>\\n\"+\n",
       "       \"<li>re-rerun `output_notebook()` to attempt to load from CDN again, or</li>\\n\"+\n",
       "       \"<li>use INLINE resources instead, as so:</li>\\n\"+\n",
       "       \"</ul>\\n\"+\n",
       "       \"<code>\\n\"+\n",
       "       \"from bokeh.resources import INLINE\\n\"+\n",
       "       \"output_notebook(resources=INLINE)\\n\"+\n",
       "       \"</code>\\n\"+\n",
       "       \"</div>\"}};\n",
       "  \n",
       "    function display_loaded() {\n",
       "      if (window.Bokeh !== undefined) {\n",
       "        Bokeh.$(\"#19d5630b-446e-487b-abb5-1e4bd7b89b6e\").text(\"BokehJS successfully loaded.\");\n",
       "      } else if (Date.now() < window._bokeh_timeout) {\n",
       "        setTimeout(display_loaded, 100)\n",
       "      }\n",
       "    }\n",
       "  \n",
       "    function run_callbacks() {\n",
       "      window._bokeh_onload_callbacks.forEach(function(callback) { callback() });\n",
       "      delete window._bokeh_onload_callbacks\n",
       "      console.info(\"Bokeh: all callbacks have finished\");\n",
       "    }\n",
       "  \n",
       "    function load_libs(js_urls, callback) {\n",
       "      window._bokeh_onload_callbacks.push(callback);\n",
       "      if (window._bokeh_is_loading > 0) {\n",
       "        console.log(\"Bokeh: BokehJS is being loaded, scheduling callback at\", now());\n",
       "        return null;\n",
       "      }\n",
       "      if (js_urls == null || js_urls.length === 0) {\n",
       "        run_callbacks();\n",
       "        return null;\n",
       "      }\n",
       "      console.log(\"Bokeh: BokehJS not loaded, scheduling load and callback at\", now());\n",
       "      window._bokeh_is_loading = js_urls.length;\n",
       "      for (var i = 0; i < js_urls.length; i++) {\n",
       "        var url = js_urls[i];\n",
       "        var s = document.createElement('script');\n",
       "        s.src = url;\n",
       "        s.async = false;\n",
       "        s.onreadystatechange = s.onload = function() {\n",
       "          window._bokeh_is_loading--;\n",
       "          if (window._bokeh_is_loading === 0) {\n",
       "            console.log(\"Bokeh: all BokehJS libraries loaded\");\n",
       "            run_callbacks()\n",
       "          }\n",
       "        };\n",
       "        s.onerror = function() {\n",
       "          console.warn(\"failed to load library \" + url);\n",
       "        };\n",
       "        console.log(\"Bokeh: injecting script tag for BokehJS library: \", url);\n",
       "        document.getElementsByTagName(\"head\")[0].appendChild(s);\n",
       "      }\n",
       "    };var element = document.getElementById(\"19d5630b-446e-487b-abb5-1e4bd7b89b6e\");\n",
       "    if (element == null) {\n",
       "      console.log(\"Bokeh: ERROR: autoload.js configured with elementid '19d5630b-446e-487b-abb5-1e4bd7b89b6e' but no matching script tag was found. \")\n",
       "      return false;\n",
       "    }\n",
       "  \n",
       "    var js_urls = [];\n",
       "  \n",
       "    var inline_js = [\n",
       "      function(Bokeh) {\n",
       "        Bokeh.$(function() {\n",
       "            var docs_json = {\"6f03e5c6-9134-48a6-a396-963ed9536255\":{\"roots\":{\"references\":[{\"attributes\":{\"plot\":{\"id\":\"be1ee5e7-6cb4-4389-af4a-e838824a81ee\",\"subtype\":\"Chart\",\"type\":\"Plot\"}},\"id\":\"30c59934-7848-464f-a713-6fc6fd025589\",\"type\":\"HelpTool\"},{\"attributes\":{\"formatter\":{\"id\":\"a91938d4-0b4f-426c-8559-0801f8dd5e70\",\"type\":\"CategoricalTickFormatter\"},\"major_label_orientation\":0.7853981633974483,\"plot\":{\"id\":\"61ca6dc6-5e11-4039-ba71-56b15c062eee\",\"subtype\":\"Chart\",\"type\":\"Plot\"},\"ticker\":{\"id\":\"cee0dbab-551c-4689-8c92-7ee5cfb1b5d0\",\"type\":\"CategoricalTicker\"}},\"id\":\"d4f57cc6-15c2-415d-8521-edd39f1efd43\",\"type\":\"CategoricalAxis\"},{\"attributes\":{\"callback\":null,\"column_names\":[\"line_color\",\"line_alpha\",\"color\",\"fill_alpha\",\"height\",\"width\",\"y\",\"x\",\"label\"],\"data\":{\"chart_index\":[{\"index\":5}],\"color\":[\"crimson\"],\"fill_alpha\":[0.8],\"height\":[1473.0],\"index\":[5],\"label\":[{\"index\":5}],\"line_alpha\":[1.0],\"line_color\":[\"white\"],\"width\":[0.8],\"x\":[\"5\"],\"y\":[736.5]}},\"id\":\"293b5e94-ce03-42da-9111-6018bf7f7a15\",\"type\":\"ColumnDataSource\"},{\"attributes\":{},\"id\":\"83a0af72-0317-477b-aae6-77d5ce25d4ae\",\"type\":\"ToolEvents\"},{\"attributes\":{\"dimension\":1,\"plot\":{\"id\":\"ae0c6a49-43b9-4561-aa29-8240ce4d5538\",\"subtype\":\"Chart\",\"type\":\"Plot\"},\"ticker\":{\"id\":\"88dfa5b1-ab1a-4fb9-86dd-713766750095\",\"type\":\"BasicTicker\"}},\"id\":\"cb89ac69-7283-4ae1-801a-f5381397cc80\",\"type\":\"Grid\"},{\"attributes\":{\"plot\":null,\"text\":\" Left Stats\"},\"id\":\"0d2e3cd8-3503-46bb-8121-996d2e9b075b\",\"type\":\"Title\"},{\"attributes\":{\"callback\":null,\"column_names\":[\"line_color\",\"line_alpha\",\"color\",\"fill_alpha\",\"height\",\"width\",\"y\",\"x\",\"label\"],\"data\":{\"chart_index\":[{\"index\":3}],\"color\":[\"crimson\"],\"fill_alpha\":[0.8],\"height\":[6443.0],\"index\":[3],\"label\":[{\"index\":3}],\"line_alpha\":[1.0],\"line_color\":[\"white\"],\"width\":[0.8],\"x\":[\"3\"],\"y\":[3221.5]}},\"id\":\"07566214-c8f4-44b3-bb71-4d8693f45eb1\",\"type\":\"ColumnDataSource\"},{\"attributes\":{\"children\":[{\"id\":\"d14740b8-98aa-42e7-9aa1-ac1125bf17f3\",\"type\":\"ToolbarBox\"},{\"id\":\"3eb3237c-d449-4f8e-8a11-f5dde4606415\",\"type\":\"Column\"}]},\"id\":\"ac419bd4-79ea-4816-b2d8-a16514cb962d\",\"type\":\"Column\"},{\"attributes\":{\"data_source\":{\"id\":\"2bf57cd4-e34b-473b-bef7-14d78143b569\",\"type\":\"ColumnDataSource\"},\"glyph\":{\"id\":\"2b73c46d-313d-4e1d-a747-5ba9a9ac922d\",\"type\":\"Rect\"},\"hover_glyph\":null,\"nonselection_glyph\":null,\"selection_glyph\":null},\"id\":\"dee4864e-b4ec-498d-b657-364610082795\",\"type\":\"GlyphRenderer\"},{\"attributes\":{\"children\":[{\"id\":\"be1ee5e7-6cb4-4389-af4a-e838824a81ee\",\"subtype\":\"Chart\",\"type\":\"Plot\"}]},\"id\":\"58d48aeb-0e15-4db4-80a7-1dfe114cb3ca\",\"type\":\"Row\"},{\"attributes\":{\"plot\":{\"id\":\"6686963d-76f6-4baa-8a06-cc0bbe4e96e7\",\"subtype\":\"Chart\",\"type\":\"Plot\"}},\"id\":\"8dd4654c-5b89-4ef1-9e97-f3fdc641fca2\",\"type\":\"HelpTool\"},{\"attributes\":{\"dimension\":1,\"plot\":{\"id\":\"ae45d7d0-6ffc-4830-af34-1d7c7231255b\",\"subtype\":\"Chart\",\"type\":\"Plot\"},\"ticker\":{\"id\":\"fa1fb85a-9550-4858-85f3-7a353a59a39d\",\"type\":\"BasicTicker\"}},\"id\":\"bf0dcce1-4c72-43ee-ab66-3db3dce749d6\",\"type\":\"Grid\"},{\"attributes\":{\"callback\":null,\"column_names\":[\"line_color\",\"line_alpha\",\"color\",\"fill_alpha\",\"height\",\"width\",\"y\",\"x\",\"label\"],\"data\":{\"chart_index\":[{\"index\":3}],\"color\":[\"crimson\"],\"fill_alpha\":[0.8],\"height\":[4055.0],\"index\":[3],\"label\":[{\"index\":3}],\"line_alpha\":[1.0],\"line_color\":[\"white\"],\"width\":[0.8],\"x\":[\"3\"],\"y\":[2027.5]}},\"id\":\"d8911ecb-d258-4576-80b2-3ca41bc01d61\",\"type\":\"ColumnDataSource\"},{\"attributes\":{\"bottom_units\":\"screen\",\"fill_alpha\":{\"value\":0.5},\"fill_color\":{\"value\":\"lightgrey\"},\"left_units\":\"screen\",\"level\":\"overlay\",\"line_alpha\":{\"value\":1.0},\"line_color\":{\"value\":\"black\"},\"line_dash\":[4,4],\"line_width\":{\"value\":2},\"plot\":null,\"render_mode\":\"css\",\"right_units\":\"screen\",\"top_units\":\"screen\"},\"id\":\"0160bb45-582d-4f8d-9be7-0a7d53f1a14a\",\"type\":\"BoxAnnotation\"},{\"attributes\":{\"callback\":null,\"column_names\":[\"line_color\",\"line_alpha\",\"color\",\"fill_alpha\",\"height\",\"width\",\"y\",\"x\",\"label\"],\"data\":{\"chart_index\":[{\"index\":\"product_mng\"}],\"color\":[\"crimson\"],\"fill_alpha\":[0.8],\"height\":[902.0],\"index\":[\"product_mng\"],\"label\":[{\"index\":\"product_mng\"}],\"line_alpha\":[1.0],\"line_color\":[\"white\"],\"width\":[0.8],\"x\":[\"product_mng\"],\"y\":[451.0]}},\"id\":\"4492aed9-1d6c-47cd-9cf2-08556d825824\",\"type\":\"ColumnDataSource\"},{\"attributes\":{\"callback\":null,\"column_names\":[\"line_color\",\"line_alpha\",\"color\",\"fill_alpha\",\"height\",\"width\",\"y\",\"x\",\"label\"],\"data\":{\"chart_index\":[{\"index\":\"sales\"}],\"color\":[\"crimson\"],\"fill_alpha\":[0.8],\"height\":[4140.0],\"index\":[\"sales\"],\"label\":[{\"index\":\"sales\"}],\"line_alpha\":[1.0],\"line_color\":[\"white\"],\"width\":[0.8],\"x\":[\"sales\"],\"y\":[2070.0]}},\"id\":\"45a97028-5569-4dfc-89a3-88371b2d96b5\",\"type\":\"ColumnDataSource\"},{\"attributes\":{},\"id\":\"39bd5b89-ac09-41a1-9aa4-184248db833f\",\"type\":\"ToolEvents\"},{\"attributes\":{\"plot\":{\"id\":\"be1ee5e7-6cb4-4389-af4a-e838824a81ee\",\"subtype\":\"Chart\",\"type\":\"Plot\"}},\"id\":\"1d1b9a1a-2098-431a-b38f-7333bea9b860\",\"type\":\"ResetTool\"},{\"attributes\":{\"fill_alpha\":{\"field\":\"fill_alpha\"},\"fill_color\":{\"field\":\"color\"},\"height\":{\"field\":\"height\",\"units\":\"data\"},\"line_color\":{\"field\":\"line_color\"},\"width\":{\"field\":\"width\",\"units\":\"data\"},\"x\":{\"field\":\"x\"},\"y\":{\"field\":\"y\"}},\"id\":\"36be5d2f-731b-4ecd-b8c2-946f50c7b394\",\"type\":\"Rect\"},{\"attributes\":{\"callback\":null,\"end\":7681.8},\"id\":\"45ae5627-edcb-4944-a997-79162f1200fe\",\"type\":\"Range1d\"},{\"attributes\":{\"callback\":null,\"end\":6765.15},\"id\":\"d9d28822-e756-4451-96e7-d82df7646abb\",\"type\":\"Range1d\"},{\"attributes\":{\"callback\":null,\"column_names\":[\"line_color\",\"line_alpha\",\"color\",\"fill_alpha\",\"height\",\"width\",\"y\",\"x\",\"label\"],\"data\":{\"chart_index\":[{\"index\":\"high\"}],\"color\":[\"crimson\"],\"fill_alpha\":[0.8],\"height\":[1237.0],\"index\":[\"high\"],\"label\":[{\"index\":\"high\"}],\"line_alpha\":[1.0],\"line_color\":[\"white\"],\"width\":[0.8],\"x\":[\"high\"],\"y\":[618.5]}},\"id\":\"ea434453-5fb2-4c55-9b3f-5e696b3ee95f\",\"type\":\"ColumnDataSource\"},{\"attributes\":{\"data_source\":{\"id\":\"146aa079-9903-40b2-b0ef-d595156dbaa8\",\"type\":\"ColumnDataSource\"},\"glyph\":{\"id\":\"a42497af-6549-4f35-8bb9-6a45d5bb819d\",\"type\":\"Rect\"},\"hover_glyph\":null,\"nonselection_glyph\":null,\"selection_glyph\":null},\"id\":\"36212fc3-9730-47c0-bf56-4addbf01b72d\",\"type\":\"GlyphRenderer\"},{\"attributes\":{\"overlay\":{\"id\":\"b414786e-0e20-4968-8007-76fc7f7b0e06\",\"type\":\"BoxAnnotation\"},\"plot\":{\"id\":\"be1ee5e7-6cb4-4389-af4a-e838824a81ee\",\"subtype\":\"Chart\",\"type\":\"Plot\"}},\"id\":\"496dcf9a-e470-4f32-8dd5-efffc81b1b20\",\"type\":\"BoxZoomTool\"},{\"attributes\":{\"children\":[{\"id\":\"ae0c6a49-43b9-4561-aa29-8240ce4d5538\",\"subtype\":\"Chart\",\"type\":\"Plot\"},{\"id\":\"c6badb9a-8969-4b48-b1da-e7e24c589553\",\"subtype\":\"Chart\",\"type\":\"Plot\"},{\"id\":\"6686963d-76f6-4baa-8a06-cc0bbe4e96e7\",\"subtype\":\"Chart\",\"type\":\"Plot\"}]},\"id\":\"181fd199-2e59-4934-a506-6e9b8b97645b\",\"type\":\"Row\"},{\"attributes\":{},\"id\":\"02f034e4-b6a8-4853-941f-9774ced13a6e\",\"type\":\"CategoricalTickFormatter\"},{\"attributes\":{\"active_drag\":\"auto\",\"active_scroll\":\"auto\",\"active_tap\":\"auto\",\"tools\":[{\"id\":\"3ba5d5df-05ad-4b60-91c0-05ced3d951b9\",\"type\":\"PanTool\"},{\"id\":\"5909b1db-f119-4f75-a621-18b5dc184cd5\",\"type\":\"WheelZoomTool\"},{\"id\":\"76931fda-7816-47ef-a896-e04fa6b14506\",\"type\":\"BoxZoomTool\"},{\"id\":\"d2bf1b1c-38c8-426a-bd07-b94195efedea\",\"type\":\"SaveTool\"},{\"id\":\"4862a2da-3089-4ef9-9dc4-989787cee3eb\",\"type\":\"ResetTool\"},{\"id\":\"1e21abcd-d9e8-4f6a-ac1f-c202f1f46085\",\"type\":\"HelpTool\"}]},\"id\":\"4e7e7487-4bb9-4198-8cb7-8665d055ac6f\",\"type\":\"Toolbar\"},{\"attributes\":{\"fill_alpha\":{\"field\":\"fill_alpha\"},\"fill_color\":{\"field\":\"color\"},\"height\":{\"field\":\"height\",\"units\":\"data\"},\"line_color\":{\"field\":\"line_color\"},\"width\":{\"field\":\"width\",\"units\":\"data\"},\"x\":{\"field\":\"x\"},\"y\":{\"field\":\"y\"}},\"id\":\"c02bca94-8901-4018-a2b9-bd8d1b30f1db\",\"type\":\"Rect\"},{\"attributes\":{\"formatter\":{\"id\":\"93f6ce3c-8731-4b51-a0e8-8ac5ef1a7edb\",\"type\":\"BasicTickFormatter\"},\"plot\":{\"id\":\"c6badb9a-8969-4b48-b1da-e7e24c589553\",\"subtype\":\"Chart\",\"type\":\"Plot\"},\"ticker\":{\"id\":\"f8933ba4-e91e-452e-91ba-4daf675e16fe\",\"type\":\"BasicTicker\"}},\"id\":\"43c97fcd-6e74-4267-af5c-02ecc6e493ec\",\"type\":\"LinearAxis\"},{\"attributes\":{\"plot\":{\"id\":\"6686963d-76f6-4baa-8a06-cc0bbe4e96e7\",\"subtype\":\"Chart\",\"type\":\"Plot\"}},\"id\":\"ea8d6e83-1e0d-4aa5-b680-ea5ce2b439b2\",\"type\":\"ResetTool\"},{\"attributes\":{\"callback\":null,\"column_names\":[\"line_color\",\"line_alpha\",\"color\",\"fill_alpha\",\"height\",\"width\",\"y\",\"x\",\"label\"],\"data\":{\"chart_index\":[{\"index\":10}],\"color\":[\"crimson\"],\"fill_alpha\":[0.8],\"height\":[214.0],\"index\":[10],\"label\":[{\"index\":10}],\"line_alpha\":[1.0],\"line_color\":[\"white\"],\"width\":[0.8],\"x\":[\"10\"],\"y\":[107.0]}},\"id\":\"01e91244-4561-476a-b87d-4e85a2b9b034\",\"type\":\"ColumnDataSource\"},{\"attributes\":{\"plot\":{\"id\":\"ae0c6a49-43b9-4561-aa29-8240ce4d5538\",\"subtype\":\"Chart\",\"type\":\"Plot\"}},\"id\":\"44fa2596-90eb-454b-b531-12d2736fb764\",\"type\":\"SaveTool\"},{\"attributes\":{\"callback\":null,\"column_names\":[\"line_color\",\"line_alpha\",\"color\",\"fill_alpha\",\"height\",\"width\",\"y\",\"x\",\"label\"],\"data\":{\"chart_index\":[{\"index\":\"medium\"}],\"color\":[\"crimson\"],\"fill_alpha\":[0.8],\"height\":[6446.0],\"index\":[\"medium\"],\"label\":[{\"index\":\"medium\"}],\"line_alpha\":[1.0],\"line_color\":[\"white\"],\"width\":[0.8],\"x\":[\"medium\"],\"y\":[3223.0]}},\"id\":\"bf0828ee-33cf-43ab-910e-58286ade91d8\",\"type\":\"ColumnDataSource\"},{\"attributes\":{\"dimension\":1,\"plot\":{\"id\":\"be1ee5e7-6cb4-4389-af4a-e838824a81ee\",\"subtype\":\"Chart\",\"type\":\"Plot\"},\"ticker\":{\"id\":\"19c310c4-7e61-4345-8b91-cffac7e7dca4\",\"type\":\"BasicTicker\"}},\"id\":\"7e5ea099-ef61-4be2-ac71-b88f82158b34\",\"type\":\"Grid\"},{\"attributes\":{\"plot\":{\"id\":\"ae45d7d0-6ffc-4830-af34-1d7c7231255b\",\"subtype\":\"Chart\",\"type\":\"Plot\"}},\"id\":\"d0367dcb-73f0-47ea-9520-0b013f8c83e3\",\"type\":\"PanTool\"},{\"attributes\":{\"callback\":null,\"column_names\":[\"line_color\",\"line_alpha\",\"color\",\"fill_alpha\",\"height\",\"width\",\"y\",\"x\",\"label\"],\"data\":{\"chart_index\":[{\"index\":1}],\"color\":[\"crimson\"],\"fill_alpha\":[0.8],\"height\":[2169.0],\"index\":[1],\"label\":[{\"index\":1}],\"line_alpha\":[1.0],\"line_color\":[\"white\"],\"width\":[0.8],\"x\":[\"1\"],\"y\":[1084.5]}},\"id\":\"275b35b8-52d7-4d7a-82a7-a96553a5f248\",\"type\":\"ColumnDataSource\"},{\"attributes\":{\"data_source\":{\"id\":\"6df9eb13-cd42-44d8-aa3e-7f4b567c64bb\",\"type\":\"ColumnDataSource\"},\"glyph\":{\"id\":\"8a83aa25-ddee-4cf6-9432-a4b8961f2cc6\",\"type\":\"Rect\"},\"hover_glyph\":null,\"nonselection_glyph\":null,\"selection_glyph\":null},\"id\":\"a1f6fc21-4541-49d0-b2ea-89ce2ed74ada\",\"type\":\"GlyphRenderer\"},{\"attributes\":{\"callback\":null,\"column_names\":[\"line_color\",\"line_alpha\",\"color\",\"fill_alpha\",\"height\",\"width\",\"y\",\"x\",\"label\"],\"data\":{\"chart_index\":[{\"index\":\"accounting\"}],\"color\":[\"crimson\"],\"fill_alpha\":[0.8],\"height\":[767.0],\"index\":[\"accounting\"],\"label\":[{\"index\":\"accounting\"}],\"line_alpha\":[1.0],\"line_color\":[\"white\"],\"width\":[0.8],\"x\":[\"accounting\"],\"y\":[383.5]}},\"id\":\"6df9eb13-cd42-44d8-aa3e-7f4b567c64bb\",\"type\":\"ColumnDataSource\"},{\"attributes\":{\"callback\":null,\"factors\":[\"2\",\"3\",\"4\",\"5\",\"6\",\"7\",\"8\",\"10\"]},\"id\":\"e267dad6-918e-4f92-be6f-7f928310a0c0\",\"type\":\"FactorRange\"},{\"attributes\":{},\"id\":\"1bc4ecc2-045a-42d1-9697-bfb1cf33b7c5\",\"type\":\"CategoricalTicker\"},{\"attributes\":{\"below\":[{\"id\":\"79639441-9a99-4eb4-8ac4-1c52adc2198a\",\"type\":\"CategoricalAxis\"}],\"left\":[{\"id\":\"a533f8a1-cde1-48e9-ad0a-1f1fa281abea\",\"type\":\"LinearAxis\"}],\"plot_height\":200,\"plot_width\":300,\"renderers\":[{\"id\":\"950bb819-9af6-4518-82e3-ad5238fe4e17\",\"type\":\"BoxAnnotation\"},{\"id\":\"b87461cd-f5be-4f56-8b8d-aaa5e92daa57\",\"type\":\"GlyphRenderer\"},{\"id\":\"db11f166-f40f-498e-85f0-e97fd957102d\",\"type\":\"GlyphRenderer\"},{\"id\":\"35d6c807-dc85-4632-b921-5b29456b8336\",\"type\":\"GlyphRenderer\"},{\"id\":\"79639441-9a99-4eb4-8ac4-1c52adc2198a\",\"type\":\"CategoricalAxis\"},{\"id\":\"a533f8a1-cde1-48e9-ad0a-1f1fa281abea\",\"type\":\"LinearAxis\"},{\"id\":\"cb89ac69-7283-4ae1-801a-f5381397cc80\",\"type\":\"Grid\"}],\"title\":{\"id\":\"168693b1-2f6b-495f-bd08-7c98e2c3cc87\",\"type\":\"Title\"},\"tool_events\":{\"id\":\"fe461c79-0382-49a6-bc18-4011305f5274\",\"type\":\"ToolEvents\"},\"toolbar\":{\"id\":\"018c6f37-50e8-4a94-8013-9d631eb2fcae\",\"type\":\"Toolbar\"},\"toolbar_location\":null,\"x_mapper_type\":\"auto\",\"x_range\":{\"id\":\"35280994-6002-45a5-86ed-911073f26070\",\"type\":\"FactorRange\"},\"y_mapper_type\":\"auto\",\"y_range\":{\"id\":\"45ae5627-edcb-4944-a997-79162f1200fe\",\"type\":\"Range1d\"}},\"id\":\"ae0c6a49-43b9-4561-aa29-8240ce4d5538\",\"subtype\":\"Chart\",\"type\":\"Plot\"},{\"attributes\":{\"callback\":null,\"column_names\":[\"line_color\",\"line_alpha\",\"color\",\"fill_alpha\",\"height\",\"width\",\"y\",\"x\",\"label\"],\"data\":{\"chart_index\":[{\"index\":1}],\"color\":[\"crimson\"],\"fill_alpha\":[0.8],\"height\":[319.0],\"index\":[1],\"label\":[{\"index\":1}],\"line_alpha\":[1.0],\"line_color\":[\"white\"],\"width\":[0.8],\"x\":[\"1\"],\"y\":[159.5]}},\"id\":\"c216bef8-6244-4c7b-9169-e5a646664fb9\",\"type\":\"ColumnDataSource\"},{\"attributes\":{\"bottom_units\":\"screen\",\"fill_alpha\":{\"value\":0.5},\"fill_color\":{\"value\":\"lightgrey\"},\"left_units\":\"screen\",\"level\":\"overlay\",\"line_alpha\":{\"value\":1.0},\"line_color\":{\"value\":\"black\"},\"line_dash\":[4,4],\"line_width\":{\"value\":2},\"plot\":null,\"render_mode\":\"css\",\"right_units\":\"screen\",\"top_units\":\"screen\"},\"id\":\"794b2ab8-c72f-432b-87c2-38a69265ee61\",\"type\":\"BoxAnnotation\"},{\"attributes\":{},\"id\":\"7c248205-004f-4e85-9e49-d96136657d9f\",\"type\":\"BasicTickFormatter\"},{\"attributes\":{\"formatter\":{\"id\":\"7c248205-004f-4e85-9e49-d96136657d9f\",\"type\":\"BasicTickFormatter\"},\"plot\":{\"id\":\"be1ee5e7-6cb4-4389-af4a-e838824a81ee\",\"subtype\":\"Chart\",\"type\":\"Plot\"},\"ticker\":{\"id\":\"19c310c4-7e61-4345-8b91-cffac7e7dca4\",\"type\":\"BasicTicker\"}},\"id\":\"3167cda4-8f95-43e3-8bc0-e99d7cf90349\",\"type\":\"LinearAxis\"},{\"attributes\":{\"fill_alpha\":{\"field\":\"fill_alpha\"},\"fill_color\":{\"field\":\"color\"},\"height\":{\"field\":\"height\",\"units\":\"data\"},\"line_color\":{\"field\":\"line_color\"},\"width\":{\"field\":\"width\",\"units\":\"data\"},\"x\":{\"field\":\"x\"},\"y\":{\"field\":\"y\"}},\"id\":\"74e8161e-3550-4239-9f17-5530a606cec1\",\"type\":\"Rect\"},{\"attributes\":{\"fill_alpha\":{\"field\":\"fill_alpha\"},\"fill_color\":{\"field\":\"color\"},\"height\":{\"field\":\"height\",\"units\":\"data\"},\"line_color\":{\"field\":\"line_color\"},\"width\":{\"field\":\"width\",\"units\":\"data\"},\"x\":{\"field\":\"x\"},\"y\":{\"field\":\"y\"}},\"id\":\"d9f053a1-c58b-44c5-bc65-31c7ea9543e0\",\"type\":\"Rect\"},{\"attributes\":{\"overlay\":{\"id\":\"5be7cca0-f64e-4e10-8065-467a7a203a42\",\"type\":\"BoxAnnotation\"},\"plot\":{\"id\":\"ae45d7d0-6ffc-4830-af34-1d7c7231255b\",\"subtype\":\"Chart\",\"type\":\"Plot\"}},\"id\":\"29c9d356-2247-4710-ba62-e43a58610cc4\",\"type\":\"BoxZoomTool\"},{\"attributes\":{\"below\":[{\"id\":\"0fa141f0-5561-4d87-866e-c80ddc03e918\",\"type\":\"CategoricalAxis\"}],\"left\":[{\"id\":\"95296c72-1210-4212-9921-79377ed54db3\",\"type\":\"LinearAxis\"}],\"plot_height\":200,\"plot_width\":300,\"renderers\":[{\"id\":\"794b2ab8-c72f-432b-87c2-38a69265ee61\",\"type\":\"BoxAnnotation\"},{\"id\":\"62afea32-d7e9-4914-9aef-1b979e5eb409\",\"type\":\"GlyphRenderer\"},{\"id\":\"072b0b9a-9e02-468e-822f-25c181a3f2a6\",\"type\":\"GlyphRenderer\"},{\"id\":\"0fa141f0-5561-4d87-866e-c80ddc03e918\",\"type\":\"CategoricalAxis\"},{\"id\":\"95296c72-1210-4212-9921-79377ed54db3\",\"type\":\"LinearAxis\"},{\"id\":\"bca1a233-24dc-4313-9156-04261198a37d\",\"type\":\"Grid\"}],\"title\":{\"id\":\"0d2e3cd8-3503-46bb-8121-996d2e9b075b\",\"type\":\"Title\"},\"tool_events\":{\"id\":\"0ae600c0-9f6c-4a3a-b52f-41650ebe1d69\",\"type\":\"ToolEvents\"},\"toolbar\":{\"id\":\"c7947144-e735-42c7-8bdf-adda3f320308\",\"type\":\"Toolbar\"},\"toolbar_location\":null,\"x_mapper_type\":\"auto\",\"x_range\":{\"id\":\"7b3f7a36-9549-478a-a9ad-029724a9076f\",\"type\":\"FactorRange\"},\"y_mapper_type\":\"auto\",\"y_range\":{\"id\":\"9371d075-293e-4f75-b767-9d9a8c2fd32d\",\"type\":\"Range1d\"}},\"id\":\"6686963d-76f6-4baa-8a06-cc0bbe4e96e7\",\"subtype\":\"Chart\",\"type\":\"Plot\"},{\"attributes\":{},\"id\":\"795e2597-90fe-4c36-b27b-dd086c511108\",\"type\":\"CategoricalTickFormatter\"},{\"attributes\":{\"data_source\":{\"id\":\"fad2d7d2-c767-464f-bab9-76e51e6550f9\",\"type\":\"ColumnDataSource\"},\"glyph\":{\"id\":\"3e09c286-3abe-4d2e-a8b6-7a1c191fb539\",\"type\":\"Rect\"},\"hover_glyph\":null,\"nonselection_glyph\":null,\"selection_glyph\":null},\"id\":\"1c4ef385-f6b0-421b-9ae8-99e753d6d366\",\"type\":\"GlyphRenderer\"},{\"attributes\":{\"dimension\":1,\"plot\":{\"id\":\"61ca6dc6-5e11-4039-ba71-56b15c062eee\",\"subtype\":\"Chart\",\"type\":\"Plot\"},\"ticker\":{\"id\":\"318d1707-bb7d-4d71-ac76-1ae75dfdf756\",\"type\":\"BasicTicker\"}},\"id\":\"c2e47e21-13f7-4b36-817c-ff38233584ba\",\"type\":\"Grid\"},{\"attributes\":{\"fill_alpha\":{\"field\":\"fill_alpha\"},\"fill_color\":{\"field\":\"color\"},\"height\":{\"field\":\"height\",\"units\":\"data\"},\"line_color\":{\"field\":\"line_color\"},\"width\":{\"field\":\"width\",\"units\":\"data\"},\"x\":{\"field\":\"x\"},\"y\":{\"field\":\"y\"}},\"id\":\"1aea9549-567f-4be5-9197-b82aa8ceac1d\",\"type\":\"Rect\"},{\"attributes\":{\"data_source\":{\"id\":\"4492aed9-1d6c-47cd-9cf2-08556d825824\",\"type\":\"ColumnDataSource\"},\"glyph\":{\"id\":\"36be5d2f-731b-4ecd-b8c2-946f50c7b394\",\"type\":\"Rect\"},\"hover_glyph\":null,\"nonselection_glyph\":null,\"selection_glyph\":null},\"id\":\"844e05e9-15f2-4ad4-b0a9-c05200d56470\",\"type\":\"GlyphRenderer\"},{\"attributes\":{\"fill_alpha\":{\"field\":\"fill_alpha\"},\"fill_color\":{\"field\":\"color\"},\"height\":{\"field\":\"height\",\"units\":\"data\"},\"line_color\":{\"field\":\"line_color\"},\"width\":{\"field\":\"width\",\"units\":\"data\"},\"x\":{\"field\":\"x\"},\"y\":{\"field\":\"y\"}},\"id\":\"1abe092c-43db-4cee-a905-8afe233f3d66\",\"type\":\"Rect\"},{\"attributes\":{\"fill_alpha\":{\"field\":\"fill_alpha\"},\"fill_color\":{\"field\":\"color\"},\"height\":{\"field\":\"height\",\"units\":\"data\"},\"line_color\":{\"field\":\"line_color\"},\"width\":{\"field\":\"width\",\"units\":\"data\"},\"x\":{\"field\":\"x\"},\"y\":{\"field\":\"y\"}},\"id\":\"19942fda-8a8c-4528-a1bb-9ec336a0c959\",\"type\":\"Rect\"},{\"attributes\":{\"below\":[{\"id\":\"5623a768-ce8f-4cba-92c1-9f6b315a1190\",\"type\":\"CategoricalAxis\"}],\"left\":[{\"id\":\"dfeebfc1-275d-4ff6-bc91-204e4dd9bd88\",\"type\":\"LinearAxis\"}],\"plot_height\":200,\"plot_width\":300,\"renderers\":[{\"id\":\"5be7cca0-f64e-4e10-8065-467a7a203a42\",\"type\":\"BoxAnnotation\"},{\"id\":\"73333f69-7aa0-47e9-a424-e9dce7e37969\",\"type\":\"GlyphRenderer\"},{\"id\":\"a81e5724-3118-445c-9cde-bd241b15eeea\",\"type\":\"GlyphRenderer\"},{\"id\":\"36212fc3-9730-47c0-bf56-4addbf01b72d\",\"type\":\"GlyphRenderer\"},{\"id\":\"8a8048bb-fd10-42bb-a6e4-c25097b20cde\",\"type\":\"GlyphRenderer\"},{\"id\":\"a7d7d762-0192-46e8-af6e-92e345517065\",\"type\":\"GlyphRenderer\"},{\"id\":\"16d7a2fb-43b1-4d96-b23a-36dbcdd5186f\",\"type\":\"GlyphRenderer\"},{\"id\":\"1c4ef385-f6b0-421b-9ae8-99e753d6d366\",\"type\":\"GlyphRenderer\"},{\"id\":\"e6281977-7856-449c-8972-d8c8cca9add7\",\"type\":\"GlyphRenderer\"},{\"id\":\"5623a768-ce8f-4cba-92c1-9f6b315a1190\",\"type\":\"CategoricalAxis\"},{\"id\":\"dfeebfc1-275d-4ff6-bc91-204e4dd9bd88\",\"type\":\"LinearAxis\"},{\"id\":\"bf0dcce1-4c72-43ee-ab66-3db3dce749d6\",\"type\":\"Grid\"}],\"title\":{\"id\":\"a1116562-fd3b-4f70-9e0e-daab038b751f\",\"type\":\"Title\"},\"tool_events\":{\"id\":\"83a0af72-0317-477b-aae6-77d5ce25d4ae\",\"type\":\"ToolEvents\"},\"toolbar\":{\"id\":\"83342703-b317-451a-b13f-4ac04e348a70\",\"type\":\"Toolbar\"},\"toolbar_location\":null,\"x_mapper_type\":\"auto\",\"x_range\":{\"id\":\"e267dad6-918e-4f92-be6f-7f928310a0c0\",\"type\":\"FactorRange\"},\"y_mapper_type\":\"auto\",\"y_range\":{\"id\":\"d9d28822-e756-4451-96e7-d82df7646abb\",\"type\":\"Range1d\"}},\"id\":\"ae45d7d0-6ffc-4830-af34-1d7c7231255b\",\"subtype\":\"Chart\",\"type\":\"Plot\"},{\"attributes\":{\"sizing_mode\":\"scale_width\",\"toolbar_location\":\"above\",\"tools\":[{\"id\":\"3ba5d5df-05ad-4b60-91c0-05ced3d951b9\",\"type\":\"PanTool\"},{\"id\":\"5909b1db-f119-4f75-a621-18b5dc184cd5\",\"type\":\"WheelZoomTool\"},{\"id\":\"76931fda-7816-47ef-a896-e04fa6b14506\",\"type\":\"BoxZoomTool\"},{\"id\":\"d2bf1b1c-38c8-426a-bd07-b94195efedea\",\"type\":\"SaveTool\"},{\"id\":\"4862a2da-3089-4ef9-9dc4-989787cee3eb\",\"type\":\"ResetTool\"},{\"id\":\"1e21abcd-d9e8-4f6a-ac1f-c202f1f46085\",\"type\":\"HelpTool\"},{\"id\":\"d0367dcb-73f0-47ea-9520-0b013f8c83e3\",\"type\":\"PanTool\"},{\"id\":\"7b209a8a-3377-4146-adcc-9b8775d2f560\",\"type\":\"WheelZoomTool\"},{\"id\":\"29c9d356-2247-4710-ba62-e43a58610cc4\",\"type\":\"BoxZoomTool\"},{\"id\":\"52950ab4-1f44-414b-89f1-3b01d1180b56\",\"type\":\"SaveTool\"},{\"id\":\"29050a33-28d1-47dd-b4b4-8737f958035f\",\"type\":\"ResetTool\"},{\"id\":\"f3cbe2f6-0334-4790-8b6e-68943b05076e\",\"type\":\"HelpTool\"},{\"id\":\"1d4a9270-5e8d-45d3-a0ce-354abd9db1f2\",\"type\":\"PanTool\"},{\"id\":\"6f36dd7e-9f38-494d-b37e-d8260673a912\",\"type\":\"WheelZoomTool\"},{\"id\":\"578bf068-14ec-4345-84ad-1f4cc7de0dd4\",\"type\":\"BoxZoomTool\"},{\"id\":\"cb05c6a8-e945-4dcb-acef-4134ff17601b\",\"type\":\"SaveTool\"},{\"id\":\"cbea1fbf-3fe4-4329-a691-17ead23b3c58\",\"type\":\"ResetTool\"},{\"id\":\"948f491a-cad4-4af7-8ab3-bfe7f8693d86\",\"type\":\"HelpTool\"},{\"id\":\"7aea75d5-180b-4456-b249-dbeb08318520\",\"type\":\"PanTool\"},{\"id\":\"be84e272-d151-4fb6-911b-c9673f6b1c24\",\"type\":\"WheelZoomTool\"},{\"id\":\"1e108ce6-55bc-47a8-a43d-1964b5ae95ce\",\"type\":\"BoxZoomTool\"},{\"id\":\"44fa2596-90eb-454b-b531-12d2736fb764\",\"type\":\"SaveTool\"},{\"id\":\"3747dbf4-1f4a-4c7b-a53d-1a372ef604e5\",\"type\":\"ResetTool\"},{\"id\":\"992c1059-7ea7-4523-a98e-1340e9a72ab4\",\"type\":\"HelpTool\"},{\"id\":\"418bd876-2258-48d9-aaa6-d9fd2971c329\",\"type\":\"PanTool\"},{\"id\":\"7693a5bb-d282-4563-b3be-702779cc9e15\",\"type\":\"WheelZoomTool\"},{\"id\":\"96bcb35c-4f25-4a6e-a251-4e35372678a7\",\"type\":\"BoxZoomTool\"},{\"id\":\"08efc5b4-f97f-4a5e-9c59-f50cebf0d064\",\"type\":\"SaveTool\"},{\"id\":\"bd1f6cb8-7f1e-4201-8a75-45e2d768b025\",\"type\":\"ResetTool\"},{\"id\":\"3762c3de-64d6-4e0e-9f3e-ec000a7dbefd\",\"type\":\"HelpTool\"},{\"id\":\"f82ce483-792c-41ee-99f4-f2fed9a9b863\",\"type\":\"PanTool\"},{\"id\":\"4d76ebf2-3559-4e79-a91e-861a8a399a1e\",\"type\":\"WheelZoomTool\"},{\"id\":\"e205177c-eed7-472e-a916-4152eee2ab33\",\"type\":\"BoxZoomTool\"},{\"id\":\"e89f69a1-6991-4981-9153-c23b9cf723d9\",\"type\":\"SaveTool\"},{\"id\":\"ea8d6e83-1e0d-4aa5-b680-ea5ce2b439b2\",\"type\":\"ResetTool\"},{\"id\":\"8dd4654c-5b89-4ef1-9e97-f3fdc641fca2\",\"type\":\"HelpTool\"},{\"id\":\"65d82196-74df-4c13-bb68-f7127da4272e\",\"type\":\"PanTool\"},{\"id\":\"6db84de3-5ed2-477e-a3b8-4082708f0f55\",\"type\":\"WheelZoomTool\"},{\"id\":\"496dcf9a-e470-4f32-8dd5-efffc81b1b20\",\"type\":\"BoxZoomTool\"},{\"id\":\"9b009f26-3b82-4c66-bd1c-bcd95341a414\",\"type\":\"SaveTool\"},{\"id\":\"1d1b9a1a-2098-431a-b38f-7333bea9b860\",\"type\":\"ResetTool\"},{\"id\":\"30c59934-7848-464f-a713-6fc6fd025589\",\"type\":\"HelpTool\"}]},\"id\":\"d14740b8-98aa-42e7-9aa1-ac1125bf17f3\",\"type\":\"ToolbarBox\"},{\"attributes\":{},\"id\":\"4c61c4f0-e921-491d-9e0c-eca7b9942488\",\"type\":\"ToolEvents\"},{\"attributes\":{\"callback\":null,\"column_names\":[\"line_color\",\"line_alpha\",\"color\",\"fill_alpha\",\"height\",\"width\",\"y\",\"x\",\"label\"],\"data\":{\"chart_index\":[{\"index\":\"technical\"}],\"color\":[\"crimson\"],\"fill_alpha\":[0.8],\"height\":[2720.0],\"index\":[\"technical\"],\"label\":[{\"index\":\"technical\"}],\"line_alpha\":[1.0],\"line_color\":[\"white\"],\"width\":[0.8],\"x\":[\"technical\"],\"y\":[1360.0]}},\"id\":\"dafea2a7-6e66-4d23-bc49-7a32d20c6700\",\"type\":\"ColumnDataSource\"},{\"attributes\":{\"fill_alpha\":{\"field\":\"fill_alpha\"},\"fill_color\":{\"field\":\"color\"},\"height\":{\"field\":\"height\",\"units\":\"data\"},\"line_color\":{\"field\":\"line_color\"},\"width\":{\"field\":\"width\",\"units\":\"data\"},\"x\":{\"field\":\"x\"},\"y\":{\"field\":\"y\"}},\"id\":\"f0ae717e-9121-4681-9409-8b811ffb3915\",\"type\":\"Rect\"},{\"attributes\":{},\"id\":\"e8bf1aa2-62fd-4f03-8467-51c61632d09a\",\"type\":\"BasicTicker\"},{\"attributes\":{\"active_drag\":\"auto\",\"active_scroll\":\"auto\",\"active_tap\":\"auto\",\"tools\":[{\"id\":\"418bd876-2258-48d9-aaa6-d9fd2971c329\",\"type\":\"PanTool\"},{\"id\":\"7693a5bb-d282-4563-b3be-702779cc9e15\",\"type\":\"WheelZoomTool\"},{\"id\":\"96bcb35c-4f25-4a6e-a251-4e35372678a7\",\"type\":\"BoxZoomTool\"},{\"id\":\"08efc5b4-f97f-4a5e-9c59-f50cebf0d064\",\"type\":\"SaveTool\"},{\"id\":\"bd1f6cb8-7f1e-4201-8a75-45e2d768b025\",\"type\":\"ResetTool\"},{\"id\":\"3762c3de-64d6-4e0e-9f3e-ec000a7dbefd\",\"type\":\"HelpTool\"}]},\"id\":\"fbf5d065-87b1-4595-bbf1-3e684b73e38a\",\"type\":\"Toolbar\"},{\"attributes\":{\"active_drag\":\"auto\",\"active_scroll\":\"auto\",\"active_tap\":\"auto\",\"tools\":[{\"id\":\"7aea75d5-180b-4456-b249-dbeb08318520\",\"type\":\"PanTool\"},{\"id\":\"be84e272-d151-4fb6-911b-c9673f6b1c24\",\"type\":\"WheelZoomTool\"},{\"id\":\"1e108ce6-55bc-47a8-a43d-1964b5ae95ce\",\"type\":\"BoxZoomTool\"},{\"id\":\"44fa2596-90eb-454b-b531-12d2736fb764\",\"type\":\"SaveTool\"},{\"id\":\"3747dbf4-1f4a-4c7b-a53d-1a372ef604e5\",\"type\":\"ResetTool\"},{\"id\":\"992c1059-7ea7-4523-a98e-1340e9a72ab4\",\"type\":\"HelpTool\"}]},\"id\":\"018c6f37-50e8-4a94-8013-9d631eb2fcae\",\"type\":\"Toolbar\"},{\"attributes\":{\"plot\":{\"id\":\"61ca6dc6-5e11-4039-ba71-56b15c062eee\",\"subtype\":\"Chart\",\"type\":\"Plot\"}},\"id\":\"1e21abcd-d9e8-4f6a-ac1f-c202f1f46085\",\"type\":\"HelpTool\"},{\"attributes\":{\"data_source\":{\"id\":\"0db05aa1-d77a-4df3-af5c-e314b130e3df\",\"type\":\"ColumnDataSource\"},\"glyph\":{\"id\":\"b501652d-54e9-4334-aff2-413b70f2a95f\",\"type\":\"Rect\"},\"hover_glyph\":null,\"nonselection_glyph\":null,\"selection_glyph\":null},\"id\":\"589b9cd0-a8df-4512-99fb-30d04af67b6a\",\"type\":\"GlyphRenderer\"},{\"attributes\":{\"data_source\":{\"id\":\"5790ec0f-031c-4e1c-b5b9-5d396fd5037c\",\"type\":\"ColumnDataSource\"},\"glyph\":{\"id\":\"e19c5234-43bf-4f11-bb0e-58d5a8c7bde9\",\"type\":\"Rect\"},\"hover_glyph\":null,\"nonselection_glyph\":null,\"selection_glyph\":null},\"id\":\"9f29ca0b-cb5a-4e5b-bb3e-572c2bc8237c\",\"type\":\"GlyphRenderer\"},{\"attributes\":{\"fill_alpha\":{\"field\":\"fill_alpha\"},\"fill_color\":{\"field\":\"color\"},\"height\":{\"field\":\"height\",\"units\":\"data\"},\"line_color\":{\"field\":\"line_color\"},\"width\":{\"field\":\"width\",\"units\":\"data\"},\"x\":{\"field\":\"x\"},\"y\":{\"field\":\"y\"}},\"id\":\"4f2153f5-ebcc-4c76-81f5-0fdd9a0add0a\",\"type\":\"Rect\"},{\"attributes\":{},\"id\":\"7f845db2-c3be-4239-988c-dc5c8b111d87\",\"type\":\"BasicTickFormatter\"},{\"attributes\":{\"fill_alpha\":{\"field\":\"fill_alpha\"},\"fill_color\":{\"field\":\"color\"},\"height\":{\"field\":\"height\",\"units\":\"data\"},\"line_color\":{\"field\":\"line_color\"},\"width\":{\"field\":\"width\",\"units\":\"data\"},\"x\":{\"field\":\"x\"},\"y\":{\"field\":\"y\"}},\"id\":\"ef5b3a91-effe-4412-aed6-3e2706d5fc34\",\"type\":\"Rect\"},{\"attributes\":{\"active_drag\":\"auto\",\"active_scroll\":\"auto\",\"active_tap\":\"auto\",\"tools\":[{\"id\":\"1d4a9270-5e8d-45d3-a0ce-354abd9db1f2\",\"type\":\"PanTool\"},{\"id\":\"6f36dd7e-9f38-494d-b37e-d8260673a912\",\"type\":\"WheelZoomTool\"},{\"id\":\"578bf068-14ec-4345-84ad-1f4cc7de0dd4\",\"type\":\"BoxZoomTool\"},{\"id\":\"cb05c6a8-e945-4dcb-acef-4134ff17601b\",\"type\":\"SaveTool\"},{\"id\":\"cbea1fbf-3fe4-4329-a691-17ead23b3c58\",\"type\":\"ResetTool\"},{\"id\":\"948f491a-cad4-4af7-8ab3-bfe7f8693d86\",\"type\":\"HelpTool\"}]},\"id\":\"f2025c7b-6f6b-45e9-97f7-17163aa68cd8\",\"type\":\"Toolbar\"},{\"attributes\":{\"formatter\":{\"id\":\"3118fa6d-8fe7-4b5a-8b18-0f2c6432758e\",\"type\":\"BasicTickFormatter\"},\"plot\":{\"id\":\"61ca6dc6-5e11-4039-ba71-56b15c062eee\",\"subtype\":\"Chart\",\"type\":\"Plot\"},\"ticker\":{\"id\":\"318d1707-bb7d-4d71-ac76-1ae75dfdf756\",\"type\":\"BasicTicker\"}},\"id\":\"4cc316d0-12f1-470b-9c42-9b7155a987ec\",\"type\":\"LinearAxis\"},{\"attributes\":{\"data_source\":{\"id\":\"2b44fd81-e284-490f-9b51-6525c1f1a287\",\"type\":\"ColumnDataSource\"},\"glyph\":{\"id\":\"f0ae717e-9121-4681-9409-8b811ffb3915\",\"type\":\"Rect\"},\"hover_glyph\":null,\"nonselection_glyph\":null,\"selection_glyph\":null},\"id\":\"e799033f-0db7-47fb-af3f-bf3e3dd43be0\",\"type\":\"GlyphRenderer\"},{\"attributes\":{\"callback\":null,\"column_names\":[\"line_color\",\"line_alpha\",\"color\",\"fill_alpha\",\"height\",\"width\",\"y\",\"x\",\"label\"],\"data\":{\"chart_index\":[{\"index\":2}],\"color\":[\"crimson\"],\"fill_alpha\":[0.8],\"height\":[2388.0],\"index\":[2],\"label\":[{\"index\":2}],\"line_alpha\":[1.0],\"line_color\":[\"white\"],\"width\":[0.8],\"x\":[\"2\"],\"y\":[1194.0]}},\"id\":\"2b44fd81-e284-490f-9b51-6525c1f1a287\",\"type\":\"ColumnDataSource\"},{\"attributes\":{\"data_source\":{\"id\":\"275b35b8-52d7-4d7a-82a7-a96553a5f248\",\"type\":\"ColumnDataSource\"},\"glyph\":{\"id\":\"c02bca94-8901-4018-a2b9-bd8d1b30f1db\",\"type\":\"Rect\"},\"hover_glyph\":null,\"nonselection_glyph\":null,\"selection_glyph\":null},\"id\":\"f55341a6-9953-49af-bf1c-26ca405549b9\",\"type\":\"GlyphRenderer\"},{\"attributes\":{\"data_source\":{\"id\":\"56da4fe1-a79a-4e98-bb57-1cd28b02bbf1\",\"type\":\"ColumnDataSource\"},\"glyph\":{\"id\":\"cc442ca0-aece-4f30-93af-c8c612c3e0b5\",\"type\":\"Rect\"},\"hover_glyph\":null,\"nonselection_glyph\":null,\"selection_glyph\":null},\"id\":\"ae59637d-6c61-4814-8770-9ab1d0af3485\",\"type\":\"GlyphRenderer\"},{\"attributes\":{\"plot\":null,\"text\":\" Promotion Last 5Years Stats\"},\"id\":\"3aeda6e2-a4ca-4d6b-87d6-e70408de88c4\",\"type\":\"Title\"},{\"attributes\":{},\"id\":\"9bd6b881-5168-4735-906a-e12af2eb8f0c\",\"type\":\"BasicTickFormatter\"},{\"attributes\":{\"fill_alpha\":{\"field\":\"fill_alpha\"},\"fill_color\":{\"field\":\"color\"},\"height\":{\"field\":\"height\",\"units\":\"data\"},\"line_color\":{\"field\":\"line_color\"},\"width\":{\"field\":\"width\",\"units\":\"data\"},\"x\":{\"field\":\"x\"},\"y\":{\"field\":\"y\"}},\"id\":\"cc442ca0-aece-4f30-93af-c8c612c3e0b5\",\"type\":\"Rect\"},{\"attributes\":{\"dimension\":1,\"plot\":{\"id\":\"6686963d-76f6-4baa-8a06-cc0bbe4e96e7\",\"subtype\":\"Chart\",\"type\":\"Plot\"},\"ticker\":{\"id\":\"4d66d47f-c352-499e-9cec-bb321d07d5bd\",\"type\":\"BasicTicker\"}},\"id\":\"bca1a233-24dc-4313-9156-04261198a37d\",\"type\":\"Grid\"},{\"attributes\":{\"active_drag\":\"auto\",\"active_scroll\":\"auto\",\"active_tap\":\"auto\",\"tools\":[{\"id\":\"f82ce483-792c-41ee-99f4-f2fed9a9b863\",\"type\":\"PanTool\"},{\"id\":\"4d76ebf2-3559-4e79-a91e-861a8a399a1e\",\"type\":\"WheelZoomTool\"},{\"id\":\"e205177c-eed7-472e-a916-4152eee2ab33\",\"type\":\"BoxZoomTool\"},{\"id\":\"e89f69a1-6991-4981-9153-c23b9cf723d9\",\"type\":\"SaveTool\"},{\"id\":\"ea8d6e83-1e0d-4aa5-b680-ea5ce2b439b2\",\"type\":\"ResetTool\"},{\"id\":\"8dd4654c-5b89-4ef1-9e97-f3fdc641fca2\",\"type\":\"HelpTool\"}]},\"id\":\"c7947144-e735-42c7-8bdf-adda3f320308\",\"type\":\"Toolbar\"},{\"attributes\":{\"plot\":{\"id\":\"ae45d7d0-6ffc-4830-af34-1d7c7231255b\",\"subtype\":\"Chart\",\"type\":\"Plot\"}},\"id\":\"52950ab4-1f44-414b-89f1-3b01d1180b56\",\"type\":\"SaveTool\"},{\"attributes\":{\"plot\":{\"id\":\"61ca6dc6-5e11-4039-ba71-56b15c062eee\",\"subtype\":\"Chart\",\"type\":\"Plot\"}},\"id\":\"5909b1db-f119-4f75-a621-18b5dc184cd5\",\"type\":\"WheelZoomTool\"},{\"attributes\":{\"data_source\":{\"id\":\"c216bef8-6244-4c7b-9169-e5a646664fb9\",\"type\":\"ColumnDataSource\"},\"glyph\":{\"id\":\"8d62031f-d13f-4924-87ad-9863e9a2b8e8\",\"type\":\"Rect\"},\"hover_glyph\":null,\"nonselection_glyph\":null,\"selection_glyph\":null},\"id\":\"ec34b618-357a-48cf-9d92-d3da08ac319b\",\"type\":\"GlyphRenderer\"},{\"attributes\":{\"callback\":null,\"column_names\":[\"line_color\",\"line_alpha\",\"color\",\"fill_alpha\",\"height\",\"width\",\"y\",\"x\",\"label\"],\"data\":{\"chart_index\":[{\"index\":\"support\"}],\"color\":[\"crimson\"],\"fill_alpha\":[0.8],\"height\":[2229.0],\"index\":[\"support\"],\"label\":[{\"index\":\"support\"}],\"line_alpha\":[1.0],\"line_color\":[\"white\"],\"width\":[0.8],\"x\":[\"support\"],\"y\":[1114.5]}},\"id\":\"c765fe8d-710b-4813-b632-082b2980d8fc\",\"type\":\"ColumnDataSource\"},{\"attributes\":{\"fill_alpha\":{\"field\":\"fill_alpha\"},\"fill_color\":{\"field\":\"color\"},\"height\":{\"field\":\"height\",\"units\":\"data\"},\"line_color\":{\"field\":\"line_color\"},\"width\":{\"field\":\"width\",\"units\":\"data\"},\"x\":{\"field\":\"x\"},\"y\":{\"field\":\"y\"}},\"id\":\"91e76709-6a23-44d3-88ca-20d6ff1d6acf\",\"type\":\"Rect\"},{\"attributes\":{\"data_source\":{\"id\":\"f2997d9f-8e62-4fa7-85ac-9ddf293fbb97\",\"type\":\"ColumnDataSource\"},\"glyph\":{\"id\":\"af11b2c3-3a5d-4a4c-9036-d7440c207880\",\"type\":\"Rect\"},\"hover_glyph\":null,\"nonselection_glyph\":null,\"selection_glyph\":null},\"id\":\"a7d7d762-0192-46e8-af6e-92e345517065\",\"type\":\"GlyphRenderer\"},{\"attributes\":{\"data_source\":{\"id\":\"45a97028-5569-4dfc-89a3-88371b2d96b5\",\"type\":\"ColumnDataSource\"},\"glyph\":{\"id\":\"c225952a-eb25-486e-a617-a9ecc3351c95\",\"type\":\"Rect\"},\"hover_glyph\":null,\"nonselection_glyph\":null,\"selection_glyph\":null},\"id\":\"a6397e80-afb8-4bab-8bb3-49338dc11352\",\"type\":\"GlyphRenderer\"},{\"attributes\":{\"callback\":null,\"end\":4347.0},\"id\":\"7a555e65-af2e-4d26-b383-1637127eecf1\",\"type\":\"Range1d\"},{\"attributes\":{\"fill_alpha\":{\"field\":\"fill_alpha\"},\"fill_color\":{\"field\":\"color\"},\"height\":{\"field\":\"height\",\"units\":\"data\"},\"line_color\":{\"field\":\"line_color\"},\"width\":{\"field\":\"width\",\"units\":\"data\"},\"x\":{\"field\":\"x\"},\"y\":{\"field\":\"y\"}},\"id\":\"22a343ee-81ae-4af9-828d-3822c41849c0\",\"type\":\"Rect\"},{\"attributes\":{\"data_source\":{\"id\":\"63a1d0b4-f9f7-42df-891b-54074724b90d\",\"type\":\"ColumnDataSource\"},\"glyph\":{\"id\":\"d9f053a1-c58b-44c5-bc65-31c7ea9543e0\",\"type\":\"Rect\"},\"hover_glyph\":null,\"nonselection_glyph\":null,\"selection_glyph\":null},\"id\":\"62afea32-d7e9-4914-9aef-1b979e5eb409\",\"type\":\"GlyphRenderer\"},{\"attributes\":{},\"id\":\"72e142ed-dc87-4431-84e0-2ce23a48f729\",\"type\":\"CategoricalTickFormatter\"},{\"attributes\":{\"plot\":{\"id\":\"be1ee5e7-6cb4-4389-af4a-e838824a81ee\",\"subtype\":\"Chart\",\"type\":\"Plot\"}},\"id\":\"6db84de3-5ed2-477e-a3b8-4082708f0f55\",\"type\":\"WheelZoomTool\"},{\"attributes\":{\"plot\":{\"id\":\"be1ee5e7-6cb4-4389-af4a-e838824a81ee\",\"subtype\":\"Chart\",\"type\":\"Plot\"}},\"id\":\"65d82196-74df-4c13-bb68-f7127da4272e\",\"type\":\"PanTool\"},{\"attributes\":{\"formatter\":{\"id\":\"0794b221-c405-4d3c-aa27-ff40bfe5e796\",\"type\":\"BasicTickFormatter\"},\"plot\":{\"id\":\"6686963d-76f6-4baa-8a06-cc0bbe4e96e7\",\"subtype\":\"Chart\",\"type\":\"Plot\"},\"ticker\":{\"id\":\"4d66d47f-c352-499e-9cec-bb321d07d5bd\",\"type\":\"BasicTicker\"}},\"id\":\"95296c72-1210-4212-9921-79377ed54db3\",\"type\":\"LinearAxis\"},{\"attributes\":{\"fill_alpha\":{\"field\":\"fill_alpha\"},\"fill_color\":{\"field\":\"color\"},\"height\":{\"field\":\"height\",\"units\":\"data\"},\"line_color\":{\"field\":\"line_color\"},\"width\":{\"field\":\"width\",\"units\":\"data\"},\"x\":{\"field\":\"x\"},\"y\":{\"field\":\"y\"}},\"id\":\"af11b2c3-3a5d-4a4c-9036-d7440c207880\",\"type\":\"Rect\"},{\"attributes\":{\"callback\":null,\"column_names\":[\"line_color\",\"line_alpha\",\"color\",\"fill_alpha\",\"height\",\"width\",\"y\",\"x\",\"label\"],\"data\":{\"chart_index\":[{\"index\":5}],\"color\":[\"crimson\"],\"fill_alpha\":[0.8],\"height\":[2761.0],\"index\":[5],\"label\":[{\"index\":5}],\"line_alpha\":[1.0],\"line_color\":[\"white\"],\"width\":[0.8],\"x\":[\"5\"],\"y\":[1380.5]}},\"id\":\"e5d995d4-2d97-447f-a208-313168dead90\",\"type\":\"ColumnDataSource\"},{\"attributes\":{\"data_source\":{\"id\":\"dafea2a7-6e66-4d23-bc49-7a32d20c6700\",\"type\":\"ColumnDataSource\"},\"glyph\":{\"id\":\"1aea9549-567f-4be5-9197-b82aa8ceac1d\",\"type\":\"Rect\"},\"hover_glyph\":null,\"nonselection_glyph\":null,\"selection_glyph\":null},\"id\":\"d5613d9a-4133-4afb-823e-616675509637\",\"type\":\"GlyphRenderer\"},{\"attributes\":{\"callback\":null,\"factors\":[\"0\",\"1\"]},\"id\":\"91ea6a1b-fba7-4385-b880-bf9a286a4e6d\",\"type\":\"FactorRange\"},{\"attributes\":{\"fill_alpha\":{\"field\":\"fill_alpha\"},\"fill_color\":{\"field\":\"color\"},\"height\":{\"field\":\"height\",\"units\":\"data\"},\"line_color\":{\"field\":\"line_color\"},\"width\":{\"field\":\"width\",\"units\":\"data\"},\"x\":{\"field\":\"x\"},\"y\":{\"field\":\"y\"}},\"id\":\"8d62031f-d13f-4924-87ad-9863e9a2b8e8\",\"type\":\"Rect\"},{\"attributes\":{\"callback\":null,\"end\":11999.4},\"id\":\"9371d075-293e-4f75-b767-9d9a8c2fd32d\",\"type\":\"Range1d\"},{\"attributes\":{\"formatter\":{\"id\":\"72e142ed-dc87-4431-84e0-2ce23a48f729\",\"type\":\"CategoricalTickFormatter\"},\"major_label_orientation\":0.7853981633974483,\"plot\":{\"id\":\"ae0c6a49-43b9-4561-aa29-8240ce4d5538\",\"subtype\":\"Chart\",\"type\":\"Plot\"},\"ticker\":{\"id\":\"c6f93610-fd40-4f0a-a6d0-df2331de9454\",\"type\":\"CategoricalTicker\"}},\"id\":\"79639441-9a99-4eb4-8ac4-1c52adc2198a\",\"type\":\"CategoricalAxis\"},{\"attributes\":{\"plot\":{\"id\":\"ae45d7d0-6ffc-4830-af34-1d7c7231255b\",\"subtype\":\"Chart\",\"type\":\"Plot\"}},\"id\":\"7b209a8a-3377-4146-adcc-9b8775d2f560\",\"type\":\"WheelZoomTool\"},{\"attributes\":{\"overlay\":{\"id\":\"d10b1d7c-a58c-401c-9a7a-eb39b7fad645\",\"type\":\"BoxAnnotation\"},\"plot\":{\"id\":\"72e90c0c-34bf-4572-9aa6-c798e2ab0e52\",\"subtype\":\"Chart\",\"type\":\"Plot\"}},\"id\":\"578bf068-14ec-4345-84ad-1f4cc7de0dd4\",\"type\":\"BoxZoomTool\"},{\"attributes\":{\"plot\":{\"id\":\"c6badb9a-8969-4b48-b1da-e7e24c589553\",\"subtype\":\"Chart\",\"type\":\"Plot\"}},\"id\":\"7693a5bb-d282-4563-b3be-702779cc9e15\",\"type\":\"WheelZoomTool\"},{\"attributes\":{\"fill_alpha\":{\"field\":\"fill_alpha\"},\"fill_color\":{\"field\":\"color\"},\"height\":{\"field\":\"height\",\"units\":\"data\"},\"line_color\":{\"field\":\"line_color\"},\"width\":{\"field\":\"width\",\"units\":\"data\"},\"x\":{\"field\":\"x\"},\"y\":{\"field\":\"y\"}},\"id\":\"3ca49006-53a3-4b77-86de-a860c9dbaac0\",\"type\":\"Rect\"},{\"attributes\":{\"fill_alpha\":{\"field\":\"fill_alpha\"},\"fill_color\":{\"field\":\"color\"},\"height\":{\"field\":\"height\",\"units\":\"data\"},\"line_color\":{\"field\":\"line_color\"},\"width\":{\"field\":\"width\",\"units\":\"data\"},\"x\":{\"field\":\"x\"},\"y\":{\"field\":\"y\"}},\"id\":\"a42497af-6549-4f35-8bb9-6a45d5bb819d\",\"type\":\"Rect\"},{\"attributes\":{\"plot\":null,\"text\":\" Salary Stats\"},\"id\":\"168693b1-2f6b-495f-bd08-7c98e2c3cc87\",\"type\":\"Title\"},{\"attributes\":{\"callback\":null,\"column_names\":[\"line_color\",\"line_alpha\",\"color\",\"fill_alpha\",\"height\",\"width\",\"y\",\"x\",\"label\"],\"data\":{\"chart_index\":[{\"index\":0}],\"color\":[\"crimson\"],\"fill_alpha\":[0.8],\"height\":[14680.0],\"index\":[0],\"label\":[{\"index\":0}],\"line_alpha\":[1.0],\"line_color\":[\"white\"],\"width\":[0.8],\"x\":[\"0\"],\"y\":[7340.0]}},\"id\":\"c79eb330-2b90-4c2b-aea9-f31adeccaef0\",\"type\":\"ColumnDataSource\"},{\"attributes\":{\"overlay\":{\"id\":\"2bc11238-9faa-4d85-a5c3-08a82b7cf0c3\",\"type\":\"BoxAnnotation\"},\"plot\":{\"id\":\"c6badb9a-8969-4b48-b1da-e7e24c589553\",\"subtype\":\"Chart\",\"type\":\"Plot\"}},\"id\":\"96bcb35c-4f25-4a6e-a251-4e35372678a7\",\"type\":\"BoxZoomTool\"},{\"attributes\":{\"fill_alpha\":{\"field\":\"fill_alpha\"},\"fill_color\":{\"field\":\"color\"},\"height\":{\"field\":\"height\",\"units\":\"data\"},\"line_color\":{\"field\":\"line_color\"},\"width\":{\"field\":\"width\",\"units\":\"data\"},\"x\":{\"field\":\"x\"},\"y\":{\"field\":\"y\"}},\"id\":\"0ed1c62d-f2ed-4709-87d5-83d2770269e9\",\"type\":\"Rect\"},{\"attributes\":{},\"id\":\"88dfa5b1-ab1a-4fb9-86dd-713766750095\",\"type\":\"BasicTicker\"},{\"attributes\":{\"callback\":null,\"column_names\":[\"line_color\",\"line_alpha\",\"color\",\"fill_alpha\",\"height\",\"width\",\"y\",\"x\",\"label\"],\"data\":{\"chart_index\":[{\"index\":7}],\"color\":[\"crimson\"],\"fill_alpha\":[0.8],\"height\":[256.0],\"index\":[7],\"label\":[{\"index\":7}],\"line_alpha\":[1.0],\"line_color\":[\"white\"],\"width\":[0.8],\"x\":[\"7\"],\"y\":[128.0]}},\"id\":\"12efda74-01bd-499a-9dc0-076eac09aa93\",\"type\":\"ColumnDataSource\"},{\"attributes\":{\"callback\":null,\"factors\":[\"0\",\"1\"]},\"id\":\"b3621f6a-25ce-415b-9c55-73e4e77024d6\",\"type\":\"FactorRange\"},{\"attributes\":{\"plot\":{\"id\":\"72e90c0c-34bf-4572-9aa6-c798e2ab0e52\",\"subtype\":\"Chart\",\"type\":\"Plot\"}},\"id\":\"cbea1fbf-3fe4-4329-a691-17ead23b3c58\",\"type\":\"ResetTool\"},{\"attributes\":{\"plot\":{\"id\":\"61ca6dc6-5e11-4039-ba71-56b15c062eee\",\"subtype\":\"Chart\",\"type\":\"Plot\"}},\"id\":\"4862a2da-3089-4ef9-9dc4-989787cee3eb\",\"type\":\"ResetTool\"},{\"attributes\":{\"data_source\":{\"id\":\"d8911ecb-d258-4576-80b2-3ca41bc01d61\",\"type\":\"ColumnDataSource\"},\"glyph\":{\"id\":\"ef5b3a91-effe-4412-aed6-3e2706d5fc34\",\"type\":\"Rect\"},\"hover_glyph\":null,\"nonselection_glyph\":null,\"selection_glyph\":null},\"id\":\"cc059b1e-e514-4d36-a6a7-ed4964f6c7cb\",\"type\":\"GlyphRenderer\"},{\"attributes\":{\"fill_alpha\":{\"field\":\"fill_alpha\"},\"fill_color\":{\"field\":\"color\"},\"height\":{\"field\":\"height\",\"units\":\"data\"},\"line_color\":{\"field\":\"line_color\"},\"width\":{\"field\":\"width\",\"units\":\"data\"},\"x\":{\"field\":\"x\"},\"y\":{\"field\":\"y\"}},\"id\":\"8a83aa25-ddee-4cf6-9432-a4b8961f2cc6\",\"type\":\"Rect\"},{\"attributes\":{\"plot\":{\"id\":\"6686963d-76f6-4baa-8a06-cc0bbe4e96e7\",\"subtype\":\"Chart\",\"type\":\"Plot\"}},\"id\":\"f82ce483-792c-41ee-99f4-f2fed9a9b863\",\"type\":\"PanTool\"},{\"attributes\":{\"children\":[{\"id\":\"f8f9b7d8-041c-4326-9497-f9702c6b3096\",\"type\":\"Row\"},{\"id\":\"181fd199-2e59-4934-a506-6e9b8b97645b\",\"type\":\"Row\"},{\"id\":\"58d48aeb-0e15-4db4-80a7-1dfe114cb3ca\",\"type\":\"Row\"}]},\"id\":\"3eb3237c-d449-4f8e-8a11-f5dde4606415\",\"type\":\"Column\"},{\"attributes\":{\"below\":[{\"id\":\"2d7b127f-dca7-4208-a4b1-fe6064e8a1b3\",\"type\":\"CategoricalAxis\"}],\"left\":[{\"id\":\"15d840ee-168b-429f-b4da-c7fb5d515c97\",\"type\":\"LinearAxis\"}],\"plot_height\":200,\"plot_width\":300,\"renderers\":[{\"id\":\"d10b1d7c-a58c-401c-9a7a-eb39b7fad645\",\"type\":\"BoxAnnotation\"},{\"id\":\"dee4864e-b4ec-498d-b657-364610082795\",\"type\":\"GlyphRenderer\"},{\"id\":\"844e05e9-15f2-4ad4-b0a9-c05200d56470\",\"type\":\"GlyphRenderer\"},{\"id\":\"589b9cd0-a8df-4512-99fb-30d04af67b6a\",\"type\":\"GlyphRenderer\"},{\"id\":\"4fa82c4f-26e9-4b7e-ad2c-5af89e61da9f\",\"type\":\"GlyphRenderer\"},{\"id\":\"f004de5f-42a9-4d7b-8464-6dc7683e5b99\",\"type\":\"GlyphRenderer\"},{\"id\":\"a6397e80-afb8-4bab-8bb3-49338dc11352\",\"type\":\"GlyphRenderer\"},{\"id\":\"ae59637d-6c61-4814-8770-9ab1d0af3485\",\"type\":\"GlyphRenderer\"},{\"id\":\"ee42bb2f-ff38-4b98-975b-2d21f803217d\",\"type\":\"GlyphRenderer\"},{\"id\":\"d5613d9a-4133-4afb-823e-616675509637\",\"type\":\"GlyphRenderer\"},{\"id\":\"a1f6fc21-4541-49d0-b2ea-89ce2ed74ada\",\"type\":\"GlyphRenderer\"},{\"id\":\"2d7b127f-dca7-4208-a4b1-fe6064e8a1b3\",\"type\":\"CategoricalAxis\"},{\"id\":\"15d840ee-168b-429f-b4da-c7fb5d515c97\",\"type\":\"LinearAxis\"},{\"id\":\"ef7dc013-c878-453f-b612-d9e9d88e964b\",\"type\":\"Grid\"}],\"title\":{\"id\":\"e78b5917-d505-4cea-8e55-53eea32ef2d1\",\"type\":\"Title\"},\"tool_events\":{\"id\":\"7a07d1f2-9d12-4879-aa71-9ee06e18a019\",\"type\":\"ToolEvents\"},\"toolbar\":{\"id\":\"f2025c7b-6f6b-45e9-97f7-17163aa68cd8\",\"type\":\"Toolbar\"},\"toolbar_location\":null,\"x_mapper_type\":\"auto\",\"x_range\":{\"id\":\"18e8dea2-babc-4391-bc1c-ae9c284ebbaa\",\"type\":\"FactorRange\"},\"y_mapper_type\":\"auto\",\"y_range\":{\"id\":\"7a555e65-af2e-4d26-b383-1637127eecf1\",\"type\":\"Range1d\"}},\"id\":\"72e90c0c-34bf-4572-9aa6-c798e2ab0e52\",\"subtype\":\"Chart\",\"type\":\"Plot\"},{\"attributes\":{\"fill_alpha\":{\"field\":\"fill_alpha\"},\"fill_color\":{\"field\":\"color\"},\"height\":{\"field\":\"height\",\"units\":\"data\"},\"line_color\":{\"field\":\"line_color\"},\"width\":{\"field\":\"width\",\"units\":\"data\"},\"x\":{\"field\":\"x\"},\"y\":{\"field\":\"y\"}},\"id\":\"675b76c5-146c-40f8-8b9f-dcddb4e7e2ef\",\"type\":\"Rect\"},{\"attributes\":{\"callback\":null,\"end\":15414.0},\"id\":\"0fabbc0f-6c2a-40d5-bfa5-6683e7809b71\",\"type\":\"Range1d\"},{\"attributes\":{\"data_source\":{\"id\":\"5d008a15-6216-4002-ae73-d4fca6e20dbd\",\"type\":\"ColumnDataSource\"},\"glyph\":{\"id\":\"a5b71f0d-a4f3-4332-a840-99b2e355d98c\",\"type\":\"Rect\"},\"hover_glyph\":null,\"nonselection_glyph\":null,\"selection_glyph\":null},\"id\":\"4fa82c4f-26e9-4b7e-ad2c-5af89e61da9f\",\"type\":\"GlyphRenderer\"},{\"attributes\":{\"below\":[{\"id\":\"1c328329-40ae-416c-9c2b-366870714529\",\"type\":\"CategoricalAxis\"}],\"left\":[{\"id\":\"3167cda4-8f95-43e3-8bc0-e99d7cf90349\",\"type\":\"LinearAxis\"}],\"plot_height\":200,\"plot_width\":300,\"renderers\":[{\"id\":\"b414786e-0e20-4968-8007-76fc7f7b0e06\",\"type\":\"BoxAnnotation\"},{\"id\":\"d247a2d4-7df7-4929-abbb-82507f6f85bc\",\"type\":\"GlyphRenderer\"},{\"id\":\"ec34b618-357a-48cf-9d92-d3da08ac319b\",\"type\":\"GlyphRenderer\"},{\"id\":\"1c328329-40ae-416c-9c2b-366870714529\",\"type\":\"CategoricalAxis\"},{\"id\":\"3167cda4-8f95-43e3-8bc0-e99d7cf90349\",\"type\":\"LinearAxis\"},{\"id\":\"7e5ea099-ef61-4be2-ac71-b88f82158b34\",\"type\":\"Grid\"}],\"title\":{\"id\":\"3aeda6e2-a4ca-4d6b-87d6-e70408de88c4\",\"type\":\"Title\"},\"tool_events\":{\"id\":\"4c61c4f0-e921-491d-9e0c-eca7b9942488\",\"type\":\"ToolEvents\"},\"toolbar\":{\"id\":\"626b8beb-8fef-4111-9bc6-2a683ecff9d6\",\"type\":\"Toolbar\"},\"toolbar_location\":null,\"x_mapper_type\":\"auto\",\"x_range\":{\"id\":\"91ea6a1b-fba7-4385-b880-bf9a286a4e6d\",\"type\":\"FactorRange\"},\"y_mapper_type\":\"auto\",\"y_range\":{\"id\":\"0fabbc0f-6c2a-40d5-bfa5-6683e7809b71\",\"type\":\"Range1d\"}},\"id\":\"be1ee5e7-6cb4-4389-af4a-e838824a81ee\",\"subtype\":\"Chart\",\"type\":\"Plot\"},{\"attributes\":{\"fill_alpha\":{\"field\":\"fill_alpha\"},\"fill_color\":{\"field\":\"color\"},\"height\":{\"field\":\"height\",\"units\":\"data\"},\"line_color\":{\"field\":\"line_color\"},\"width\":{\"field\":\"width\",\"units\":\"data\"},\"x\":{\"field\":\"x\"},\"y\":{\"field\":\"y\"}},\"id\":\"75e2328c-a1b1-4e0e-9ff0-2c3ee947b79f\",\"type\":\"Rect\"},{\"attributes\":{\"fill_alpha\":{\"field\":\"fill_alpha\"},\"fill_color\":{\"field\":\"color\"},\"height\":{\"field\":\"height\",\"units\":\"data\"},\"line_color\":{\"field\":\"line_color\"},\"width\":{\"field\":\"width\",\"units\":\"data\"},\"x\":{\"field\":\"x\"},\"y\":{\"field\":\"y\"}},\"id\":\"b501652d-54e9-4334-aff2-413b70f2a95f\",\"type\":\"Rect\"},{\"attributes\":{\"fill_alpha\":{\"field\":\"fill_alpha\"},\"fill_color\":{\"field\":\"color\"},\"height\":{\"field\":\"height\",\"units\":\"data\"},\"line_color\":{\"field\":\"line_color\"},\"width\":{\"field\":\"width\",\"units\":\"data\"},\"x\":{\"field\":\"x\"},\"y\":{\"field\":\"y\"}},\"id\":\"ff299403-d687-4e03-a098-9b4803dbcdac\",\"type\":\"Rect\"},{\"attributes\":{},\"id\":\"7d494418-176d-4455-9ae6-d9a306ac1e20\",\"type\":\"BasicTickFormatter\"},{\"attributes\":{},\"id\":\"93f6ce3c-8731-4b51-a0e8-8ac5ef1a7edb\",\"type\":\"BasicTickFormatter\"},{\"attributes\":{\"below\":[{\"id\":\"d4f57cc6-15c2-415d-8521-edd39f1efd43\",\"type\":\"CategoricalAxis\"}],\"left\":[{\"id\":\"4cc316d0-12f1-470b-9c42-9b7155a987ec\",\"type\":\"LinearAxis\"}],\"plot_height\":200,\"plot_width\":300,\"renderers\":[{\"id\":\"0160bb45-582d-4f8d-9be7-0a7d53f1a14a\",\"type\":\"BoxAnnotation\"},{\"id\":\"e799033f-0db7-47fb-af3f-bf3e3dd43be0\",\"type\":\"GlyphRenderer\"},{\"id\":\"cc059b1e-e514-4d36-a6a7-ed4964f6c7cb\",\"type\":\"GlyphRenderer\"},{\"id\":\"5c0b6c7e-3829-4ea8-8eb1-ad2b766190a3\",\"type\":\"GlyphRenderer\"},{\"id\":\"7ed47162-94af-444b-b490-046e0232087c\",\"type\":\"GlyphRenderer\"},{\"id\":\"4d7de35c-33cb-4b9b-ac5a-df9ca254c4b4\",\"type\":\"GlyphRenderer\"},{\"id\":\"da07d3ce-00cb-43fc-b4ca-8d5cac642c74\",\"type\":\"GlyphRenderer\"},{\"id\":\"d4f57cc6-15c2-415d-8521-edd39f1efd43\",\"type\":\"CategoricalAxis\"},{\"id\":\"4cc316d0-12f1-470b-9c42-9b7155a987ec\",\"type\":\"LinearAxis\"},{\"id\":\"c2e47e21-13f7-4b36-817c-ff38233584ba\",\"type\":\"Grid\"}],\"title\":{\"id\":\"a0c87228-901e-4946-83dc-1ada89c13df9\",\"type\":\"Title\"},\"tool_events\":{\"id\":\"69a2de31-ded0-47c6-8e00-9c3e1f887aba\",\"type\":\"ToolEvents\"},\"toolbar\":{\"id\":\"4e7e7487-4bb9-4198-8cb7-8665d055ac6f\",\"type\":\"Toolbar\"},\"toolbar_location\":null,\"x_mapper_type\":\"auto\",\"x_range\":{\"id\":\"1643b10f-f27f-4492-b058-399d7755e758\",\"type\":\"FactorRange\"},\"y_mapper_type\":\"auto\",\"y_range\":{\"id\":\"4dacf7e1-5593-4d52-8e89-8aa5d755c58f\",\"type\":\"Range1d\"}},\"id\":\"61ca6dc6-5e11-4039-ba71-56b15c062eee\",\"subtype\":\"Chart\",\"type\":\"Plot\"},{\"attributes\":{\"active_drag\":\"auto\",\"active_scroll\":\"auto\",\"active_tap\":\"auto\",\"tools\":[{\"id\":\"d0367dcb-73f0-47ea-9520-0b013f8c83e3\",\"type\":\"PanTool\"},{\"id\":\"7b209a8a-3377-4146-adcc-9b8775d2f560\",\"type\":\"WheelZoomTool\"},{\"id\":\"29c9d356-2247-4710-ba62-e43a58610cc4\",\"type\":\"BoxZoomTool\"},{\"id\":\"52950ab4-1f44-414b-89f1-3b01d1180b56\",\"type\":\"SaveTool\"},{\"id\":\"29050a33-28d1-47dd-b4b4-8737f958035f\",\"type\":\"ResetTool\"},{\"id\":\"f3cbe2f6-0334-4790-8b6e-68943b05076e\",\"type\":\"HelpTool\"}]},\"id\":\"83342703-b317-451a-b13f-4ac04e348a70\",\"type\":\"Toolbar\"},{\"attributes\":{\"plot\":{\"id\":\"72e90c0c-34bf-4572-9aa6-c798e2ab0e52\",\"subtype\":\"Chart\",\"type\":\"Plot\"}},\"id\":\"1d4a9270-5e8d-45d3-a0ce-354abd9db1f2\",\"type\":\"PanTool\"},{\"attributes\":{\"plot\":{\"id\":\"c6badb9a-8969-4b48-b1da-e7e24c589553\",\"subtype\":\"Chart\",\"type\":\"Plot\"}},\"id\":\"08efc5b4-f97f-4a5e-9c59-f50cebf0d064\",\"type\":\"SaveTool\"},{\"attributes\":{\"data_source\":{\"id\":\"c765fe8d-710b-4813-b632-082b2980d8fc\",\"type\":\"ColumnDataSource\"},\"glyph\":{\"id\":\"4f2153f5-ebcc-4c76-81f5-0fdd9a0add0a\",\"type\":\"Rect\"},\"hover_glyph\":null,\"nonselection_glyph\":null,\"selection_glyph\":null},\"id\":\"f004de5f-42a9-4d7b-8464-6dc7683e5b99\",\"type\":\"GlyphRenderer\"},{\"attributes\":{\"data_source\":{\"id\":\"12efda74-01bd-499a-9dc0-076eac09aa93\",\"type\":\"ColumnDataSource\"},\"glyph\":{\"id\":\"0005d148-fd79-4b5c-8506-839344c04472\",\"type\":\"Rect\"},\"hover_glyph\":null,\"nonselection_glyph\":null,\"selection_glyph\":null},\"id\":\"da07d3ce-00cb-43fc-b4ca-8d5cac642c74\",\"type\":\"GlyphRenderer\"},{\"attributes\":{\"overlay\":{\"id\":\"950bb819-9af6-4518-82e3-ad5238fe4e17\",\"type\":\"BoxAnnotation\"},\"plot\":{\"id\":\"ae0c6a49-43b9-4561-aa29-8240ce4d5538\",\"subtype\":\"Chart\",\"type\":\"Plot\"}},\"id\":\"1e108ce6-55bc-47a8-a43d-1964b5ae95ce\",\"type\":\"BoxZoomTool\"},{\"attributes\":{\"data_source\":{\"id\":\"ea434453-5fb2-4c55-9b3f-5e696b3ee95f\",\"type\":\"ColumnDataSource\"},\"glyph\":{\"id\":\"675b76c5-146c-40f8-8b9f-dcddb4e7e2ef\",\"type\":\"Rect\"},\"hover_glyph\":null,\"nonselection_glyph\":null,\"selection_glyph\":null},\"id\":\"b87461cd-f5be-4f56-8b8d-aaa5e92daa57\",\"type\":\"GlyphRenderer\"},{\"attributes\":{\"fill_alpha\":{\"field\":\"fill_alpha\"},\"fill_color\":{\"field\":\"color\"},\"height\":{\"field\":\"height\",\"units\":\"data\"},\"line_color\":{\"field\":\"line_color\"},\"width\":{\"field\":\"width\",\"units\":\"data\"},\"x\":{\"field\":\"x\"},\"y\":{\"field\":\"y\"}},\"id\":\"57e63013-aa3c-4460-a6f2-b94d6b28896b\",\"type\":\"Rect\"},{\"attributes\":{\"callback\":null,\"column_names\":[\"line_color\",\"line_alpha\",\"color\",\"fill_alpha\",\"height\",\"width\",\"y\",\"x\",\"label\"],\"data\":{\"chart_index\":[{\"index\":4}],\"color\":[\"crimson\"],\"fill_alpha\":[0.8],\"height\":[2557.0],\"index\":[4],\"label\":[{\"index\":4}],\"line_alpha\":[1.0],\"line_color\":[\"white\"],\"width\":[0.8],\"x\":[\"4\"],\"y\":[1278.5]}},\"id\":\"146aa079-9903-40b2-b0ef-d595156dbaa8\",\"type\":\"ColumnDataSource\"},{\"attributes\":{\"data_source\":{\"id\":\"df4958fe-b774-4e01-9b54-5d9e4de2087a\",\"type\":\"ColumnDataSource\"},\"glyph\":{\"id\":\"ff299403-d687-4e03-a098-9b4803dbcdac\",\"type\":\"Rect\"},\"hover_glyph\":null,\"nonselection_glyph\":null,\"selection_glyph\":null},\"id\":\"072b0b9a-9e02-468e-822f-25c181a3f2a6\",\"type\":\"GlyphRenderer\"},{\"attributes\":{\"data_source\":{\"id\":\"0ef2d6b1-a9da-4f68-a382-94542e0bc855\",\"type\":\"ColumnDataSource\"},\"glyph\":{\"id\":\"1239e593-312b-404c-adf0-7c0516c22735\",\"type\":\"Rect\"},\"hover_glyph\":null,\"nonselection_glyph\":null,\"selection_glyph\":null},\"id\":\"ee42bb2f-ff38-4b98-975b-2d21f803217d\",\"type\":\"GlyphRenderer\"},{\"attributes\":{\"fill_alpha\":{\"field\":\"fill_alpha\"},\"fill_color\":{\"field\":\"color\"},\"height\":{\"field\":\"height\",\"units\":\"data\"},\"line_color\":{\"field\":\"line_color\"},\"width\":{\"field\":\"width\",\"units\":\"data\"},\"x\":{\"field\":\"x\"},\"y\":{\"field\":\"y\"}},\"id\":\"0005d148-fd79-4b5c-8506-839344c04472\",\"type\":\"Rect\"},{\"attributes\":{\"formatter\":{\"id\":\"fac41947-ca21-4510-8e13-d640d4d411f0\",\"type\":\"CategoricalTickFormatter\"},\"major_label_orientation\":0.7853981633974483,\"plot\":{\"id\":\"be1ee5e7-6cb4-4389-af4a-e838824a81ee\",\"subtype\":\"Chart\",\"type\":\"Plot\"},\"ticker\":{\"id\":\"1bc4ecc2-045a-42d1-9697-bfb1cf33b7c5\",\"type\":\"CategoricalTicker\"}},\"id\":\"1c328329-40ae-416c-9c2b-366870714529\",\"type\":\"CategoricalAxis\"},{\"attributes\":{\"below\":[{\"id\":\"bdfc7c2a-e3fd-4d2e-87bb-262b704bbe6f\",\"type\":\"CategoricalAxis\"}],\"left\":[{\"id\":\"43c97fcd-6e74-4267-af5c-02ecc6e493ec\",\"type\":\"LinearAxis\"}],\"plot_height\":200,\"plot_width\":300,\"renderers\":[{\"id\":\"2bc11238-9faa-4d85-a5c3-08a82b7cf0c3\",\"type\":\"BoxAnnotation\"},{\"id\":\"9f29ca0b-cb5a-4e5b-bb3e-572c2bc8237c\",\"type\":\"GlyphRenderer\"},{\"id\":\"f55341a6-9953-49af-bf1c-26ca405549b9\",\"type\":\"GlyphRenderer\"},{\"id\":\"bdfc7c2a-e3fd-4d2e-87bb-262b704bbe6f\",\"type\":\"CategoricalAxis\"},{\"id\":\"43c97fcd-6e74-4267-af5c-02ecc6e493ec\",\"type\":\"LinearAxis\"},{\"id\":\"0e2ca63b-1688-48c1-bfbe-8da3e9254cb0\",\"type\":\"Grid\"}],\"title\":{\"id\":\"6c272780-ecd4-4fbe-8926-824b6ed11036\",\"type\":\"Title\"},\"tool_events\":{\"id\":\"39bd5b89-ac09-41a1-9aa4-184248db833f\",\"type\":\"ToolEvents\"},\"toolbar\":{\"id\":\"fbf5d065-87b1-4595-bbf1-3e684b73e38a\",\"type\":\"Toolbar\"},\"toolbar_location\":null,\"x_mapper_type\":\"auto\",\"x_range\":{\"id\":\"b3621f6a-25ce-415b-9c55-73e4e77024d6\",\"type\":\"FactorRange\"},\"y_mapper_type\":\"auto\",\"y_range\":{\"id\":\"3ecbb3fa-d6fb-4f79-a563-98d1d1c5f636\",\"type\":\"Range1d\"}},\"id\":\"c6badb9a-8969-4b48-b1da-e7e24c589553\",\"subtype\":\"Chart\",\"type\":\"Plot\"},{\"attributes\":{},\"id\":\"0ae600c0-9f6c-4a3a-b52f-41650ebe1d69\",\"type\":\"ToolEvents\"},{\"attributes\":{},\"id\":\"f8933ba4-e91e-452e-91ba-4daf675e16fe\",\"type\":\"BasicTicker\"},{\"attributes\":{\"bottom_units\":\"screen\",\"fill_alpha\":{\"value\":0.5},\"fill_color\":{\"value\":\"lightgrey\"},\"left_units\":\"screen\",\"level\":\"overlay\",\"line_alpha\":{\"value\":1.0},\"line_color\":{\"value\":\"black\"},\"line_dash\":[4,4],\"line_width\":{\"value\":2},\"plot\":null,\"render_mode\":\"css\",\"right_units\":\"screen\",\"top_units\":\"screen\"},\"id\":\"950bb819-9af6-4518-82e3-ad5238fe4e17\",\"type\":\"BoxAnnotation\"},{\"attributes\":{\"plot\":{\"id\":\"ae0c6a49-43b9-4561-aa29-8240ce4d5538\",\"subtype\":\"Chart\",\"type\":\"Plot\"}},\"id\":\"992c1059-7ea7-4523-a98e-1340e9a72ab4\",\"type\":\"HelpTool\"},{\"attributes\":{\"callback\":null,\"column_names\":[\"line_color\",\"line_alpha\",\"color\",\"fill_alpha\",\"height\",\"width\",\"y\",\"x\",\"label\"],\"data\":{\"chart_index\":[{\"index\":\"IT\"}],\"color\":[\"crimson\"],\"fill_alpha\":[0.8],\"height\":[1227.0],\"index\":[\"IT\"],\"label\":[{\"index\":\"IT\"}],\"line_alpha\":[1.0],\"line_color\":[\"white\"],\"width\":[0.8],\"x\":[\"IT\"],\"y\":[613.5]}},\"id\":\"0ef2d6b1-a9da-4f68-a382-94542e0bc855\",\"type\":\"ColumnDataSource\"},{\"attributes\":{\"data_source\":{\"id\":\"3fe00d8a-4856-4346-9402-ff3f29ab4525\",\"type\":\"ColumnDataSource\"},\"glyph\":{\"id\":\"22a343ee-81ae-4af9-828d-3822c41849c0\",\"type\":\"Rect\"},\"hover_glyph\":null,\"nonselection_glyph\":null,\"selection_glyph\":null},\"id\":\"16d7a2fb-43b1-4d96-b23a-36dbcdd5186f\",\"type\":\"GlyphRenderer\"},{\"attributes\":{},\"id\":\"59a644cf-f5da-4ea0-87da-bda2ccc205aa\",\"type\":\"CategoricalTicker\"},{\"attributes\":{\"callback\":null,\"column_names\":[\"line_color\",\"line_alpha\",\"color\",\"fill_alpha\",\"height\",\"width\",\"y\",\"x\",\"label\"],\"data\":{\"chart_index\":[{\"index\":6}],\"color\":[\"crimson\"],\"fill_alpha\":[0.8],\"height\":[718.0],\"index\":[6],\"label\":[{\"index\":6}],\"line_alpha\":[1.0],\"line_color\":[\"white\"],\"width\":[0.8],\"x\":[\"6\"],\"y\":[359.0]}},\"id\":\"f2997d9f-8e62-4fa7-85ac-9ddf293fbb97\",\"type\":\"ColumnDataSource\"},{\"attributes\":{\"callback\":null,\"column_names\":[\"line_color\",\"line_alpha\",\"color\",\"fill_alpha\",\"height\",\"width\",\"y\",\"x\",\"label\"],\"data\":{\"chart_index\":[{\"index\":4}],\"color\":[\"crimson\"],\"fill_alpha\":[0.8],\"height\":[4365.0],\"index\":[4],\"label\":[{\"index\":4}],\"line_alpha\":[1.0],\"line_color\":[\"white\"],\"width\":[0.8],\"x\":[\"4\"],\"y\":[2182.5]}},\"id\":\"4bad3bf9-240d-415a-86f9-6366d6f1313f\",\"type\":\"ColumnDataSource\"},{\"attributes\":{\"callback\":null,\"column_names\":[\"line_color\",\"line_alpha\",\"color\",\"fill_alpha\",\"height\",\"width\",\"y\",\"x\",\"label\"],\"data\":{\"chart_index\":[{\"index\":0}],\"color\":[\"crimson\"],\"fill_alpha\":[0.8],\"height\":[12830.0],\"index\":[0],\"label\":[{\"index\":0}],\"line_alpha\":[1.0],\"line_color\":[\"white\"],\"width\":[0.8],\"x\":[\"0\"],\"y\":[6415.0]}},\"id\":\"5790ec0f-031c-4e1c-b5b9-5d396fd5037c\",\"type\":\"ColumnDataSource\"},{\"attributes\":{},\"id\":\"a91938d4-0b4f-426c-8559-0801f8dd5e70\",\"type\":\"CategoricalTickFormatter\"},{\"attributes\":{\"plot\":{\"id\":\"61ca6dc6-5e11-4039-ba71-56b15c062eee\",\"subtype\":\"Chart\",\"type\":\"Plot\"}},\"id\":\"d2bf1b1c-38c8-426a-bd07-b94195efedea\",\"type\":\"SaveTool\"},{\"attributes\":{\"callback\":null,\"column_names\":[\"line_color\",\"line_alpha\",\"color\",\"fill_alpha\",\"height\",\"width\",\"y\",\"x\",\"label\"],\"data\":{\"chart_index\":[{\"index\":\"marketing\"}],\"color\":[\"crimson\"],\"fill_alpha\":[0.8],\"height\":[858.0],\"index\":[\"marketing\"],\"label\":[{\"index\":\"marketing\"}],\"line_alpha\":[1.0],\"line_color\":[\"white\"],\"width\":[0.8],\"x\":[\"marketing\"],\"y\":[429.0]}},\"id\":\"5d008a15-6216-4002-ae73-d4fca6e20dbd\",\"type\":\"ColumnDataSource\"},{\"attributes\":{\"children\":[{\"id\":\"61ca6dc6-5e11-4039-ba71-56b15c062eee\",\"subtype\":\"Chart\",\"type\":\"Plot\"},{\"id\":\"ae45d7d0-6ffc-4830-af34-1d7c7231255b\",\"subtype\":\"Chart\",\"type\":\"Plot\"},{\"id\":\"72e90c0c-34bf-4572-9aa6-c798e2ab0e52\",\"subtype\":\"Chart\",\"type\":\"Plot\"}]},\"id\":\"f8f9b7d8-041c-4326-9497-f9702c6b3096\",\"type\":\"Row\"},{\"attributes\":{\"active_drag\":\"auto\",\"active_scroll\":\"auto\",\"active_tap\":\"auto\",\"tools\":[{\"id\":\"65d82196-74df-4c13-bb68-f7127da4272e\",\"type\":\"PanTool\"},{\"id\":\"6db84de3-5ed2-477e-a3b8-4082708f0f55\",\"type\":\"WheelZoomTool\"},{\"id\":\"496dcf9a-e470-4f32-8dd5-efffc81b1b20\",\"type\":\"BoxZoomTool\"},{\"id\":\"9b009f26-3b82-4c66-bd1c-bcd95341a414\",\"type\":\"SaveTool\"},{\"id\":\"1d1b9a1a-2098-431a-b38f-7333bea9b860\",\"type\":\"ResetTool\"},{\"id\":\"30c59934-7848-464f-a713-6fc6fd025589\",\"type\":\"HelpTool\"}]},\"id\":\"626b8beb-8fef-4111-9bc6-2a683ecff9d6\",\"type\":\"Toolbar\"},{\"attributes\":{\"bottom_units\":\"screen\",\"fill_alpha\":{\"value\":0.5},\"fill_color\":{\"value\":\"lightgrey\"},\"left_units\":\"screen\",\"level\":\"overlay\",\"line_alpha\":{\"value\":1.0},\"line_color\":{\"value\":\"black\"},\"line_dash\":[4,4],\"line_width\":{\"value\":2},\"plot\":null,\"render_mode\":\"css\",\"right_units\":\"screen\",\"top_units\":\"screen\"},\"id\":\"2bc11238-9faa-4d85-a5c3-08a82b7cf0c3\",\"type\":\"BoxAnnotation\"},{\"attributes\":{\"data_source\":{\"id\":\"c79eb330-2b90-4c2b-aea9-f31adeccaef0\",\"type\":\"ColumnDataSource\"},\"glyph\":{\"id\":\"1abe092c-43db-4cee-a905-8afe233f3d66\",\"type\":\"Rect\"},\"hover_glyph\":null,\"nonselection_glyph\":null,\"selection_glyph\":null},\"id\":\"d247a2d4-7df7-4929-abbb-82507f6f85bc\",\"type\":\"GlyphRenderer\"},{\"attributes\":{\"callback\":null,\"column_names\":[\"line_color\",\"line_alpha\",\"color\",\"fill_alpha\",\"height\",\"width\",\"y\",\"x\",\"label\"],\"data\":{\"chart_index\":[{\"index\":1}],\"color\":[\"crimson\"],\"fill_alpha\":[0.8],\"height\":[3571.0],\"index\":[1],\"label\":[{\"index\":1}],\"line_alpha\":[1.0],\"line_color\":[\"white\"],\"width\":[0.8],\"x\":[\"1\"],\"y\":[1785.5]}},\"id\":\"df4958fe-b774-4e01-9b54-5d9e4de2087a\",\"type\":\"ColumnDataSource\"},{\"attributes\":{},\"id\":\"69a2de31-ded0-47c6-8e00-9c3e1f887aba\",\"type\":\"ToolEvents\"},{\"attributes\":{},\"id\":\"776fc45c-ebbf-4af8-a05c-8b59cf51b0a5\",\"type\":\"CategoricalTicker\"},{\"attributes\":{},\"id\":\"fa1fb85a-9550-4858-85f3-7a353a59a39d\",\"type\":\"BasicTicker\"},{\"attributes\":{\"callback\":null,\"column_names\":[\"line_color\",\"line_alpha\",\"color\",\"fill_alpha\",\"height\",\"width\",\"y\",\"x\",\"label\"],\"data\":{\"chart_index\":[{\"index\":\"RandD\"}],\"color\":[\"crimson\"],\"fill_alpha\":[0.8],\"height\":[787.0],\"index\":[\"RandD\"],\"label\":[{\"index\":\"RandD\"}],\"line_alpha\":[1.0],\"line_color\":[\"white\"],\"width\":[0.8],\"x\":[\"RandD\"],\"y\":[393.5]}},\"id\":\"56da4fe1-a79a-4e98-bb57-1cd28b02bbf1\",\"type\":\"ColumnDataSource\"},{\"attributes\":{\"callback\":null,\"factors\":[\"high\",\"low\",\"medium\"]},\"id\":\"35280994-6002-45a5-86ed-911073f26070\",\"type\":\"FactorRange\"},{\"attributes\":{\"fill_alpha\":{\"field\":\"fill_alpha\"},\"fill_color\":{\"field\":\"color\"},\"height\":{\"field\":\"height\",\"units\":\"data\"},\"line_color\":{\"field\":\"line_color\"},\"width\":{\"field\":\"width\",\"units\":\"data\"},\"x\":{\"field\":\"x\"},\"y\":{\"field\":\"y\"}},\"id\":\"a5b71f0d-a4f3-4332-a840-99b2e355d98c\",\"type\":\"Rect\"},{\"attributes\":{\"data_source\":{\"id\":\"29146cab-3db9-468b-80ef-bd396a365b8b\",\"type\":\"ColumnDataSource\"},\"glyph\":{\"id\":\"57e63013-aa3c-4460-a6f2-b94d6b28896b\",\"type\":\"Rect\"},\"hover_glyph\":null,\"nonselection_glyph\":null,\"selection_glyph\":null},\"id\":\"73333f69-7aa0-47e9-a424-e9dce7e37969\",\"type\":\"GlyphRenderer\"},{\"attributes\":{},\"id\":\"fe461c79-0382-49a6-bc18-4011305f5274\",\"type\":\"ToolEvents\"},{\"attributes\":{},\"id\":\"0794b221-c405-4d3c-aa27-ff40bfe5e796\",\"type\":\"BasicTickFormatter\"},{\"attributes\":{},\"id\":\"c6f93610-fd40-4f0a-a6d0-df2331de9454\",\"type\":\"CategoricalTicker\"},{\"attributes\":{},\"id\":\"4936594e-2980-4568-92eb-646cc97fa4af\",\"type\":\"CategoricalTickFormatter\"},{\"attributes\":{\"fill_alpha\":{\"field\":\"fill_alpha\"},\"fill_color\":{\"field\":\"color\"},\"height\":{\"field\":\"height\",\"units\":\"data\"},\"line_color\":{\"field\":\"line_color\"},\"width\":{\"field\":\"width\",\"units\":\"data\"},\"x\":{\"field\":\"x\"},\"y\":{\"field\":\"y\"}},\"id\":\"e19c5234-43bf-4f11-bb0e-58d5a8c7bde9\",\"type\":\"Rect\"},{\"attributes\":{\"fill_alpha\":{\"field\":\"fill_alpha\"},\"fill_color\":{\"field\":\"color\"},\"height\":{\"field\":\"height\",\"units\":\"data\"},\"line_color\":{\"field\":\"line_color\"},\"width\":{\"field\":\"width\",\"units\":\"data\"},\"x\":{\"field\":\"x\"},\"y\":{\"field\":\"y\"}},\"id\":\"2b73c46d-313d-4e1d-a747-5ba9a9ac922d\",\"type\":\"Rect\"},{\"attributes\":{\"data_source\":{\"id\":\"07566214-c8f4-44b3-bb71-4d8693f45eb1\",\"type\":\"ColumnDataSource\"},\"glyph\":{\"id\":\"19942fda-8a8c-4528-a1bb-9ec336a0c959\",\"type\":\"Rect\"},\"hover_glyph\":null,\"nonselection_glyph\":null,\"selection_glyph\":null},\"id\":\"a81e5724-3118-445c-9cde-bd241b15eeea\",\"type\":\"GlyphRenderer\"},{\"attributes\":{\"bottom_units\":\"screen\",\"fill_alpha\":{\"value\":0.5},\"fill_color\":{\"value\":\"lightgrey\"},\"left_units\":\"screen\",\"level\":\"overlay\",\"line_alpha\":{\"value\":1.0},\"line_color\":{\"value\":\"black\"},\"line_dash\":[4,4],\"line_width\":{\"value\":2},\"plot\":null,\"render_mode\":\"css\",\"right_units\":\"screen\",\"top_units\":\"screen\"},\"id\":\"d10b1d7c-a58c-401c-9a7a-eb39b7fad645\",\"type\":\"BoxAnnotation\"},{\"attributes\":{},\"id\":\"3118fa6d-8fe7-4b5a-8b18-0f2c6432758e\",\"type\":\"BasicTickFormatter\"},{\"attributes\":{},\"id\":\"fac41947-ca21-4510-8e13-d640d4d411f0\",\"type\":\"CategoricalTickFormatter\"},{\"attributes\":{\"data_source\":{\"id\":\"5ca40c99-a31d-48b4-8a56-7599c8536561\",\"type\":\"ColumnDataSource\"},\"glyph\":{\"id\":\"91e76709-6a23-44d3-88ca-20d6ff1d6acf\",\"type\":\"Rect\"},\"hover_glyph\":null,\"nonselection_glyph\":null,\"selection_glyph\":null},\"id\":\"4d7de35c-33cb-4b9b-ac5a-df9ca254c4b4\",\"type\":\"GlyphRenderer\"},{\"attributes\":{},\"id\":\"4d66d47f-c352-499e-9cec-bb321d07d5bd\",\"type\":\"BasicTicker\"},{\"attributes\":{\"plot\":null,\"text\":\" Number Project Stats\"},\"id\":\"a0c87228-901e-4946-83dc-1ada89c13df9\",\"type\":\"Title\"},{\"attributes\":{\"callback\":null,\"column_names\":[\"line_color\",\"line_alpha\",\"color\",\"fill_alpha\",\"height\",\"width\",\"y\",\"x\",\"label\"],\"data\":{\"chart_index\":[{\"index\":0}],\"color\":[\"crimson\"],\"fill_alpha\":[0.8],\"height\":[11428.0],\"index\":[0],\"label\":[{\"index\":0}],\"line_alpha\":[1.0],\"line_color\":[\"white\"],\"width\":[0.8],\"x\":[\"0\"],\"y\":[5714.0]}},\"id\":\"63a1d0b4-f9f7-42df-891b-54074724b90d\",\"type\":\"ColumnDataSource\"},{\"attributes\":{\"plot\":{\"id\":\"ae45d7d0-6ffc-4830-af34-1d7c7231255b\",\"subtype\":\"Chart\",\"type\":\"Plot\"}},\"id\":\"29050a33-28d1-47dd-b4b4-8737f958035f\",\"type\":\"ResetTool\"},{\"attributes\":{\"bottom_units\":\"screen\",\"fill_alpha\":{\"value\":0.5},\"fill_color\":{\"value\":\"lightgrey\"},\"left_units\":\"screen\",\"level\":\"overlay\",\"line_alpha\":{\"value\":1.0},\"line_color\":{\"value\":\"black\"},\"line_dash\":[4,4],\"line_width\":{\"value\":2},\"plot\":null,\"render_mode\":\"css\",\"right_units\":\"screen\",\"top_units\":\"screen\"},\"id\":\"5be7cca0-f64e-4e10-8065-467a7a203a42\",\"type\":\"BoxAnnotation\"},{\"attributes\":{\"fill_alpha\":{\"field\":\"fill_alpha\"},\"fill_color\":{\"field\":\"color\"},\"height\":{\"field\":\"height\",\"units\":\"data\"},\"line_color\":{\"field\":\"line_color\"},\"width\":{\"field\":\"width\",\"units\":\"data\"},\"x\":{\"field\":\"x\"},\"y\":{\"field\":\"y\"}},\"id\":\"3a4d8e49-f065-4ccd-ae76-5ba7a9e28fbc\",\"type\":\"Rect\"},{\"attributes\":{\"callback\":null,\"factors\":[\"2\",\"3\",\"4\",\"5\",\"6\",\"7\"]},\"id\":\"1643b10f-f27f-4492-b058-399d7755e758\",\"type\":\"FactorRange\"},{\"attributes\":{\"plot\":null,\"text\":\" Time Spend Company Stats\"},\"id\":\"a1116562-fd3b-4f70-9e0e-daab038b751f\",\"type\":\"Title\"},{\"attributes\":{\"plot\":{\"id\":\"ae0c6a49-43b9-4561-aa29-8240ce4d5538\",\"subtype\":\"Chart\",\"type\":\"Plot\"}},\"id\":\"7aea75d5-180b-4456-b249-dbeb08318520\",\"type\":\"PanTool\"},{\"attributes\":{\"plot\":{\"id\":\"ae0c6a49-43b9-4561-aa29-8240ce4d5538\",\"subtype\":\"Chart\",\"type\":\"Plot\"}},\"id\":\"be84e272-d151-4fb6-911b-c9673f6b1c24\",\"type\":\"WheelZoomTool\"},{\"attributes\":{\"plot\":{\"id\":\"6686963d-76f6-4baa-8a06-cc0bbe4e96e7\",\"subtype\":\"Chart\",\"type\":\"Plot\"}},\"id\":\"4d76ebf2-3559-4e79-a91e-861a8a399a1e\",\"type\":\"WheelZoomTool\"},{\"attributes\":{\"formatter\":{\"id\":\"6d4155d9-f05b-4a5d-abfc-14e11ae137ac\",\"type\":\"CategoricalTickFormatter\"},\"major_label_orientation\":0.7853981633974483,\"plot\":{\"id\":\"c6badb9a-8969-4b48-b1da-e7e24c589553\",\"subtype\":\"Chart\",\"type\":\"Plot\"},\"ticker\":{\"id\":\"776fc45c-ebbf-4af8-a05c-8b59cf51b0a5\",\"type\":\"CategoricalTicker\"}},\"id\":\"bdfc7c2a-e3fd-4d2e-87bb-262b704bbe6f\",\"type\":\"CategoricalAxis\"},{\"attributes\":{\"plot\":{\"id\":\"c6badb9a-8969-4b48-b1da-e7e24c589553\",\"subtype\":\"Chart\",\"type\":\"Plot\"}},\"id\":\"bd1f6cb8-7f1e-4201-8a75-45e2d768b025\",\"type\":\"ResetTool\"},{\"attributes\":{\"fill_alpha\":{\"field\":\"fill_alpha\"},\"fill_color\":{\"field\":\"color\"},\"height\":{\"field\":\"height\",\"units\":\"data\"},\"line_color\":{\"field\":\"line_color\"},\"width\":{\"field\":\"width\",\"units\":\"data\"},\"x\":{\"field\":\"x\"},\"y\":{\"field\":\"y\"}},\"id\":\"3e09c286-3abe-4d2e-a8b6-7a1c191fb539\",\"type\":\"Rect\"},{\"attributes\":{\"plot\":{\"id\":\"c6badb9a-8969-4b48-b1da-e7e24c589553\",\"subtype\":\"Chart\",\"type\":\"Plot\"}},\"id\":\"418bd876-2258-48d9-aaa6-d9fd2971c329\",\"type\":\"PanTool\"},{\"attributes\":{\"callback\":null,\"column_names\":[\"line_color\",\"line_alpha\",\"color\",\"fill_alpha\",\"height\",\"width\",\"y\",\"x\",\"label\"],\"data\":{\"chart_index\":[{\"index\":\"low\"}],\"color\":[\"crimson\"],\"fill_alpha\":[0.8],\"height\":[7316.0],\"index\":[\"low\"],\"label\":[{\"index\":\"low\"}],\"line_alpha\":[1.0],\"line_color\":[\"white\"],\"width\":[0.8],\"x\":[\"low\"],\"y\":[3658.0]}},\"id\":\"e1de5796-3cb5-4a59-932c-372ac4f22617\",\"type\":\"ColumnDataSource\"},{\"attributes\":{},\"id\":\"19c310c4-7e61-4345-8b91-cffac7e7dca4\",\"type\":\"BasicTicker\"},{\"attributes\":{\"formatter\":{\"id\":\"795e2597-90fe-4c36-b27b-dd086c511108\",\"type\":\"CategoricalTickFormatter\"},\"major_label_orientation\":0.7853981633974483,\"plot\":{\"id\":\"6686963d-76f6-4baa-8a06-cc0bbe4e96e7\",\"subtype\":\"Chart\",\"type\":\"Plot\"},\"ticker\":{\"id\":\"1c56d541-c241-40ba-9073-69b395e17ec7\",\"type\":\"CategoricalTicker\"}},\"id\":\"0fa141f0-5561-4d87-866e-c80ddc03e918\",\"type\":\"CategoricalAxis\"},{\"attributes\":{\"plot\":{\"id\":\"72e90c0c-34bf-4572-9aa6-c798e2ab0e52\",\"subtype\":\"Chart\",\"type\":\"Plot\"}},\"id\":\"6f36dd7e-9f38-494d-b37e-d8260673a912\",\"type\":\"WheelZoomTool\"},{\"attributes\":{},\"id\":\"318d1707-bb7d-4d71-ac76-1ae75dfdf756\",\"type\":\"BasicTicker\"},{\"attributes\":{\"formatter\":{\"id\":\"4936594e-2980-4568-92eb-646cc97fa4af\",\"type\":\"CategoricalTickFormatter\"},\"major_label_orientation\":0.7853981633974483,\"plot\":{\"id\":\"72e90c0c-34bf-4572-9aa6-c798e2ab0e52\",\"subtype\":\"Chart\",\"type\":\"Plot\"},\"ticker\":{\"id\":\"4a9cdd48-4807-4714-9071-c2acde99b6d1\",\"type\":\"CategoricalTicker\"}},\"id\":\"2d7b127f-dca7-4208-a4b1-fe6064e8a1b3\",\"type\":\"CategoricalAxis\"},{\"attributes\":{\"overlay\":{\"id\":\"794b2ab8-c72f-432b-87c2-38a69265ee61\",\"type\":\"BoxAnnotation\"},\"plot\":{\"id\":\"6686963d-76f6-4baa-8a06-cc0bbe4e96e7\",\"subtype\":\"Chart\",\"type\":\"Plot\"}},\"id\":\"e205177c-eed7-472e-a916-4152eee2ab33\",\"type\":\"BoxZoomTool\"},{\"attributes\":{\"data_source\":{\"id\":\"4bad3bf9-240d-415a-86f9-6366d6f1313f\",\"type\":\"ColumnDataSource\"},\"glyph\":{\"id\":\"3a4d8e49-f065-4ccd-ae76-5ba7a9e28fbc\",\"type\":\"Rect\"},\"hover_glyph\":null,\"nonselection_glyph\":null,\"selection_glyph\":null},\"id\":\"5c0b6c7e-3829-4ea8-8eb1-ad2b766190a3\",\"type\":\"GlyphRenderer\"},{\"attributes\":{\"fill_alpha\":{\"field\":\"fill_alpha\"},\"fill_color\":{\"field\":\"color\"},\"height\":{\"field\":\"height\",\"units\":\"data\"},\"line_color\":{\"field\":\"line_color\"},\"width\":{\"field\":\"width\",\"units\":\"data\"},\"x\":{\"field\":\"x\"},\"y\":{\"field\":\"y\"}},\"id\":\"6180700f-b3a8-4961-a3be-8ecf4470935d\",\"type\":\"Rect\"},{\"attributes\":{\"plot\":{\"id\":\"6686963d-76f6-4baa-8a06-cc0bbe4e96e7\",\"subtype\":\"Chart\",\"type\":\"Plot\"}},\"id\":\"e89f69a1-6991-4981-9153-c23b9cf723d9\",\"type\":\"SaveTool\"},{\"attributes\":{\"data_source\":{\"id\":\"e1de5796-3cb5-4a59-932c-372ac4f22617\",\"type\":\"ColumnDataSource\"},\"glyph\":{\"id\":\"75e2328c-a1b1-4e0e-9ff0-2c3ee947b79f\",\"type\":\"Rect\"},\"hover_glyph\":null,\"nonselection_glyph\":null,\"selection_glyph\":null},\"id\":\"35d6c807-dc85-4632-b921-5b29456b8336\",\"type\":\"GlyphRenderer\"},{\"attributes\":{\"plot\":{\"id\":\"61ca6dc6-5e11-4039-ba71-56b15c062eee\",\"subtype\":\"Chart\",\"type\":\"Plot\"}},\"id\":\"3ba5d5df-05ad-4b60-91c0-05ced3d951b9\",\"type\":\"PanTool\"},{\"attributes\":{\"data_source\":{\"id\":\"293b5e94-ce03-42da-9111-6018bf7f7a15\",\"type\":\"ColumnDataSource\"},\"glyph\":{\"id\":\"6180700f-b3a8-4961-a3be-8ecf4470935d\",\"type\":\"Rect\"},\"hover_glyph\":null,\"nonselection_glyph\":null,\"selection_glyph\":null},\"id\":\"8a8048bb-fd10-42bb-a6e4-c25097b20cde\",\"type\":\"GlyphRenderer\"},{\"attributes\":{\"formatter\":{\"id\":\"9bd6b881-5168-4735-906a-e12af2eb8f0c\",\"type\":\"BasicTickFormatter\"},\"plot\":{\"id\":\"ae45d7d0-6ffc-4830-af34-1d7c7231255b\",\"subtype\":\"Chart\",\"type\":\"Plot\"},\"ticker\":{\"id\":\"fa1fb85a-9550-4858-85f3-7a353a59a39d\",\"type\":\"BasicTicker\"}},\"id\":\"dfeebfc1-275d-4ff6-bc91-204e4dd9bd88\",\"type\":\"LinearAxis\"},{\"attributes\":{\"callback\":null,\"end\":13471.5},\"id\":\"3ecbb3fa-d6fb-4f79-a563-98d1d1c5f636\",\"type\":\"Range1d\"},{\"attributes\":{\"plot\":{\"id\":\"be1ee5e7-6cb4-4389-af4a-e838824a81ee\",\"subtype\":\"Chart\",\"type\":\"Plot\"}},\"id\":\"9b009f26-3b82-4c66-bd1c-bcd95341a414\",\"type\":\"SaveTool\"},{\"attributes\":{\"bottom_units\":\"screen\",\"fill_alpha\":{\"value\":0.5},\"fill_color\":{\"value\":\"lightgrey\"},\"left_units\":\"screen\",\"level\":\"overlay\",\"line_alpha\":{\"value\":1.0},\"line_color\":{\"value\":\"black\"},\"line_dash\":[4,4],\"line_width\":{\"value\":2},\"plot\":null,\"render_mode\":\"css\",\"right_units\":\"screen\",\"top_units\":\"screen\"},\"id\":\"b414786e-0e20-4968-8007-76fc7f7b0e06\",\"type\":\"BoxAnnotation\"},{\"attributes\":{},\"id\":\"cee0dbab-551c-4689-8c92-7ee5cfb1b5d0\",\"type\":\"CategoricalTicker\"},{\"attributes\":{\"callback\":null,\"column_names\":[\"line_color\",\"line_alpha\",\"color\",\"fill_alpha\",\"height\",\"width\",\"y\",\"x\",\"label\"],\"data\":{\"chart_index\":[{\"index\":\"hr\"}],\"color\":[\"crimson\"],\"fill_alpha\":[0.8],\"height\":[739.0],\"index\":[\"hr\"],\"label\":[{\"index\":\"hr\"}],\"line_alpha\":[1.0],\"line_color\":[\"white\"],\"width\":[0.8],\"x\":[\"hr\"],\"y\":[369.5]}},\"id\":\"0db05aa1-d77a-4df3-af5c-e314b130e3df\",\"type\":\"ColumnDataSource\"},{\"attributes\":{\"fill_alpha\":{\"field\":\"fill_alpha\"},\"fill_color\":{\"field\":\"color\"},\"height\":{\"field\":\"height\",\"units\":\"data\"},\"line_color\":{\"field\":\"line_color\"},\"width\":{\"field\":\"width\",\"units\":\"data\"},\"x\":{\"field\":\"x\"},\"y\":{\"field\":\"y\"}},\"id\":\"c225952a-eb25-486e-a617-a9ecc3351c95\",\"type\":\"Rect\"},{\"attributes\":{\"callback\":null,\"column_names\":[\"line_color\",\"line_alpha\",\"color\",\"fill_alpha\",\"height\",\"width\",\"y\",\"x\",\"label\"],\"data\":{\"chart_index\":[{\"index\":\"management\"}],\"color\":[\"crimson\"],\"fill_alpha\":[0.8],\"height\":[630.0],\"index\":[\"management\"],\"label\":[{\"index\":\"management\"}],\"line_alpha\":[1.0],\"line_color\":[\"white\"],\"width\":[0.8],\"x\":[\"management\"],\"y\":[315.0]}},\"id\":\"2bf57cd4-e34b-473b-bef7-14d78143b569\",\"type\":\"ColumnDataSource\"},{\"attributes\":{\"plot\":{\"id\":\"72e90c0c-34bf-4572-9aa6-c798e2ab0e52\",\"subtype\":\"Chart\",\"type\":\"Plot\"}},\"id\":\"cb05c6a8-e945-4dcb-acef-4134ff17601b\",\"type\":\"SaveTool\"},{\"attributes\":{\"formatter\":{\"id\":\"02f034e4-b6a8-4853-941f-9774ced13a6e\",\"type\":\"CategoricalTickFormatter\"},\"major_label_orientation\":0.7853981633974483,\"plot\":{\"id\":\"ae45d7d0-6ffc-4830-af34-1d7c7231255b\",\"subtype\":\"Chart\",\"type\":\"Plot\"},\"ticker\":{\"id\":\"59a644cf-f5da-4ea0-87da-bda2ccc205aa\",\"type\":\"CategoricalTicker\"}},\"id\":\"5623a768-ce8f-4cba-92c1-9f6b315a1190\",\"type\":\"CategoricalAxis\"},{\"attributes\":{\"callback\":null,\"factors\":[\"0\",\"1\"]},\"id\":\"7b3f7a36-9549-478a-a9ad-029724a9076f\",\"type\":\"FactorRange\"},{\"attributes\":{\"plot\":{\"id\":\"ae0c6a49-43b9-4561-aa29-8240ce4d5538\",\"subtype\":\"Chart\",\"type\":\"Plot\"}},\"id\":\"3747dbf4-1f4a-4c7b-a53d-1a372ef604e5\",\"type\":\"ResetTool\"},{\"attributes\":{\"plot\":{\"id\":\"72e90c0c-34bf-4572-9aa6-c798e2ab0e52\",\"subtype\":\"Chart\",\"type\":\"Plot\"}},\"id\":\"948f491a-cad4-4af7-8ab3-bfe7f8693d86\",\"type\":\"HelpTool\"},{\"attributes\":{},\"id\":\"7a07d1f2-9d12-4879-aa71-9ee06e18a019\",\"type\":\"ToolEvents\"},{\"attributes\":{\"fill_alpha\":{\"field\":\"fill_alpha\"},\"fill_color\":{\"field\":\"color\"},\"height\":{\"field\":\"height\",\"units\":\"data\"},\"line_color\":{\"field\":\"line_color\"},\"width\":{\"field\":\"width\",\"units\":\"data\"},\"x\":{\"field\":\"x\"},\"y\":{\"field\":\"y\"}},\"id\":\"1239e593-312b-404c-adf0-7c0516c22735\",\"type\":\"Rect\"},{\"attributes\":{\"plot\":null,\"text\":\" Work Accident Stats\"},\"id\":\"6c272780-ecd4-4fbe-8926-824b6ed11036\",\"type\":\"Title\"},{\"attributes\":{\"data_source\":{\"id\":\"bf0828ee-33cf-43ab-910e-58286ade91d8\",\"type\":\"ColumnDataSource\"},\"glyph\":{\"id\":\"74e8161e-3550-4239-9f17-5530a606cec1\",\"type\":\"Rect\"},\"hover_glyph\":null,\"nonselection_glyph\":null,\"selection_glyph\":null},\"id\":\"db11f166-f40f-498e-85f0-e97fd957102d\",\"type\":\"GlyphRenderer\"},{\"attributes\":{\"plot\":null,\"text\":\" Department Stats\"},\"id\":\"e78b5917-d505-4cea-8e55-53eea32ef2d1\",\"type\":\"Title\"},{\"attributes\":{\"callback\":null,\"column_names\":[\"line_color\",\"line_alpha\",\"color\",\"fill_alpha\",\"height\",\"width\",\"y\",\"x\",\"label\"],\"data\":{\"chart_index\":[{\"index\":7}],\"color\":[\"crimson\"],\"fill_alpha\":[0.8],\"height\":[188.0],\"index\":[7],\"label\":[{\"index\":7}],\"line_alpha\":[1.0],\"line_color\":[\"white\"],\"width\":[0.8],\"x\":[\"7\"],\"y\":[94.0]}},\"id\":\"3fe00d8a-4856-4346-9402-ff3f29ab4525\",\"type\":\"ColumnDataSource\"},{\"attributes\":{\"dimension\":1,\"plot\":{\"id\":\"c6badb9a-8969-4b48-b1da-e7e24c589553\",\"subtype\":\"Chart\",\"type\":\"Plot\"},\"ticker\":{\"id\":\"f8933ba4-e91e-452e-91ba-4daf675e16fe\",\"type\":\"BasicTicker\"}},\"id\":\"0e2ca63b-1688-48c1-bfbe-8da3e9254cb0\",\"type\":\"Grid\"},{\"attributes\":{\"callback\":null,\"column_names\":[\"line_color\",\"line_alpha\",\"color\",\"fill_alpha\",\"height\",\"width\",\"y\",\"x\",\"label\"],\"data\":{\"chart_index\":[{\"index\":2}],\"color\":[\"crimson\"],\"fill_alpha\":[0.8],\"height\":[3244.0],\"index\":[2],\"label\":[{\"index\":2}],\"line_alpha\":[1.0],\"line_color\":[\"white\"],\"width\":[0.8],\"x\":[\"2\"],\"y\":[1622.0]}},\"id\":\"29146cab-3db9-468b-80ef-bd396a365b8b\",\"type\":\"ColumnDataSource\"},{\"attributes\":{},\"id\":\"6d4155d9-f05b-4a5d-abfc-14e11ae137ac\",\"type\":\"CategoricalTickFormatter\"},{\"attributes\":{\"plot\":{\"id\":\"ae45d7d0-6ffc-4830-af34-1d7c7231255b\",\"subtype\":\"Chart\",\"type\":\"Plot\"}},\"id\":\"f3cbe2f6-0334-4790-8b6e-68943b05076e\",\"type\":\"HelpTool\"},{\"attributes\":{\"callback\":null,\"factors\":[\"IT\",\"RandD\",\"accounting\",\"hr\",\"management\",\"marketing\",\"product_mng\",\"sales\",\"support\",\"technical\"]},\"id\":\"18e8dea2-babc-4391-bc1c-ae9c284ebbaa\",\"type\":\"FactorRange\"},{\"attributes\":{},\"id\":\"4a9cdd48-4807-4714-9071-c2acde99b6d1\",\"type\":\"CategoricalTicker\"},{\"attributes\":{\"formatter\":{\"id\":\"7f845db2-c3be-4239-988c-dc5c8b111d87\",\"type\":\"BasicTickFormatter\"},\"plot\":{\"id\":\"ae0c6a49-43b9-4561-aa29-8240ce4d5538\",\"subtype\":\"Chart\",\"type\":\"Plot\"},\"ticker\":{\"id\":\"88dfa5b1-ab1a-4fb9-86dd-713766750095\",\"type\":\"BasicTicker\"}},\"id\":\"a533f8a1-cde1-48e9-ad0a-1f1fa281abea\",\"type\":\"LinearAxis\"},{\"attributes\":{\"overlay\":{\"id\":\"0160bb45-582d-4f8d-9be7-0a7d53f1a14a\",\"type\":\"BoxAnnotation\"},\"plot\":{\"id\":\"61ca6dc6-5e11-4039-ba71-56b15c062eee\",\"subtype\":\"Chart\",\"type\":\"Plot\"}},\"id\":\"76931fda-7816-47ef-a896-e04fa6b14506\",\"type\":\"BoxZoomTool\"},{\"attributes\":{\"formatter\":{\"id\":\"7d494418-176d-4455-9ae6-d9a306ac1e20\",\"type\":\"BasicTickFormatter\"},\"plot\":{\"id\":\"72e90c0c-34bf-4572-9aa6-c798e2ab0e52\",\"subtype\":\"Chart\",\"type\":\"Plot\"},\"ticker\":{\"id\":\"e8bf1aa2-62fd-4f03-8467-51c61632d09a\",\"type\":\"BasicTicker\"}},\"id\":\"15d840ee-168b-429f-b4da-c7fb5d515c97\",\"type\":\"LinearAxis\"},{\"attributes\":{\"data_source\":{\"id\":\"e5d995d4-2d97-447f-a208-313168dead90\",\"type\":\"ColumnDataSource\"},\"glyph\":{\"id\":\"0ed1c62d-f2ed-4709-87d5-83d2770269e9\",\"type\":\"Rect\"},\"hover_glyph\":null,\"nonselection_glyph\":null,\"selection_glyph\":null},\"id\":\"7ed47162-94af-444b-b490-046e0232087c\",\"type\":\"GlyphRenderer\"},{\"attributes\":{\"dimension\":1,\"plot\":{\"id\":\"72e90c0c-34bf-4572-9aa6-c798e2ab0e52\",\"subtype\":\"Chart\",\"type\":\"Plot\"},\"ticker\":{\"id\":\"e8bf1aa2-62fd-4f03-8467-51c61632d09a\",\"type\":\"BasicTicker\"}},\"id\":\"ef7dc013-c878-453f-b612-d9e9d88e964b\",\"type\":\"Grid\"},{\"attributes\":{\"plot\":{\"id\":\"c6badb9a-8969-4b48-b1da-e7e24c589553\",\"subtype\":\"Chart\",\"type\":\"Plot\"}},\"id\":\"3762c3de-64d6-4e0e-9f3e-ec000a7dbefd\",\"type\":\"HelpTool\"},{\"attributes\":{\"callback\":null,\"column_names\":[\"line_color\",\"line_alpha\",\"color\",\"fill_alpha\",\"height\",\"width\",\"y\",\"x\",\"label\"],\"data\":{\"chart_index\":[{\"index\":8}],\"color\":[\"crimson\"],\"fill_alpha\":[0.8],\"height\":[162.0],\"index\":[8],\"label\":[{\"index\":8}],\"line_alpha\":[1.0],\"line_color\":[\"white\"],\"width\":[0.8],\"x\":[\"8\"],\"y\":[81.0]}},\"id\":\"fad2d7d2-c767-464f-bab9-76e51e6550f9\",\"type\":\"ColumnDataSource\"},{\"attributes\":{},\"id\":\"1c56d541-c241-40ba-9073-69b395e17ec7\",\"type\":\"CategoricalTicker\"},{\"attributes\":{\"data_source\":{\"id\":\"01e91244-4561-476a-b87d-4e85a2b9b034\",\"type\":\"ColumnDataSource\"},\"glyph\":{\"id\":\"3ca49006-53a3-4b77-86de-a860c9dbaac0\",\"type\":\"Rect\"},\"hover_glyph\":null,\"nonselection_glyph\":null,\"selection_glyph\":null},\"id\":\"e6281977-7856-449c-8972-d8c8cca9add7\",\"type\":\"GlyphRenderer\"},{\"attributes\":{\"callback\":null,\"column_names\":[\"line_color\",\"line_alpha\",\"color\",\"fill_alpha\",\"height\",\"width\",\"y\",\"x\",\"label\"],\"data\":{\"chart_index\":[{\"index\":6}],\"color\":[\"crimson\"],\"fill_alpha\":[0.8],\"height\":[1174.0],\"index\":[6],\"label\":[{\"index\":6}],\"line_alpha\":[1.0],\"line_color\":[\"white\"],\"width\":[0.8],\"x\":[\"6\"],\"y\":[587.0]}},\"id\":\"5ca40c99-a31d-48b4-8a56-7599c8536561\",\"type\":\"ColumnDataSource\"},{\"attributes\":{\"callback\":null,\"end\":4583.25},\"id\":\"4dacf7e1-5593-4d52-8e89-8aa5d755c58f\",\"type\":\"Range1d\"}],\"root_ids\":[\"ac419bd4-79ea-4816-b2d8-a16514cb962d\"]},\"title\":\"Bokeh Application\",\"version\":\"0.12.2\"}};\n",
       "            var render_items = [{\"docid\":\"6f03e5c6-9134-48a6-a396-963ed9536255\",\"elementid\":\"19d5630b-446e-487b-abb5-1e4bd7b89b6e\",\"modelid\":\"ac419bd4-79ea-4816-b2d8-a16514cb962d\"}];\n",
       "            \n",
       "            Bokeh.embed.embed_items(docs_json, render_items);\n",
       "        });\n",
       "      },\n",
       "      function(Bokeh) {\n",
       "      }\n",
       "    ];\n",
       "  \n",
       "    function run_inline_js() {\n",
       "      \n",
       "      if ((window.Bokeh !== undefined) || (force === \"1\")) {\n",
       "        for (var i = 0; i < inline_js.length; i++) {\n",
       "          inline_js[i](window.Bokeh);\n",
       "        }if (force === \"1\") {\n",
       "          display_loaded();\n",
       "        }} else if (Date.now() < window._bokeh_timeout) {\n",
       "        setTimeout(run_inline_js, 100);\n",
       "      } else if (!window._bokeh_failed_load) {\n",
       "        console.log(\"Bokeh: BokehJS failed to load within specified timeout.\");\n",
       "        window._bokeh_failed_load = true;\n",
       "      } else if (!force) {\n",
       "        var cell = $(\"#19d5630b-446e-487b-abb5-1e4bd7b89b6e\").parents('.cell').data().cell;\n",
       "        cell.output_area.append_execute_result(NB_LOAD_WARNING)\n",
       "      }\n",
       "  \n",
       "    }\n",
       "  \n",
       "    if (window._bokeh_is_loading === 0) {\n",
       "      console.log(\"Bokeh: BokehJS loaded, going straight to plotting\");\n",
       "      run_inline_js();\n",
       "    } else {\n",
       "      load_libs(js_urls, function() {\n",
       "        console.log(\"Bokeh: BokehJS plotting callback run at\", now());\n",
       "        run_inline_js();\n",
       "      });\n",
       "    }\n",
       "  }(this));\n",
       "</script>"
      ]
     },
     "metadata": {},
     "output_type": "display_data"
    }
   ],
   "source": [
    "#discrete_vars = hr_data[['department', 'salary']]\n",
    "from bokeh.charts import Bar, output_file, show\n",
    "from bokeh.io import output_notebook\n",
    "from bokeh.plotting import figure\n",
    "from bokeh.layouts import gridplot\n",
    "from bokeh.layouts import column, row\n",
    "from bokeh.plotting import reset_output\n",
    "from bokeh.charts.attributes import cat\n",
    "from collections import Counter\n",
    "from IPython.display import display\n",
    "row_coll = []\n",
    "rows = []\n",
    "block = True\n",
    "\n",
    "for column in cols:\n",
    "    block = True\n",
    "    column_title_split = column.split('_')\n",
    "    column_title = \"\"\n",
    "    for column_title_piece in column_title_split:\n",
    "        column_title += \" \" +column_title_piece.title()\n",
    "    \n",
    "    p = Bar(col_dict[column], \n",
    "            values=column, \n",
    "            title=column_title + ' Stats',\n",
    "            color=plot_color,\n",
    "            plot_width=300, \n",
    "            plot_height=200,\n",
    "            ylabel=\"\",\n",
    "            legend=None,\n",
    "            toolbar_location=None)\n",
    "    rows.append(p)\n",
    "    if len(rows) == 3:\n",
    "        block = False\n",
    "        row_coll.append(list(rows))\n",
    "        reset_output()\n",
    "        rows = []\n",
    "\n",
    "if block:\n",
    "    row_coll.append(list(rows))\n",
    "    \n",
    "#print row_coll\n",
    "gridplot = gridplot(row_coll)\n",
    "output_notebook()\n",
    "show(gridplot)"
   ]
  },
  {
   "cell_type": "code",
   "execution_count": 14,
   "metadata": {
    "collapsed": false
   },
   "outputs": [
    {
     "name": "stdout",
     "output_type": "stream",
     "text": [
      "2.13 % percent of all employees had a promotion within the last 5 years.\n",
      "14 out of 100 employees had a work related accident.\n"
     ]
    }
   ],
   "source": [
    "#from math import round\n",
    "print \"{:.2f} % percent of all employees had a promotion within the last 5 years.\".format(\n",
    "    (len(hr_data[hr_data['promotion_last_5years'] == 1]) / \n",
    "    float(len(hr_data['promotion_last_5years']))) * 100)\n",
    "print \"{} out of 100 employees had a work related accident.\".format(int(round((len(hr_data[hr_data['work_accident'] == 1]) / float(len(hr_data))) * 100)))"
   ]
  },
  {
   "cell_type": "markdown",
   "metadata": {
    "collapsed": false
   },
   "source": [
    "Looking at the frequency plots the `number_project` and `time_spend_company` distribution have a slight positive skew. It can be seen that the most employees tend to have 3 or 4 projects and tenure seems to level around 3 years. When it comes to `department`, the most employees are employed in sales with technical coming second and support being third on the list. The `salary` variable shows a clear skew towards low and medium wages what was to be expected. When it comes to work accidents, the data shows about 14 in 100 employees has had a work related accident. Even more severe is the skew when it comes to promotions. Only 2 out of 100 employees have had a promotion in the last 5 years. A slightly less severe but still significant skew is happening in the dependent variable `left`. This needs to be taken into account when splitting the data set for training, cross validation and training. "
   ]
  },
  {
   "cell_type": "markdown",
   "metadata": {},
   "source": [
    "### Missing Values\n",
    "Another problem that might occur are missing values. "
   ]
  },
  {
   "cell_type": "code",
   "execution_count": 15,
   "metadata": {
    "collapsed": false
   },
   "outputs": [],
   "source": [
    "# Check if there are any NaN values\n",
    "for name, item in hr_data.isnull().sum().iteritems():\n",
    "    if item > 0:\n",
    "        print name"
   ]
  },
  {
   "cell_type": "markdown",
   "metadata": {},
   "source": [
    "There are no missing values in the data set, which is fortunate."
   ]
  },
  {
   "cell_type": "markdown",
   "metadata": {},
   "source": [
    "## Data Context\n",
    "To get a firmer grasp on some of the information hidden in the data set it's helpful to ask questions regarding the context of the data. Simple questions help putting a perspective on the information and offer a gateway to understanding the data. Questions that are being answered by this section are:"
   ]
  },
  {
   "cell_type": "markdown",
   "metadata": {},
   "source": [
    "* How many people left their company?\n",
    "* What's the average tenure?\n",
    "* How do variables change by department?\n",
    "    * Which department works the most hours?\n",
    "    * Where do most work accidents appear?\n",
    "    * What is the satisfaction level by department?"
   ]
  },
  {
   "cell_type": "markdown",
   "metadata": {},
   "source": [
    "### How many people left their company\n",
    "Let's see how the distribution of our indipendent variable looks like. It's important to note that we'll need a similar distribution of this variable for our training and testing sets."
   ]
  },
  {
   "cell_type": "code",
   "execution_count": 16,
   "metadata": {
    "collapsed": false
   },
   "outputs": [
    {
     "name": "stdout",
     "output_type": "stream",
     "text": [
      "3571 Persons left their company (23.8 %)\n"
     ]
    }
   ],
   "source": [
    "people_left = len(hr_data[hr_data['left'] == 1])\n",
    "print \"{} Persons left their company ({:.3} %)\".format(\n",
    "    people_left, ((people_left/float(len(hr_data))) * 100))"
   ]
  },
  {
   "cell_type": "markdown",
   "metadata": {},
   "source": [
    "### What's the average tenure over all departments"
   ]
  },
  {
   "cell_type": "code",
   "execution_count": 17,
   "metadata": {
    "collapsed": false
   },
   "outputs": [
    {
     "name": "stdout",
     "output_type": "stream",
     "text": [
      "Average tenure: 3.498\n"
     ]
    }
   ],
   "source": [
    "# Average tenure\n",
    "print \"Average tenure: {:.4}\".format(hr_data['time_spend_company'].mean())"
   ]
  },
  {
   "cell_type": "markdown",
   "metadata": {},
   "source": [
    "It shows that people in our data set tend to leave the company earlier than the average depicted in the first paragraph. Which could indicate that the population we're looking at is either younger than the average work force or, more likely, that we're not representing state and federal employees which tend to have a way higher tenure (> 8 years)."
   ]
  },
  {
   "cell_type": "markdown",
   "metadata": {},
   "source": [
    "### Exploration by department\n",
    "In order to get a better grasp on the information that is contained in the data set, we'll be looking at the predictors through the eyes of each department."
   ]
  },
  {
   "cell_type": "code",
   "execution_count": 18,
   "metadata": {
    "collapsed": false
   },
   "outputs": [
    {
     "data": {
      "text/html": [
       "\n",
       "    <div class=\"bk-root\">\n",
       "        <a href=\"http://bokeh.pydata.org\" target=\"_blank\" class=\"bk-logo bk-logo-small bk-logo-notebook\"></a>\n",
       "        <span id=\"076d1a24-2b41-4bb2-80a2-9a8e0778f201\">Loading BokehJS ...</span>\n",
       "    </div>"
      ]
     },
     "metadata": {},
     "output_type": "display_data"
    },
    {
     "data": {
      "application/javascript": [
       "\n",
       "(function(global) {\n",
       "  function now() {\n",
       "    return new Date();\n",
       "  }\n",
       "\n",
       "  var force = \"1\";\n",
       "\n",
       "  if (typeof (window._bokeh_onload_callbacks) === \"undefined\" || force !== \"\") {\n",
       "    window._bokeh_onload_callbacks = [];\n",
       "    window._bokeh_is_loading = undefined;\n",
       "  }\n",
       "\n",
       "\n",
       "  \n",
       "  if (typeof (window._bokeh_timeout) === \"undefined\" || force !== \"\") {\n",
       "    window._bokeh_timeout = Date.now() + 5000;\n",
       "    window._bokeh_failed_load = false;\n",
       "  }\n",
       "\n",
       "  var NB_LOAD_WARNING = {'data': {'text/html':\n",
       "     \"<div style='background-color: #fdd'>\\n\"+\n",
       "     \"<p>\\n\"+\n",
       "     \"BokehJS does not appear to have successfully loaded. If loading BokehJS from CDN, this \\n\"+\n",
       "     \"may be due to a slow or bad network connection. Possible fixes:\\n\"+\n",
       "     \"</p>\\n\"+\n",
       "     \"<ul>\\n\"+\n",
       "     \"<li>re-rerun `output_notebook()` to attempt to load from CDN again, or</li>\\n\"+\n",
       "     \"<li>use INLINE resources instead, as so:</li>\\n\"+\n",
       "     \"</ul>\\n\"+\n",
       "     \"<code>\\n\"+\n",
       "     \"from bokeh.resources import INLINE\\n\"+\n",
       "     \"output_notebook(resources=INLINE)\\n\"+\n",
       "     \"</code>\\n\"+\n",
       "     \"</div>\"}};\n",
       "\n",
       "  function display_loaded() {\n",
       "    if (window.Bokeh !== undefined) {\n",
       "      Bokeh.$(\"#076d1a24-2b41-4bb2-80a2-9a8e0778f201\").text(\"BokehJS successfully loaded.\");\n",
       "    } else if (Date.now() < window._bokeh_timeout) {\n",
       "      setTimeout(display_loaded, 100)\n",
       "    }\n",
       "  }\n",
       "\n",
       "  function run_callbacks() {\n",
       "    window._bokeh_onload_callbacks.forEach(function(callback) { callback() });\n",
       "    delete window._bokeh_onload_callbacks\n",
       "    console.info(\"Bokeh: all callbacks have finished\");\n",
       "  }\n",
       "\n",
       "  function load_libs(js_urls, callback) {\n",
       "    window._bokeh_onload_callbacks.push(callback);\n",
       "    if (window._bokeh_is_loading > 0) {\n",
       "      console.log(\"Bokeh: BokehJS is being loaded, scheduling callback at\", now());\n",
       "      return null;\n",
       "    }\n",
       "    if (js_urls == null || js_urls.length === 0) {\n",
       "      run_callbacks();\n",
       "      return null;\n",
       "    }\n",
       "    console.log(\"Bokeh: BokehJS not loaded, scheduling load and callback at\", now());\n",
       "    window._bokeh_is_loading = js_urls.length;\n",
       "    for (var i = 0; i < js_urls.length; i++) {\n",
       "      var url = js_urls[i];\n",
       "      var s = document.createElement('script');\n",
       "      s.src = url;\n",
       "      s.async = false;\n",
       "      s.onreadystatechange = s.onload = function() {\n",
       "        window._bokeh_is_loading--;\n",
       "        if (window._bokeh_is_loading === 0) {\n",
       "          console.log(\"Bokeh: all BokehJS libraries loaded\");\n",
       "          run_callbacks()\n",
       "        }\n",
       "      };\n",
       "      s.onerror = function() {\n",
       "        console.warn(\"failed to load library \" + url);\n",
       "      };\n",
       "      console.log(\"Bokeh: injecting script tag for BokehJS library: \", url);\n",
       "      document.getElementsByTagName(\"head\")[0].appendChild(s);\n",
       "    }\n",
       "  };var element = document.getElementById(\"076d1a24-2b41-4bb2-80a2-9a8e0778f201\");\n",
       "  if (element == null) {\n",
       "    console.log(\"Bokeh: ERROR: autoload.js configured with elementid '076d1a24-2b41-4bb2-80a2-9a8e0778f201' but no matching script tag was found. \")\n",
       "    return false;\n",
       "  }\n",
       "\n",
       "  var js_urls = ['https://cdn.pydata.org/bokeh/release/bokeh-0.12.2.min.js', 'https://cdn.pydata.org/bokeh/release/bokeh-widgets-0.12.2.min.js', 'https://cdn.pydata.org/bokeh/release/bokeh-compiler-0.12.2.min.js'];\n",
       "\n",
       "  var inline_js = [\n",
       "    function(Bokeh) {\n",
       "      Bokeh.set_log_level(\"info\");\n",
       "    },\n",
       "    \n",
       "    function(Bokeh) {\n",
       "      \n",
       "      Bokeh.$(\"#076d1a24-2b41-4bb2-80a2-9a8e0778f201\").text(\"BokehJS is loading...\");\n",
       "    },\n",
       "    function(Bokeh) {\n",
       "      console.log(\"Bokeh: injecting CSS: https://cdn.pydata.org/bokeh/release/bokeh-0.12.2.min.css\");\n",
       "      Bokeh.embed.inject_css(\"https://cdn.pydata.org/bokeh/release/bokeh-0.12.2.min.css\");\n",
       "      console.log(\"Bokeh: injecting CSS: https://cdn.pydata.org/bokeh/release/bokeh-widgets-0.12.2.min.css\");\n",
       "      Bokeh.embed.inject_css(\"https://cdn.pydata.org/bokeh/release/bokeh-widgets-0.12.2.min.css\");\n",
       "    }\n",
       "  ];\n",
       "\n",
       "  function run_inline_js() {\n",
       "    \n",
       "    if ((window.Bokeh !== undefined) || (force === \"1\")) {\n",
       "      for (var i = 0; i < inline_js.length; i++) {\n",
       "        inline_js[i](window.Bokeh);\n",
       "      }if (force === \"1\") {\n",
       "        display_loaded();\n",
       "      }} else if (Date.now() < window._bokeh_timeout) {\n",
       "      setTimeout(run_inline_js, 100);\n",
       "    } else if (!window._bokeh_failed_load) {\n",
       "      console.log(\"Bokeh: BokehJS failed to load within specified timeout.\");\n",
       "      window._bokeh_failed_load = true;\n",
       "    } else if (!force) {\n",
       "      var cell = $(\"#076d1a24-2b41-4bb2-80a2-9a8e0778f201\").parents('.cell').data().cell;\n",
       "      cell.output_area.append_execute_result(NB_LOAD_WARNING)\n",
       "    }\n",
       "\n",
       "  }\n",
       "\n",
       "  if (window._bokeh_is_loading === 0) {\n",
       "    console.log(\"Bokeh: BokehJS loaded, going straight to plotting\");\n",
       "    run_inline_js();\n",
       "  } else {\n",
       "    load_libs(js_urls, function() {\n",
       "      console.log(\"Bokeh: BokehJS plotting callback run at\", now());\n",
       "      run_inline_js();\n",
       "    });\n",
       "  }\n",
       "}(this));"
      ]
     },
     "metadata": {},
     "output_type": "display_data"
    },
    {
     "data": {
      "text/html": [
       "\n",
       "\n",
       "    <div class=\"bk-root\">\n",
       "        <div class=\"plotdiv\" id=\"bdac6f9f-7d18-4a93-841c-1757fd276bfb\"></div>\n",
       "    </div>\n",
       "<script type=\"text/javascript\">\n",
       "  \n",
       "  (function(global) {\n",
       "    function now() {\n",
       "      return new Date();\n",
       "    }\n",
       "  \n",
       "    var force = \"\";\n",
       "  \n",
       "    if (typeof (window._bokeh_onload_callbacks) === \"undefined\" || force !== \"\") {\n",
       "      window._bokeh_onload_callbacks = [];\n",
       "      window._bokeh_is_loading = undefined;\n",
       "    }\n",
       "  \n",
       "  \n",
       "    \n",
       "    if (typeof (window._bokeh_timeout) === \"undefined\" || force !== \"\") {\n",
       "      window._bokeh_timeout = Date.now() + 0;\n",
       "      window._bokeh_failed_load = false;\n",
       "    }\n",
       "  \n",
       "    var NB_LOAD_WARNING = {'data': {'text/html':\n",
       "       \"<div style='background-color: #fdd'>\\n\"+\n",
       "       \"<p>\\n\"+\n",
       "       \"BokehJS does not appear to have successfully loaded. If loading BokehJS from CDN, this \\n\"+\n",
       "       \"may be due to a slow or bad network connection. Possible fixes:\\n\"+\n",
       "       \"</p>\\n\"+\n",
       "       \"<ul>\\n\"+\n",
       "       \"<li>re-rerun `output_notebook()` to attempt to load from CDN again, or</li>\\n\"+\n",
       "       \"<li>use INLINE resources instead, as so:</li>\\n\"+\n",
       "       \"</ul>\\n\"+\n",
       "       \"<code>\\n\"+\n",
       "       \"from bokeh.resources import INLINE\\n\"+\n",
       "       \"output_notebook(resources=INLINE)\\n\"+\n",
       "       \"</code>\\n\"+\n",
       "       \"</div>\"}};\n",
       "  \n",
       "    function display_loaded() {\n",
       "      if (window.Bokeh !== undefined) {\n",
       "        Bokeh.$(\"#bdac6f9f-7d18-4a93-841c-1757fd276bfb\").text(\"BokehJS successfully loaded.\");\n",
       "      } else if (Date.now() < window._bokeh_timeout) {\n",
       "        setTimeout(display_loaded, 100)\n",
       "      }\n",
       "    }\n",
       "  \n",
       "    function run_callbacks() {\n",
       "      window._bokeh_onload_callbacks.forEach(function(callback) { callback() });\n",
       "      delete window._bokeh_onload_callbacks\n",
       "      console.info(\"Bokeh: all callbacks have finished\");\n",
       "    }\n",
       "  \n",
       "    function load_libs(js_urls, callback) {\n",
       "      window._bokeh_onload_callbacks.push(callback);\n",
       "      if (window._bokeh_is_loading > 0) {\n",
       "        console.log(\"Bokeh: BokehJS is being loaded, scheduling callback at\", now());\n",
       "        return null;\n",
       "      }\n",
       "      if (js_urls == null || js_urls.length === 0) {\n",
       "        run_callbacks();\n",
       "        return null;\n",
       "      }\n",
       "      console.log(\"Bokeh: BokehJS not loaded, scheduling load and callback at\", now());\n",
       "      window._bokeh_is_loading = js_urls.length;\n",
       "      for (var i = 0; i < js_urls.length; i++) {\n",
       "        var url = js_urls[i];\n",
       "        var s = document.createElement('script');\n",
       "        s.src = url;\n",
       "        s.async = false;\n",
       "        s.onreadystatechange = s.onload = function() {\n",
       "          window._bokeh_is_loading--;\n",
       "          if (window._bokeh_is_loading === 0) {\n",
       "            console.log(\"Bokeh: all BokehJS libraries loaded\");\n",
       "            run_callbacks()\n",
       "          }\n",
       "        };\n",
       "        s.onerror = function() {\n",
       "          console.warn(\"failed to load library \" + url);\n",
       "        };\n",
       "        console.log(\"Bokeh: injecting script tag for BokehJS library: \", url);\n",
       "        document.getElementsByTagName(\"head\")[0].appendChild(s);\n",
       "      }\n",
       "    };var element = document.getElementById(\"bdac6f9f-7d18-4a93-841c-1757fd276bfb\");\n",
       "    if (element == null) {\n",
       "      console.log(\"Bokeh: ERROR: autoload.js configured with elementid 'bdac6f9f-7d18-4a93-841c-1757fd276bfb' but no matching script tag was found. \")\n",
       "      return false;\n",
       "    }\n",
       "  \n",
       "    var js_urls = [];\n",
       "  \n",
       "    var inline_js = [\n",
       "      function(Bokeh) {\n",
       "        Bokeh.$(function() {\n",
       "            var docs_json = {\"72cda7c7-34e6-4e3e-91eb-d1f19a1d52a0\":{\"roots\":{\"references\":[{\"attributes\":{\"fill_alpha\":{\"field\":\"fill_alpha\"},\"fill_color\":{\"field\":\"color\"},\"height\":{\"field\":\"height\",\"units\":\"data\"},\"line_color\":{\"field\":\"line_color\"},\"width\":{\"field\":\"width\",\"units\":\"data\"},\"x\":{\"field\":\"x\"},\"y\":{\"field\":\"y\"}},\"id\":\"55220595-8d7e-43e2-a232-177e462f3c09\",\"type\":\"Rect\"},{\"attributes\":{\"data_source\":{\"id\":\"0f32731f-a26c-4416-b1f9-88f7a799d473\",\"type\":\"ColumnDataSource\"},\"glyph\":{\"id\":\"9f548157-1d51-4a91-830d-6279db6a21ac\",\"type\":\"Rect\"},\"hover_glyph\":null,\"nonselection_glyph\":null,\"selection_glyph\":null},\"id\":\"8c79f138-8016-4d96-8e38-f82976fe28e4\",\"type\":\"GlyphRenderer\"},{\"attributes\":{\"plot\":{\"id\":\"099f4aaa-a11a-4e5f-a52d-ba983413787c\",\"subtype\":\"Chart\",\"type\":\"Plot\"}},\"id\":\"bd2cc578-ac4d-424c-9e09-c61a50ad0e9a\",\"type\":\"SaveTool\"},{\"attributes\":{\"plot\":null,\"text\":\"Average Last Evaluation by department\"},\"id\":\"eaa447b0-0fd8-4f40-ab18-e8813139f017\",\"type\":\"Title\"},{\"attributes\":{\"fill_alpha\":{\"field\":\"fill_alpha\"},\"fill_color\":{\"field\":\"color\"},\"height\":{\"field\":\"height\",\"units\":\"data\"},\"line_color\":{\"field\":\"line_color\"},\"width\":{\"field\":\"width\",\"units\":\"data\"},\"x\":{\"field\":\"x\"},\"y\":{\"field\":\"y\"}},\"id\":\"740fd9e6-035a-46b3-b155-c9370874cbc0\",\"type\":\"Rect\"},{\"attributes\":{},\"id\":\"a49c4c35-4e38-48c2-9d48-5ea0810f6618\",\"type\":\"CategoricalTicker\"},{\"attributes\":{\"callback\":null,\"column_names\":[\"line_color\",\"line_alpha\",\"color\",\"fill_alpha\",\"height\",\"width\",\"y\",\"x\",\"label\"],\"data\":{\"chart_index\":[{\"index\":\"management\"}],\"color\":[\"crimson\"],\"fill_alpha\":[0.8],\"height\":[0.1634920634920635],\"index\":[\"management\"],\"label\":[{\"index\":\"management\"}],\"line_alpha\":[1.0],\"line_color\":[\"white\"],\"width\":[0.8],\"x\":[\"management\"],\"y\":[0.08174603174603175]}},\"id\":\"0f6cae3d-7b72-484e-b0db-070bf5d0c31c\",\"type\":\"ColumnDataSource\"},{\"attributes\":{\"data_source\":{\"id\":\"2ce8d4ee-201e-448b-8f31-6bfe3fecc018\",\"type\":\"ColumnDataSource\"},\"glyph\":{\"id\":\"b5545b2f-681f-4a8a-8592-f394f7e33027\",\"type\":\"Rect\"},\"hover_glyph\":null,\"nonselection_glyph\":null,\"selection_glyph\":null},\"id\":\"a2c745ca-5e58-457c-bc44-0b0b13caf618\",\"type\":\"GlyphRenderer\"},{\"attributes\":{\"data_source\":{\"id\":\"0f6cae3d-7b72-484e-b0db-070bf5d0c31c\",\"type\":\"ColumnDataSource\"},\"glyph\":{\"id\":\"ce9e981f-460c-441d-a082-a7e1fba6fdc9\",\"type\":\"Rect\"},\"hover_glyph\":null,\"nonselection_glyph\":null,\"selection_glyph\":null},\"id\":\"736f9973-762e-4e9f-9ecd-c8893eaac798\",\"type\":\"GlyphRenderer\"},{\"attributes\":{},\"id\":\"c76f4ee2-2f4a-4b13-b38b-0bd0e8e0ad99\",\"type\":\"BasicTickFormatter\"},{\"attributes\":{\"callback\":null,\"column_names\":[\"line_color\",\"line_alpha\",\"color\",\"fill_alpha\",\"height\",\"width\",\"y\",\"x\",\"label\"],\"data\":{\"chart_index\":[{\"index\":\"product_mng\"}],\"color\":[\"crimson\"],\"fill_alpha\":[0.8],\"height\":[0.14634146341463414],\"index\":[\"product_mng\"],\"label\":[{\"index\":\"product_mng\"}],\"line_alpha\":[1.0],\"line_color\":[\"white\"],\"width\":[0.8],\"x\":[\"product_mng\"],\"y\":[0.07317073170731707]}},\"id\":\"c12c1b4e-9ebc-4d6f-aa22-41432f6c4713\",\"type\":\"ColumnDataSource\"},{\"attributes\":{\"overlay\":{\"id\":\"1b45a9a3-2806-438e-9d5e-4c298b20f953\",\"type\":\"BoxAnnotation\"},\"plot\":{\"id\":\"d362fe34-9496-4e4d-b324-d1116a6d2069\",\"subtype\":\"Chart\",\"type\":\"Plot\"}},\"id\":\"40e5a638-36d5-4207-b563-cac43548552b\",\"type\":\"BoxZoomTool\"},{\"attributes\":{\"callback\":null,\"column_names\":[\"line_color\",\"line_alpha\",\"color\",\"fill_alpha\",\"height\",\"width\",\"y\",\"x\",\"label\"],\"data\":{\"chart_index\":[{\"index\":\"RandD\"}],\"color\":[\"crimson\"],\"fill_alpha\":[0.8],\"height\":[200.8005082592122],\"index\":[\"RandD\"],\"label\":[{\"index\":\"RandD\"}],\"line_alpha\":[1.0],\"line_color\":[\"white\"],\"width\":[0.8],\"x\":[\"RandD\"],\"y\":[100.4002541296061]}},\"id\":\"3916e603-5e08-435b-bb0f-56c1cae576ab\",\"type\":\"ColumnDataSource\"},{\"attributes\":{\"callback\":null,\"column_names\":[\"line_color\",\"line_alpha\",\"color\",\"fill_alpha\",\"height\",\"width\",\"y\",\"x\",\"label\"],\"data\":{\"chart_index\":[{\"index\":\"accounting\"}],\"color\":[\"crimson\"],\"fill_alpha\":[0.8],\"height\":[0.7177183833116036],\"index\":[\"accounting\"],\"label\":[{\"index\":\"accounting\"}],\"line_alpha\":[1.0],\"line_color\":[\"white\"],\"width\":[0.8],\"x\":[\"accounting\"],\"y\":[0.3588591916558018]}},\"id\":\"d529da96-be61-4143-8d34-d51dbc823efe\",\"type\":\"ColumnDataSource\"},{\"attributes\":{\"plot\":{\"id\":\"099f4aaa-a11a-4e5f-a52d-ba983413787c\",\"subtype\":\"Chart\",\"type\":\"Plot\"}},\"id\":\"0e6e2201-5a0b-4a8a-95cd-3d39f47335f8\",\"type\":\"WheelZoomTool\"},{\"attributes\":{\"fill_alpha\":{\"field\":\"fill_alpha\"},\"fill_color\":{\"field\":\"color\"},\"height\":{\"field\":\"height\",\"units\":\"data\"},\"line_color\":{\"field\":\"line_color\"},\"width\":{\"field\":\"width\",\"units\":\"data\"},\"x\":{\"field\":\"x\"},\"y\":{\"field\":\"y\"}},\"id\":\"5d32c85f-3f2d-4061-9477-63ef2550da0e\",\"type\":\"Rect\"},{\"attributes\":{\"fill_alpha\":{\"field\":\"fill_alpha\"},\"fill_color\":{\"field\":\"color\"},\"height\":{\"field\":\"height\",\"units\":\"data\"},\"line_color\":{\"field\":\"line_color\"},\"width\":{\"field\":\"width\",\"units\":\"data\"},\"x\":{\"field\":\"x\"},\"y\":{\"field\":\"y\"}},\"id\":\"2a875580-4e0a-435c-b88e-06effbc86f44\",\"type\":\"Rect\"},{\"attributes\":{\"data_source\":{\"id\":\"971b4533-d9b8-409b-9164-0ded09ea4099\",\"type\":\"ColumnDataSource\"},\"glyph\":{\"id\":\"c85f6065-a3bd-4fab-b77d-4b8d1c2a4535\",\"type\":\"Rect\"},\"hover_glyph\":null,\"nonselection_glyph\":null,\"selection_glyph\":null},\"id\":\"ba41c38d-2019-427f-a843-1a2b1e47d5b2\",\"type\":\"GlyphRenderer\"},{\"attributes\":{\"data_source\":{\"id\":\"38586145-e643-40cd-9676-1a6ec1b9e3c8\",\"type\":\"ColumnDataSource\"},\"glyph\":{\"id\":\"bdeb4742-cf58-4285-8527-262df200e996\",\"type\":\"Rect\"},\"hover_glyph\":null,\"nonselection_glyph\":null,\"selection_glyph\":null},\"id\":\"f795464f-974c-4b6d-ae77-0581f4aba5b9\",\"type\":\"GlyphRenderer\"},{\"attributes\":{\"active_drag\":\"auto\",\"active_scroll\":\"auto\",\"active_tap\":\"auto\",\"tools\":[{\"id\":\"b4abe235-368d-43f2-a648-52ab3ba63626\",\"type\":\"PanTool\"},{\"id\":\"17316575-b76a-47cc-823d-f52b7eb4b369\",\"type\":\"WheelZoomTool\"},{\"id\":\"de56eaca-1f57-4a82-ac74-66b9086c127d\",\"type\":\"BoxZoomTool\"},{\"id\":\"aeeeffee-f89c-45e1-8133-0dcfce2809fc\",\"type\":\"SaveTool\"},{\"id\":\"3b7eb071-fe63-425d-b7f1-cb28b116a4a6\",\"type\":\"ResetTool\"},{\"id\":\"6826e964-bd69-4735-a9ff-770d8e12cac2\",\"type\":\"HelpTool\"}]},\"id\":\"7b8bc67e-2339-4e2a-82f5-2967076b6356\",\"type\":\"Toolbar\"},{\"attributes\":{\"fill_alpha\":{\"field\":\"fill_alpha\"},\"fill_color\":{\"field\":\"color\"},\"height\":{\"field\":\"height\",\"units\":\"data\"},\"line_color\":{\"field\":\"line_color\"},\"width\":{\"field\":\"width\",\"units\":\"data\"},\"x\":{\"field\":\"x\"},\"y\":{\"field\":\"y\"}},\"id\":\"b5545b2f-681f-4a8a-8592-f394f7e33027\",\"type\":\"Rect\"},{\"attributes\":{\"data_source\":{\"id\":\"ae2df956-a23d-4713-abe3-938e6d32ce2e\",\"type\":\"ColumnDataSource\"},\"glyph\":{\"id\":\"bb186667-2873-4cf1-82f0-5c226979b292\",\"type\":\"Rect\"},\"hover_glyph\":null,\"nonselection_glyph\":null,\"selection_glyph\":null},\"id\":\"8ecbfcda-79a9-408e-afe2-285228afe86b\",\"type\":\"GlyphRenderer\"},{\"attributes\":{\"data_source\":{\"id\":\"eb3c4824-5419-4f63-b998-e19b87796d4b\",\"type\":\"ColumnDataSource\"},\"glyph\":{\"id\":\"cc8378e9-2169-42f7-b47c-96aa5f12373e\",\"type\":\"Rect\"},\"hover_glyph\":null,\"nonselection_glyph\":null,\"selection_glyph\":null},\"id\":\"ba6f6e5c-033c-415c-8455-cababcde0c19\",\"type\":\"GlyphRenderer\"},{\"attributes\":{\"callback\":null,\"end\":0.7602000000000004},\"id\":\"ef5304ac-9d1c-4084-befc-2a60136609f9\",\"type\":\"Range1d\"},{\"attributes\":{\"below\":[{\"id\":\"5ffde2a0-b38b-4424-ae59-38cbc54adee7\",\"type\":\"CategoricalAxis\"}],\"left\":[{\"id\":\"0a7eea03-f1f5-4615-99ed-9b3cc51cdf21\",\"type\":\"LinearAxis\"}],\"plot_height\":200,\"plot_width\":300,\"renderers\":[{\"id\":\"5166dd12-c19a-4ced-8868-d6149196f936\",\"type\":\"BoxAnnotation\"},{\"id\":\"d1dbb769-5a05-4a53-a87d-50d7241f1eff\",\"type\":\"GlyphRenderer\"},{\"id\":\"7cc11021-af4e-4e44-92c9-6c1d48a776c2\",\"type\":\"GlyphRenderer\"},{\"id\":\"ca1b5503-89f2-4fad-a0a0-97bb9cf619e1\",\"type\":\"GlyphRenderer\"},{\"id\":\"b501942c-310e-4ee3-aa02-270bca2cd4b3\",\"type\":\"GlyphRenderer\"},{\"id\":\"b3d7feba-c4c3-416a-8376-099ee979aebd\",\"type\":\"GlyphRenderer\"},{\"id\":\"b70878c5-ff5c-43cb-adb6-75e4a5ef8cc2\",\"type\":\"GlyphRenderer\"},{\"id\":\"5aa96772-dda1-4aaf-a353-f0ed139eb82e\",\"type\":\"GlyphRenderer\"},{\"id\":\"2c906791-bedf-4dc9-9f69-f11a0d0f02ec\",\"type\":\"GlyphRenderer\"},{\"id\":\"4aab933c-68bc-4f1f-9746-40aac12dd0c5\",\"type\":\"GlyphRenderer\"},{\"id\":\"16222c38-fe53-4cc7-adce-625a1d63e862\",\"type\":\"GlyphRenderer\"},{\"id\":\"5ffde2a0-b38b-4424-ae59-38cbc54adee7\",\"type\":\"CategoricalAxis\"},{\"id\":\"0a7eea03-f1f5-4615-99ed-9b3cc51cdf21\",\"type\":\"LinearAxis\"},{\"id\":\"6a385380-d98d-498c-842b-b18605685e67\",\"type\":\"Grid\"}],\"title\":{\"id\":\"efbb2e4c-fa32-42f5-aba1-2bba265e6535\",\"type\":\"Title\"},\"tool_events\":{\"id\":\"a8b938be-7521-43a5-9ef6-78efef1777bc\",\"type\":\"ToolEvents\"},\"toolbar\":{\"id\":\"7b8bc67e-2339-4e2a-82f5-2967076b6356\",\"type\":\"Toolbar\"},\"toolbar_location\":null,\"x_mapper_type\":\"auto\",\"x_range\":{\"id\":\"1b1072dc-e8ec-4bf0-bb3b-c2931d7b8ec8\",\"type\":\"FactorRange\"},\"y_mapper_type\":\"auto\",\"y_range\":{\"id\":\"147c353f-d2a6-407b-b983-866f588817af\",\"type\":\"Range1d\"}},\"id\":\"1cdc38bd-2d28-4fcd-9f39-2e5406e793ef\",\"subtype\":\"Chart\",\"type\":\"Plot\"},{\"attributes\":{\"plot\":{\"id\":\"1cdc38bd-2d28-4fcd-9f39-2e5406e793ef\",\"subtype\":\"Chart\",\"type\":\"Plot\"}},\"id\":\"17316575-b76a-47cc-823d-f52b7eb4b369\",\"type\":\"WheelZoomTool\"},{\"attributes\":{\"data_source\":{\"id\":\"56111e93-b627-403c-9620-440f6a7f01c4\",\"type\":\"ColumnDataSource\"},\"glyph\":{\"id\":\"64cbd244-fd63-44a9-b8c1-96ab9c74ca8e\",\"type\":\"Rect\"},\"hover_glyph\":null,\"nonselection_glyph\":null,\"selection_glyph\":null},\"id\":\"aad54ca0-99a6-46bf-af2a-1f1ecfa98790\",\"type\":\"GlyphRenderer\"},{\"attributes\":{\"plot\":{\"id\":\"1cdc38bd-2d28-4fcd-9f39-2e5406e793ef\",\"subtype\":\"Chart\",\"type\":\"Plot\"}},\"id\":\"aeeeffee-f89c-45e1-8133-0dcfce2809fc\",\"type\":\"SaveTool\"},{\"attributes\":{\"callback\":null,\"column_names\":[\"line_color\",\"line_alpha\",\"color\",\"fill_alpha\",\"height\",\"width\",\"y\",\"x\",\"label\"],\"data\":{\"chart_index\":[{\"index\":\"RandD\"}],\"color\":[\"crimson\"],\"fill_alpha\":[0.8],\"height\":[3.8538754764930117],\"index\":[\"RandD\"],\"label\":[{\"index\":\"RandD\"}],\"line_alpha\":[1.0],\"line_color\":[\"white\"],\"width\":[0.8],\"x\":[\"RandD\"],\"y\":[1.9269377382465058]}},\"id\":\"184bbcaf-ca97-49a8-b7e1-b751a7d63cea\",\"type\":\"ColumnDataSource\"},{\"attributes\":{\"plot\":{\"id\":\"d362fe34-9496-4e4d-b324-d1116a6d2069\",\"subtype\":\"Chart\",\"type\":\"Plot\"}},\"id\":\"9bcb2854-a4a9-4512-ade6-7e835443b815\",\"type\":\"HelpTool\"},{\"attributes\":{\"data_source\":{\"id\":\"ddd22f3d-b873-46c2-ab29-d157ff901778\",\"type\":\"ColumnDataSource\"},\"glyph\":{\"id\":\"219a03c2-4b62-4e8d-970d-360b5bd4818a\",\"type\":\"Rect\"},\"hover_glyph\":null,\"nonselection_glyph\":null,\"selection_glyph\":null},\"id\":\"3e5c5ff3-88e7-48ff-9d7b-8a77ccebefdf\",\"type\":\"GlyphRenderer\"},{\"attributes\":{\"plot\":{\"id\":\"d362fe34-9496-4e4d-b324-d1116a6d2069\",\"subtype\":\"Chart\",\"type\":\"Plot\"}},\"id\":\"da1b4018-5dad-4914-8d5a-8b97f79a59c8\",\"type\":\"WheelZoomTool\"},{\"attributes\":{\"callback\":null,\"factors\":[\"IT\",\"RandD\",\"accounting\",\"hr\",\"management\",\"marketing\",\"product_mng\",\"sales\",\"support\",\"technical\"]},\"id\":\"77fd403d-90b3-42d8-b7ec-84b6601f7e14\",\"type\":\"FactorRange\"},{\"attributes\":{\"callback\":null,\"column_names\":[\"line_color\",\"line_alpha\",\"color\",\"fill_alpha\",\"height\",\"width\",\"y\",\"x\",\"label\"],\"data\":{\"chart_index\":[{\"index\":\"hr\"}],\"color\":[\"crimson\"],\"fill_alpha\":[0.8],\"height\":[0.5988092016238159],\"index\":[\"hr\"],\"label\":[{\"index\":\"hr\"}],\"line_alpha\":[1.0],\"line_color\":[\"white\"],\"width\":[0.8],\"x\":[\"hr\"],\"y\":[0.29940460081190795]}},\"id\":\"6979646e-0181-42d7-948d-ce1af48bd131\",\"type\":\"ColumnDataSource\"},{\"attributes\":{\"data_source\":{\"id\":\"3280f37e-22aa-47e8-95f3-82b28cf61d70\",\"type\":\"ColumnDataSource\"},\"glyph\":{\"id\":\"a350bc6d-8e9e-4018-8495-a746cb35dd8e\",\"type\":\"Rect\"},\"hover_glyph\":null,\"nonselection_glyph\":null,\"selection_glyph\":null},\"id\":\"12736194-19a3-4e78-8fbf-01d36c2954f9\",\"type\":\"GlyphRenderer\"},{\"attributes\":{\"callback\":null,\"column_names\":[\"line_color\",\"line_alpha\",\"color\",\"fill_alpha\",\"height\",\"width\",\"y\",\"x\",\"label\"],\"data\":{\"chart_index\":[{\"index\":\"sales\"}],\"color\":[\"crimson\"],\"fill_alpha\":[0.8],\"height\":[0.614446859903383],\"index\":[\"sales\"],\"label\":[{\"index\":\"sales\"}],\"line_alpha\":[1.0],\"line_color\":[\"white\"],\"width\":[0.8],\"x\":[\"sales\"],\"y\":[0.3072234299516915]}},\"id\":\"0cba4753-cacd-42e1-905a-40d27321876b\",\"type\":\"ColumnDataSource\"},{\"attributes\":{\"data_source\":{\"id\":\"7e26bc43-71ef-437b-96bf-9b52db1ae2fa\",\"type\":\"ColumnDataSource\"},\"glyph\":{\"id\":\"4e30087f-bd5d-42fa-9258-cd54617d2a0f\",\"type\":\"Rect\"},\"hover_glyph\":null,\"nonselection_glyph\":null,\"selection_glyph\":null},\"id\":\"998a9ed0-566f-4a5b-8c3f-62c5c7fe910c\",\"type\":\"GlyphRenderer\"},{\"attributes\":{\"formatter\":{\"id\":\"1f37a274-bdf6-4832-8e1c-2dedfa36d639\",\"type\":\"CategoricalTickFormatter\"},\"major_label_orientation\":0.7853981633974483,\"plot\":{\"id\":\"c2a3ea28-8d3b-4a3b-986d-b9779f2a8679\",\"subtype\":\"Chart\",\"type\":\"Plot\"},\"ticker\":{\"id\":\"e27e3842-534f-4759-a9c9-d70f8ada7d15\",\"type\":\"CategoricalTicker\"}},\"id\":\"295ef938-2af9-4a0e-b807-2d45acccd669\",\"type\":\"CategoricalAxis\"},{\"attributes\":{\"callback\":null,\"factors\":[\"IT\",\"RandD\",\"accounting\",\"hr\",\"management\",\"marketing\",\"product_mng\",\"sales\",\"support\",\"technical\"]},\"id\":\"f689db5f-5628-444f-b0c6-a90408dde7c8\",\"type\":\"FactorRange\"},{\"attributes\":{\"below\":[{\"id\":\"ce13b016-220a-4f8b-b829-17c6d2e6d161\",\"type\":\"CategoricalAxis\"}],\"left\":[{\"id\":\"b63c1a3d-27d0-4012-b26e-de0fb6b2b011\",\"type\":\"LinearAxis\"}],\"plot_height\":200,\"plot_width\":300,\"renderers\":[{\"id\":\"6a72077b-e355-4762-8d19-80b8efaa7e79\",\"type\":\"BoxAnnotation\"},{\"id\":\"adf02113-4084-43e6-b961-2236e3afe391\",\"type\":\"GlyphRenderer\"},{\"id\":\"998a9ed0-566f-4a5b-8c3f-62c5c7fe910c\",\"type\":\"GlyphRenderer\"},{\"id\":\"e40bf02c-2544-4720-8404-00b6cb0b2a4e\",\"type\":\"GlyphRenderer\"},{\"id\":\"ba41c38d-2019-427f-a843-1a2b1e47d5b2\",\"type\":\"GlyphRenderer\"},{\"id\":\"4578e8eb-2dd6-484a-95dc-3cc2d1aa41c9\",\"type\":\"GlyphRenderer\"},{\"id\":\"b5a6ada6-f6ca-4249-b181-39f34ddad276\",\"type\":\"GlyphRenderer\"},{\"id\":\"abbfe6eb-7547-4842-9bb9-fac4727e5f53\",\"type\":\"GlyphRenderer\"},{\"id\":\"23a640d1-353d-4c20-9313-609acdb2a282\",\"type\":\"GlyphRenderer\"},{\"id\":\"8ecbfcda-79a9-408e-afe2-285228afe86b\",\"type\":\"GlyphRenderer\"},{\"id\":\"8c79f138-8016-4d96-8e38-f82976fe28e4\",\"type\":\"GlyphRenderer\"},{\"id\":\"ce13b016-220a-4f8b-b829-17c6d2e6d161\",\"type\":\"CategoricalAxis\"},{\"id\":\"b63c1a3d-27d0-4012-b26e-de0fb6b2b011\",\"type\":\"LinearAxis\"},{\"id\":\"556489d0-0881-44ad-830f-7990946af287\",\"type\":\"Grid\"}],\"title\":{\"id\":\"eaa447b0-0fd8-4f40-ab18-e8813139f017\",\"type\":\"Title\"},\"tool_events\":{\"id\":\"ded63bbd-8e33-458f-9790-b04c2c289b57\",\"type\":\"ToolEvents\"},\"toolbar\":{\"id\":\"2d29297a-2e6d-49d5-aea8-2247ce3a74a9\",\"type\":\"Toolbar\"},\"toolbar_location\":null,\"x_mapper_type\":\"auto\",\"x_range\":{\"id\":\"77fd403d-90b3-42d8-b7ec-84b6601f7e14\",\"type\":\"FactorRange\"},\"y_mapper_type\":\"auto\",\"y_range\":{\"id\":\"ef5304ac-9d1c-4084-befc-2a60136609f9\",\"type\":\"Range1d\"}},\"id\":\"484eda2b-0d1b-4fee-9ed4-550433ab83f7\",\"subtype\":\"Chart\",\"type\":\"Plot\"},{\"attributes\":{},\"id\":\"bea8053b-9f32-4212-bd3f-4bf7e2ac4a3a\",\"type\":\"CategoricalTicker\"},{\"attributes\":{\"fill_alpha\":{\"field\":\"fill_alpha\"},\"fill_color\":{\"field\":\"color\"},\"height\":{\"field\":\"height\",\"units\":\"data\"},\"line_color\":{\"field\":\"line_color\"},\"width\":{\"field\":\"width\",\"units\":\"data\"},\"x\":{\"field\":\"x\"},\"y\":{\"field\":\"y\"}},\"id\":\"233f3504-8e76-48c2-9089-0052231110a9\",\"type\":\"Rect\"},{\"attributes\":{},\"id\":\"cb62dfb0-3805-4ef1-9119-da11385ebc88\",\"type\":\"BasicTickFormatter\"},{\"attributes\":{\"fill_alpha\":{\"field\":\"fill_alpha\"},\"fill_color\":{\"field\":\"color\"},\"height\":{\"field\":\"height\",\"units\":\"data\"},\"line_color\":{\"field\":\"line_color\"},\"width\":{\"field\":\"width\",\"units\":\"data\"},\"x\":{\"field\":\"x\"},\"y\":{\"field\":\"y\"}},\"id\":\"2d8bf6f0-870e-4f8b-8470-6d8876bc0eb5\",\"type\":\"Rect\"},{\"attributes\":{\"sizing_mode\":\"scale_width\",\"toolbar_location\":\"above\",\"tools\":[{\"id\":\"b4abe235-368d-43f2-a648-52ab3ba63626\",\"type\":\"PanTool\"},{\"id\":\"17316575-b76a-47cc-823d-f52b7eb4b369\",\"type\":\"WheelZoomTool\"},{\"id\":\"de56eaca-1f57-4a82-ac74-66b9086c127d\",\"type\":\"BoxZoomTool\"},{\"id\":\"aeeeffee-f89c-45e1-8133-0dcfce2809fc\",\"type\":\"SaveTool\"},{\"id\":\"3b7eb071-fe63-425d-b7f1-cb28b116a4a6\",\"type\":\"ResetTool\"},{\"id\":\"6826e964-bd69-4735-a9ff-770d8e12cac2\",\"type\":\"HelpTool\"},{\"id\":\"e0944a99-3fee-4e2d-96fb-3f4ac28d0dae\",\"type\":\"PanTool\"},{\"id\":\"fd4da829-48fd-4b7d-8067-0093232fc538\",\"type\":\"WheelZoomTool\"},{\"id\":\"cda4b2ad-d831-4df0-b45e-72fde5cbba55\",\"type\":\"BoxZoomTool\"},{\"id\":\"c7c5ed2f-53f3-4590-96f8-bcbb489e7a40\",\"type\":\"SaveTool\"},{\"id\":\"c4df96bc-c0ae-4691-bee4-45c34c702f5a\",\"type\":\"ResetTool\"},{\"id\":\"db59f792-881a-4f06-8109-bd97126b2ac4\",\"type\":\"HelpTool\"},{\"id\":\"4e9ebeb7-1e79-4485-a8d5-ba89a682fe16\",\"type\":\"PanTool\"},{\"id\":\"706e6d4e-f5ac-41f0-a78c-768ccc7fd3c8\",\"type\":\"WheelZoomTool\"},{\"id\":\"14214ac2-011b-40c9-8c12-1e5913deecd8\",\"type\":\"BoxZoomTool\"},{\"id\":\"fa478368-8837-4f96-9e47-a6034ae947cc\",\"type\":\"SaveTool\"},{\"id\":\"ffd3df1e-f610-41c4-9962-2ed87b227609\",\"type\":\"ResetTool\"},{\"id\":\"030253b3-eef3-4563-9174-461c2c5c582f\",\"type\":\"HelpTool\"},{\"id\":\"05d0fed4-d967-47ca-96cf-a41a7daf10ef\",\"type\":\"PanTool\"},{\"id\":\"da1b4018-5dad-4914-8d5a-8b97f79a59c8\",\"type\":\"WheelZoomTool\"},{\"id\":\"40e5a638-36d5-4207-b563-cac43548552b\",\"type\":\"BoxZoomTool\"},{\"id\":\"958975b1-e372-4d17-9c0d-65317d4ce142\",\"type\":\"SaveTool\"},{\"id\":\"b5fbc444-fd79-470e-93b7-ad8bba5c152e\",\"type\":\"ResetTool\"},{\"id\":\"9bcb2854-a4a9-4512-ade6-7e835443b815\",\"type\":\"HelpTool\"},{\"id\":\"1d0c965d-4dc8-4d73-bb62-aa72e11f8943\",\"type\":\"PanTool\"},{\"id\":\"452b22d3-0cbd-4829-958a-4d00cdcb0ee1\",\"type\":\"WheelZoomTool\"},{\"id\":\"68bd7cc1-a4d2-4e93-a833-02a4c04ae208\",\"type\":\"BoxZoomTool\"},{\"id\":\"b57d1340-1710-49f1-9547-aefff59d3fb7\",\"type\":\"SaveTool\"},{\"id\":\"6cde28d0-f9af-45ee-9743-42a496b35384\",\"type\":\"ResetTool\"},{\"id\":\"796f8a7b-977d-49bd-8c16-26e9b32afb2f\",\"type\":\"HelpTool\"},{\"id\":\"247b18cf-67ff-4b4b-8210-c78963cf8002\",\"type\":\"PanTool\"},{\"id\":\"4f0b9446-f5f9-4d41-9f8d-aff88c014484\",\"type\":\"WheelZoomTool\"},{\"id\":\"a09fefbf-2c27-4b00-b60d-f488767c7a20\",\"type\":\"BoxZoomTool\"},{\"id\":\"9f0442fd-f9d4-4e3c-a83e-0e75d7b7ff4d\",\"type\":\"SaveTool\"},{\"id\":\"4bfeee8f-94fe-4b62-a361-f6f48bc515ed\",\"type\":\"ResetTool\"},{\"id\":\"6cb6de24-e10a-4866-9cdc-233cf5df7fa7\",\"type\":\"HelpTool\"},{\"id\":\"3483d3a5-ff48-4010-ac32-224a62ad3561\",\"type\":\"PanTool\"},{\"id\":\"0e6e2201-5a0b-4a8a-95cd-3d39f47335f8\",\"type\":\"WheelZoomTool\"},{\"id\":\"b97848e6-a229-45d1-b670-f0ca3c612712\",\"type\":\"BoxZoomTool\"},{\"id\":\"bd2cc578-ac4d-424c-9e09-c61a50ad0e9a\",\"type\":\"SaveTool\"},{\"id\":\"80f83275-22f5-4b68-a641-57a7a842d55a\",\"type\":\"ResetTool\"},{\"id\":\"9cc7c149-ad58-412f-88b9-f264de7e38ab\",\"type\":\"HelpTool\"},{\"id\":\"7524226e-5fdd-4127-b47a-73c40f8b2ff2\",\"type\":\"PanTool\"},{\"id\":\"4d418a29-b2bb-4633-837e-a9ee7e741a80\",\"type\":\"WheelZoomTool\"},{\"id\":\"b131ef39-324f-4808-b5d5-de24783acb24\",\"type\":\"BoxZoomTool\"},{\"id\":\"86495a54-704a-4166-9b16-93bde5e57da0\",\"type\":\"SaveTool\"},{\"id\":\"466bf17c-e478-4891-a6a4-76ea8ca67ab6\",\"type\":\"ResetTool\"},{\"id\":\"3947c5b9-601a-4dba-af49-32e34c916be8\",\"type\":\"HelpTool\"}]},\"id\":\"0096780c-e65d-4258-8a30-8d14e50b0152\",\"type\":\"ToolbarBox\"},{\"attributes\":{\"data_source\":{\"id\":\"96333b9f-6092-4bf5-befc-91c386bf7a8d\",\"type\":\"ColumnDataSource\"},\"glyph\":{\"id\":\"04c7f1a8-b6bf-453e-9a77-4bb5fa8761e3\",\"type\":\"Rect\"},\"hover_glyph\":null,\"nonselection_glyph\":null,\"selection_glyph\":null},\"id\":\"abbfe6eb-7547-4842-9bb9-fac4727e5f53\",\"type\":\"GlyphRenderer\"},{\"attributes\":{\"plot\":{\"id\":\"d362fe34-9496-4e4d-b324-d1116a6d2069\",\"subtype\":\"Chart\",\"type\":\"Plot\"}},\"id\":\"958975b1-e372-4d17-9c0d-65317d4ce142\",\"type\":\"SaveTool\"},{\"attributes\":{\"plot\":{\"id\":\"1cdc38bd-2d28-4fcd-9f39-2e5406e793ef\",\"subtype\":\"Chart\",\"type\":\"Plot\"}},\"id\":\"6826e964-bd69-4735-a9ff-770d8e12cac2\",\"type\":\"HelpTool\"},{\"attributes\":{},\"id\":\"820dbbf6-613c-4b20-a91e-d8de910c74ae\",\"type\":\"CategoricalTicker\"},{\"attributes\":{\"callback\":null,\"column_names\":[\"line_color\",\"line_alpha\",\"color\",\"fill_alpha\",\"height\",\"width\",\"y\",\"x\",\"label\"],\"data\":{\"chart_index\":[{\"index\":\"accounting\"}],\"color\":[\"crimson\"],\"fill_alpha\":[0.8],\"height\":[0.12516297262059975],\"index\":[\"accounting\"],\"label\":[{\"index\":\"accounting\"}],\"line_alpha\":[1.0],\"line_color\":[\"white\"],\"width\":[0.8],\"x\":[\"accounting\"],\"y\":[0.06258148631029987]}},\"id\":\"8474acbb-dab9-4006-afc3-27d6768e4698\",\"type\":\"ColumnDataSource\"},{\"attributes\":{\"callback\":null,\"column_names\":[\"line_color\",\"line_alpha\",\"color\",\"fill_alpha\",\"height\",\"width\",\"y\",\"x\",\"label\"],\"data\":{\"chart_index\":[{\"index\":\"management\"}],\"color\":[\"crimson\"],\"fill_alpha\":[0.8],\"height\":[4.303174603174603],\"index\":[\"management\"],\"label\":[{\"index\":\"management\"}],\"line_alpha\":[1.0],\"line_color\":[\"white\"],\"width\":[0.8],\"x\":[\"management\"],\"y\":[2.1515873015873015]}},\"id\":\"abf6002b-a8e1-41d4-a638-b4c7fc1d1914\",\"type\":\"ColumnDataSource\"},{\"attributes\":{},\"id\":\"1f37a274-bdf6-4832-8e1c-2dedfa36d639\",\"type\":\"CategoricalTickFormatter\"},{\"attributes\":{\"plot\":{\"id\":\"c2a3ea28-8d3b-4a3b-986d-b9779f2a8679\",\"subtype\":\"Chart\",\"type\":\"Plot\"}},\"id\":\"4f0b9446-f5f9-4d41-9f8d-aff88c014484\",\"type\":\"WheelZoomTool\"},{\"attributes\":{\"fill_alpha\":{\"field\":\"fill_alpha\"},\"fill_color\":{\"field\":\"color\"},\"height\":{\"field\":\"height\",\"units\":\"data\"},\"line_color\":{\"field\":\"line_color\"},\"width\":{\"field\":\"width\",\"units\":\"data\"},\"x\":{\"field\":\"x\"},\"y\":{\"field\":\"y\"}},\"id\":\"e3e8e939-eac6-4023-a599-9693d1aabe73\",\"type\":\"Rect\"},{\"attributes\":{\"data_source\":{\"id\":\"abf6002b-a8e1-41d4-a638-b4c7fc1d1914\",\"type\":\"ColumnDataSource\"},\"glyph\":{\"id\":\"6324d13a-67b2-4446-b4d7-06ba9b833afd\",\"type\":\"Rect\"},\"hover_glyph\":null,\"nonselection_glyph\":null,\"selection_glyph\":null},\"id\":\"7c1a4341-4094-407f-89d8-42e1ee78ca98\",\"type\":\"GlyphRenderer\"},{\"attributes\":{},\"id\":\"c4f47d2c-0820-41db-a48f-cfde7c775120\",\"type\":\"CategoricalTicker\"},{\"attributes\":{\"callback\":null,\"factors\":[\"IT\",\"RandD\",\"accounting\",\"hr\",\"management\",\"marketing\",\"product_mng\",\"sales\",\"support\",\"technical\"]},\"id\":\"5a0fc699-206b-4c6b-b998-86981c2cf42b\",\"type\":\"FactorRange\"},{\"attributes\":{\"dimension\":1,\"plot\":{\"id\":\"484eda2b-0d1b-4fee-9ed4-550433ab83f7\",\"subtype\":\"Chart\",\"type\":\"Plot\"},\"ticker\":{\"id\":\"e80afd75-e8ca-415a-8dfd-1112ac4b3ce6\",\"type\":\"BasicTicker\"}},\"id\":\"556489d0-0881-44ad-830f-7990946af287\",\"type\":\"Grid\"},{\"attributes\":{\"callback\":null,\"column_names\":[\"line_color\",\"line_alpha\",\"color\",\"fill_alpha\",\"height\",\"width\",\"y\",\"x\",\"label\"],\"data\":{\"chart_index\":[{\"index\":\"sales\"}],\"color\":[\"crimson\"],\"fill_alpha\":[0.8],\"height\":[3.776328502415459],\"index\":[\"sales\"],\"label\":[{\"index\":\"sales\"}],\"line_alpha\":[1.0],\"line_color\":[\"white\"],\"width\":[0.8],\"x\":[\"sales\"],\"y\":[1.8881642512077295]}},\"id\":\"3ac6b152-b80c-414e-b585-ac902123d12b\",\"type\":\"ColumnDataSource\"},{\"attributes\":{\"data_source\":{\"id\":\"9f9a1c39-349a-40b6-af0e-b3e5e9f93c4d\",\"type\":\"ColumnDataSource\"},\"glyph\":{\"id\":\"b0005fe8-cfe5-4257-9535-1859c496f851\",\"type\":\"Rect\"},\"hover_glyph\":null,\"nonselection_glyph\":null,\"selection_glyph\":null},\"id\":\"23a640d1-353d-4c20-9313-609acdb2a282\",\"type\":\"GlyphRenderer\"},{\"attributes\":{\"callback\":null,\"column_names\":[\"line_color\",\"line_alpha\",\"color\",\"fill_alpha\",\"height\",\"width\",\"y\",\"x\",\"label\"],\"data\":{\"chart_index\":[{\"index\":\"technical\"}],\"color\":[\"crimson\"],\"fill_alpha\":[0.8],\"height\":[0.7210992647058838],\"index\":[\"technical\"],\"label\":[{\"index\":\"technical\"}],\"line_alpha\":[1.0],\"line_color\":[\"white\"],\"width\":[0.8],\"x\":[\"technical\"],\"y\":[0.3605496323529419]}},\"id\":\"0f32731f-a26c-4416-b1f9-88f7a799d473\",\"type\":\"ColumnDataSource\"},{\"attributes\":{\"data_source\":{\"id\":\"184bbcaf-ca97-49a8-b7e1-b751a7d63cea\",\"type\":\"ColumnDataSource\"},\"glyph\":{\"id\":\"b9cadf26-e17b-482c-ab4e-1fe762609f67\",\"type\":\"Rect\"},\"hover_glyph\":null,\"nonselection_glyph\":null,\"selection_glyph\":null},\"id\":\"a90eb4f1-2604-4dd1-98c5-7492685670e9\",\"type\":\"GlyphRenderer\"},{\"attributes\":{\"plot\":{\"id\":\"c2a3ea28-8d3b-4a3b-986d-b9779f2a8679\",\"subtype\":\"Chart\",\"type\":\"Plot\"}},\"id\":\"247b18cf-67ff-4b4b-8210-c78963cf8002\",\"type\":\"PanTool\"},{\"attributes\":{},\"id\":\"32aadab7-a7eb-438e-891c-24523fbf9c79\",\"type\":\"ToolEvents\"},{\"attributes\":{\"fill_alpha\":{\"field\":\"fill_alpha\"},\"fill_color\":{\"field\":\"color\"},\"height\":{\"field\":\"height\",\"units\":\"data\"},\"line_color\":{\"field\":\"line_color\"},\"width\":{\"field\":\"width\",\"units\":\"data\"},\"x\":{\"field\":\"x\"},\"y\":{\"field\":\"y\"}},\"id\":\"8e0ca053-3118-4369-b816-7cbcdef3bc10\",\"type\":\"Rect\"},{\"attributes\":{\"plot\":{\"id\":\"b4bea73b-0f97-4345-be7c-1bb0d05955fb\",\"subtype\":\"Chart\",\"type\":\"Plot\"}},\"id\":\"ffd3df1e-f610-41c4-9962-2ed87b227609\",\"type\":\"ResetTool\"},{\"attributes\":{\"plot\":{\"id\":\"484eda2b-0d1b-4fee-9ed4-550433ab83f7\",\"subtype\":\"Chart\",\"type\":\"Plot\"}},\"id\":\"c7c5ed2f-53f3-4590-96f8-bcbb489e7a40\",\"type\":\"SaveTool\"},{\"attributes\":{\"data_source\":{\"id\":\"c74964a6-c520-41e2-a79c-d93100cdf5f0\",\"type\":\"ColumnDataSource\"},\"glyph\":{\"id\":\"6004ece6-863e-412a-9040-cc4a180733cc\",\"type\":\"Rect\"},\"hover_glyph\":null,\"nonselection_glyph\":null,\"selection_glyph\":null},\"id\":\"ca32b615-58b8-4d93-a92e-7800b841fb59\",\"type\":\"GlyphRenderer\"},{\"attributes\":{\"children\":[{\"id\":\"d362fe34-9496-4e4d-b324-d1116a6d2069\",\"subtype\":\"Chart\",\"type\":\"Plot\"},{\"id\":\"087258af-d19f-4b93-a6c5-288d81aa0134\",\"subtype\":\"Chart\",\"type\":\"Plot\"},{\"id\":\"c2a3ea28-8d3b-4a3b-986d-b9779f2a8679\",\"subtype\":\"Chart\",\"type\":\"Plot\"}]},\"id\":\"776cccb2-6d82-4f78-adf4-11d6d64c693c\",\"type\":\"Row\"},{\"attributes\":{\"data_source\":{\"id\":\"bb1b0dae-ebad-4ae1-a378-f87f1f5f54d1\",\"type\":\"ColumnDataSource\"},\"glyph\":{\"id\":\"4a7453a2-7706-4a2c-a9b3-02e7bf9ec00d\",\"type\":\"Rect\"},\"hover_glyph\":null,\"nonselection_glyph\":null,\"selection_glyph\":null},\"id\":\"b3d7feba-c4c3-416a-8376-099ee979aebd\",\"type\":\"GlyphRenderer\"},{\"attributes\":{\"dimension\":1,\"plot\":{\"id\":\"c2a3ea28-8d3b-4a3b-986d-b9779f2a8679\",\"subtype\":\"Chart\",\"type\":\"Plot\"},\"ticker\":{\"id\":\"308598f2-fb7c-442d-b623-59f9ea1135b4\",\"type\":\"BasicTicker\"}},\"id\":\"6cdb74d8-aed7-408b-a07c-0ee5b9b98eae\",\"type\":\"Grid\"},{\"attributes\":{\"plot\":{\"id\":\"1cdc38bd-2d28-4fcd-9f39-2e5406e793ef\",\"subtype\":\"Chart\",\"type\":\"Plot\"}},\"id\":\"3b7eb071-fe63-425d-b7f1-cb28b116a4a6\",\"type\":\"ResetTool\"},{\"attributes\":{\"fill_alpha\":{\"field\":\"fill_alpha\"},\"fill_color\":{\"field\":\"color\"},\"height\":{\"field\":\"height\",\"units\":\"data\"},\"line_color\":{\"field\":\"line_color\"},\"width\":{\"field\":\"width\",\"units\":\"data\"},\"x\":{\"field\":\"x\"},\"y\":{\"field\":\"y\"}},\"id\":\"bb186667-2873-4cf1-82f0-5c226979b292\",\"type\":\"Rect\"},{\"attributes\":{\"data_source\":{\"id\":\"d182b98f-86c4-4734-a7f4-5bacb5848f11\",\"type\":\"ColumnDataSource\"},\"glyph\":{\"id\":\"0fa218bb-fd77-4e8d-b68f-4cbea142c8d7\",\"type\":\"Rect\"},\"hover_glyph\":null,\"nonselection_glyph\":null,\"selection_glyph\":null},\"id\":\"d1dbb769-5a05-4a53-a87d-50d7241f1eff\",\"type\":\"GlyphRenderer\"},{\"attributes\":{\"callback\":null,\"column_names\":[\"line_color\",\"line_alpha\",\"color\",\"fill_alpha\",\"height\",\"width\",\"y\",\"x\",\"label\"],\"data\":{\"chart_index\":[{\"index\":\"hr\"}],\"color\":[\"crimson\"],\"fill_alpha\":[0.8],\"height\":[0.29093369418132614],\"index\":[\"hr\"],\"label\":[{\"index\":\"hr\"}],\"line_alpha\":[1.0],\"line_color\":[\"white\"],\"width\":[0.8],\"x\":[\"hr\"],\"y\":[0.14546684709066307]}},\"id\":\"5ad29da6-9934-4d0d-bbf7-12e9ee0613d8\",\"type\":\"ColumnDataSource\"},{\"attributes\":{\"below\":[{\"id\":\"5ca2c442-f4c4-4f0f-8397-70dbcea26cf4\",\"type\":\"CategoricalAxis\"}],\"left\":[{\"id\":\"fa8b2619-c73d-4c2b-b6dd-2ff8d243719f\",\"type\":\"LinearAxis\"}],\"plot_height\":200,\"plot_width\":300,\"renderers\":[{\"id\":\"f9e908b5-cdeb-4a4d-b06d-a991d0d68c9b\",\"type\":\"BoxAnnotation\"},{\"id\":\"6c803ea5-4a70-4349-9134-5c8dd6c3b957\",\"type\":\"GlyphRenderer\"},{\"id\":\"a90eb4f1-2604-4dd1-98c5-7492685670e9\",\"type\":\"GlyphRenderer\"},{\"id\":\"73d30d07-65fa-4008-9961-ce7a75b67da4\",\"type\":\"GlyphRenderer\"},{\"id\":\"12736194-19a3-4e78-8fbf-01d36c2954f9\",\"type\":\"GlyphRenderer\"},{\"id\":\"be56a342-1fd0-45a9-8b04-445dd099dde7\",\"type\":\"GlyphRenderer\"},{\"id\":\"9925688f-1c1c-4802-a677-6ec987ef0e2c\",\"type\":\"GlyphRenderer\"},{\"id\":\"d57ffd5b-434b-436a-8539-3d26f8a6bab3\",\"type\":\"GlyphRenderer\"},{\"id\":\"ccb2d2df-5ab0-4942-a2b8-e582f915580c\",\"type\":\"GlyphRenderer\"},{\"id\":\"ca32b615-58b8-4d93-a92e-7800b841fb59\",\"type\":\"GlyphRenderer\"},{\"id\":\"a2c745ca-5e58-457c-bc44-0b0b13caf618\",\"type\":\"GlyphRenderer\"},{\"id\":\"5ca2c442-f4c4-4f0f-8397-70dbcea26cf4\",\"type\":\"CategoricalAxis\"},{\"id\":\"fa8b2619-c73d-4c2b-b6dd-2ff8d243719f\",\"type\":\"LinearAxis\"},{\"id\":\"83856ded-81ac-4175-b14f-ebe60dfd7350\",\"type\":\"Grid\"}],\"title\":{\"id\":\"9023d735-b3c5-4029-8d14-b174678593ca\",\"type\":\"Title\"},\"tool_events\":{\"id\":\"60c18124-e88d-4866-964d-c236dc706c18\",\"type\":\"ToolEvents\"},\"toolbar\":{\"id\":\"00e4f5da-7a24-443a-8949-ff2fd1652c44\",\"type\":\"Toolbar\"},\"toolbar_location\":null,\"x_mapper_type\":\"auto\",\"x_range\":{\"id\":\"63c332ae-ef3b-428f-b9e6-acda85b24db8\",\"type\":\"FactorRange\"},\"y_mapper_type\":\"auto\",\"y_range\":{\"id\":\"aabf9eaa-8a31-4265-a505-7ad7e6f98a45\",\"type\":\"Range1d\"}},\"id\":\"b4bea73b-0f97-4345-be7c-1bb0d05955fb\",\"subtype\":\"Chart\",\"type\":\"Plot\"},{\"attributes\":{\"fill_alpha\":{\"field\":\"fill_alpha\"},\"fill_color\":{\"field\":\"color\"},\"height\":{\"field\":\"height\",\"units\":\"data\"},\"line_color\":{\"field\":\"line_color\"},\"width\":{\"field\":\"width\",\"units\":\"data\"},\"x\":{\"field\":\"x\"},\"y\":{\"field\":\"y\"}},\"id\":\"6324d13a-67b2-4446-b4d7-06ba9b833afd\",\"type\":\"Rect\"},{\"attributes\":{\"data_source\":{\"id\":\"022fc43a-e4f4-4456-9453-ad5e17662c2a\",\"type\":\"ColumnDataSource\"},\"glyph\":{\"id\":\"8fee01c1-e752-45dc-afa1-704261fe9ea0\",\"type\":\"Rect\"},\"hover_glyph\":null,\"nonselection_glyph\":null,\"selection_glyph\":null},\"id\":\"b870f5b2-246e-4c5b-bf79-334ab59bc0a4\",\"type\":\"GlyphRenderer\"},{\"attributes\":{},\"id\":\"cdaab70b-5d78-4010-82e1-e06c018ad8b3\",\"type\":\"BasicTicker\"},{\"attributes\":{\"callback\":null,\"column_names\":[\"line_color\",\"line_alpha\",\"color\",\"fill_alpha\",\"height\",\"width\",\"y\",\"x\",\"label\"],\"data\":{\"chart_index\":[{\"index\":\"RandD\"}],\"color\":[\"crimson\"],\"fill_alpha\":[0.8],\"height\":[0.6198221092757306],\"index\":[\"RandD\"],\"label\":[{\"index\":\"RandD\"}],\"line_alpha\":[1.0],\"line_color\":[\"white\"],\"width\":[0.8],\"x\":[\"RandD\"],\"y\":[0.3099110546378653]}},\"id\":\"ef60add6-5e21-48f4-aa87-898ecbbc64cb\",\"type\":\"ColumnDataSource\"},{\"attributes\":{\"callback\":null,\"column_names\":[\"line_color\",\"line_alpha\",\"color\",\"fill_alpha\",\"height\",\"width\",\"y\",\"x\",\"label\"],\"data\":{\"chart_index\":[{\"index\":\"RandD\"}],\"color\":[\"crimson\"],\"fill_alpha\":[0.8],\"height\":[0.03430749682337993],\"index\":[\"RandD\"],\"label\":[{\"index\":\"RandD\"}],\"line_alpha\":[1.0],\"line_color\":[\"white\"],\"width\":[0.8],\"x\":[\"RandD\"],\"y\":[0.017153748411689963]}},\"id\":\"2219d9b0-706a-4f59-b7e2-24e9c6b05800\",\"type\":\"ColumnDataSource\"},{\"attributes\":{\"callback\":null,\"column_names\":[\"line_color\",\"line_alpha\",\"color\",\"fill_alpha\",\"height\",\"width\",\"y\",\"x\",\"label\"],\"data\":{\"chart_index\":[{\"index\":\"product_mng\"}],\"color\":[\"crimson\"],\"fill_alpha\":[0.8],\"height\":[0.6196341463414636],\"index\":[\"product_mng\"],\"label\":[{\"index\":\"product_mng\"}],\"line_alpha\":[1.0],\"line_color\":[\"white\"],\"width\":[0.8],\"x\":[\"product_mng\"],\"y\":[0.3098170731707318]}},\"id\":\"9f5198ce-37d6-4a00-9c4c-9ff35e7bf566\",\"type\":\"ColumnDataSource\"},{\"attributes\":{\"formatter\":{\"id\":\"4a581237-c2ff-4927-a68d-f9d40f88994f\",\"type\":\"CategoricalTickFormatter\"},\"major_label_orientation\":0.7853981633974483,\"plot\":{\"id\":\"087258af-d19f-4b93-a6c5-288d81aa0134\",\"subtype\":\"Chart\",\"type\":\"Plot\"},\"ticker\":{\"id\":\"f3a1440d-e10e-4818-b138-14a5bdeef8e4\",\"type\":\"CategoricalTicker\"}},\"id\":\"03b5ffc3-8535-46cd-9c0c-9e6f4adb7ad9\",\"type\":\"CategoricalAxis\"},{\"attributes\":{\"data_source\":{\"id\":\"6e02ce3f-9f48-4e30-8221-b7198c2b4d7b\",\"type\":\"ColumnDataSource\"},\"glyph\":{\"id\":\"4c45de00-0123-4c10-bb03-8f8fdf49f8ea\",\"type\":\"Rect\"},\"hover_glyph\":null,\"nonselection_glyph\":null,\"selection_glyph\":null},\"id\":\"6dd36d56-e8d1-4252-8c44-04826f9391e8\",\"type\":\"GlyphRenderer\"},{\"attributes\":{\"plot\":{\"id\":\"099f4aaa-a11a-4e5f-a52d-ba983413787c\",\"subtype\":\"Chart\",\"type\":\"Plot\"}},\"id\":\"80f83275-22f5-4b68-a641-57a7a842d55a\",\"type\":\"ResetTool\"},{\"attributes\":{\"fill_alpha\":{\"field\":\"fill_alpha\"},\"fill_color\":{\"field\":\"color\"},\"height\":{\"field\":\"height\",\"units\":\"data\"},\"line_color\":{\"field\":\"line_color\"},\"width\":{\"field\":\"width\",\"units\":\"data\"},\"x\":{\"field\":\"x\"},\"y\":{\"field\":\"y\"}},\"id\":\"8268f259-0d46-4fc3-9ece-4c784be13196\",\"type\":\"Rect\"},{\"attributes\":{\"fill_alpha\":{\"field\":\"fill_alpha\"},\"fill_color\":{\"field\":\"color\"},\"height\":{\"field\":\"height\",\"units\":\"data\"},\"line_color\":{\"field\":\"line_color\"},\"width\":{\"field\":\"width\",\"units\":\"data\"},\"x\":{\"field\":\"x\"},\"y\":{\"field\":\"y\"}},\"id\":\"74615b9a-1bcd-432f-8eef-b1d1a5a32293\",\"type\":\"Rect\"},{\"attributes\":{\"fill_alpha\":{\"field\":\"fill_alpha\"},\"fill_color\":{\"field\":\"color\"},\"height\":{\"field\":\"height\",\"units\":\"data\"},\"line_color\":{\"field\":\"line_color\"},\"width\":{\"field\":\"width\",\"units\":\"data\"},\"x\":{\"field\":\"x\"},\"y\":{\"field\":\"y\"}},\"id\":\"d9cf9100-5844-4768-a34a-6fbbebdbf196\",\"type\":\"Rect\"},{\"attributes\":{\"data_source\":{\"id\":\"c86be4e8-fdf4-4850-b595-d0d83c72edc2\",\"type\":\"ColumnDataSource\"},\"glyph\":{\"id\":\"45f97c35-892f-4b2c-b720-74dd776a7397\",\"type\":\"Rect\"},\"hover_glyph\":null,\"nonselection_glyph\":null,\"selection_glyph\":null},\"id\":\"6c803ea5-4a70-4349-9134-5c8dd6c3b957\",\"type\":\"GlyphRenderer\"},{\"attributes\":{\"callback\":null,\"column_names\":[\"line_color\",\"line_alpha\",\"color\",\"fill_alpha\",\"height\",\"width\",\"y\",\"x\",\"label\"],\"data\":{\"chart_index\":[{\"index\":\"management\"}],\"color\":[\"crimson\"],\"fill_alpha\":[0.8],\"height\":[3.8603174603174604],\"index\":[\"management\"],\"label\":[{\"index\":\"management\"}],\"line_alpha\":[1.0],\"line_color\":[\"white\"],\"width\":[0.8],\"x\":[\"management\"],\"y\":[1.9301587301587302]}},\"id\":\"d1d93755-6b9b-40d5-ae6b-576306ecbcce\",\"type\":\"ColumnDataSource\"},{\"attributes\":{\"data_source\":{\"id\":\"48b86ded-be0c-4e06-9ec6-bd2093d29502\",\"type\":\"ColumnDataSource\"},\"glyph\":{\"id\":\"2c7cb438-74db-4261-b18d-5c1c3ee975f7\",\"type\":\"Rect\"},\"hover_glyph\":null,\"nonselection_glyph\":null,\"selection_glyph\":null},\"id\":\"9c3f4b31-a138-4a38-a0fc-3cb66a97d592\",\"type\":\"GlyphRenderer\"},{\"attributes\":{\"formatter\":{\"id\":\"a5b07d4f-8a16-413a-9d08-f8b7454b5785\",\"type\":\"CategoricalTickFormatter\"},\"major_label_orientation\":0.7853981633974483,\"plot\":{\"id\":\"1cdc38bd-2d28-4fcd-9f39-2e5406e793ef\",\"subtype\":\"Chart\",\"type\":\"Plot\"},\"ticker\":{\"id\":\"a49c4c35-4e38-48c2-9d48-5ea0810f6618\",\"type\":\"CategoricalTicker\"}},\"id\":\"5ffde2a0-b38b-4424-ae59-38cbc54adee7\",\"type\":\"CategoricalAxis\"},{\"attributes\":{\"data_source\":{\"id\":\"c12c1b4e-9ebc-4d6f-aa22-41432f6c4713\",\"type\":\"ColumnDataSource\"},\"glyph\":{\"id\":\"61ac05d4-04e7-4dea-9e1d-1a774a94f3c2\",\"type\":\"Rect\"},\"hover_glyph\":null,\"nonselection_glyph\":null,\"selection_glyph\":null},\"id\":\"d2cb203e-804c-47aa-a336-566f1b304534\",\"type\":\"GlyphRenderer\"},{\"attributes\":{\"fill_alpha\":{\"field\":\"fill_alpha\"},\"fill_color\":{\"field\":\"color\"},\"height\":{\"field\":\"height\",\"units\":\"data\"},\"line_color\":{\"field\":\"line_color\"},\"width\":{\"field\":\"width\",\"units\":\"data\"},\"x\":{\"field\":\"x\"},\"y\":{\"field\":\"y\"}},\"id\":\"b0005fe8-cfe5-4257-9535-1859c496f851\",\"type\":\"Rect\"},{\"attributes\":{\"plot\":{\"id\":\"36459975-e305-4762-8c51-9cfa61c4c70b\",\"subtype\":\"Chart\",\"type\":\"Plot\"}},\"id\":\"7524226e-5fdd-4127-b47a-73c40f8b2ff2\",\"type\":\"PanTool\"},{\"attributes\":{\"below\":[{\"id\":\"03b5ffc3-8535-46cd-9c0c-9e6f4adb7ad9\",\"type\":\"CategoricalAxis\"}],\"left\":[{\"id\":\"63a5fa00-c8d8-4982-b959-cabb9ba42735\",\"type\":\"LinearAxis\"}],\"plot_height\":200,\"plot_width\":300,\"renderers\":[{\"id\":\"118dfe0e-b516-44fe-8bda-6631c04ce874\",\"type\":\"BoxAnnotation\"},{\"id\":\"0186eb00-f607-4cfb-90b8-45082db3c101\",\"type\":\"GlyphRenderer\"},{\"id\":\"0bdb7ed3-9a30-455b-be1e-8e41a24340a6\",\"type\":\"GlyphRenderer\"},{\"id\":\"7d68c60e-bc8e-47c7-a0a7-b51f3ca19d1f\",\"type\":\"GlyphRenderer\"},{\"id\":\"21f91025-e168-4b49-89ff-db3cf64eb4c9\",\"type\":\"GlyphRenderer\"},{\"id\":\"7c1a4341-4094-407f-89d8-42e1ee78ca98\",\"type\":\"GlyphRenderer\"},{\"id\":\"00706381-ef00-4218-8f01-c94cdf5a2017\",\"type\":\"GlyphRenderer\"},{\"id\":\"786ce9cd-d352-4734-967b-773186e992ac\",\"type\":\"GlyphRenderer\"},{\"id\":\"2e4ee542-aa2a-448c-96cf-b7f4d480e9cc\",\"type\":\"GlyphRenderer\"},{\"id\":\"dc9f4ffd-f7d9-4195-b20e-4027801335bd\",\"type\":\"GlyphRenderer\"},{\"id\":\"6dd36d56-e8d1-4252-8c44-04826f9391e8\",\"type\":\"GlyphRenderer\"},{\"id\":\"03b5ffc3-8535-46cd-9c0c-9e6f4adb7ad9\",\"type\":\"CategoricalAxis\"},{\"id\":\"63a5fa00-c8d8-4982-b959-cabb9ba42735\",\"type\":\"LinearAxis\"},{\"id\":\"73e30f24-d851-49a8-85f8-18e7d8ab8213\",\"type\":\"Grid\"}],\"title\":{\"id\":\"5283a1ea-da5b-42aa-bba3-5d99ba031305\",\"type\":\"Title\"},\"tool_events\":{\"id\":\"30fec568-5f32-4459-a56c-3a48e1720695\",\"type\":\"ToolEvents\"},\"toolbar\":{\"id\":\"ca71a0aa-2080-4740-af6b-ea80c218179c\",\"type\":\"Toolbar\"},\"toolbar_location\":null,\"x_mapper_type\":\"auto\",\"x_range\":{\"id\":\"298f4cc1-57bd-48a6-90e3-ce7ca1452507\",\"type\":\"FactorRange\"},\"y_mapper_type\":\"auto\",\"y_range\":{\"id\":\"76c26f97-d783-4f24-8c2a-7e2371c57310\",\"type\":\"Range1d\"}},\"id\":\"087258af-d19f-4b93-a6c5-288d81aa0134\",\"subtype\":\"Chart\",\"type\":\"Plot\"},{\"attributes\":{\"callback\":null,\"column_names\":[\"line_color\",\"line_alpha\",\"color\",\"fill_alpha\",\"height\",\"width\",\"y\",\"x\",\"label\"],\"data\":{\"chart_index\":[{\"index\":\"RandD\"}],\"color\":[\"crimson\"],\"fill_alpha\":[0.8],\"height\":[0.7121219822109279],\"index\":[\"RandD\"],\"label\":[{\"index\":\"RandD\"}],\"line_alpha\":[1.0],\"line_color\":[\"white\"],\"width\":[0.8],\"x\":[\"RandD\"],\"y\":[0.35606099110546396]}},\"id\":\"7e26bc43-71ef-437b-96bf-9b52db1ae2fa\",\"type\":\"ColumnDataSource\"},{\"attributes\":{\"fill_alpha\":{\"field\":\"fill_alpha\"},\"fill_color\":{\"field\":\"color\"},\"height\":{\"field\":\"height\",\"units\":\"data\"},\"line_color\":{\"field\":\"line_color\"},\"width\":{\"field\":\"width\",\"units\":\"data\"},\"x\":{\"field\":\"x\"},\"y\":{\"field\":\"y\"}},\"id\":\"bdeb4742-cf58-4285-8527-262df200e996\",\"type\":\"Rect\"},{\"attributes\":{\"data_source\":{\"id\":\"6ec148f5-5125-47f9-808e-e401f8cccab3\",\"type\":\"ColumnDataSource\"},\"glyph\":{\"id\":\"5d32c85f-3f2d-4061-9477-63ef2550da0e\",\"type\":\"Rect\"},\"hover_glyph\":null,\"nonselection_glyph\":null,\"selection_glyph\":null},\"id\":\"a1aa26f0-3a2e-4645-b664-f754734bf879\",\"type\":\"GlyphRenderer\"},{\"attributes\":{\"plot\":{\"id\":\"484eda2b-0d1b-4fee-9ed4-550433ab83f7\",\"subtype\":\"Chart\",\"type\":\"Plot\"}},\"id\":\"db59f792-881a-4f06-8109-bd97126b2ac4\",\"type\":\"HelpTool\"},{\"attributes\":{\"fill_alpha\":{\"field\":\"fill_alpha\"},\"fill_color\":{\"field\":\"color\"},\"height\":{\"field\":\"height\",\"units\":\"data\"},\"line_color\":{\"field\":\"line_color\"},\"width\":{\"field\":\"width\",\"units\":\"data\"},\"x\":{\"field\":\"x\"},\"y\":{\"field\":\"y\"}},\"id\":\"87280b63-2c9b-4beb-85e4-cf84039751e1\",\"type\":\"Rect\"},{\"attributes\":{\"data_source\":{\"id\":\"cb941b34-139e-4b21-a1d2-ee9ecdad93c2\",\"type\":\"ColumnDataSource\"},\"glyph\":{\"id\":\"1d23833d-cab4-4827-819c-cbc8ec7b4d3b\",\"type\":\"Rect\"},\"hover_glyph\":null,\"nonselection_glyph\":null,\"selection_glyph\":null},\"id\":\"786ce9cd-d352-4734-967b-773186e992ac\",\"type\":\"GlyphRenderer\"},{\"attributes\":{\"fill_alpha\":{\"field\":\"fill_alpha\"},\"fill_color\":{\"field\":\"color\"},\"height\":{\"field\":\"height\",\"units\":\"data\"},\"line_color\":{\"field\":\"line_color\"},\"width\":{\"field\":\"width\",\"units\":\"data\"},\"x\":{\"field\":\"x\"},\"y\":{\"field\":\"y\"}},\"id\":\"cc8378e9-2169-42f7-b47c-96aa5f12373e\",\"type\":\"Rect\"},{\"attributes\":{\"data_source\":{\"id\":\"27d9c3ee-8707-417e-99f1-2c145beaec43\",\"type\":\"ColumnDataSource\"},\"glyph\":{\"id\":\"56dfccda-9738-433c-a038-3b223ac6ba10\",\"type\":\"Rect\"},\"hover_glyph\":null,\"nonselection_glyph\":null,\"selection_glyph\":null},\"id\":\"2e4ee542-aa2a-448c-96cf-b7f4d480e9cc\",\"type\":\"GlyphRenderer\"},{\"attributes\":{},\"id\":\"e27e3842-534f-4759-a9c9-d70f8ada7d15\",\"type\":\"CategoricalTicker\"},{\"attributes\":{\"plot\":{\"id\":\"36459975-e305-4762-8c51-9cfa61c4c70b\",\"subtype\":\"Chart\",\"type\":\"Plot\"}},\"id\":\"3947c5b9-601a-4dba-af49-32e34c916be8\",\"type\":\"HelpTool\"},{\"attributes\":{\"data_source\":{\"id\":\"a6fd894a-56dc-4934-a9f9-ade09df31cfc\",\"type\":\"ColumnDataSource\"},\"glyph\":{\"id\":\"ba084712-7fc7-4df6-95b8-23362e8a84ec\",\"type\":\"Rect\"},\"hover_glyph\":null,\"nonselection_glyph\":null,\"selection_glyph\":null},\"id\":\"00706381-ef00-4218-8f01-c94cdf5a2017\",\"type\":\"GlyphRenderer\"},{\"attributes\":{},\"id\":\"f65c030c-0d20-48c9-b40a-f0d27d9276c3\",\"type\":\"ToolEvents\"},{\"attributes\":{\"callback\":null,\"column_names\":[\"line_color\",\"line_alpha\",\"color\",\"fill_alpha\",\"height\",\"width\",\"y\",\"x\",\"label\"],\"data\":{\"chart_index\":[{\"index\":\"sales\"}],\"color\":[\"crimson\"],\"fill_alpha\":[0.8],\"height\":[200.91135265700484],\"index\":[\"sales\"],\"label\":[{\"index\":\"sales\"}],\"line_alpha\":[1.0],\"line_color\":[\"white\"],\"width\":[0.8],\"x\":[\"sales\"],\"y\":[100.45567632850242]}},\"id\":\"0566bd65-136f-43e6-98c3-202e92c79aab\",\"type\":\"ColumnDataSource\"},{\"attributes\":{\"data_source\":{\"id\":\"12a092db-5535-48d1-a9d7-2d490dd69d3c\",\"type\":\"ColumnDataSource\"},\"glyph\":{\"id\":\"ebc52b83-2ded-45bd-a02d-b6bac3b0f00b\",\"type\":\"Rect\"},\"hover_glyph\":null,\"nonselection_glyph\":null,\"selection_glyph\":null},\"id\":\"4aab933c-68bc-4f1f-9746-40aac12dd0c5\",\"type\":\"GlyphRenderer\"},{\"attributes\":{\"callback\":null,\"end\":4.5183333333333335},\"id\":\"76c26f97-d783-4f24-8c2a-7e2371c57310\",\"type\":\"Range1d\"},{\"attributes\":{\"fill_alpha\":{\"field\":\"fill_alpha\"},\"fill_color\":{\"field\":\"color\"},\"height\":{\"field\":\"height\",\"units\":\"data\"},\"line_color\":{\"field\":\"line_color\"},\"width\":{\"field\":\"width\",\"units\":\"data\"},\"x\":{\"field\":\"x\"},\"y\":{\"field\":\"y\"}},\"id\":\"929bcf1b-b455-4c25-94a9-a6ecdb5105bf\",\"type\":\"Rect\"},{\"attributes\":{\"callback\":null,\"factors\":[\"IT\",\"RandD\",\"accounting\",\"hr\",\"management\",\"marketing\",\"product_mng\",\"sales\",\"support\",\"technical\"]},\"id\":\"63c332ae-ef3b-428f-b9e6-acda85b24db8\",\"type\":\"FactorRange\"},{\"attributes\":{\"callback\":null,\"column_names\":[\"line_color\",\"line_alpha\",\"color\",\"fill_alpha\",\"height\",\"width\",\"y\",\"x\",\"label\"],\"data\":{\"chart_index\":[{\"index\":\"hr\"}],\"color\":[\"crimson\"],\"fill_alpha\":[0.8],\"height\":[0.12043301759133965],\"index\":[\"hr\"],\"label\":[{\"index\":\"hr\"}],\"line_alpha\":[1.0],\"line_color\":[\"white\"],\"width\":[0.8],\"x\":[\"hr\"],\"y\":[0.060216508795669824]}},\"id\":\"52319cc4-9389-4680-8028-27d74bc8c68e\",\"type\":\"ColumnDataSource\"},{\"attributes\":{\"callback\":null,\"column_names\":[\"line_color\",\"line_alpha\",\"color\",\"fill_alpha\",\"height\",\"width\",\"y\",\"x\",\"label\"],\"data\":{\"chart_index\":[{\"index\":\"hr\"}],\"color\":[\"crimson\"],\"fill_alpha\":[0.8],\"height\":[3.654939106901218],\"index\":[\"hr\"],\"label\":[{\"index\":\"hr\"}],\"line_alpha\":[1.0],\"line_color\":[\"white\"],\"width\":[0.8],\"x\":[\"hr\"],\"y\":[1.827469553450609]}},\"id\":\"3280f37e-22aa-47e8-95f3-82b28cf61d70\",\"type\":\"ColumnDataSource\"},{\"attributes\":{},\"id\":\"35baa374-2050-4532-a605-f0f724387cce\",\"type\":\"CategoricalTickFormatter\"},{\"attributes\":{\"callback\":null,\"column_names\":[\"line_color\",\"line_alpha\",\"color\",\"fill_alpha\",\"height\",\"width\",\"y\",\"x\",\"label\"],\"data\":{\"chart_index\":[{\"index\":\"support\"}],\"color\":[\"crimson\"],\"fill_alpha\":[0.8],\"height\":[3.803947958725886],\"index\":[\"support\"],\"label\":[{\"index\":\"support\"}],\"line_alpha\":[1.0],\"line_color\":[\"white\"],\"width\":[0.8],\"x\":[\"support\"],\"y\":[1.901973979362943]}},\"id\":\"c74964a6-c520-41e2-a79c-d93100cdf5f0\",\"type\":\"ColumnDataSource\"},{\"attributes\":{\"formatter\":{\"id\":\"19d0e4c6-d3d3-44d3-9dbe-8c815e1d452e\",\"type\":\"BasicTickFormatter\"},\"plot\":{\"id\":\"1cdc38bd-2d28-4fcd-9f39-2e5406e793ef\",\"subtype\":\"Chart\",\"type\":\"Plot\"},\"ticker\":{\"id\":\"a08cd82a-2aaf-48c8-a29d-94b08648a7d7\",\"type\":\"BasicTicker\"}},\"id\":\"0a7eea03-f1f5-4615-99ed-9b3cc51cdf21\",\"type\":\"LinearAxis\"},{\"attributes\":{\"callback\":null,\"column_names\":[\"line_color\",\"line_alpha\",\"color\",\"fill_alpha\",\"height\",\"width\",\"y\",\"x\",\"label\"],\"data\":{\"chart_index\":[{\"index\":\"accounting\"}],\"color\":[\"crimson\"],\"fill_alpha\":[0.8],\"height\":[0.26597131681877445],\"index\":[\"accounting\"],\"label\":[{\"index\":\"accounting\"}],\"line_alpha\":[1.0],\"line_color\":[\"white\"],\"width\":[0.8],\"x\":[\"accounting\"],\"y\":[0.13298565840938723]}},\"id\":\"ddd22f3d-b873-46c2-ab29-d157ff901778\",\"type\":\"ColumnDataSource\"},{\"attributes\":{\"fill_alpha\":{\"field\":\"fill_alpha\"},\"fill_color\":{\"field\":\"color\"},\"height\":{\"field\":\"height\",\"units\":\"data\"},\"line_color\":{\"field\":\"line_color\"},\"width\":{\"field\":\"width\",\"units\":\"data\"},\"x\":{\"field\":\"x\"},\"y\":{\"field\":\"y\"}},\"id\":\"87b9b4a1-4257-4925-89b2-f670ebffcc7d\",\"type\":\"Rect\"},{\"attributes\":{\"callback\":null,\"column_names\":[\"line_color\",\"line_alpha\",\"color\",\"fill_alpha\",\"height\",\"width\",\"y\",\"x\",\"label\"],\"data\":{\"chart_index\":[{\"index\":\"product_mng\"}],\"color\":[\"crimson\"],\"fill_alpha\":[0.8],\"height\":[0.7147560975609766],\"index\":[\"product_mng\"],\"label\":[{\"index\":\"product_mng\"}],\"line_alpha\":[1.0],\"line_color\":[\"white\"],\"width\":[0.8],\"x\":[\"product_mng\"],\"y\":[0.3573780487804883]}},\"id\":\"96333b9f-6092-4bf5-befc-91c386bf7a8d\",\"type\":\"ColumnDataSource\"},{\"attributes\":{\"formatter\":{\"id\":\"b09e7866-1ed7-483f-82c7-7cf0e1cda0b8\",\"type\":\"CategoricalTickFormatter\"},\"major_label_orientation\":0.7853981633974483,\"plot\":{\"id\":\"36459975-e305-4762-8c51-9cfa61c4c70b\",\"subtype\":\"Chart\",\"type\":\"Plot\"},\"ticker\":{\"id\":\"3fecf367-20c3-4ea6-888e-d5ebec968bb4\",\"type\":\"CategoricalTicker\"}},\"id\":\"8b97b716-236a-4f0b-b12e-16b3a2e584be\",\"type\":\"CategoricalAxis\"},{\"attributes\":{\"callback\":null,\"column_names\":[\"line_color\",\"line_alpha\",\"color\",\"fill_alpha\",\"height\",\"width\",\"y\",\"x\",\"label\"],\"data\":{\"chart_index\":[{\"index\":\"support\"}],\"color\":[\"crimson\"],\"fill_alpha\":[0.8],\"height\":[200.75818752803949],\"index\":[\"support\"],\"label\":[{\"index\":\"support\"}],\"line_alpha\":[1.0],\"line_color\":[\"white\"],\"width\":[0.8],\"x\":[\"support\"],\"y\":[100.37909376401974]}},\"id\":\"022fc43a-e4f4-4456-9453-ad5e17662c2a\",\"type\":\"ColumnDataSource\"},{\"attributes\":{\"bottom_units\":\"screen\",\"fill_alpha\":{\"value\":0.5},\"fill_color\":{\"value\":\"lightgrey\"},\"left_units\":\"screen\",\"level\":\"overlay\",\"line_alpha\":{\"value\":1.0},\"line_color\":{\"value\":\"black\"},\"line_dash\":[4,4],\"line_width\":{\"value\":2},\"plot\":null,\"render_mode\":\"css\",\"right_units\":\"screen\",\"top_units\":\"screen\"},\"id\":\"30b5d761-941d-4714-9226-078d66e456eb\",\"type\":\"BoxAnnotation\"},{\"attributes\":{},\"id\":\"d3be6fbd-f34f-4535-a46a-1745b7c887f7\",\"type\":\"CategoricalTicker\"},{\"attributes\":{\"callback\":null,\"end\":212.62229779411766},\"id\":\"2e978fce-3d03-472a-a635-5d8915cbad6d\",\"type\":\"Range1d\"},{\"attributes\":{\"plot\":{\"id\":\"484eda2b-0d1b-4fee-9ed4-550433ab83f7\",\"subtype\":\"Chart\",\"type\":\"Plot\"}},\"id\":\"e0944a99-3fee-4e2d-96fb-3f4ac28d0dae\",\"type\":\"PanTool\"},{\"attributes\":{\"active_drag\":\"auto\",\"active_scroll\":\"auto\",\"active_tap\":\"auto\",\"tools\":[{\"id\":\"7524226e-5fdd-4127-b47a-73c40f8b2ff2\",\"type\":\"PanTool\"},{\"id\":\"4d418a29-b2bb-4633-837e-a9ee7e741a80\",\"type\":\"WheelZoomTool\"},{\"id\":\"b131ef39-324f-4808-b5d5-de24783acb24\",\"type\":\"BoxZoomTool\"},{\"id\":\"86495a54-704a-4166-9b16-93bde5e57da0\",\"type\":\"SaveTool\"},{\"id\":\"466bf17c-e478-4891-a6a4-76ea8ca67ab6\",\"type\":\"ResetTool\"},{\"id\":\"3947c5b9-601a-4dba-af49-32e34c916be8\",\"type\":\"HelpTool\"}]},\"id\":\"24ba9335-602d-43c2-a42b-436bbcc3f060\",\"type\":\"Toolbar\"},{\"attributes\":{\"data_source\":{\"id\":\"d529da96-be61-4143-8d34-d51dbc823efe\",\"type\":\"ColumnDataSource\"},\"glyph\":{\"id\":\"07836416-6b6d-4e91-89ee-8857d46b1f71\",\"type\":\"Rect\"},\"hover_glyph\":null,\"nonselection_glyph\":null,\"selection_glyph\":null},\"id\":\"e40bf02c-2544-4720-8404-00b6cb0b2a4e\",\"type\":\"GlyphRenderer\"},{\"attributes\":{\"plot\":{\"id\":\"36459975-e305-4762-8c51-9cfa61c4c70b\",\"subtype\":\"Chart\",\"type\":\"Plot\"}},\"id\":\"4d418a29-b2bb-4633-837e-a9ee7e741a80\",\"type\":\"WheelZoomTool\"},{\"attributes\":{\"fill_alpha\":{\"field\":\"fill_alpha\"},\"fill_color\":{\"field\":\"color\"},\"height\":{\"field\":\"height\",\"units\":\"data\"},\"line_color\":{\"field\":\"line_color\"},\"width\":{\"field\":\"width\",\"units\":\"data\"},\"x\":{\"field\":\"x\"},\"y\":{\"field\":\"y\"}},\"id\":\"c0fcccc3-4d7d-4266-9bac-798a491d9623\",\"type\":\"Rect\"},{\"attributes\":{\"callback\":null,\"column_names\":[\"line_color\",\"line_alpha\",\"color\",\"fill_alpha\",\"height\",\"width\",\"y\",\"x\",\"label\"],\"data\":{\"chart_index\":[{\"index\":\"marketing\"}],\"color\":[\"crimson\"],\"fill_alpha\":[0.8],\"height\":[0.6186013986013983],\"index\":[\"marketing\"],\"label\":[{\"index\":\"marketing\"}],\"line_alpha\":[1.0],\"line_color\":[\"white\"],\"width\":[0.8],\"x\":[\"marketing\"],\"y\":[0.30930069930069914]}},\"id\":\"bfc0003a-31aa-41a2-9816-5545131a0670\",\"type\":\"ColumnDataSource\"},{\"attributes\":{\"fill_alpha\":{\"field\":\"fill_alpha\"},\"fill_color\":{\"field\":\"color\"},\"height\":{\"field\":\"height\",\"units\":\"data\"},\"line_color\":{\"field\":\"line_color\"},\"width\":{\"field\":\"width\",\"units\":\"data\"},\"x\":{\"field\":\"x\"},\"y\":{\"field\":\"y\"}},\"id\":\"d41c57f0-d6a6-48be-b03f-47748095af75\",\"type\":\"Rect\"},{\"attributes\":{\"callback\":null,\"factors\":[\"IT\",\"RandD\",\"accounting\",\"hr\",\"management\",\"marketing\",\"product_mng\",\"sales\",\"support\",\"technical\"]},\"id\":\"13904068-895c-4d4b-b718-7ec7c049f60d\",\"type\":\"FactorRange\"},{\"attributes\":{\"formatter\":{\"id\":\"c76f4ee2-2f4a-4b13-b38b-0bd0e8e0ad99\",\"type\":\"BasicTickFormatter\"},\"plot\":{\"id\":\"36459975-e305-4762-8c51-9cfa61c4c70b\",\"subtype\":\"Chart\",\"type\":\"Plot\"},\"ticker\":{\"id\":\"e6f524a0-ab5e-4d90-a16a-e48d8a307434\",\"type\":\"BasicTicker\"}},\"id\":\"2e7592b0-04aa-4315-8372-c30199cabae6\",\"type\":\"LinearAxis\"},{\"attributes\":{\"callback\":null,\"column_names\":[\"line_color\",\"line_alpha\",\"color\",\"fill_alpha\",\"height\",\"width\",\"y\",\"x\",\"label\"],\"data\":{\"chart_index\":[{\"index\":\"technical\"}],\"color\":[\"crimson\"],\"fill_alpha\":[0.8],\"height\":[0.25625],\"index\":[\"technical\"],\"label\":[{\"index\":\"technical\"}],\"line_alpha\":[1.0],\"line_color\":[\"white\"],\"width\":[0.8],\"x\":[\"technical\"],\"y\":[0.128125]}},\"id\":\"20104b1d-ab2a-4cd0-ad57-edfaed6fe517\",\"type\":\"ColumnDataSource\"},{\"attributes\":{\"callback\":null,\"column_names\":[\"line_color\",\"line_alpha\",\"color\",\"fill_alpha\",\"height\",\"width\",\"y\",\"x\",\"label\"],\"data\":{\"chart_index\":[{\"index\":\"product_mng\"}],\"color\":[\"crimson\"],\"fill_alpha\":[0.8],\"height\":[199.96563192904657],\"index\":[\"product_mng\"],\"label\":[{\"index\":\"product_mng\"}],\"line_alpha\":[1.0],\"line_color\":[\"white\"],\"width\":[0.8],\"x\":[\"product_mng\"],\"y\":[99.98281596452328]}},\"id\":\"b105b976-fb4b-43f0-90b0-b9dbe19d1da9\",\"type\":\"ColumnDataSource\"},{\"attributes\":{\"data_source\":{\"id\":\"de0ee1a5-0d08-4905-b091-84429a4b9c41\",\"type\":\"ColumnDataSource\"},\"glyph\":{\"id\":\"e0aac5b9-7eb4-4b1a-b771-98da8d094845\",\"type\":\"Rect\"},\"hover_glyph\":null,\"nonselection_glyph\":null,\"selection_glyph\":null},\"id\":\"7d68c60e-bc8e-47c7-a0a7-b51f3ca19d1f\",\"type\":\"GlyphRenderer\"},{\"attributes\":{\"data_source\":{\"id\":\"7a347356-7e39-4215-80c1-0515404595cb\",\"type\":\"ColumnDataSource\"},\"glyph\":{\"id\":\"f2a53c3f-baab-4985-b6f6-cbfdeda4dc38\",\"type\":\"Rect\"},\"hover_glyph\":null,\"nonselection_glyph\":null,\"selection_glyph\":null},\"id\":\"37251c0b-304a-4692-9ea6-0dae76555dbb\",\"type\":\"GlyphRenderer\"},{\"attributes\":{},\"id\":\"f5ded7b1-3bde-40f2-a664-b45fcbb6746d\",\"type\":\"CategoricalTickFormatter\"},{\"attributes\":{\"fill_alpha\":{\"field\":\"fill_alpha\"},\"fill_color\":{\"field\":\"color\"},\"height\":{\"field\":\"height\",\"units\":\"data\"},\"line_color\":{\"field\":\"line_color\"},\"width\":{\"field\":\"width\",\"units\":\"data\"},\"x\":{\"field\":\"x\"},\"y\":{\"field\":\"y\"}},\"id\":\"905a5b35-c291-413b-acd5-8093aea5f102\",\"type\":\"Rect\"},{\"attributes\":{\"callback\":null,\"column_names\":[\"line_color\",\"line_alpha\",\"color\",\"fill_alpha\",\"height\",\"width\",\"y\",\"x\",\"label\"],\"data\":{\"chart_index\":[{\"index\":\"marketing\"}],\"color\":[\"crimson\"],\"fill_alpha\":[0.8],\"height\":[0.05011655011655012],\"index\":[\"marketing\"],\"label\":[{\"index\":\"marketing\"}],\"line_alpha\":[1.0],\"line_color\":[\"white\"],\"width\":[0.8],\"x\":[\"marketing\"],\"y\":[0.02505827505827506]}},\"id\":\"c60cd45c-b963-4501-b0e4-de87251e2ec0\",\"type\":\"ColumnDataSource\"},{\"attributes\":{\"callback\":null,\"column_names\":[\"line_color\",\"line_alpha\",\"color\",\"fill_alpha\",\"height\",\"width\",\"y\",\"x\",\"label\"],\"data\":{\"chart_index\":[{\"index\":\"marketing\"}],\"color\":[\"crimson\"],\"fill_alpha\":[0.8],\"height\":[3.687645687645688],\"index\":[\"marketing\"],\"label\":[{\"index\":\"marketing\"}],\"line_alpha\":[1.0],\"line_color\":[\"white\"],\"width\":[0.8],\"x\":[\"marketing\"],\"y\":[1.843822843822844]}},\"id\":\"e1fb969d-18a0-4fa1-810b-53823558d869\",\"type\":\"ColumnDataSource\"},{\"attributes\":{},\"id\":\"18f27697-10b2-4661-bcc3-3013f532e1d2\",\"type\":\"BasicTickFormatter\"},{\"attributes\":{},\"id\":\"3fecf367-20c3-4ea6-888e-d5ebec968bb4\",\"type\":\"CategoricalTicker\"},{\"attributes\":{\"bottom_units\":\"screen\",\"fill_alpha\":{\"value\":0.5},\"fill_color\":{\"value\":\"lightgrey\"},\"left_units\":\"screen\",\"level\":\"overlay\",\"line_alpha\":{\"value\":1.0},\"line_color\":{\"value\":\"black\"},\"line_dash\":[4,4],\"line_width\":{\"value\":2},\"plot\":null,\"render_mode\":\"css\",\"right_units\":\"screen\",\"top_units\":\"screen\"},\"id\":\"6a72077b-e355-4762-8d19-80b8efaa7e79\",\"type\":\"BoxAnnotation\"},{\"attributes\":{\"formatter\":{\"id\":\"1e2a6374-a61d-4dfa-916e-65721a9044f6\",\"type\":\"CategoricalTickFormatter\"},\"major_label_orientation\":0.7853981633974483,\"plot\":{\"id\":\"d362fe34-9496-4e4d-b324-d1116a6d2069\",\"subtype\":\"Chart\",\"type\":\"Plot\"},\"ticker\":{\"id\":\"bea8053b-9f32-4212-bd3f-4bf7e2ac4a3a\",\"type\":\"CategoricalTicker\"}},\"id\":\"cd628a9a-8e76-4247-9d99-8825563d0d3e\",\"type\":\"CategoricalAxis\"},{\"attributes\":{\"data_source\":{\"id\":\"d266afe7-a927-4ff1-9df5-e99f9a097fec\",\"type\":\"ColumnDataSource\"},\"glyph\":{\"id\":\"d41c57f0-d6a6-48be-b03f-47748095af75\",\"type\":\"Rect\"},\"hover_glyph\":null,\"nonselection_glyph\":null,\"selection_glyph\":null},\"id\":\"b37b7ef2-71b4-4e58-b68c-811e3e3217c0\",\"type\":\"GlyphRenderer\"},{\"attributes\":{\"data_source\":{\"id\":\"b60157ef-d954-42b8-adef-dd9e56907ea5\",\"type\":\"ColumnDataSource\"},\"glyph\":{\"id\":\"57ab208c-d1f8-4727-b770-30fd4ddf142b\",\"type\":\"Rect\"},\"hover_glyph\":null,\"nonselection_glyph\":null,\"selection_glyph\":null},\"id\":\"d57ffd5b-434b-436a-8539-3d26f8a6bab3\",\"type\":\"GlyphRenderer\"},{\"attributes\":{\"plot\":{\"id\":\"36459975-e305-4762-8c51-9cfa61c4c70b\",\"subtype\":\"Chart\",\"type\":\"Plot\"}},\"id\":\"466bf17c-e478-4891-a6a4-76ea8ca67ab6\",\"type\":\"ResetTool\"},{\"attributes\":{\"children\":[{\"id\":\"8e9366cb-0d94-4168-8257-7da1f22bf7c0\",\"type\":\"Row\"},{\"id\":\"776cccb2-6d82-4f78-adf4-11d6d64c693c\",\"type\":\"Row\"},{\"id\":\"27714d37-096c-4baf-a0a7-9479dd25b16e\",\"type\":\"Row\"}]},\"id\":\"69e077be-8b8a-4062-9220-b7447c93401d\",\"type\":\"Column\"},{\"attributes\":{\"callback\":null,\"column_names\":[\"line_color\",\"line_alpha\",\"color\",\"fill_alpha\",\"height\",\"width\",\"y\",\"x\",\"label\"],\"data\":{\"chart_index\":[{\"index\":\"product_mng\"}],\"color\":[\"crimson\"],\"fill_alpha\":[0.8],\"height\":[3.8070953436807096],\"index\":[\"product_mng\"],\"label\":[{\"index\":\"product_mng\"}],\"line_alpha\":[1.0],\"line_color\":[\"white\"],\"width\":[0.8],\"x\":[\"product_mng\"],\"y\":[1.9035476718403548]}},\"id\":\"b60157ef-d954-42b8-adef-dd9e56907ea5\",\"type\":\"ColumnDataSource\"},{\"attributes\":{\"callback\":null,\"column_names\":[\"line_color\",\"line_alpha\",\"color\",\"fill_alpha\",\"height\",\"width\",\"y\",\"x\",\"label\"],\"data\":{\"chart_index\":[{\"index\":\"IT\"}],\"color\":[\"crimson\"],\"fill_alpha\":[0.8],\"height\":[202.2159739201304],\"index\":[\"IT\"],\"label\":[{\"index\":\"IT\"}],\"line_alpha\":[1.0],\"line_color\":[\"white\"],\"width\":[0.8],\"x\":[\"IT\"],\"y\":[101.1079869600652]}},\"id\":\"dde59d42-22be-434d-ad22-a11ddf0a0f32\",\"type\":\"ColumnDataSource\"},{\"attributes\":{\"callback\":null,\"factors\":[\"IT\",\"RandD\",\"accounting\",\"hr\",\"management\",\"marketing\",\"product_mng\",\"sales\",\"support\",\"technical\"]},\"id\":\"1b1072dc-e8ec-4bf0-bb3b-c2931d7b8ec8\",\"type\":\"FactorRange\"},{\"attributes\":{},\"id\":\"a5b07d4f-8a16-413a-9d08-f8b7454b5785\",\"type\":\"CategoricalTickFormatter\"},{\"attributes\":{\"fill_alpha\":{\"field\":\"fill_alpha\"},\"fill_color\":{\"field\":\"color\"},\"height\":{\"field\":\"height\",\"units\":\"data\"},\"line_color\":{\"field\":\"line_color\"},\"width\":{\"field\":\"width\",\"units\":\"data\"},\"x\":{\"field\":\"x\"},\"y\":{\"field\":\"y\"}},\"id\":\"ba084712-7fc7-4df6-95b8-23362e8a84ec\",\"type\":\"Rect\"},{\"attributes\":{\"data_source\":{\"id\":\"e1fb969d-18a0-4fa1-810b-53823558d869\",\"type\":\"ColumnDataSource\"},\"glyph\":{\"id\":\"87b9b4a1-4257-4925-89b2-f670ebffcc7d\",\"type\":\"Rect\"},\"hover_glyph\":null,\"nonselection_glyph\":null,\"selection_glyph\":null},\"id\":\"9925688f-1c1c-4802-a677-6ec987ef0e2c\",\"type\":\"GlyphRenderer\"},{\"attributes\":{\"fill_alpha\":{\"field\":\"fill_alpha\"},\"fill_color\":{\"field\":\"color\"},\"height\":{\"field\":\"height\",\"units\":\"data\"},\"line_color\":{\"field\":\"line_color\"},\"width\":{\"field\":\"width\",\"units\":\"data\"},\"x\":{\"field\":\"x\"},\"y\":{\"field\":\"y\"}},\"id\":\"eada6cef-273a-42e5-b54c-b0c15a388898\",\"type\":\"Rect\"},{\"attributes\":{\"callback\":null,\"column_names\":[\"line_color\",\"line_alpha\",\"color\",\"fill_alpha\",\"height\",\"width\",\"y\",\"x\",\"label\"],\"data\":{\"chart_index\":[{\"index\":\"hr\"}],\"color\":[\"crimson\"],\"fill_alpha\":[0.8],\"height\":[3.3558863328822732],\"index\":[\"hr\"],\"label\":[{\"index\":\"hr\"}],\"line_alpha\":[1.0],\"line_color\":[\"white\"],\"width\":[0.8],\"x\":[\"hr\"],\"y\":[1.6779431664411366]}},\"id\":\"bcff5753-b586-4dce-9767-28b7c832fcb0\",\"type\":\"ColumnDataSource\"},{\"attributes\":{},\"id\":\"b09e7866-1ed7-483f-82c7-7cf0e1cda0b8\",\"type\":\"CategoricalTickFormatter\"},{\"attributes\":{\"data_source\":{\"id\":\"0566bd65-136f-43e6-98c3-202e92c79aab\",\"type\":\"ColumnDataSource\"},\"glyph\":{\"id\":\"1a70a321-66ce-414b-95f7-aa560470ac20\",\"type\":\"Rect\"},\"hover_glyph\":null,\"nonselection_glyph\":null,\"selection_glyph\":null},\"id\":\"73c2aa29-79af-4d4c-9dfb-e8f15883c134\",\"type\":\"GlyphRenderer\"},{\"attributes\":{\"callback\":null,\"column_names\":[\"line_color\",\"line_alpha\",\"color\",\"fill_alpha\",\"height\",\"width\",\"y\",\"x\",\"label\"],\"data\":{\"chart_index\":[{\"index\":\"sales\"}],\"color\":[\"crimson\"],\"fill_alpha\":[0.8],\"height\":[0.14178743961352658],\"index\":[\"sales\"],\"label\":[{\"index\":\"sales\"}],\"line_alpha\":[1.0],\"line_color\":[\"white\"],\"width\":[0.8],\"x\":[\"sales\"],\"y\":[0.07089371980676329]}},\"id\":\"afeccbc6-3a1b-4428-8299-b7a7602c9be4\",\"type\":\"ColumnDataSource\"},{\"attributes\":{\"callback\":null,\"column_names\":[\"line_color\",\"line_alpha\",\"color\",\"fill_alpha\",\"height\",\"width\",\"y\",\"x\",\"label\"],\"data\":{\"chart_index\":[{\"index\":\"marketing\"}],\"color\":[\"crimson\"],\"fill_alpha\":[0.8],\"height\":[199.3857808857809],\"index\":[\"marketing\"],\"label\":[{\"index\":\"marketing\"}],\"line_alpha\":[1.0],\"line_color\":[\"white\"],\"width\":[0.8],\"x\":[\"marketing\"],\"y\":[99.69289044289044]}},\"id\":\"f818d3ff-522a-49f2-90b5-31108fa2e80e\",\"type\":\"ColumnDataSource\"},{\"attributes\":{\"data_source\":{\"id\":\"11a0f14f-6faa-49b4-a374-11d765813491\",\"type\":\"ColumnDataSource\"},\"glyph\":{\"id\":\"a62b2b07-548a-43cb-b4d7-676fe513dfb4\",\"type\":\"Rect\"},\"hover_glyph\":null,\"nonselection_glyph\":null,\"selection_glyph\":null},\"id\":\"a86a31bb-dbc1-4f50-961e-672152e2e0f1\",\"type\":\"GlyphRenderer\"},{\"attributes\":{\"fill_alpha\":{\"field\":\"fill_alpha\"},\"fill_color\":{\"field\":\"color\"},\"height\":{\"field\":\"height\",\"units\":\"data\"},\"line_color\":{\"field\":\"line_color\"},\"width\":{\"field\":\"width\",\"units\":\"data\"},\"x\":{\"field\":\"x\"},\"y\":{\"field\":\"y\"}},\"id\":\"8eb66dd1-61e1-416e-a62f-a85913c8ce19\",\"type\":\"Rect\"},{\"attributes\":{\"data_source\":{\"id\":\"bcff5753-b586-4dce-9767-28b7c832fcb0\",\"type\":\"ColumnDataSource\"},\"glyph\":{\"id\":\"8e0ca053-3118-4369-b816-7cbcdef3bc10\",\"type\":\"Rect\"},\"hover_glyph\":null,\"nonselection_glyph\":null,\"selection_glyph\":null},\"id\":\"21f91025-e168-4b49-89ff-db3cf64eb4c9\",\"type\":\"GlyphRenderer\"},{\"attributes\":{\"formatter\":{\"id\":\"754c8d1c-1a35-497e-8395-57c1b468793b\",\"type\":\"BasicTickFormatter\"},\"plot\":{\"id\":\"087258af-d19f-4b93-a6c5-288d81aa0134\",\"subtype\":\"Chart\",\"type\":\"Plot\"},\"ticker\":{\"id\":\"94e4b788-946c-4d22-9e89-7ad57cb213ee\",\"type\":\"BasicTicker\"}},\"id\":\"63a5fa00-c8d8-4982-b959-cabb9ba42735\",\"type\":\"LinearAxis\"},{\"attributes\":{\"fill_alpha\":{\"field\":\"fill_alpha\"},\"fill_color\":{\"field\":\"color\"},\"height\":{\"field\":\"height\",\"units\":\"data\"},\"line_color\":{\"field\":\"line_color\"},\"width\":{\"field\":\"width\",\"units\":\"data\"},\"x\":{\"field\":\"x\"},\"y\":{\"field\":\"y\"}},\"id\":\"61ac05d4-04e7-4dea-9e1d-1a774a94f3c2\",\"type\":\"Rect\"},{\"attributes\":{},\"id\":\"60c18124-e88d-4866-964d-c236dc706c18\",\"type\":\"ToolEvents\"},{\"attributes\":{\"data_source\":{\"id\":\"b2be6d20-a47d-40ea-86b5-9d7cda0385b3\",\"type\":\"ColumnDataSource\"},\"glyph\":{\"id\":\"1ca7e26e-771b-427e-a7b2-2e34d57274cd\",\"type\":\"Rect\"},\"hover_glyph\":null,\"nonselection_glyph\":null,\"selection_glyph\":null},\"id\":\"4578e8eb-2dd6-484a-95dc-3cc2d1aa41c9\",\"type\":\"GlyphRenderer\"},{\"attributes\":{},\"id\":\"f33fa02e-31f2-48ed-9313-06008f9e5b20\",\"type\":\"CategoricalTickFormatter\"},{\"attributes\":{},\"id\":\"308598f2-fb7c-442d-b623-59f9ea1135b4\",\"type\":\"BasicTicker\"},{\"attributes\":{},\"id\":\"e6f524a0-ab5e-4d90-a16a-e48d8a307434\",\"type\":\"BasicTicker\"},{\"attributes\":{},\"id\":\"8ff14508-a060-42b1-bac2-08cc63e4c510\",\"type\":\"ToolEvents\"},{\"attributes\":{\"data_source\":{\"id\":\"a72d84f6-63aa-4c8c-b2d3-18e7885cd823\",\"type\":\"ColumnDataSource\"},\"glyph\":{\"id\":\"adb3841d-ea9c-4b5b-a40c-fd7f39d9e547\",\"type\":\"Rect\"},\"hover_glyph\":null,\"nonselection_glyph\":null,\"selection_glyph\":null},\"id\":\"dc9f4ffd-f7d9-4195-b20e-4027801335bd\",\"type\":\"GlyphRenderer\"},{\"attributes\":{\"data_source\":{\"id\":\"8474acbb-dab9-4006-afc3-27d6768e4698\",\"type\":\"ColumnDataSource\"},\"glyph\":{\"id\":\"905a5b35-c291-413b-acd5-8093aea5f102\",\"type\":\"Rect\"},\"hover_glyph\":null,\"nonselection_glyph\":null,\"selection_glyph\":null},\"id\":\"f63c0ee7-cbbb-4912-bab2-791ec70aae85\",\"type\":\"GlyphRenderer\"},{\"attributes\":{\"fill_alpha\":{\"field\":\"fill_alpha\"},\"fill_color\":{\"field\":\"color\"},\"height\":{\"field\":\"height\",\"units\":\"data\"},\"line_color\":{\"field\":\"line_color\"},\"width\":{\"field\":\"width\",\"units\":\"data\"},\"x\":{\"field\":\"x\"},\"y\":{\"field\":\"y\"}},\"id\":\"1a70a321-66ce-414b-95f7-aa560470ac20\",\"type\":\"Rect\"},{\"attributes\":{\"callback\":null,\"column_names\":[\"line_color\",\"line_alpha\",\"color\",\"fill_alpha\",\"height\",\"width\",\"y\",\"x\",\"label\"],\"data\":{\"chart_index\":[{\"index\":\"support\"}],\"color\":[\"crimson\"],\"fill_alpha\":[0.8],\"height\":[0.2489905787348587],\"index\":[\"support\"],\"label\":[{\"index\":\"support\"}],\"line_alpha\":[1.0],\"line_color\":[\"white\"],\"width\":[0.8],\"x\":[\"support\"],\"y\":[0.12449528936742935]}},\"id\":\"d266afe7-a927-4ff1-9df5-e99f9a097fec\",\"type\":\"ColumnDataSource\"},{\"attributes\":{\"bottom_units\":\"screen\",\"fill_alpha\":{\"value\":0.5},\"fill_color\":{\"value\":\"lightgrey\"},\"left_units\":\"screen\",\"level\":\"overlay\",\"line_alpha\":{\"value\":1.0},\"line_color\":{\"value\":\"black\"},\"line_dash\":[4,4],\"line_width\":{\"value\":2},\"plot\":null,\"render_mode\":\"css\",\"right_units\":\"screen\",\"top_units\":\"screen\"},\"id\":\"1fdf8214-d622-4ad3-a3ca-e2fef3a84fa6\",\"type\":\"BoxAnnotation\"},{\"attributes\":{\"active_drag\":\"auto\",\"active_scroll\":\"auto\",\"active_tap\":\"auto\",\"tools\":[{\"id\":\"3483d3a5-ff48-4010-ac32-224a62ad3561\",\"type\":\"PanTool\"},{\"id\":\"0e6e2201-5a0b-4a8a-95cd-3d39f47335f8\",\"type\":\"WheelZoomTool\"},{\"id\":\"b97848e6-a229-45d1-b670-f0ca3c612712\",\"type\":\"BoxZoomTool\"},{\"id\":\"bd2cc578-ac4d-424c-9e09-c61a50ad0e9a\",\"type\":\"SaveTool\"},{\"id\":\"80f83275-22f5-4b68-a641-57a7a842d55a\",\"type\":\"ResetTool\"},{\"id\":\"9cc7c149-ad58-412f-88b9-f264de7e38ab\",\"type\":\"HelpTool\"}]},\"id\":\"49eae363-b22c-4074-8bcd-915e43b1e224\",\"type\":\"Toolbar\"},{\"attributes\":{\"callback\":null,\"column_names\":[\"line_color\",\"line_alpha\",\"color\",\"fill_alpha\",\"height\",\"width\",\"y\",\"x\",\"label\"],\"data\":{\"chart_index\":[{\"index\":\"support\"}],\"color\":[\"crimson\"],\"fill_alpha\":[0.8],\"height\":[0.7231090174966335],\"index\":[\"support\"],\"label\":[{\"index\":\"support\"}],\"line_alpha\":[1.0],\"line_color\":[\"white\"],\"width\":[0.8],\"x\":[\"support\"],\"y\":[0.36155450874831674]}},\"id\":\"ae2df956-a23d-4713-abe3-938e6d32ce2e\",\"type\":\"ColumnDataSource\"},{\"attributes\":{\"callback\":null,\"column_names\":[\"line_color\",\"line_alpha\",\"color\",\"fill_alpha\",\"height\",\"width\",\"y\",\"x\",\"label\"],\"data\":{\"chart_index\":[{\"index\":\"accounting\"}],\"color\":[\"crimson\"],\"fill_alpha\":[0.8],\"height\":[0.018252933507170794],\"index\":[\"accounting\"],\"label\":[{\"index\":\"accounting\"}],\"line_alpha\":[1.0],\"line_color\":[\"white\"],\"width\":[0.8],\"x\":[\"accounting\"],\"y\":[0.009126466753585397]}},\"id\":\"56111e93-b627-403c-9620-440f6a7f01c4\",\"type\":\"ColumnDataSource\"},{\"attributes\":{},\"id\":\"032d2e7b-6f83-49ee-b17c-9f23d833be21\",\"type\":\"BasicTicker\"},{\"attributes\":{\"callback\":null,\"column_names\":[\"line_color\",\"line_alpha\",\"color\",\"fill_alpha\",\"height\",\"width\",\"y\",\"x\",\"label\"],\"data\":{\"chart_index\":[{\"index\":\"product_mng\"}],\"color\":[\"crimson\"],\"fill_alpha\":[0.8],\"height\":[0.0],\"index\":[\"product_mng\"],\"label\":[{\"index\":\"product_mng\"}],\"line_alpha\":[1.0],\"line_color\":[\"white\"],\"width\":[0.8],\"x\":[\"product_mng\"],\"y\":[0.0]}},\"id\":\"c89d8b2a-e97e-4f31-8ae9-8d1b0d3042e9\",\"type\":\"ColumnDataSource\"},{\"attributes\":{\"plot\":{\"id\":\"087258af-d19f-4b93-a6c5-288d81aa0134\",\"subtype\":\"Chart\",\"type\":\"Plot\"}},\"id\":\"b57d1340-1710-49f1-9547-aefff59d3fb7\",\"type\":\"SaveTool\"},{\"attributes\":{\"data_source\":{\"id\":\"c60cd45c-b963-4501-b0e4-de87251e2ec0\",\"type\":\"ColumnDataSource\"},\"glyph\":{\"id\":\"2d8bf6f0-870e-4f8b-8470-6d8876bc0eb5\",\"type\":\"Rect\"},\"hover_glyph\":null,\"nonselection_glyph\":null,\"selection_glyph\":null},\"id\":\"06834ab8-b84d-4308-87a7-1f4efcdf5f14\",\"type\":\"GlyphRenderer\"},{\"attributes\":{\"fill_alpha\":{\"field\":\"fill_alpha\"},\"fill_color\":{\"field\":\"color\"},\"height\":{\"field\":\"height\",\"units\":\"data\"},\"line_color\":{\"field\":\"line_color\"},\"width\":{\"field\":\"width\",\"units\":\"data\"},\"x\":{\"field\":\"x\"},\"y\":{\"field\":\"y\"}},\"id\":\"44f645fd-6690-4803-8e9c-96a308c55567\",\"type\":\"Rect\"},{\"attributes\":{\"fill_alpha\":{\"field\":\"fill_alpha\"},\"fill_color\":{\"field\":\"color\"},\"height\":{\"field\":\"height\",\"units\":\"data\"},\"line_color\":{\"field\":\"line_color\"},\"width\":{\"field\":\"width\",\"units\":\"data\"},\"x\":{\"field\":\"x\"},\"y\":{\"field\":\"y\"}},\"id\":\"57ab208c-d1f8-4727-b770-30fd4ddf142b\",\"type\":\"Rect\"},{\"attributes\":{\"callback\":null,\"column_names\":[\"line_color\",\"line_alpha\",\"color\",\"fill_alpha\",\"height\",\"width\",\"y\",\"x\",\"label\"],\"data\":{\"chart_index\":[{\"index\":\"management\"}],\"color\":[\"crimson\"],\"fill_alpha\":[0.8],\"height\":[0.10952380952380952],\"index\":[\"management\"],\"label\":[{\"index\":\"management\"}],\"line_alpha\":[1.0],\"line_color\":[\"white\"],\"width\":[0.8],\"x\":[\"management\"],\"y\":[0.05476190476190476]}},\"id\":\"7a347356-7e39-4215-80c1-0515404595cb\",\"type\":\"ColumnDataSource\"},{\"attributes\":{\"fill_alpha\":{\"field\":\"fill_alpha\"},\"fill_color\":{\"field\":\"color\"},\"height\":{\"field\":\"height\",\"units\":\"data\"},\"line_color\":{\"field\":\"line_color\"},\"width\":{\"field\":\"width\",\"units\":\"data\"},\"x\":{\"field\":\"x\"},\"y\":{\"field\":\"y\"}},\"id\":\"7df1cfd0-bd20-462b-9818-957f631d4e17\",\"type\":\"Rect\"},{\"attributes\":{\"dimension\":1,\"plot\":{\"id\":\"d362fe34-9496-4e4d-b324-d1116a6d2069\",\"subtype\":\"Chart\",\"type\":\"Plot\"},\"ticker\":{\"id\":\"87b499da-2eea-443a-84b2-d5220670daf7\",\"type\":\"BasicTicker\"}},\"id\":\"1fee6bb8-3a44-4c82-94ab-e9f0e9dd4af2\",\"type\":\"Grid\"},{\"attributes\":{\"callback\":null,\"column_names\":[\"line_color\",\"line_alpha\",\"color\",\"fill_alpha\",\"height\",\"width\",\"y\",\"x\",\"label\"],\"data\":{\"chart_index\":[{\"index\":\"management\"}],\"color\":[\"crimson\"],\"fill_alpha\":[0.8],\"height\":[0.7240000000000004],\"index\":[\"management\"],\"label\":[{\"index\":\"management\"}],\"line_alpha\":[1.0],\"line_color\":[\"white\"],\"width\":[0.8],\"x\":[\"management\"],\"y\":[0.3620000000000002]}},\"id\":\"b2be6d20-a47d-40ea-86b5-9d7cda0385b3\",\"type\":\"ColumnDataSource\"},{\"attributes\":{\"plot\":{\"id\":\"087258af-d19f-4b93-a6c5-288d81aa0134\",\"subtype\":\"Chart\",\"type\":\"Plot\"}},\"id\":\"452b22d3-0cbd-4829-958a-4d00cdcb0ee1\",\"type\":\"WheelZoomTool\"},{\"attributes\":{\"plot\":{\"id\":\"b4bea73b-0f97-4345-be7c-1bb0d05955fb\",\"subtype\":\"Chart\",\"type\":\"Plot\"}},\"id\":\"706e6d4e-f5ac-41f0-a78c-768ccc7fd3c8\",\"type\":\"WheelZoomTool\"},{\"attributes\":{\"fill_alpha\":{\"field\":\"fill_alpha\"},\"fill_color\":{\"field\":\"color\"},\"height\":{\"field\":\"height\",\"units\":\"data\"},\"line_color\":{\"field\":\"line_color\"},\"width\":{\"field\":\"width\",\"units\":\"data\"},\"x\":{\"field\":\"x\"},\"y\":{\"field\":\"y\"}},\"id\":\"56dfccda-9738-433c-a038-3b223ac6ba10\",\"type\":\"Rect\"},{\"attributes\":{\"data_source\":{\"id\":\"80e98488-bc72-4feb-89f7-dbe0c4ce44aa\",\"type\":\"ColumnDataSource\"},\"glyph\":{\"id\":\"76ba8fb4-8eb4-4209-9808-ea9a1765d03e\",\"type\":\"Rect\"},\"hover_glyph\":null,\"nonselection_glyph\":null,\"selection_glyph\":null},\"id\":\"fa79d515-b4c3-40ed-a68b-9e4e4876aced\",\"type\":\"GlyphRenderer\"},{\"attributes\":{\"callback\":null,\"column_names\":[\"line_color\",\"line_alpha\",\"color\",\"fill_alpha\",\"height\",\"width\",\"y\",\"x\",\"label\"],\"data\":{\"chart_index\":[{\"index\":\"support\"}],\"color\":[\"crimson\"],\"fill_alpha\":[0.8],\"height\":[0.6182996859578297],\"index\":[\"support\"],\"label\":[{\"index\":\"support\"}],\"line_alpha\":[1.0],\"line_color\":[\"white\"],\"width\":[0.8],\"x\":[\"support\"],\"y\":[0.30914984297891485]}},\"id\":\"12a092db-5535-48d1-a9d7-2d490dd69d3c\",\"type\":\"ColumnDataSource\"},{\"attributes\":{\"fill_alpha\":{\"field\":\"fill_alpha\"},\"fill_color\":{\"field\":\"color\"},\"height\":{\"field\":\"height\",\"units\":\"data\"},\"line_color\":{\"field\":\"line_color\"},\"width\":{\"field\":\"width\",\"units\":\"data\"},\"x\":{\"field\":\"x\"},\"y\":{\"field\":\"y\"}},\"id\":\"d4028d01-f607-4dc0-bb2c-739852fb7b91\",\"type\":\"Rect\"},{\"attributes\":{\"fill_alpha\":{\"field\":\"fill_alpha\"},\"fill_color\":{\"field\":\"color\"},\"height\":{\"field\":\"height\",\"units\":\"data\"},\"line_color\":{\"field\":\"line_color\"},\"width\":{\"field\":\"width\",\"units\":\"data\"},\"x\":{\"field\":\"x\"},\"y\":{\"field\":\"y\"}},\"id\":\"a62b2b07-548a-43cb-b4d7-676fe513dfb4\",\"type\":\"Rect\"},{\"attributes\":{\"callback\":null,\"column_names\":[\"line_color\",\"line_alpha\",\"color\",\"fill_alpha\",\"height\",\"width\",\"y\",\"x\",\"label\"],\"data\":{\"chart_index\":[{\"index\":\"support\"}],\"color\":[\"crimson\"],\"fill_alpha\":[0.8],\"height\":[0.008972633467922835],\"index\":[\"support\"],\"label\":[{\"index\":\"support\"}],\"line_alpha\":[1.0],\"line_color\":[\"white\"],\"width\":[0.8],\"x\":[\"support\"],\"y\":[0.004486316733961417]}},\"id\":\"e50ab170-7296-4034-b3ad-05f8f0b5bb44\",\"type\":\"ColumnDataSource\"},{\"attributes\":{\"callback\":null,\"column_names\":[\"line_color\",\"line_alpha\",\"color\",\"fill_alpha\",\"height\",\"width\",\"y\",\"x\",\"label\"],\"data\":{\"chart_index\":[{\"index\":\"IT\"}],\"color\":[\"crimson\"],\"fill_alpha\":[0.8],\"height\":[0.0024449877750611247],\"index\":[\"IT\"],\"label\":[{\"index\":\"IT\"}],\"line_alpha\":[1.0],\"line_color\":[\"white\"],\"width\":[0.8],\"x\":[\"IT\"],\"y\":[0.0012224938875305623]}},\"id\":\"95a3729e-c4e2-4a24-a6da-7ac7d616ffbe\",\"type\":\"ColumnDataSource\"},{\"attributes\":{\"data_source\":{\"id\":\"28dff828-4bcd-432c-850d-20e8e6206030\",\"type\":\"ColumnDataSource\"},\"glyph\":{\"id\":\"ae8fa758-d251-45f3-853b-7a977169d4f2\",\"type\":\"Rect\"},\"hover_glyph\":null,\"nonselection_glyph\":null,\"selection_glyph\":null},\"id\":\"1d3b3014-eff7-450d-a8c3-83394dcdfce0\",\"type\":\"GlyphRenderer\"},{\"attributes\":{\"data_source\":{\"id\":\"f173b221-388c-4e76-962b-b03c3c4a9199\",\"type\":\"ColumnDataSource\"},\"glyph\":{\"id\":\"1c2d0b82-ec32-4a7a-b206-4a7b965ea18e\",\"type\":\"Rect\"},\"hover_glyph\":null,\"nonselection_glyph\":null,\"selection_glyph\":null},\"id\":\"4f1342a4-1ca2-4e09-94bb-62c8fd656ccc\",\"type\":\"GlyphRenderer\"},{\"attributes\":{\"fill_alpha\":{\"field\":\"fill_alpha\"},\"fill_color\":{\"field\":\"color\"},\"height\":{\"field\":\"height\",\"units\":\"data\"},\"line_color\":{\"field\":\"line_color\"},\"width\":{\"field\":\"width\",\"units\":\"data\"},\"x\":{\"field\":\"x\"},\"y\":{\"field\":\"y\"}},\"id\":\"adb3841d-ea9c-4b5b-a40c-fd7f39d9e547\",\"type\":\"Rect\"},{\"attributes\":{\"overlay\":{\"id\":\"1fdf8214-d622-4ad3-a3ca-e2fef3a84fa6\",\"type\":\"BoxAnnotation\"},\"plot\":{\"id\":\"c2a3ea28-8d3b-4a3b-986d-b9779f2a8679\",\"subtype\":\"Chart\",\"type\":\"Plot\"}},\"id\":\"a09fefbf-2c27-4b00-b60d-f488767c7a20\",\"type\":\"BoxZoomTool\"},{\"attributes\":{\"formatter\":{\"id\":\"fbb34525-2be4-4126-bb33-eea7d657a086\",\"type\":\"BasicTickFormatter\"},\"plot\":{\"id\":\"b4bea73b-0f97-4345-be7c-1bb0d05955fb\",\"subtype\":\"Chart\",\"type\":\"Plot\"},\"ticker\":{\"id\":\"032d2e7b-6f83-49ee-b17c-9f23d833be21\",\"type\":\"BasicTicker\"}},\"id\":\"fa8b2619-c73d-4c2b-b6dd-2ff8d243719f\",\"type\":\"LinearAxis\"},{\"attributes\":{\"fill_alpha\":{\"field\":\"fill_alpha\"},\"fill_color\":{\"field\":\"color\"},\"height\":{\"field\":\"height\",\"units\":\"data\"},\"line_color\":{\"field\":\"line_color\"},\"width\":{\"field\":\"width\",\"units\":\"data\"},\"x\":{\"field\":\"x\"},\"y\":{\"field\":\"y\"}},\"id\":\"6908c428-4170-4fe8-98ab-717361b43fa3\",\"type\":\"Rect\"},{\"attributes\":{\"callback\":null,\"column_names\":[\"line_color\",\"line_alpha\",\"color\",\"fill_alpha\",\"height\",\"width\",\"y\",\"x\",\"label\"],\"data\":{\"chart_index\":[{\"index\":\"sales\"}],\"color\":[\"crimson\"],\"fill_alpha\":[0.8],\"height\":[3.5340579710144926],\"index\":[\"sales\"],\"label\":[{\"index\":\"sales\"}],\"line_alpha\":[1.0],\"line_color\":[\"white\"],\"width\":[0.8],\"x\":[\"sales\"],\"y\":[1.7670289855072463]}},\"id\":\"27d9c3ee-8707-417e-99f1-2c145beaec43\",\"type\":\"ColumnDataSource\"},{\"attributes\":{\"formatter\":{\"id\":\"f5ded7b1-3bde-40f2-a664-b45fcbb6746d\",\"type\":\"CategoricalTickFormatter\"},\"major_label_orientation\":0.7853981633974483,\"plot\":{\"id\":\"484eda2b-0d1b-4fee-9ed4-550433ab83f7\",\"subtype\":\"Chart\",\"type\":\"Plot\"},\"ticker\":{\"id\":\"820dbbf6-613c-4b20-a91e-d8de910c74ae\",\"type\":\"CategoricalTicker\"}},\"id\":\"ce13b016-220a-4f8b-b829-17c6d2e6d161\",\"type\":\"CategoricalAxis\"},{\"attributes\":{\"data_source\":{\"id\":\"57f1d91f-18e8-429f-bfe1-f6a39468bed7\",\"type\":\"ColumnDataSource\"},\"glyph\":{\"id\":\"500d6f2f-7017-494d-927d-04d26e3c56b5\",\"type\":\"Rect\"},\"hover_glyph\":null,\"nonselection_glyph\":null,\"selection_glyph\":null},\"id\":\"be1d03fa-4475-4f80-ad15-62c0f6cd87ac\",\"type\":\"GlyphRenderer\"},{\"attributes\":{\"callback\":null,\"column_names\":[\"line_color\",\"line_alpha\",\"color\",\"fill_alpha\",\"height\",\"width\",\"y\",\"x\",\"label\"],\"data\":{\"chart_index\":[{\"index\":\"technical\"}],\"color\":[\"crimson\"],\"fill_alpha\":[0.8],\"height\":[0.010294117647058823],\"index\":[\"technical\"],\"label\":[{\"index\":\"technical\"}],\"line_alpha\":[1.0],\"line_color\":[\"white\"],\"width\":[0.8],\"x\":[\"technical\"],\"y\":[0.005147058823529412]}},\"id\":\"80e98488-bc72-4feb-89f7-dbe0c4ce44aa\",\"type\":\"ColumnDataSource\"},{\"attributes\":{\"callback\":null,\"column_names\":[\"line_color\",\"line_alpha\",\"color\",\"fill_alpha\",\"height\",\"width\",\"y\",\"x\",\"label\"],\"data\":{\"chart_index\":[{\"index\":\"sales\"}],\"color\":[\"crimson\"],\"fill_alpha\":[0.8],\"height\":[0.024154589371980676],\"index\":[\"sales\"],\"label\":[{\"index\":\"sales\"}],\"line_alpha\":[1.0],\"line_color\":[\"white\"],\"width\":[0.8],\"x\":[\"sales\"],\"y\":[0.012077294685990338]}},\"id\":\"48b86ded-be0c-4e06-9ec6-bd2093d29502\",\"type\":\"ColumnDataSource\"},{\"attributes\":{},\"id\":\"1e2a6374-a61d-4dfa-916e-65721a9044f6\",\"type\":\"CategoricalTickFormatter\"},{\"attributes\":{\"callback\":null,\"factors\":[\"IT\",\"RandD\",\"accounting\",\"hr\",\"management\",\"marketing\",\"product_mng\",\"sales\",\"support\",\"technical\"]},\"id\":\"298f4cc1-57bd-48a6-90e3-ce7ca1452507\",\"type\":\"FactorRange\"},{\"attributes\":{\"plot\":{\"id\":\"484eda2b-0d1b-4fee-9ed4-550433ab83f7\",\"subtype\":\"Chart\",\"type\":\"Plot\"}},\"id\":\"fd4da829-48fd-4b7d-8067-0093232fc538\",\"type\":\"WheelZoomTool\"},{\"attributes\":{\"callback\":null,\"column_names\":[\"line_color\",\"line_alpha\",\"color\",\"fill_alpha\",\"height\",\"width\",\"y\",\"x\",\"label\"],\"data\":{\"chart_index\":[{\"index\":\"accounting\"}],\"color\":[\"crimson\"],\"fill_alpha\":[0.8],\"height\":[201.16297262059973],\"index\":[\"accounting\"],\"label\":[{\"index\":\"accounting\"}],\"line_alpha\":[1.0],\"line_color\":[\"white\"],\"width\":[0.8],\"x\":[\"accounting\"],\"y\":[100.58148631029987]}},\"id\":\"99ba424d-e82e-4bc7-ab1e-4db78e6065aa\",\"type\":\"ColumnDataSource\"},{\"attributes\":{\"fill_alpha\":{\"field\":\"fill_alpha\"},\"fill_color\":{\"field\":\"color\"},\"height\":{\"field\":\"height\",\"units\":\"data\"},\"line_color\":{\"field\":\"line_color\"},\"width\":{\"field\":\"width\",\"units\":\"data\"},\"x\":{\"field\":\"x\"},\"y\":{\"field\":\"y\"}},\"id\":\"7a5f3a02-e418-4f5f-b73f-33fcaee8de88\",\"type\":\"Rect\"},{\"attributes\":{\"fill_alpha\":{\"field\":\"fill_alpha\"},\"fill_color\":{\"field\":\"color\"},\"height\":{\"field\":\"height\",\"units\":\"data\"},\"line_color\":{\"field\":\"line_color\"},\"width\":{\"field\":\"width\",\"units\":\"data\"},\"x\":{\"field\":\"x\"},\"y\":{\"field\":\"y\"}},\"id\":\"309406b5-cffb-44c2-846c-6c57ded9709d\",\"type\":\"Rect\"},{\"attributes\":{\"data_source\":{\"id\":\"9f5198ce-37d6-4a00-9c4c-9ff35e7bf566\",\"type\":\"ColumnDataSource\"},\"glyph\":{\"id\":\"8f704568-8f20-4fb1-895c-fe4957bc45c8\",\"type\":\"Rect\"},\"hover_glyph\":null,\"nonselection_glyph\":null,\"selection_glyph\":null},\"id\":\"5aa96772-dda1-4aaf-a353-f0ed139eb82e\",\"type\":\"GlyphRenderer\"},{\"attributes\":{\"callback\":null,\"column_names\":[\"line_color\",\"line_alpha\",\"color\",\"fill_alpha\",\"height\",\"width\",\"y\",\"x\",\"label\"],\"data\":{\"chart_index\":[{\"index\":\"RandD\"}],\"color\":[\"crimson\"],\"fill_alpha\":[0.8],\"height\":[0.17026683608640406],\"index\":[\"RandD\"],\"label\":[{\"index\":\"RandD\"}],\"line_alpha\":[1.0],\"line_color\":[\"white\"],\"width\":[0.8],\"x\":[\"RandD\"],\"y\":[0.08513341804320203]}},\"id\":\"11a0f14f-6faa-49b4-a374-11d765813491\",\"type\":\"ColumnDataSource\"},{\"attributes\":{\"data_source\":{\"id\":\"99ba424d-e82e-4bc7-ab1e-4db78e6065aa\",\"type\":\"ColumnDataSource\"},\"glyph\":{\"id\":\"55220595-8d7e-43e2-a232-177e462f3c09\",\"type\":\"Rect\"},\"hover_glyph\":null,\"nonselection_glyph\":null,\"selection_glyph\":null},\"id\":\"92397e52-f206-4352-beba-80782181ec85\",\"type\":\"GlyphRenderer\"},{\"attributes\":{\"fill_alpha\":{\"field\":\"fill_alpha\"},\"fill_color\":{\"field\":\"color\"},\"height\":{\"field\":\"height\",\"units\":\"data\"},\"line_color\":{\"field\":\"line_color\"},\"width\":{\"field\":\"width\",\"units\":\"data\"},\"x\":{\"field\":\"x\"},\"y\":{\"field\":\"y\"}},\"id\":\"04c7f1a8-b6bf-453e-9a77-4bb5fa8761e3\",\"type\":\"Rect\"},{\"attributes\":{\"fill_alpha\":{\"field\":\"fill_alpha\"},\"fill_color\":{\"field\":\"color\"},\"height\":{\"field\":\"height\",\"units\":\"data\"},\"line_color\":{\"field\":\"line_color\"},\"width\":{\"field\":\"width\",\"units\":\"data\"},\"x\":{\"field\":\"x\"},\"y\":{\"field\":\"y\"}},\"id\":\"6004ece6-863e-412a-9040-cc4a180733cc\",\"type\":\"Rect\"},{\"attributes\":{\"active_drag\":\"auto\",\"active_scroll\":\"auto\",\"active_tap\":\"auto\",\"tools\":[{\"id\":\"4e9ebeb7-1e79-4485-a8d5-ba89a682fe16\",\"type\":\"PanTool\"},{\"id\":\"706e6d4e-f5ac-41f0-a78c-768ccc7fd3c8\",\"type\":\"WheelZoomTool\"},{\"id\":\"14214ac2-011b-40c9-8c12-1e5913deecd8\",\"type\":\"BoxZoomTool\"},{\"id\":\"fa478368-8837-4f96-9e47-a6034ae947cc\",\"type\":\"SaveTool\"},{\"id\":\"ffd3df1e-f610-41c4-9962-2ed87b227609\",\"type\":\"ResetTool\"},{\"id\":\"030253b3-eef3-4563-9174-461c2c5c582f\",\"type\":\"HelpTool\"}]},\"id\":\"00e4f5da-7a24-443a-8949-ff2fd1652c44\",\"type\":\"Toolbar\"},{\"attributes\":{\"formatter\":{\"id\":\"cb62dfb0-3805-4ef1-9119-da11385ebc88\",\"type\":\"BasicTickFormatter\"},\"plot\":{\"id\":\"099f4aaa-a11a-4e5f-a52d-ba983413787c\",\"subtype\":\"Chart\",\"type\":\"Plot\"},\"ticker\":{\"id\":\"cdaab70b-5d78-4010-82e1-e06c018ad8b3\",\"type\":\"BasicTicker\"}},\"id\":\"7eba6dd4-4e09-4418-a4cb-625a1991da1f\",\"type\":\"LinearAxis\"},{\"attributes\":{\"callback\":null,\"column_names\":[\"line_color\",\"line_alpha\",\"color\",\"fill_alpha\",\"height\",\"width\",\"y\",\"x\",\"label\"],\"data\":{\"chart_index\":[{\"index\":\"management\"}],\"color\":[\"crimson\"],\"fill_alpha\":[0.8],\"height\":[201.24920634920636],\"index\":[\"management\"],\"label\":[{\"index\":\"management\"}],\"line_alpha\":[1.0],\"line_color\":[\"white\"],\"width\":[0.8],\"x\":[\"management\"],\"y\":[100.62460317460318]}},\"id\":\"a2dc81f4-6968-494a-87e2-2d41bc9c781d\",\"type\":\"ColumnDataSource\"},{\"attributes\":{\"plot\":{\"id\":\"484eda2b-0d1b-4fee-9ed4-550433ab83f7\",\"subtype\":\"Chart\",\"type\":\"Plot\"}},\"id\":\"c4df96bc-c0ae-4691-bee4-45c34c702f5a\",\"type\":\"ResetTool\"},{\"attributes\":{},\"id\":\"4a581237-c2ff-4927-a68d-f9d40f88994f\",\"type\":\"CategoricalTickFormatter\"},{\"attributes\":{\"callback\":null,\"column_names\":[\"line_color\",\"line_alpha\",\"color\",\"fill_alpha\",\"height\",\"width\",\"y\",\"x\",\"label\"],\"data\":{\"chart_index\":[{\"index\":\"RandD\"}],\"color\":[\"crimson\"],\"fill_alpha\":[0.8],\"height\":[0.15374841168996187],\"index\":[\"RandD\"],\"label\":[{\"index\":\"RandD\"}],\"line_alpha\":[1.0],\"line_color\":[\"white\"],\"width\":[0.8],\"x\":[\"RandD\"],\"y\":[0.07687420584498093]}},\"id\":\"e83c9b1b-463b-41e5-b2d3-b21bb6191e58\",\"type\":\"ColumnDataSource\"},{\"attributes\":{\"fill_alpha\":{\"field\":\"fill_alpha\"},\"fill_color\":{\"field\":\"color\"},\"height\":{\"field\":\"height\",\"units\":\"data\"},\"line_color\":{\"field\":\"line_color\"},\"width\":{\"field\":\"width\",\"units\":\"data\"},\"x\":{\"field\":\"x\"},\"y\":{\"field\":\"y\"}},\"id\":\"4a7453a2-7706-4a2c-a9b3-02e7bf9ec00d\",\"type\":\"Rect\"},{\"attributes\":{\"callback\":null,\"column_names\":[\"line_color\",\"line_alpha\",\"color\",\"fill_alpha\",\"height\",\"width\",\"y\",\"x\",\"label\"],\"data\":{\"chart_index\":[{\"index\":\"hr\"}],\"color\":[\"crimson\"],\"fill_alpha\":[0.8],\"height\":[0.02029769959404601],\"index\":[\"hr\"],\"label\":[{\"index\":\"hr\"}],\"line_alpha\":[1.0],\"line_color\":[\"white\"],\"width\":[0.8],\"x\":[\"hr\"],\"y\":[0.010148849797023005]}},\"id\":\"8f050253-5b8a-4dd1-919e-261c87c44618\",\"type\":\"ColumnDataSource\"},{\"attributes\":{\"fill_alpha\":{\"field\":\"fill_alpha\"},\"fill_color\":{\"field\":\"color\"},\"height\":{\"field\":\"height\",\"units\":\"data\"},\"line_color\":{\"field\":\"line_color\"},\"width\":{\"field\":\"width\",\"units\":\"data\"},\"x\":{\"field\":\"x\"},\"y\":{\"field\":\"y\"}},\"id\":\"fda295fe-167a-4295-abcf-92e9258fce09\",\"type\":\"Rect\"},{\"attributes\":{\"data_source\":{\"id\":\"07a06130-badd-4737-bc69-3690796bba26\",\"type\":\"ColumnDataSource\"},\"glyph\":{\"id\":\"1b6712c9-c3e6-403c-a9fd-a392c873c431\",\"type\":\"Rect\"},\"hover_glyph\":null,\"nonselection_glyph\":null,\"selection_glyph\":null},\"id\":\"adf02113-4084-43e6-b961-2236e3afe391\",\"type\":\"GlyphRenderer\"},{\"attributes\":{\"fill_alpha\":{\"field\":\"fill_alpha\"},\"fill_color\":{\"field\":\"color\"},\"height\":{\"field\":\"height\",\"units\":\"data\"},\"line_color\":{\"field\":\"line_color\"},\"width\":{\"field\":\"width\",\"units\":\"data\"},\"x\":{\"field\":\"x\"},\"y\":{\"field\":\"y\"}},\"id\":\"45f97c35-892f-4b2c-b720-74dd776a7397\",\"type\":\"Rect\"},{\"attributes\":{\"data_source\":{\"id\":\"c89d8b2a-e97e-4f31-8ae9-8d1b0d3042e9\",\"type\":\"ColumnDataSource\"},\"glyph\":{\"id\":\"a47ed60f-ddce-48de-87f7-acbdf498e3f0\",\"type\":\"Rect\"},\"hover_glyph\":null,\"nonselection_glyph\":null,\"selection_glyph\":null},\"id\":\"9646e128-74c9-4d76-b7e9-81cbe3983fc8\",\"type\":\"GlyphRenderer\"},{\"attributes\":{\"fill_alpha\":{\"field\":\"fill_alpha\"},\"fill_color\":{\"field\":\"color\"},\"height\":{\"field\":\"height\",\"units\":\"data\"},\"line_color\":{\"field\":\"line_color\"},\"width\":{\"field\":\"width\",\"units\":\"data\"},\"x\":{\"field\":\"x\"},\"y\":{\"field\":\"y\"}},\"id\":\"15d58a5d-19b0-42ca-8263-67cae6d8548d\",\"type\":\"Rect\"},{\"attributes\":{\"children\":[{\"id\":\"0096780c-e65d-4258-8a30-8d14e50b0152\",\"type\":\"ToolbarBox\"},{\"id\":\"69e077be-8b8a-4062-9220-b7447c93401d\",\"type\":\"Column\"}]},\"id\":\"8b213842-65ac-44f6-9a58-4836f962cdee\",\"type\":\"Column\"},{\"attributes\":{\"data_source\":{\"id\":\"95a3729e-c4e2-4a24-a6da-7ac7d616ffbe\",\"type\":\"ColumnDataSource\"},\"glyph\":{\"id\":\"43ba4bef-e70e-4041-ba43-4e9ce58ceca4\",\"type\":\"Rect\"},\"hover_glyph\":null,\"nonselection_glyph\":null,\"selection_glyph\":null},\"id\":\"65202d7e-58cd-4781-a9c2-eaf44a3b45ee\",\"type\":\"GlyphRenderer\"},{\"attributes\":{\"overlay\":{\"id\":\"f9e908b5-cdeb-4a4d-b06d-a991d0d68c9b\",\"type\":\"BoxAnnotation\"},\"plot\":{\"id\":\"b4bea73b-0f97-4345-be7c-1bb0d05955fb\",\"subtype\":\"Chart\",\"type\":\"Plot\"}},\"id\":\"14214ac2-011b-40c9-8c12-1e5913deecd8\",\"type\":\"BoxZoomTool\"},{\"attributes\":{\"plot\":{\"id\":\"1cdc38bd-2d28-4fcd-9f39-2e5406e793ef\",\"subtype\":\"Chart\",\"type\":\"Plot\"}},\"id\":\"b4abe235-368d-43f2-a648-52ab3ba63626\",\"type\":\"PanTool\"},{\"attributes\":{\"fill_alpha\":{\"field\":\"fill_alpha\"},\"fill_color\":{\"field\":\"color\"},\"height\":{\"field\":\"height\",\"units\":\"data\"},\"line_color\":{\"field\":\"line_color\"},\"width\":{\"field\":\"width\",\"units\":\"data\"},\"x\":{\"field\":\"x\"},\"y\":{\"field\":\"y\"}},\"id\":\"9f548157-1d51-4a91-830d-6279db6a21ac\",\"type\":\"Rect\"},{\"attributes\":{\"callback\":null,\"column_names\":[\"line_color\",\"line_alpha\",\"color\",\"fill_alpha\",\"height\",\"width\",\"y\",\"x\",\"label\"],\"data\":{\"chart_index\":[{\"index\":\"technical\"}],\"color\":[\"crimson\"],\"fill_alpha\":[0.8],\"height\":[0.1400735294117647],\"index\":[\"technical\"],\"label\":[{\"index\":\"technical\"}],\"line_alpha\":[1.0],\"line_color\":[\"white\"],\"width\":[0.8],\"x\":[\"technical\"],\"y\":[0.07003676470588235]}},\"id\":\"f173b221-388c-4e76-962b-b03c3c4a9199\",\"type\":\"ColumnDataSource\"},{\"attributes\":{\"overlay\":{\"id\":\"30b5d761-941d-4714-9226-078d66e456eb\",\"type\":\"BoxAnnotation\"},\"plot\":{\"id\":\"36459975-e305-4762-8c51-9cfa61c4c70b\",\"subtype\":\"Chart\",\"type\":\"Plot\"}},\"id\":\"b131ef39-324f-4808-b5d5-de24783acb24\",\"type\":\"BoxZoomTool\"},{\"attributes\":{\"callback\":null,\"column_names\":[\"line_color\",\"line_alpha\",\"color\",\"fill_alpha\",\"height\",\"width\",\"y\",\"x\",\"label\"],\"data\":{\"chart_index\":[{\"index\":\"sales\"}],\"color\":[\"crimson\"],\"fill_alpha\":[0.8],\"height\":[0.7097173913043466],\"index\":[\"sales\"],\"label\":[{\"index\":\"sales\"}],\"line_alpha\":[1.0],\"line_color\":[\"white\"],\"width\":[0.8],\"x\":[\"sales\"],\"y\":[0.3548586956521733]}},\"id\":\"9f9a1c39-349a-40b6-af0e-b3e5e9f93c4d\",\"type\":\"ColumnDataSource\"},{\"attributes\":{},\"id\":\"87b499da-2eea-443a-84b2-d5220670daf7\",\"type\":\"BasicTicker\"},{\"attributes\":{\"formatter\":{\"id\":\"18f27697-10b2-4661-bcc3-3013f532e1d2\",\"type\":\"BasicTickFormatter\"},\"plot\":{\"id\":\"c2a3ea28-8d3b-4a3b-986d-b9779f2a8679\",\"subtype\":\"Chart\",\"type\":\"Plot\"},\"ticker\":{\"id\":\"308598f2-fb7c-442d-b623-59f9ea1135b4\",\"type\":\"BasicTicker\"}},\"id\":\"adbe1f1b-1a5d-4eed-8208-95de8d5e5672\",\"type\":\"LinearAxis\"},{\"attributes\":{\"plot\":{\"id\":\"b4bea73b-0f97-4345-be7c-1bb0d05955fb\",\"subtype\":\"Chart\",\"type\":\"Plot\"}},\"id\":\"4e9ebeb7-1e79-4485-a8d5-ba89a682fe16\",\"type\":\"PanTool\"},{\"attributes\":{\"dimension\":1,\"plot\":{\"id\":\"36459975-e305-4762-8c51-9cfa61c4c70b\",\"subtype\":\"Chart\",\"type\":\"Plot\"},\"ticker\":{\"id\":\"e6f524a0-ab5e-4d90-a16a-e48d8a307434\",\"type\":\"BasicTicker\"}},\"id\":\"33b0de2d-1865-4fad-9f26-b7e74b5c12a0\",\"type\":\"Grid\"},{\"attributes\":{\"overlay\":{\"id\":\"5166dd12-c19a-4ced-8868-d6149196f936\",\"type\":\"BoxAnnotation\"},\"plot\":{\"id\":\"1cdc38bd-2d28-4fcd-9f39-2e5406e793ef\",\"subtype\":\"Chart\",\"type\":\"Plot\"}},\"id\":\"de56eaca-1f57-4a82-ac74-66b9086c127d\",\"type\":\"BoxZoomTool\"},{\"attributes\":{\"data_source\":{\"id\":\"e50ab170-7296-4034-b3ad-05f8f0b5bb44\",\"type\":\"ColumnDataSource\"},\"glyph\":{\"id\":\"c0fcccc3-4d7d-4266-9bac-798a491d9623\",\"type\":\"Rect\"},\"hover_glyph\":null,\"nonselection_glyph\":null,\"selection_glyph\":null},\"id\":\"03f366a7-116d-4c86-9dbb-53beb589559b\",\"type\":\"GlyphRenderer\"},{\"attributes\":{\"data_source\":{\"id\":\"49015588-fc02-48c7-929c-e1693a19be4f\",\"type\":\"ColumnDataSource\"},\"glyph\":{\"id\":\"506dfe57-ed88-4b9f-87c4-90065cef81f0\",\"type\":\"Rect\"},\"hover_glyph\":null,\"nonselection_glyph\":null,\"selection_glyph\":null},\"id\":\"0186eb00-f607-4cfb-90b8-45082db3c101\",\"type\":\"GlyphRenderer\"},{\"attributes\":{\"callback\":null,\"end\":4.071838235294118},\"id\":\"aabf9eaa-8a31-4265-a505-7ad7e6f98a45\",\"type\":\"Range1d\"},{\"attributes\":{\"data_source\":{\"id\":\"6979646e-0181-42d7-948d-ce1af48bd131\",\"type\":\"ColumnDataSource\"},\"glyph\":{\"id\":\"929bcf1b-b455-4c25-94a9-a6ecdb5105bf\",\"type\":\"Rect\"},\"hover_glyph\":null,\"nonselection_glyph\":null,\"selection_glyph\":null},\"id\":\"b501942c-310e-4ee3-aa02-270bca2cd4b3\",\"type\":\"GlyphRenderer\"},{\"attributes\":{\"callback\":null,\"column_names\":[\"line_color\",\"line_alpha\",\"color\",\"fill_alpha\",\"height\",\"width\",\"y\",\"x\",\"label\"],\"data\":{\"chart_index\":[{\"index\":\"technical\"}],\"color\":[\"crimson\"],\"fill_alpha\":[0.8],\"height\":[0.6078970588235295],\"index\":[\"technical\"],\"label\":[{\"index\":\"technical\"}],\"line_alpha\":[1.0],\"line_color\":[\"white\"],\"width\":[0.8],\"x\":[\"technical\"],\"y\":[0.30394852941176476]}},\"id\":\"e6f7cfb4-39b6-436e-9a50-69a0a7079b7d\",\"type\":\"ColumnDataSource\"},{\"attributes\":{\"plot\":{\"id\":\"c2a3ea28-8d3b-4a3b-986d-b9779f2a8679\",\"subtype\":\"Chart\",\"type\":\"Plot\"}},\"id\":\"6cb6de24-e10a-4866-9cdc-233cf5df7fa7\",\"type\":\"HelpTool\"},{\"attributes\":{\"fill_alpha\":{\"field\":\"fill_alpha\"},\"fill_color\":{\"field\":\"color\"},\"height\":{\"field\":\"height\",\"units\":\"data\"},\"line_color\":{\"field\":\"line_color\"},\"width\":{\"field\":\"width\",\"units\":\"data\"},\"x\":{\"field\":\"x\"},\"y\":{\"field\":\"y\"}},\"id\":\"1b6712c9-c3e6-403c-a9fd-a392c873c431\",\"type\":\"Rect\"},{\"attributes\":{\"data_source\":{\"id\":\"2219d9b0-706a-4f59-b7e2-24e9c6b05800\",\"type\":\"ColumnDataSource\"},\"glyph\":{\"id\":\"44f645fd-6690-4803-8e9c-96a308c55567\",\"type\":\"Rect\"},\"hover_glyph\":null,\"nonselection_glyph\":null,\"selection_glyph\":null},\"id\":\"5f2e59b3-ca74-43bf-a20f-6fb74e519b3e\",\"type\":\"GlyphRenderer\"},{\"attributes\":{\"callback\":null,\"end\":0.6524166666666661},\"id\":\"147c353f-d2a6-407b-b983-866f588817af\",\"type\":\"Range1d\"},{\"attributes\":{},\"id\":\"94e4b788-946c-4d22-9e89-7ad57cb213ee\",\"type\":\"BasicTicker\"},{\"attributes\":{\"fill_alpha\":{\"field\":\"fill_alpha\"},\"fill_color\":{\"field\":\"color\"},\"height\":{\"field\":\"height\",\"units\":\"data\"},\"line_color\":{\"field\":\"line_color\"},\"width\":{\"field\":\"width\",\"units\":\"data\"},\"x\":{\"field\":\"x\"},\"y\":{\"field\":\"y\"}},\"id\":\"7dcd37b0-c83f-44ab-8a53-8c07163937da\",\"type\":\"Rect\"},{\"attributes\":{\"callback\":null,\"column_names\":[\"line_color\",\"line_alpha\",\"color\",\"fill_alpha\",\"height\",\"width\",\"y\",\"x\",\"label\"],\"data\":{\"chart_index\":[{\"index\":\"technical\"}],\"color\":[\"crimson\"],\"fill_alpha\":[0.8],\"height\":[202.49742647058824],\"index\":[\"technical\"],\"label\":[{\"index\":\"technical\"}],\"line_alpha\":[1.0],\"line_color\":[\"white\"],\"width\":[0.8],\"x\":[\"technical\"],\"y\":[101.24871323529412]}},\"id\":\"23e9267c-9960-4d9b-bf03-84c80b3bed90\",\"type\":\"ColumnDataSource\"},{\"attributes\":{},\"id\":\"a08cd82a-2aaf-48c8-a29d-94b08648a7d7\",\"type\":\"BasicTicker\"},{\"attributes\":{\"dimension\":1,\"plot\":{\"id\":\"b4bea73b-0f97-4345-be7c-1bb0d05955fb\",\"subtype\":\"Chart\",\"type\":\"Plot\"},\"ticker\":{\"id\":\"032d2e7b-6f83-49ee-b17c-9f23d833be21\",\"type\":\"BasicTicker\"}},\"id\":\"83856ded-81ac-4175-b14f-ebe60dfd7350\",\"type\":\"Grid\"},{\"attributes\":{\"data_source\":{\"id\":\"f4e10e75-6160-43bc-b832-5eb1bc37fbd7\",\"type\":\"ColumnDataSource\"},\"glyph\":{\"id\":\"7a5f3a02-e418-4f5f-b73f-33fcaee8de88\",\"type\":\"Rect\"},\"hover_glyph\":null,\"nonselection_glyph\":null,\"selection_glyph\":null},\"id\":\"821ae0db-c491-4df2-97f0-033b6043b4ae\",\"type\":\"GlyphRenderer\"},{\"attributes\":{\"callback\":null,\"column_names\":[\"line_color\",\"line_alpha\",\"color\",\"fill_alpha\",\"height\",\"width\",\"y\",\"x\",\"label\"],\"data\":{\"chart_index\":[{\"index\":\"IT\"}],\"color\":[\"crimson\"],\"fill_alpha\":[0.8],\"height\":[3.4686226568867156],\"index\":[\"IT\"],\"label\":[{\"index\":\"IT\"}],\"line_alpha\":[1.0],\"line_color\":[\"white\"],\"width\":[0.8],\"x\":[\"IT\"],\"y\":[1.7343113284433578]}},\"id\":\"49015588-fc02-48c7-929c-e1693a19be4f\",\"type\":\"ColumnDataSource\"},{\"attributes\":{\"callback\":null,\"end\":0.17878017789072426},\"id\":\"e8ffce46-765b-4a6c-b8ab-b82ed276ee92\",\"type\":\"Range1d\"},{\"attributes\":{\"callback\":null,\"column_names\":[\"line_color\",\"line_alpha\",\"color\",\"fill_alpha\",\"height\",\"width\",\"y\",\"x\",\"label\"],\"data\":{\"chart_index\":[{\"index\":\"accounting\"}],\"color\":[\"crimson\"],\"fill_alpha\":[0.8],\"height\":[0.5821512385919166],\"index\":[\"accounting\"],\"label\":[{\"index\":\"accounting\"}],\"line_alpha\":[1.0],\"line_color\":[\"white\"],\"width\":[0.8],\"x\":[\"accounting\"],\"y\":[0.2910756192959583]}},\"id\":\"74aa138b-d393-4323-b479-ca7056082bee\",\"type\":\"ColumnDataSource\"},{\"attributes\":{},\"id\":\"fbb34525-2be4-4126-bb33-eea7d657a086\",\"type\":\"BasicTickFormatter\"},{\"attributes\":{\"plot\":{\"id\":\"099f4aaa-a11a-4e5f-a52d-ba983413787c\",\"subtype\":\"Chart\",\"type\":\"Plot\"}},\"id\":\"9cc7c149-ad58-412f-88b9-f264de7e38ab\",\"type\":\"HelpTool\"},{\"attributes\":{\"callback\":null,\"column_names\":[\"line_color\",\"line_alpha\",\"color\",\"fill_alpha\",\"height\",\"width\",\"y\",\"x\",\"label\"],\"data\":{\"chart_index\":[{\"index\":\"product_mng\"}],\"color\":[\"crimson\"],\"fill_alpha\":[0.8],\"height\":[3.475609756097561],\"index\":[\"product_mng\"],\"label\":[{\"index\":\"product_mng\"}],\"line_alpha\":[1.0],\"line_color\":[\"white\"],\"width\":[0.8],\"x\":[\"product_mng\"],\"y\":[1.7378048780487805]}},\"id\":\"cb941b34-139e-4b21-a1d2-ee9ecdad93c2\",\"type\":\"ColumnDataSource\"},{\"attributes\":{\"fill_alpha\":{\"field\":\"fill_alpha\"},\"fill_color\":{\"field\":\"color\"},\"height\":{\"field\":\"height\",\"units\":\"data\"},\"line_color\":{\"field\":\"line_color\"},\"width\":{\"field\":\"width\",\"units\":\"data\"},\"x\":{\"field\":\"x\"},\"y\":{\"field\":\"y\"}},\"id\":\"9f386bb7-0bf2-4b39-ad3d-5c860c07b355\",\"type\":\"Rect\"},{\"attributes\":{\"callback\":null,\"column_names\":[\"line_color\",\"line_alpha\",\"color\",\"fill_alpha\",\"height\",\"width\",\"y\",\"x\",\"label\"],\"data\":{\"chart_index\":[{\"index\":\"management\"}],\"color\":[\"crimson\"],\"fill_alpha\":[0.8],\"height\":[0.14444444444444443],\"index\":[\"management\"],\"label\":[{\"index\":\"management\"}],\"line_alpha\":[1.0],\"line_color\":[\"white\"],\"width\":[0.8],\"x\":[\"management\"],\"y\":[0.07222222222222222]}},\"id\":\"28dff828-4bcd-432c-850d-20e8e6206030\",\"type\":\"ColumnDataSource\"},{\"attributes\":{\"overlay\":{\"id\":\"118dfe0e-b516-44fe-8bda-6631c04ce874\",\"type\":\"BoxAnnotation\"},\"plot\":{\"id\":\"087258af-d19f-4b93-a6c5-288d81aa0134\",\"subtype\":\"Chart\",\"type\":\"Plot\"}},\"id\":\"68bd7cc1-a4d2-4e93-a833-02a4c04ae208\",\"type\":\"BoxZoomTool\"},{\"attributes\":{\"fill_alpha\":{\"field\":\"fill_alpha\"},\"fill_color\":{\"field\":\"color\"},\"height\":{\"field\":\"height\",\"units\":\"data\"},\"line_color\":{\"field\":\"line_color\"},\"width\":{\"field\":\"width\",\"units\":\"data\"},\"x\":{\"field\":\"x\"},\"y\":{\"field\":\"y\"}},\"id\":\"ae8fa758-d251-45f3-853b-7a977169d4f2\",\"type\":\"Rect\"},{\"attributes\":{\"fill_alpha\":{\"field\":\"fill_alpha\"},\"fill_color\":{\"field\":\"color\"},\"height\":{\"field\":\"height\",\"units\":\"data\"},\"line_color\":{\"field\":\"line_color\"},\"width\":{\"field\":\"width\",\"units\":\"data\"},\"x\":{\"field\":\"x\"},\"y\":{\"field\":\"y\"}},\"id\":\"a350bc6d-8e9e-4018-8495-a746cb35dd8e\",\"type\":\"Rect\"},{\"attributes\":{\"fill_alpha\":{\"field\":\"fill_alpha\"},\"fill_color\":{\"field\":\"color\"},\"height\":{\"field\":\"height\",\"units\":\"data\"},\"line_color\":{\"field\":\"line_color\"},\"width\":{\"field\":\"width\",\"units\":\"data\"},\"x\":{\"field\":\"x\"},\"y\":{\"field\":\"y\"}},\"id\":\"c85f6065-a3bd-4fab-b77d-4b8d1c2a4535\",\"type\":\"Rect\"},{\"attributes\":{},\"id\":\"f3a1440d-e10e-4818-b138-14a5bdeef8e4\",\"type\":\"CategoricalTicker\"},{\"attributes\":{\"data_source\":{\"id\":\"3ac6b152-b80c-414e-b585-ac902123d12b\",\"type\":\"ColumnDataSource\"},\"glyph\":{\"id\":\"23d76995-b40a-4b16-a1ee-9f5af868894c\",\"type\":\"Rect\"},\"hover_glyph\":null,\"nonselection_glyph\":null,\"selection_glyph\":null},\"id\":\"ccb2d2df-5ab0-4942-a2b8-e582f915580c\",\"type\":\"GlyphRenderer\"},{\"attributes\":{\"data_source\":{\"id\":\"a5ee59bb-8365-441e-b4e8-76d91c80048d\",\"type\":\"ColumnDataSource\"},\"glyph\":{\"id\":\"7dcd37b0-c83f-44ab-8a53-8c07163937da\",\"type\":\"Rect\"},\"hover_glyph\":null,\"nonselection_glyph\":null,\"selection_glyph\":null},\"id\":\"fa199188-ca9e-49c4-b8e4-76cb93ad863f\",\"type\":\"GlyphRenderer\"},{\"attributes\":{\"data_source\":{\"id\":\"52319cc4-9389-4680-8028-27d74bc8c68e\",\"type\":\"ColumnDataSource\"},\"glyph\":{\"id\":\"6908c428-4170-4fe8-98ab-717361b43fa3\",\"type\":\"Rect\"},\"hover_glyph\":null,\"nonselection_glyph\":null,\"selection_glyph\":null},\"id\":\"3619c3c4-d6c8-4ccd-a247-8b81b3c12444\",\"type\":\"GlyphRenderer\"},{\"attributes\":{\"plot\":null,\"text\":\"Average Left by department\"},\"id\":\"2a12b01b-0bf0-4266-b3e5-5beae26ffdad\",\"type\":\"Title\"},{\"attributes\":{},\"id\":\"ded63bbd-8e33-458f-9790-b04c2c289b57\",\"type\":\"ToolEvents\"},{\"attributes\":{\"plot\":{\"id\":\"c2a3ea28-8d3b-4a3b-986d-b9779f2a8679\",\"subtype\":\"Chart\",\"type\":\"Plot\"}},\"id\":\"4bfeee8f-94fe-4b62-a361-f6f48bc515ed\",\"type\":\"ResetTool\"},{\"attributes\":{\"fill_alpha\":{\"field\":\"fill_alpha\"},\"fill_color\":{\"field\":\"color\"},\"height\":{\"field\":\"height\",\"units\":\"data\"},\"line_color\":{\"field\":\"line_color\"},\"width\":{\"field\":\"width\",\"units\":\"data\"},\"x\":{\"field\":\"x\"},\"y\":{\"field\":\"y\"}},\"id\":\"4e30087f-bd5d-42fa-9258-cd54617d2a0f\",\"type\":\"Rect\"},{\"attributes\":{\"callback\":null,\"column_names\":[\"line_color\",\"line_alpha\",\"color\",\"fill_alpha\",\"height\",\"width\",\"y\",\"x\",\"label\"],\"data\":{\"chart_index\":[{\"index\":\"RandD\"}],\"color\":[\"crimson\"],\"fill_alpha\":[0.8],\"height\":[3.3672172808132146],\"index\":[\"RandD\"],\"label\":[{\"index\":\"RandD\"}],\"line_alpha\":[1.0],\"line_color\":[\"white\"],\"width\":[0.8],\"x\":[\"RandD\"],\"y\":[1.6836086404066073]}},\"id\":\"de76bce5-c73d-407d-b278-5f1597eeff16\",\"type\":\"ColumnDataSource\"},{\"attributes\":{\"below\":[{\"id\":\"cd628a9a-8e76-4247-9d99-8825563d0d3e\",\"type\":\"CategoricalAxis\"}],\"left\":[{\"id\":\"c7b4a97b-78f8-4a23-a869-a835c995dbf6\",\"type\":\"LinearAxis\"}],\"plot_height\":200,\"plot_width\":300,\"renderers\":[{\"id\":\"1b45a9a3-2806-438e-9d5e-4c298b20f953\",\"type\":\"BoxAnnotation\"},{\"id\":\"54e199d5-b894-4586-b5fb-f926148ba930\",\"type\":\"GlyphRenderer\"},{\"id\":\"df28ceab-9b48-40e2-a289-19b563bd17cc\",\"type\":\"GlyphRenderer\"},{\"id\":\"92397e52-f206-4352-beba-80782181ec85\",\"type\":\"GlyphRenderer\"},{\"id\":\"472464dd-ba46-41ec-a706-bfa25aef1f9c\",\"type\":\"GlyphRenderer\"},{\"id\":\"2f254a26-c315-43b8-90bf-bb7f7c23525a\",\"type\":\"GlyphRenderer\"},{\"id\":\"54bcf213-bc99-4604-a62c-67c7f2aa14f5\",\"type\":\"GlyphRenderer\"},{\"id\":\"1e7f404b-a37c-4772-83a7-83b33eba4d09\",\"type\":\"GlyphRenderer\"},{\"id\":\"73c2aa29-79af-4d4c-9dfb-e8f15883c134\",\"type\":\"GlyphRenderer\"},{\"id\":\"b870f5b2-246e-4c5b-bf79-334ab59bc0a4\",\"type\":\"GlyphRenderer\"},{\"id\":\"ce2e0068-d8f2-49b1-93f5-a1fc46aa3c6f\",\"type\":\"GlyphRenderer\"},{\"id\":\"cd628a9a-8e76-4247-9d99-8825563d0d3e\",\"type\":\"CategoricalAxis\"},{\"id\":\"c7b4a97b-78f8-4a23-a869-a835c995dbf6\",\"type\":\"LinearAxis\"},{\"id\":\"1fee6bb8-3a44-4c82-94ab-e9f0e9dd4af2\",\"type\":\"Grid\"}],\"title\":{\"id\":\"6ac5c33f-893a-486c-93c7-1438818bd234\",\"type\":\"Title\"},\"tool_events\":{\"id\":\"f65c030c-0d20-48c9-b40a-f0d27d9276c3\",\"type\":\"ToolEvents\"},\"toolbar\":{\"id\":\"8f427f6a-1b89-4228-98df-2125bc02597e\",\"type\":\"Toolbar\"},\"toolbar_location\":null,\"x_mapper_type\":\"auto\",\"x_range\":{\"id\":\"5a0fc699-206b-4c6b-b998-86981c2cf42b\",\"type\":\"FactorRange\"},\"y_mapper_type\":\"auto\",\"y_range\":{\"id\":\"2e978fce-3d03-472a-a635-5d8915cbad6d\",\"type\":\"Range1d\"}},\"id\":\"d362fe34-9496-4e4d-b324-d1116a6d2069\",\"subtype\":\"Chart\",\"type\":\"Plot\"},{\"attributes\":{\"dimension\":1,\"plot\":{\"id\":\"1cdc38bd-2d28-4fcd-9f39-2e5406e793ef\",\"subtype\":\"Chart\",\"type\":\"Plot\"},\"ticker\":{\"id\":\"a08cd82a-2aaf-48c8-a29d-94b08648a7d7\",\"type\":\"BasicTicker\"}},\"id\":\"6a385380-d98d-498c-842b-b18605685e67\",\"type\":\"Grid\"},{\"attributes\":{\"formatter\":{\"id\":\"35baa374-2050-4532-a605-f0f724387cce\",\"type\":\"CategoricalTickFormatter\"},\"major_label_orientation\":0.7853981633974483,\"plot\":{\"id\":\"099f4aaa-a11a-4e5f-a52d-ba983413787c\",\"subtype\":\"Chart\",\"type\":\"Plot\"},\"ticker\":{\"id\":\"d3be6fbd-f34f-4535-a46a-1745b7c887f7\",\"type\":\"CategoricalTicker\"}},\"id\":\"dfbf5e04-ea9d-40c7-9086-9b4ca652d54a\",\"type\":\"CategoricalAxis\"},{\"attributes\":{\"fill_alpha\":{\"field\":\"fill_alpha\"},\"fill_color\":{\"field\":\"color\"},\"height\":{\"field\":\"height\",\"units\":\"data\"},\"line_color\":{\"field\":\"line_color\"},\"width\":{\"field\":\"width\",\"units\":\"data\"},\"x\":{\"field\":\"x\"},\"y\":{\"field\":\"y\"}},\"id\":\"23d76995-b40a-4b16-a1ee-9f5af868894c\",\"type\":\"Rect\"},{\"attributes\":{\"callback\":null,\"column_names\":[\"line_color\",\"line_alpha\",\"color\",\"fill_alpha\",\"height\",\"width\",\"y\",\"x\",\"label\"],\"data\":{\"chart_index\":[{\"index\":\"IT\"}],\"color\":[\"crimson\"],\"fill_alpha\":[0.8],\"height\":[0.1336593317033415],\"index\":[\"IT\"],\"label\":[{\"index\":\"IT\"}],\"line_alpha\":[1.0],\"line_color\":[\"white\"],\"width\":[0.8],\"x\":[\"IT\"],\"y\":[0.06682966585167074]}},\"id\":\"57f1d91f-18e8-429f-bfe1-f6a39468bed7\",\"type\":\"ColumnDataSource\"},{\"attributes\":{\"dimension\":1,\"plot\":{\"id\":\"099f4aaa-a11a-4e5f-a52d-ba983413787c\",\"subtype\":\"Chart\",\"type\":\"Plot\"},\"ticker\":{\"id\":\"cdaab70b-5d78-4010-82e1-e06c018ad8b3\",\"type\":\"BasicTicker\"}},\"id\":\"9ca0aa85-a760-45db-9d2c-9520be28b422\",\"type\":\"Grid\"},{\"attributes\":{\"data_source\":{\"id\":\"6688c37d-547e-4490-96f4-5a9f5d9f0ed1\",\"type\":\"ColumnDataSource\"},\"glyph\":{\"id\":\"eada6cef-273a-42e5-b54c-b0c15a388898\",\"type\":\"Rect\"},\"hover_glyph\":null,\"nonselection_glyph\":null,\"selection_glyph\":null},\"id\":\"7d00d4cc-b0b4-4050-9ab4-45fa5ca6e235\",\"type\":\"GlyphRenderer\"},{\"attributes\":{\"fill_alpha\":{\"field\":\"fill_alpha\"},\"fill_color\":{\"field\":\"color\"},\"height\":{\"field\":\"height\",\"units\":\"data\"},\"line_color\":{\"field\":\"line_color\"},\"width\":{\"field\":\"width\",\"units\":\"data\"},\"x\":{\"field\":\"x\"},\"y\":{\"field\":\"y\"}},\"id\":\"4c45de00-0123-4c10-bb03-8f8fdf49f8ea\",\"type\":\"Rect\"},{\"attributes\":{\"bottom_units\":\"screen\",\"fill_alpha\":{\"value\":0.5},\"fill_color\":{\"value\":\"lightgrey\"},\"left_units\":\"screen\",\"level\":\"overlay\",\"line_alpha\":{\"value\":1.0},\"line_color\":{\"value\":\"black\"},\"line_dash\":[4,4],\"line_width\":{\"value\":2},\"plot\":null,\"render_mode\":\"css\",\"right_units\":\"screen\",\"top_units\":\"screen\"},\"id\":\"92f8ba52-13a8-4304-af89-1b7c074cc658\",\"type\":\"BoxAnnotation\"},{\"attributes\":{\"overlay\":{\"id\":\"92f8ba52-13a8-4304-af89-1b7c074cc658\",\"type\":\"BoxAnnotation\"},\"plot\":{\"id\":\"099f4aaa-a11a-4e5f-a52d-ba983413787c\",\"subtype\":\"Chart\",\"type\":\"Plot\"}},\"id\":\"b97848e6-a229-45d1-b670-f0ca3c612712\",\"type\":\"BoxZoomTool\"},{\"attributes\":{\"data_source\":{\"id\":\"a2dc81f4-6968-494a-87e2-2d41bc9c781d\",\"type\":\"ColumnDataSource\"},\"glyph\":{\"id\":\"74615b9a-1bcd-432f-8eef-b1d1a5a32293\",\"type\":\"Rect\"},\"hover_glyph\":null,\"nonselection_glyph\":null,\"selection_glyph\":null},\"id\":\"2f254a26-c315-43b8-90bf-bb7f7c23525a\",\"type\":\"GlyphRenderer\"},{\"attributes\":{\"plot\":null,\"text\":\"Average Number Project by department\"},\"id\":\"9023d735-b3c5-4029-8d14-b174678593ca\",\"type\":\"Title\"},{\"attributes\":{\"plot\":null,\"text\":\"Average Satisfaction Level by department\"},\"id\":\"efbb2e4c-fa32-42f5-aba1-2bba265e6535\",\"type\":\"Title\"},{\"attributes\":{\"fill_alpha\":{\"field\":\"fill_alpha\"},\"fill_color\":{\"field\":\"color\"},\"height\":{\"field\":\"height\",\"units\":\"data\"},\"line_color\":{\"field\":\"line_color\"},\"width\":{\"field\":\"width\",\"units\":\"data\"},\"x\":{\"field\":\"x\"},\"y\":{\"field\":\"y\"}},\"id\":\"b9cadf26-e17b-482c-ab4e-1fe762609f67\",\"type\":\"Rect\"},{\"attributes\":{\"fill_alpha\":{\"field\":\"fill_alpha\"},\"fill_color\":{\"field\":\"color\"},\"height\":{\"field\":\"height\",\"units\":\"data\"},\"line_color\":{\"field\":\"line_color\"},\"width\":{\"field\":\"width\",\"units\":\"data\"},\"x\":{\"field\":\"x\"},\"y\":{\"field\":\"y\"}},\"id\":\"e0aac5b9-7eb4-4b1a-b771-98da8d094845\",\"type\":\"Rect\"},{\"attributes\":{\"plot\":null,\"text\":\"Average Work Accident by department\"},\"id\":\"591d6795-b434-4b4c-aa5d-c9a74b8db762\",\"type\":\"Title\"},{\"attributes\":{\"children\":[{\"id\":\"099f4aaa-a11a-4e5f-a52d-ba983413787c\",\"subtype\":\"Chart\",\"type\":\"Plot\"},{\"id\":\"36459975-e305-4762-8c51-9cfa61c4c70b\",\"subtype\":\"Chart\",\"type\":\"Plot\"}]},\"id\":\"27714d37-096c-4baf-a0a7-9479dd25b16e\",\"type\":\"Row\"},{\"attributes\":{\"callback\":null,\"column_names\":[\"line_color\",\"line_alpha\",\"color\",\"fill_alpha\",\"height\",\"width\",\"y\",\"x\",\"label\"],\"data\":{\"chart_index\":[{\"index\":\"support\"}],\"color\":[\"crimson\"],\"fill_alpha\":[0.8],\"height\":[0.15477792732166892],\"index\":[\"support\"],\"label\":[{\"index\":\"support\"}],\"line_alpha\":[1.0],\"line_color\":[\"white\"],\"width\":[0.8],\"x\":[\"support\"],\"y\":[0.07738896366083446]}},\"id\":\"38586145-e643-40cd-9676-1a6ec1b9e3c8\",\"type\":\"ColumnDataSource\"},{\"attributes\":{\"callback\":null,\"column_names\":[\"line_color\",\"line_alpha\",\"color\",\"fill_alpha\",\"height\",\"width\",\"y\",\"x\",\"label\"],\"data\":{\"chart_index\":[{\"index\":\"IT\"}],\"color\":[\"crimson\"],\"fill_alpha\":[0.8],\"height\":[0.716829665851672],\"index\":[\"IT\"],\"label\":[{\"index\":\"IT\"}],\"line_alpha\":[1.0],\"line_color\":[\"white\"],\"width\":[0.8],\"x\":[\"IT\"],\"y\":[0.358414832925836]}},\"id\":\"07a06130-badd-4737-bc69-3690796bba26\",\"type\":\"ColumnDataSource\"},{\"attributes\":{\"fill_alpha\":{\"field\":\"fill_alpha\"},\"fill_color\":{\"field\":\"color\"},\"height\":{\"field\":\"height\",\"units\":\"data\"},\"line_color\":{\"field\":\"line_color\"},\"width\":{\"field\":\"width\",\"units\":\"data\"},\"x\":{\"field\":\"x\"},\"y\":{\"field\":\"y\"}},\"id\":\"1d23833d-cab4-4827-819c-cbc8ec7b4d3b\",\"type\":\"Rect\"},{\"attributes\":{\"callback\":null,\"column_names\":[\"line_color\",\"line_alpha\",\"color\",\"fill_alpha\",\"height\",\"width\",\"y\",\"x\",\"label\"],\"data\":{\"chart_index\":[{\"index\":\"IT\"}],\"color\":[\"crimson\"],\"fill_alpha\":[0.8],\"height\":[0.6181418092909551],\"index\":[\"IT\"],\"label\":[{\"index\":\"IT\"}],\"line_alpha\":[1.0],\"line_color\":[\"white\"],\"width\":[0.8],\"x\":[\"IT\"],\"y\":[0.30907090464547754]}},\"id\":\"d182b98f-86c4-4734-a7f4-5bacb5848f11\",\"type\":\"ColumnDataSource\"},{\"attributes\":{\"callback\":null,\"column_names\":[\"line_color\",\"line_alpha\",\"color\",\"fill_alpha\",\"height\",\"width\",\"y\",\"x\",\"label\"],\"data\":{\"chart_index\":[{\"index\":\"hr\"}],\"color\":[\"crimson\"],\"fill_alpha\":[0.8],\"height\":[198.68470906630583],\"index\":[\"hr\"],\"label\":[{\"index\":\"hr\"}],\"line_alpha\":[1.0],\"line_color\":[\"white\"],\"width\":[0.8],\"x\":[\"hr\"],\"y\":[99.34235453315291]}},\"id\":\"e7b8ad5e-ccbf-4339-ab27-4c8957872517\",\"type\":\"ColumnDataSource\"},{\"attributes\":{\"fill_alpha\":{\"field\":\"fill_alpha\"},\"fill_color\":{\"field\":\"color\"},\"height\":{\"field\":\"height\",\"units\":\"data\"},\"line_color\":{\"field\":\"line_color\"},\"width\":{\"field\":\"width\",\"units\":\"data\"},\"x\":{\"field\":\"x\"},\"y\":{\"field\":\"y\"}},\"id\":\"8fee01c1-e752-45dc-afa1-704261fe9ea0\",\"type\":\"Rect\"},{\"attributes\":{\"data_source\":{\"id\":\"e7b8ad5e-ccbf-4339-ab27-4c8957872517\",\"type\":\"ColumnDataSource\"},\"glyph\":{\"id\":\"9f386bb7-0bf2-4b39-ad3d-5c860c07b355\",\"type\":\"Rect\"},\"hover_glyph\":null,\"nonselection_glyph\":null,\"selection_glyph\":null},\"id\":\"472464dd-ba46-41ec-a706-bfa25aef1f9c\",\"type\":\"GlyphRenderer\"},{\"attributes\":{\"callback\":null,\"column_names\":[\"line_color\",\"line_alpha\",\"color\",\"fill_alpha\",\"height\",\"width\",\"y\",\"x\",\"label\"],\"data\":{\"chart_index\":[{\"index\":\"marketing\"}],\"color\":[\"crimson\"],\"fill_alpha\":[0.8],\"height\":[3.56993006993007],\"index\":[\"marketing\"],\"label\":[{\"index\":\"marketing\"}],\"line_alpha\":[1.0],\"line_color\":[\"white\"],\"width\":[0.8],\"x\":[\"marketing\"],\"y\":[1.784965034965035]}},\"id\":\"a6fd894a-56dc-4934-a9f9-ade09df31cfc\",\"type\":\"ColumnDataSource\"},{\"attributes\":{\"data_source\":{\"id\":\"f818d3ff-522a-49f2-90b5-31108fa2e80e\",\"type\":\"ColumnDataSource\"},\"glyph\":{\"id\":\"4eb56de5-0b5a-423f-841e-f9116aa5eabd\",\"type\":\"Rect\"},\"hover_glyph\":null,\"nonselection_glyph\":null,\"selection_glyph\":null},\"id\":\"54bcf213-bc99-4604-a62c-67c7f2aa14f5\",\"type\":\"GlyphRenderer\"},{\"attributes\":{\"children\":[{\"id\":\"1cdc38bd-2d28-4fcd-9f39-2e5406e793ef\",\"subtype\":\"Chart\",\"type\":\"Plot\"},{\"id\":\"484eda2b-0d1b-4fee-9ed4-550433ab83f7\",\"subtype\":\"Chart\",\"type\":\"Plot\"},{\"id\":\"b4bea73b-0f97-4345-be7c-1bb0d05955fb\",\"subtype\":\"Chart\",\"type\":\"Plot\"}]},\"id\":\"8e9366cb-0d94-4168-8257-7da1f22bf7c0\",\"type\":\"Row\"},{\"attributes\":{\"callback\":null,\"column_names\":[\"line_color\",\"line_alpha\",\"color\",\"fill_alpha\",\"height\",\"width\",\"y\",\"x\",\"label\"],\"data\":{\"chart_index\":[{\"index\":\"marketing\"}],\"color\":[\"crimson\"],\"fill_alpha\":[0.8],\"height\":[0.2365967365967366],\"index\":[\"marketing\"],\"label\":[{\"index\":\"marketing\"}],\"line_alpha\":[1.0],\"line_color\":[\"white\"],\"width\":[0.8],\"x\":[\"marketing\"],\"y\":[0.1182983682983683]}},\"id\":\"a5ee59bb-8365-441e-b4e8-76d91c80048d\",\"type\":\"ColumnDataSource\"},{\"attributes\":{\"overlay\":{\"id\":\"6a72077b-e355-4762-8d19-80b8efaa7e79\",\"type\":\"BoxAnnotation\"},\"plot\":{\"id\":\"484eda2b-0d1b-4fee-9ed4-550433ab83f7\",\"subtype\":\"Chart\",\"type\":\"Plot\"}},\"id\":\"cda4b2ad-d831-4df0-b45e-72fde5cbba55\",\"type\":\"BoxZoomTool\"},{\"attributes\":{\"plot\":{\"id\":\"087258af-d19f-4b93-a6c5-288d81aa0134\",\"subtype\":\"Chart\",\"type\":\"Plot\"}},\"id\":\"6cde28d0-f9af-45ee-9743-42a496b35384\",\"type\":\"ResetTool\"},{\"attributes\":{\"callback\":null,\"column_names\":[\"line_color\",\"line_alpha\",\"color\",\"fill_alpha\",\"height\",\"width\",\"y\",\"x\",\"label\"],\"data\":{\"chart_index\":[{\"index\":\"support\"}],\"color\":[\"crimson\"],\"fill_alpha\":[0.8],\"height\":[3.39300134589502],\"index\":[\"support\"],\"label\":[{\"index\":\"support\"}],\"line_alpha\":[1.0],\"line_color\":[\"white\"],\"width\":[0.8],\"x\":[\"support\"],\"y\":[1.69650067294751]}},\"id\":\"a72d84f6-63aa-4c8c-b2d3-18e7885cd823\",\"type\":\"ColumnDataSource\"},{\"attributes\":{\"callback\":null,\"column_names\":[\"line_color\",\"line_alpha\",\"color\",\"fill_alpha\",\"height\",\"width\",\"y\",\"x\",\"label\"],\"data\":{\"chart_index\":[{\"index\":\"management\"}],\"color\":[\"crimson\"],\"fill_alpha\":[0.8],\"height\":[0.6213492063492058],\"index\":[\"management\"],\"label\":[{\"index\":\"management\"}],\"line_alpha\":[1.0],\"line_color\":[\"white\"],\"width\":[0.8],\"x\":[\"management\"],\"y\":[0.3106746031746029]}},\"id\":\"bb1b0dae-ebad-4ae1-a378-f87f1f5f54d1\",\"type\":\"ColumnDataSource\"},{\"attributes\":{\"fill_alpha\":{\"field\":\"fill_alpha\"},\"fill_color\":{\"field\":\"color\"},\"height\":{\"field\":\"height\",\"units\":\"data\"},\"line_color\":{\"field\":\"line_color\"},\"width\":{\"field\":\"width\",\"units\":\"data\"},\"x\":{\"field\":\"x\"},\"y\":{\"field\":\"y\"}},\"id\":\"1ca7e26e-771b-427e-a7b2-2e34d57274cd\",\"type\":\"Rect\"},{\"attributes\":{\"data_source\":{\"id\":\"b5c2e4f6-b41f-4161-8627-3d6e422b3333\",\"type\":\"ColumnDataSource\"},\"glyph\":{\"id\":\"7df1cfd0-bd20-462b-9818-957f631d4e17\",\"type\":\"Rect\"},\"hover_glyph\":null,\"nonselection_glyph\":null,\"selection_glyph\":null},\"id\":\"b5a6ada6-f6ca-4249-b181-39f34ddad276\",\"type\":\"GlyphRenderer\"},{\"attributes\":{\"fill_alpha\":{\"field\":\"fill_alpha\"},\"fill_color\":{\"field\":\"color\"},\"height\":{\"field\":\"height\",\"units\":\"data\"},\"line_color\":{\"field\":\"line_color\"},\"width\":{\"field\":\"width\",\"units\":\"data\"},\"x\":{\"field\":\"x\"},\"y\":{\"field\":\"y\"}},\"id\":\"14060e71-5d6d-4da4-8f1e-60790bc6cb4e\",\"type\":\"Rect\"},{\"attributes\":{\"data_source\":{\"id\":\"8967e1d3-ee02-48e3-abec-629c7653b2d3\",\"type\":\"ColumnDataSource\"},\"glyph\":{\"id\":\"e3e8e939-eac6-4023-a599-9693d1aabe73\",\"type\":\"Rect\"},\"hover_glyph\":null,\"nonselection_glyph\":null,\"selection_glyph\":null},\"id\":\"73d30d07-65fa-4008-9961-ce7a75b67da4\",\"type\":\"GlyphRenderer\"},{\"attributes\":{\"plot\":null,\"text\":\"Average Promotion Last 5Years by department\"},\"id\":\"e1f136a5-3221-46bd-ba77-a855acef01df\",\"type\":\"Title\"},{\"attributes\":{\"dimension\":1,\"plot\":{\"id\":\"087258af-d19f-4b93-a6c5-288d81aa0134\",\"subtype\":\"Chart\",\"type\":\"Plot\"},\"ticker\":{\"id\":\"94e4b788-946c-4d22-9e89-7ad57cb213ee\",\"type\":\"BasicTicker\"}},\"id\":\"73e30f24-d851-49a8-85f8-18e7d8ab8213\",\"type\":\"Grid\"},{\"attributes\":{\"fill_alpha\":{\"field\":\"fill_alpha\"},\"fill_color\":{\"field\":\"color\"},\"height\":{\"field\":\"height\",\"units\":\"data\"},\"line_color\":{\"field\":\"line_color\"},\"width\":{\"field\":\"width\",\"units\":\"data\"},\"x\":{\"field\":\"x\"},\"y\":{\"field\":\"y\"}},\"id\":\"506dfe57-ed88-4b9f-87c4-90065cef81f0\",\"type\":\"Rect\"},{\"attributes\":{\"plot\":{\"id\":\"d362fe34-9496-4e4d-b324-d1116a6d2069\",\"subtype\":\"Chart\",\"type\":\"Plot\"}},\"id\":\"b5fbc444-fd79-470e-93b7-ad8bba5c152e\",\"type\":\"ResetTool\"},{\"attributes\":{\"data_source\":{\"id\":\"3916e603-5e08-435b-bb0f-56c1cae576ab\",\"type\":\"ColumnDataSource\"},\"glyph\":{\"id\":\"15d58a5d-19b0-42ca-8263-67cae6d8548d\",\"type\":\"Rect\"},\"hover_glyph\":null,\"nonselection_glyph\":null,\"selection_glyph\":null},\"id\":\"df28ceab-9b48-40e2-a289-19b563bd17cc\",\"type\":\"GlyphRenderer\"},{\"attributes\":{},\"id\":\"30fec568-5f32-4459-a56c-3a48e1720695\",\"type\":\"ToolEvents\"},{\"attributes\":{\"fill_alpha\":{\"field\":\"fill_alpha\"},\"fill_color\":{\"field\":\"color\"},\"height\":{\"field\":\"height\",\"units\":\"data\"},\"line_color\":{\"field\":\"line_color\"},\"width\":{\"field\":\"width\",\"units\":\"data\"},\"x\":{\"field\":\"x\"},\"y\":{\"field\":\"y\"}},\"id\":\"4eb56de5-0b5a-423f-841e-f9116aa5eabd\",\"type\":\"Rect\"},{\"attributes\":{},\"id\":\"a8b938be-7521-43a5-9ef6-78efef1777bc\",\"type\":\"ToolEvents\"},{\"attributes\":{\"fill_alpha\":{\"field\":\"fill_alpha\"},\"fill_color\":{\"field\":\"color\"},\"height\":{\"field\":\"height\",\"units\":\"data\"},\"line_color\":{\"field\":\"line_color\"},\"width\":{\"field\":\"width\",\"units\":\"data\"},\"x\":{\"field\":\"x\"},\"y\":{\"field\":\"y\"}},\"id\":\"f2a53c3f-baab-4985-b6f6-cbfdeda4dc38\",\"type\":\"Rect\"},{\"attributes\":{\"callback\":null,\"column_names\":[\"line_color\",\"line_alpha\",\"color\",\"fill_alpha\",\"height\",\"width\",\"y\",\"x\",\"label\"],\"data\":{\"chart_index\":[{\"index\":\"product_mng\"}],\"color\":[\"crimson\"],\"fill_alpha\":[0.8],\"height\":[0.21951219512195122],\"index\":[\"product_mng\"],\"label\":[{\"index\":\"product_mng\"}],\"line_alpha\":[1.0],\"line_color\":[\"white\"],\"width\":[0.8],\"x\":[\"product_mng\"],\"y\":[0.10975609756097561]}},\"id\":\"eb3c4824-5419-4f63-b998-e19b87796d4b\",\"type\":\"ColumnDataSource\"},{\"attributes\":{\"plot\":{\"id\":\"d362fe34-9496-4e4d-b324-d1116a6d2069\",\"subtype\":\"Chart\",\"type\":\"Plot\"}},\"id\":\"05d0fed4-d967-47ca-96cf-a41a7daf10ef\",\"type\":\"PanTool\"},{\"attributes\":{\"fill_alpha\":{\"field\":\"fill_alpha\"},\"fill_color\":{\"field\":\"color\"},\"height\":{\"field\":\"height\",\"units\":\"data\"},\"line_color\":{\"field\":\"line_color\"},\"width\":{\"field\":\"width\",\"units\":\"data\"},\"x\":{\"field\":\"x\"},\"y\":{\"field\":\"y\"}},\"id\":\"0fa218bb-fd77-4e8d-b68f-4cbea142c8d7\",\"type\":\"Rect\"},{\"attributes\":{\"plot\":{\"id\":\"c2a3ea28-8d3b-4a3b-986d-b9779f2a8679\",\"subtype\":\"Chart\",\"type\":\"Plot\"}},\"id\":\"9f0442fd-f9d4-4e3c-a83e-0e75d7b7ff4d\",\"type\":\"SaveTool\"},{\"attributes\":{\"callback\":null,\"column_names\":[\"line_color\",\"line_alpha\",\"color\",\"fill_alpha\",\"height\",\"width\",\"y\",\"x\",\"label\"],\"data\":{\"chart_index\":[{\"index\":\"IT\"}],\"color\":[\"crimson\"],\"fill_alpha\":[0.8],\"height\":[0.22249388753056235],\"index\":[\"IT\"],\"label\":[{\"index\":\"IT\"}],\"line_alpha\":[1.0],\"line_color\":[\"white\"],\"width\":[0.8],\"x\":[\"IT\"],\"y\":[0.11124694376528117]}},\"id\":\"6ec148f5-5125-47f9-808e-e401f8cccab3\",\"type\":\"ColumnDataSource\"},{\"attributes\":{\"bottom_units\":\"screen\",\"fill_alpha\":{\"value\":0.5},\"fill_color\":{\"value\":\"lightgrey\"},\"left_units\":\"screen\",\"level\":\"overlay\",\"line_alpha\":{\"value\":1.0},\"line_color\":{\"value\":\"black\"},\"line_dash\":[4,4],\"line_width\":{\"value\":2},\"plot\":null,\"render_mode\":\"css\",\"right_units\":\"screen\",\"top_units\":\"screen\"},\"id\":\"5166dd12-c19a-4ced-8868-d6149196f936\",\"type\":\"BoxAnnotation\"},{\"attributes\":{\"below\":[{\"id\":\"dfbf5e04-ea9d-40c7-9086-9b4ca652d54a\",\"type\":\"CategoricalAxis\"}],\"left\":[{\"id\":\"7eba6dd4-4e09-4418-a4cb-625a1991da1f\",\"type\":\"LinearAxis\"}],\"plot_height\":200,\"plot_width\":300,\"renderers\":[{\"id\":\"92f8ba52-13a8-4304-af89-1b7c074cc658\",\"type\":\"BoxAnnotation\"},{\"id\":\"a1aa26f0-3a2e-4645-b664-f754734bf879\",\"type\":\"GlyphRenderer\"},{\"id\":\"e7b5d989-814e-4315-97df-3c0193a7485e\",\"type\":\"GlyphRenderer\"},{\"id\":\"3e5c5ff3-88e7-48ff-9d7b-8a77ccebefdf\",\"type\":\"GlyphRenderer\"},{\"id\":\"712f8b16-90bd-464e-a7f1-c271a1f9af0d\",\"type\":\"GlyphRenderer\"},{\"id\":\"1d3b3014-eff7-450d-a8c3-83394dcdfce0\",\"type\":\"GlyphRenderer\"},{\"id\":\"fa199188-ca9e-49c4-b8e4-76cb93ad863f\",\"type\":\"GlyphRenderer\"},{\"id\":\"ba6f6e5c-033c-415c-8455-cababcde0c19\",\"type\":\"GlyphRenderer\"},{\"id\":\"7d00d4cc-b0b4-4050-9ab4-45fa5ca6e235\",\"type\":\"GlyphRenderer\"},{\"id\":\"b37b7ef2-71b4-4e58-b68c-811e3e3217c0\",\"type\":\"GlyphRenderer\"},{\"id\":\"cd71ef1f-6aab-4cee-a6cf-0016ed842fa1\",\"type\":\"GlyphRenderer\"},{\"id\":\"dfbf5e04-ea9d-40c7-9086-9b4ca652d54a\",\"type\":\"CategoricalAxis\"},{\"id\":\"7eba6dd4-4e09-4418-a4cb-625a1991da1f\",\"type\":\"LinearAxis\"},{\"id\":\"9ca0aa85-a760-45db-9d2c-9520be28b422\",\"type\":\"Grid\"}],\"title\":{\"id\":\"2a12b01b-0bf0-4266-b3e5-5beae26ffdad\",\"type\":\"Title\"},\"tool_events\":{\"id\":\"58ddb235-34c0-4caa-a98a-6c5e4865d8c6\",\"type\":\"ToolEvents\"},\"toolbar\":{\"id\":\"49eae363-b22c-4074-8bcd-915e43b1e224\",\"type\":\"Toolbar\"},\"toolbar_location\":null,\"x_mapper_type\":\"auto\",\"x_range\":{\"id\":\"13904068-895c-4d4b-b718-7ec7c049f60d\",\"type\":\"FactorRange\"},\"y_mapper_type\":\"auto\",\"y_range\":{\"id\":\"2e9ef979-7436-470f-8383-9f32b7cf344f\",\"type\":\"Range1d\"}},\"id\":\"099f4aaa-a11a-4e5f-a52d-ba983413787c\",\"subtype\":\"Chart\",\"type\":\"Plot\"},{\"attributes\":{\"plot\":null,\"text\":\"Average Average Monthly Hours by department\"},\"id\":\"6ac5c33f-893a-486c-93c7-1438818bd234\",\"type\":\"Title\"},{\"attributes\":{},\"id\":\"58ddb235-34c0-4caa-a98a-6c5e4865d8c6\",\"type\":\"ToolEvents\"},{\"attributes\":{\"data_source\":{\"id\":\"dde59d42-22be-434d-ad22-a11ddf0a0f32\",\"type\":\"ColumnDataSource\"},\"glyph\":{\"id\":\"8eb66dd1-61e1-416e-a62f-a85913c8ce19\",\"type\":\"Rect\"},\"hover_glyph\":null,\"nonselection_glyph\":null,\"selection_glyph\":null},\"id\":\"54e199d5-b894-4586-b5fb-f926148ba930\",\"type\":\"GlyphRenderer\"},{\"attributes\":{\"callback\":null,\"column_names\":[\"line_color\",\"line_alpha\",\"color\",\"fill_alpha\",\"height\",\"width\",\"y\",\"x\",\"label\"],\"data\":{\"chart_index\":[{\"index\":\"hr\"}],\"color\":[\"crimson\"],\"fill_alpha\":[0.8],\"height\":[0.7088497970230044],\"index\":[\"hr\"],\"label\":[{\"index\":\"hr\"}],\"line_alpha\":[1.0],\"line_color\":[\"white\"],\"width\":[0.8],\"x\":[\"hr\"],\"y\":[0.3544248985115022]}},\"id\":\"971b4533-d9b8-409b-9164-0ded09ea4099\",\"type\":\"ColumnDataSource\"},{\"attributes\":{\"fill_alpha\":{\"field\":\"fill_alpha\"},\"fill_color\":{\"field\":\"color\"},\"height\":{\"field\":\"height\",\"units\":\"data\"},\"line_color\":{\"field\":\"line_color\"},\"width\":{\"field\":\"width\",\"units\":\"data\"},\"x\":{\"field\":\"x\"},\"y\":{\"field\":\"y\"}},\"id\":\"64cbd244-fd63-44a9-b8c1-96ab9c74ca8e\",\"type\":\"Rect\"},{\"attributes\":{\"fill_alpha\":{\"field\":\"fill_alpha\"},\"fill_color\":{\"field\":\"color\"},\"height\":{\"field\":\"height\",\"units\":\"data\"},\"line_color\":{\"field\":\"line_color\"},\"width\":{\"field\":\"width\",\"units\":\"data\"},\"x\":{\"field\":\"x\"},\"y\":{\"field\":\"y\"}},\"id\":\"ebc52b83-2ded-45bd-a02d-b6bac3b0f00b\",\"type\":\"Rect\"},{\"attributes\":{\"fill_alpha\":{\"field\":\"fill_alpha\"},\"fill_color\":{\"field\":\"color\"},\"height\":{\"field\":\"height\",\"units\":\"data\"},\"line_color\":{\"field\":\"line_color\"},\"width\":{\"field\":\"width\",\"units\":\"data\"},\"x\":{\"field\":\"x\"},\"y\":{\"field\":\"y\"}},\"id\":\"8f704568-8f20-4fb1-895c-fe4957bc45c8\",\"type\":\"Rect\"},{\"attributes\":{\"data_source\":{\"id\":\"bfc0003a-31aa-41a2-9816-5545131a0670\",\"type\":\"ColumnDataSource\"},\"glyph\":{\"id\":\"d4028d01-f607-4dc0-bb2c-739852fb7b91\",\"type\":\"Rect\"},\"hover_glyph\":null,\"nonselection_glyph\":null,\"selection_glyph\":null},\"id\":\"b70878c5-ff5c-43cb-adb6-75e4a5ef8cc2\",\"type\":\"GlyphRenderer\"},{\"attributes\":{\"plot\":{\"id\":\"b4bea73b-0f97-4345-be7c-1bb0d05955fb\",\"subtype\":\"Chart\",\"type\":\"Plot\"}},\"id\":\"030253b3-eef3-4563-9174-461c2c5c582f\",\"type\":\"HelpTool\"},{\"attributes\":{\"below\":[{\"id\":\"295ef938-2af9-4a0e-b807-2d45acccd669\",\"type\":\"CategoricalAxis\"}],\"left\":[{\"id\":\"adbe1f1b-1a5d-4eed-8208-95de8d5e5672\",\"type\":\"LinearAxis\"}],\"plot_height\":200,\"plot_width\":300,\"renderers\":[{\"id\":\"1fdf8214-d622-4ad3-a3ca-e2fef3a84fa6\",\"type\":\"BoxAnnotation\"},{\"id\":\"be1d03fa-4475-4f80-ad15-62c0f6cd87ac\",\"type\":\"GlyphRenderer\"},{\"id\":\"a86a31bb-dbc1-4f50-961e-672152e2e0f1\",\"type\":\"GlyphRenderer\"},{\"id\":\"f63c0ee7-cbbb-4912-bab2-791ec70aae85\",\"type\":\"GlyphRenderer\"},{\"id\":\"3619c3c4-d6c8-4ccd-a247-8b81b3c12444\",\"type\":\"GlyphRenderer\"},{\"id\":\"736f9973-762e-4e9f-9ecd-c8893eaac798\",\"type\":\"GlyphRenderer\"},{\"id\":\"821ae0db-c491-4df2-97f0-033b6043b4ae\",\"type\":\"GlyphRenderer\"},{\"id\":\"d2cb203e-804c-47aa-a336-566f1b304534\",\"type\":\"GlyphRenderer\"},{\"id\":\"7e77d736-6faa-4e06-b135-593896bcd705\",\"type\":\"GlyphRenderer\"},{\"id\":\"f795464f-974c-4b6d-ae77-0581f4aba5b9\",\"type\":\"GlyphRenderer\"},{\"id\":\"4f1342a4-1ca2-4e09-94bb-62c8fd656ccc\",\"type\":\"GlyphRenderer\"},{\"id\":\"295ef938-2af9-4a0e-b807-2d45acccd669\",\"type\":\"CategoricalAxis\"},{\"id\":\"adbe1f1b-1a5d-4eed-8208-95de8d5e5672\",\"type\":\"LinearAxis\"},{\"id\":\"6cdb74d8-aed7-408b-a07c-0ee5b9b98eae\",\"type\":\"Grid\"}],\"title\":{\"id\":\"591d6795-b434-4b4c-aa5d-c9a74b8db762\",\"type\":\"Title\"},\"tool_events\":{\"id\":\"32aadab7-a7eb-438e-891c-24523fbf9c79\",\"type\":\"ToolEvents\"},\"toolbar\":{\"id\":\"aaaad1ed-c9ca-481d-8e91-661cab9eb45e\",\"type\":\"Toolbar\"},\"toolbar_location\":null,\"x_mapper_type\":\"auto\",\"x_range\":{\"id\":\"f689db5f-5628-444f-b0c6-a90408dde7c8\",\"type\":\"FactorRange\"},\"y_mapper_type\":\"auto\",\"y_range\":{\"id\":\"e8ffce46-765b-4a6c-b8ab-b82ed276ee92\",\"type\":\"Range1d\"}},\"id\":\"c2a3ea28-8d3b-4a3b-986d-b9779f2a8679\",\"subtype\":\"Chart\",\"type\":\"Plot\"},{\"attributes\":{\"plot\":{\"id\":\"099f4aaa-a11a-4e5f-a52d-ba983413787c\",\"subtype\":\"Chart\",\"type\":\"Plot\"}},\"id\":\"3483d3a5-ff48-4010-ac32-224a62ad3561\",\"type\":\"PanTool\"},{\"attributes\":{\"formatter\":{\"id\":\"1f469ac4-183a-4c33-aac3-9a51e56b6cdc\",\"type\":\"BasicTickFormatter\"},\"plot\":{\"id\":\"484eda2b-0d1b-4fee-9ed4-550433ab83f7\",\"subtype\":\"Chart\",\"type\":\"Plot\"},\"ticker\":{\"id\":\"e80afd75-e8ca-415a-8dfd-1112ac4b3ce6\",\"type\":\"BasicTicker\"}},\"id\":\"b63c1a3d-27d0-4012-b26e-de0fb6b2b011\",\"type\":\"LinearAxis\"},{\"attributes\":{\"data_source\":{\"id\":\"ef60add6-5e21-48f4-aa87-898ecbbc64cb\",\"type\":\"ColumnDataSource\"},\"glyph\":{\"id\":\"6b4407bf-3ecb-4b3f-9915-2ce48f71a0dc\",\"type\":\"Rect\"},\"hover_glyph\":null,\"nonselection_glyph\":null,\"selection_glyph\":null},\"id\":\"7cc11021-af4e-4e44-92c9-6c1d48a776c2\",\"type\":\"GlyphRenderer\"},{\"attributes\":{\"fill_alpha\":{\"field\":\"fill_alpha\"},\"fill_color\":{\"field\":\"color\"},\"height\":{\"field\":\"height\",\"units\":\"data\"},\"line_color\":{\"field\":\"line_color\"},\"width\":{\"field\":\"width\",\"units\":\"data\"},\"x\":{\"field\":\"x\"},\"y\":{\"field\":\"y\"}},\"id\":\"07836416-6b6d-4e91-89ee-8857d46b1f71\",\"type\":\"Rect\"},{\"attributes\":{\"callback\":null,\"factors\":[\"IT\",\"RandD\",\"accounting\",\"hr\",\"management\",\"marketing\",\"product_mng\",\"sales\",\"support\",\"technical\"]},\"id\":\"b4f2822f-5305-4574-aa1a-8d1e3997e190\",\"type\":\"FactorRange\"},{\"attributes\":{\"callback\":null,\"column_names\":[\"line_color\",\"line_alpha\",\"color\",\"fill_alpha\",\"height\",\"width\",\"y\",\"x\",\"label\"],\"data\":{\"chart_index\":[{\"index\":\"IT\"}],\"color\":[\"crimson\"],\"fill_alpha\":[0.8],\"height\":[3.8166259168704157],\"index\":[\"IT\"],\"label\":[{\"index\":\"IT\"}],\"line_alpha\":[1.0],\"line_color\":[\"white\"],\"width\":[0.8],\"x\":[\"IT\"],\"y\":[1.9083129584352079]}},\"id\":\"c86be4e8-fdf4-4850-b595-d0d83c72edc2\",\"type\":\"ColumnDataSource\"},{\"attributes\":{\"data_source\":{\"id\":\"23e9267c-9960-4d9b-bf03-84c80b3bed90\",\"type\":\"ColumnDataSource\"},\"glyph\":{\"id\":\"b6f0622d-02cd-4b06-9475-34fbada9ca3d\",\"type\":\"Rect\"},\"hover_glyph\":null,\"nonselection_glyph\":null,\"selection_glyph\":null},\"id\":\"ce2e0068-d8f2-49b1-93f5-a1fc46aa3c6f\",\"type\":\"GlyphRenderer\"},{\"attributes\":{\"callback\":null,\"column_names\":[\"line_color\",\"line_alpha\",\"color\",\"fill_alpha\",\"height\",\"width\",\"y\",\"x\",\"label\"],\"data\":{\"chart_index\":[{\"index\":\"technical\"}],\"color\":[\"crimson\"],\"fill_alpha\":[0.8],\"height\":[3.8779411764705882],\"index\":[\"technical\"],\"label\":[{\"index\":\"technical\"}],\"line_alpha\":[1.0],\"line_color\":[\"white\"],\"width\":[0.8],\"x\":[\"technical\"],\"y\":[1.9389705882352941]}},\"id\":\"2ce8d4ee-201e-448b-8f31-6bfe3fecc018\",\"type\":\"ColumnDataSource\"},{\"attributes\":{\"data_source\":{\"id\":\"5ad29da6-9934-4d0d-bbf7-12e9ee0613d8\",\"type\":\"ColumnDataSource\"},\"glyph\":{\"id\":\"233f3504-8e76-48c2-9089-0052231110a9\",\"type\":\"Rect\"},\"hover_glyph\":null,\"nonselection_glyph\":null,\"selection_glyph\":null},\"id\":\"712f8b16-90bd-464e-a7f1-c271a1f9af0d\",\"type\":\"GlyphRenderer\"},{\"attributes\":{\"data_source\":{\"id\":\"8f050253-5b8a-4dd1-919e-261c87c44618\",\"type\":\"ColumnDataSource\"},\"glyph\":{\"id\":\"8268f259-0d46-4fc3-9ece-4c784be13196\",\"type\":\"Rect\"},\"hover_glyph\":null,\"nonselection_glyph\":null,\"selection_glyph\":null},\"id\":\"867b015a-3f71-42ab-a4f1-60ef9875a50c\",\"type\":\"GlyphRenderer\"},{\"attributes\":{\"fill_alpha\":{\"field\":\"fill_alpha\"},\"fill_color\":{\"field\":\"color\"},\"height\":{\"field\":\"height\",\"units\":\"data\"},\"line_color\":{\"field\":\"line_color\"},\"width\":{\"field\":\"width\",\"units\":\"data\"},\"x\":{\"field\":\"x\"},\"y\":{\"field\":\"y\"}},\"id\":\"219a03c2-4b62-4e8d-970d-360b5bd4818a\",\"type\":\"Rect\"},{\"attributes\":{\"plot\":{\"id\":\"087258af-d19f-4b93-a6c5-288d81aa0134\",\"subtype\":\"Chart\",\"type\":\"Plot\"}},\"id\":\"1d0c965d-4dc8-4d73-bb62-aa72e11f8943\",\"type\":\"PanTool\"},{\"attributes\":{},\"id\":\"19d0e4c6-d3d3-44d3-9dbe-8c815e1d452e\",\"type\":\"BasicTickFormatter\"},{\"attributes\":{\"bottom_units\":\"screen\",\"fill_alpha\":{\"value\":0.5},\"fill_color\":{\"value\":\"lightgrey\"},\"left_units\":\"screen\",\"level\":\"overlay\",\"line_alpha\":{\"value\":1.0},\"line_color\":{\"value\":\"black\"},\"line_dash\":[4,4],\"line_width\":{\"value\":2},\"plot\":null,\"render_mode\":\"css\",\"right_units\":\"screen\",\"top_units\":\"screen\"},\"id\":\"118dfe0e-b516-44fe-8bda-6631c04ce874\",\"type\":\"BoxAnnotation\"},{\"attributes\":{},\"id\":\"1f469ac4-183a-4c33-aac3-9a51e56b6cdc\",\"type\":\"BasicTickFormatter\"},{\"attributes\":{\"fill_alpha\":{\"field\":\"fill_alpha\"},\"fill_color\":{\"field\":\"color\"},\"height\":{\"field\":\"height\",\"units\":\"data\"},\"line_color\":{\"field\":\"line_color\"},\"width\":{\"field\":\"width\",\"units\":\"data\"},\"x\":{\"field\":\"x\"},\"y\":{\"field\":\"y\"}},\"id\":\"6b4407bf-3ecb-4b3f-9915-2ce48f71a0dc\",\"type\":\"Rect\"},{\"attributes\":{},\"id\":\"754c8d1c-1a35-497e-8395-57c1b468793b\",\"type\":\"BasicTickFormatter\"},{\"attributes\":{\"callback\":null,\"column_names\":[\"line_color\",\"line_alpha\",\"color\",\"fill_alpha\",\"height\",\"width\",\"y\",\"x\",\"label\"],\"data\":{\"chart_index\":[{\"index\":\"sales\"}],\"color\":[\"crimson\"],\"fill_alpha\":[0.8],\"height\":[0.24492753623188407],\"index\":[\"sales\"],\"label\":[{\"index\":\"sales\"}],\"line_alpha\":[1.0],\"line_color\":[\"white\"],\"width\":[0.8],\"x\":[\"sales\"],\"y\":[0.12246376811594203]}},\"id\":\"6688c37d-547e-4490-96f4-5a9f5d9f0ed1\",\"type\":\"ColumnDataSource\"},{\"attributes\":{\"plot\":null,\"text\":\"Average Time Spend Company by department\"},\"id\":\"5283a1ea-da5b-42aa-bba3-5d99ba031305\",\"type\":\"Title\"},{\"attributes\":{\"active_drag\":\"auto\",\"active_scroll\":\"auto\",\"active_tap\":\"auto\",\"tools\":[{\"id\":\"247b18cf-67ff-4b4b-8210-c78963cf8002\",\"type\":\"PanTool\"},{\"id\":\"4f0b9446-f5f9-4d41-9f8d-aff88c014484\",\"type\":\"WheelZoomTool\"},{\"id\":\"a09fefbf-2c27-4b00-b60d-f488767c7a20\",\"type\":\"BoxZoomTool\"},{\"id\":\"9f0442fd-f9d4-4e3c-a83e-0e75d7b7ff4d\",\"type\":\"SaveTool\"},{\"id\":\"4bfeee8f-94fe-4b62-a361-f6f48bc515ed\",\"type\":\"ResetTool\"},{\"id\":\"6cb6de24-e10a-4866-9cdc-233cf5df7fa7\",\"type\":\"HelpTool\"}]},\"id\":\"aaaad1ed-c9ca-481d-8e91-661cab9eb45e\",\"type\":\"Toolbar\"},{\"attributes\":{\"data_source\":{\"id\":\"b105b976-fb4b-43f0-90b0-b9dbe19d1da9\",\"type\":\"ColumnDataSource\"},\"glyph\":{\"id\":\"87280b63-2c9b-4beb-85e4-cf84039751e1\",\"type\":\"Rect\"},\"hover_glyph\":null,\"nonselection_glyph\":null,\"selection_glyph\":null},\"id\":\"1e7f404b-a37c-4772-83a7-83b33eba4d09\",\"type\":\"GlyphRenderer\"},{\"attributes\":{\"formatter\":{\"id\":\"facfe53b-0b2c-4f7e-90a4-7c256d5c7e54\",\"type\":\"BasicTickFormatter\"},\"plot\":{\"id\":\"d362fe34-9496-4e4d-b324-d1116a6d2069\",\"subtype\":\"Chart\",\"type\":\"Plot\"},\"ticker\":{\"id\":\"87b499da-2eea-443a-84b2-d5220670daf7\",\"type\":\"BasicTicker\"}},\"id\":\"c7b4a97b-78f8-4a23-a869-a835c995dbf6\",\"type\":\"LinearAxis\"},{\"attributes\":{\"active_drag\":\"auto\",\"active_scroll\":\"auto\",\"active_tap\":\"auto\",\"tools\":[{\"id\":\"e0944a99-3fee-4e2d-96fb-3f4ac28d0dae\",\"type\":\"PanTool\"},{\"id\":\"fd4da829-48fd-4b7d-8067-0093232fc538\",\"type\":\"WheelZoomTool\"},{\"id\":\"cda4b2ad-d831-4df0-b45e-72fde5cbba55\",\"type\":\"BoxZoomTool\"},{\"id\":\"c7c5ed2f-53f3-4590-96f8-bcbb489e7a40\",\"type\":\"SaveTool\"},{\"id\":\"c4df96bc-c0ae-4691-bee4-45c34c702f5a\",\"type\":\"ResetTool\"},{\"id\":\"db59f792-881a-4f06-8109-bd97126b2ac4\",\"type\":\"HelpTool\"}]},\"id\":\"2d29297a-2e6d-49d5-aea8-2247ce3a74a9\",\"type\":\"Toolbar\"},{\"attributes\":{\"data_source\":{\"id\":\"e83c9b1b-463b-41e5-b2d3-b21bb6191e58\",\"type\":\"ColumnDataSource\"},\"glyph\":{\"id\":\"d9cf9100-5844-4768-a34a-6fbbebdbf196\",\"type\":\"Rect\"},\"hover_glyph\":null,\"nonselection_glyph\":null,\"selection_glyph\":null},\"id\":\"e7b5d989-814e-4315-97df-3c0193a7485e\",\"type\":\"GlyphRenderer\"},{\"attributes\":{\"fill_alpha\":{\"field\":\"fill_alpha\"},\"fill_color\":{\"field\":\"color\"},\"height\":{\"field\":\"height\",\"units\":\"data\"},\"line_color\":{\"field\":\"line_color\"},\"width\":{\"field\":\"width\",\"units\":\"data\"},\"x\":{\"field\":\"x\"},\"y\":{\"field\":\"y\"}},\"id\":\"383858b8-9bb2-4368-8806-6fafc8a51ded\",\"type\":\"Rect\"},{\"attributes\":{},\"id\":\"e80afd75-e8ca-415a-8dfd-1112ac4b3ce6\",\"type\":\"BasicTicker\"},{\"attributes\":{\"data_source\":{\"id\":\"d1d93755-6b9b-40d5-ae6b-576306ecbcce\",\"type\":\"ColumnDataSource\"},\"glyph\":{\"id\":\"14060e71-5d6d-4da4-8f1e-60790bc6cb4e\",\"type\":\"Rect\"},\"hover_glyph\":null,\"nonselection_glyph\":null,\"selection_glyph\":null},\"id\":\"be56a342-1fd0-45a9-8b04-445dd099dde7\",\"type\":\"GlyphRenderer\"},{\"attributes\":{\"data_source\":{\"id\":\"20104b1d-ab2a-4cd0-ad57-edfaed6fe517\",\"type\":\"ColumnDataSource\"},\"glyph\":{\"id\":\"309406b5-cffb-44c2-846c-6c57ded9709d\",\"type\":\"Rect\"},\"hover_glyph\":null,\"nonselection_glyph\":null,\"selection_glyph\":null},\"id\":\"cd71ef1f-6aab-4cee-a6cf-0016ed842fa1\",\"type\":\"GlyphRenderer\"},{\"attributes\":{\"callback\":null,\"end\":0.115},\"id\":\"ad058b8d-71c7-4f6e-b593-cecd680f5571\",\"type\":\"Range1d\"},{\"attributes\":{\"below\":[{\"id\":\"8b97b716-236a-4f0b-b12e-16b3a2e584be\",\"type\":\"CategoricalAxis\"}],\"left\":[{\"id\":\"2e7592b0-04aa-4315-8372-c30199cabae6\",\"type\":\"LinearAxis\"}],\"plot_height\":200,\"plot_width\":300,\"renderers\":[{\"id\":\"30b5d761-941d-4714-9226-078d66e456eb\",\"type\":\"BoxAnnotation\"},{\"id\":\"65202d7e-58cd-4781-a9c2-eaf44a3b45ee\",\"type\":\"GlyphRenderer\"},{\"id\":\"5f2e59b3-ca74-43bf-a20f-6fb74e519b3e\",\"type\":\"GlyphRenderer\"},{\"id\":\"aad54ca0-99a6-46bf-af2a-1f1ecfa98790\",\"type\":\"GlyphRenderer\"},{\"id\":\"867b015a-3f71-42ab-a4f1-60ef9875a50c\",\"type\":\"GlyphRenderer\"},{\"id\":\"37251c0b-304a-4692-9ea6-0dae76555dbb\",\"type\":\"GlyphRenderer\"},{\"id\":\"06834ab8-b84d-4308-87a7-1f4efcdf5f14\",\"type\":\"GlyphRenderer\"},{\"id\":\"9646e128-74c9-4d76-b7e9-81cbe3983fc8\",\"type\":\"GlyphRenderer\"},{\"id\":\"9c3f4b31-a138-4a38-a0fc-3cb66a97d592\",\"type\":\"GlyphRenderer\"},{\"id\":\"03f366a7-116d-4c86-9dbb-53beb589559b\",\"type\":\"GlyphRenderer\"},{\"id\":\"fa79d515-b4c3-40ed-a68b-9e4e4876aced\",\"type\":\"GlyphRenderer\"},{\"id\":\"8b97b716-236a-4f0b-b12e-16b3a2e584be\",\"type\":\"CategoricalAxis\"},{\"id\":\"2e7592b0-04aa-4315-8372-c30199cabae6\",\"type\":\"LinearAxis\"},{\"id\":\"33b0de2d-1865-4fad-9f26-b7e74b5c12a0\",\"type\":\"Grid\"}],\"title\":{\"id\":\"e1f136a5-3221-46bd-ba77-a855acef01df\",\"type\":\"Title\"},\"tool_events\":{\"id\":\"8ff14508-a060-42b1-bac2-08cc63e4c510\",\"type\":\"ToolEvents\"},\"toolbar\":{\"id\":\"24ba9335-602d-43c2-a42b-436bbcc3f060\",\"type\":\"Toolbar\"},\"toolbar_location\":null,\"x_mapper_type\":\"auto\",\"x_range\":{\"id\":\"b4f2822f-5305-4574-aa1a-8d1e3997e190\",\"type\":\"FactorRange\"},\"y_mapper_type\":\"auto\",\"y_range\":{\"id\":\"ad058b8d-71c7-4f6e-b593-cecd680f5571\",\"type\":\"Range1d\"}},\"id\":\"36459975-e305-4762-8c51-9cfa61c4c70b\",\"subtype\":\"Chart\",\"type\":\"Plot\"},{\"attributes\":{\"formatter\":{\"id\":\"f33fa02e-31f2-48ed-9313-06008f9e5b20\",\"type\":\"CategoricalTickFormatter\"},\"major_label_orientation\":0.7853981633974483,\"plot\":{\"id\":\"b4bea73b-0f97-4345-be7c-1bb0d05955fb\",\"subtype\":\"Chart\",\"type\":\"Plot\"},\"ticker\":{\"id\":\"c4f47d2c-0820-41db-a48f-cfde7c775120\",\"type\":\"CategoricalTicker\"}},\"id\":\"5ca2c442-f4c4-4f0f-8397-70dbcea26cf4\",\"type\":\"CategoricalAxis\"},{\"attributes\":{\"fill_alpha\":{\"field\":\"fill_alpha\"},\"fill_color\":{\"field\":\"color\"},\"height\":{\"field\":\"height\",\"units\":\"data\"},\"line_color\":{\"field\":\"line_color\"},\"width\":{\"field\":\"width\",\"units\":\"data\"},\"x\":{\"field\":\"x\"},\"y\":{\"field\":\"y\"}},\"id\":\"2c7cb438-74db-4261-b18d-5c1c3ee975f7\",\"type\":\"Rect\"},{\"attributes\":{\"active_drag\":\"auto\",\"active_scroll\":\"auto\",\"active_tap\":\"auto\",\"tools\":[{\"id\":\"1d0c965d-4dc8-4d73-bb62-aa72e11f8943\",\"type\":\"PanTool\"},{\"id\":\"452b22d3-0cbd-4829-958a-4d00cdcb0ee1\",\"type\":\"WheelZoomTool\"},{\"id\":\"68bd7cc1-a4d2-4e93-a833-02a4c04ae208\",\"type\":\"BoxZoomTool\"},{\"id\":\"b57d1340-1710-49f1-9547-aefff59d3fb7\",\"type\":\"SaveTool\"},{\"id\":\"6cde28d0-f9af-45ee-9743-42a496b35384\",\"type\":\"ResetTool\"},{\"id\":\"796f8a7b-977d-49bd-8c16-26e9b32afb2f\",\"type\":\"HelpTool\"}]},\"id\":\"ca71a0aa-2080-4740-af6b-ea80c218179c\",\"type\":\"Toolbar\"},{\"attributes\":{\"fill_alpha\":{\"field\":\"fill_alpha\"},\"fill_color\":{\"field\":\"color\"},\"height\":{\"field\":\"height\",\"units\":\"data\"},\"line_color\":{\"field\":\"line_color\"},\"width\":{\"field\":\"width\",\"units\":\"data\"},\"x\":{\"field\":\"x\"},\"y\":{\"field\":\"y\"}},\"id\":\"a47ed60f-ddce-48de-87f7-acbdf498e3f0\",\"type\":\"Rect\"},{\"attributes\":{\"callback\":null,\"column_names\":[\"line_color\",\"line_alpha\",\"color\",\"fill_alpha\",\"height\",\"width\",\"y\",\"x\",\"label\"],\"data\":{\"chart_index\":[{\"index\":\"accounting\"}],\"color\":[\"crimson\"],\"fill_alpha\":[0.8],\"height\":[3.5228161668839637],\"index\":[\"accounting\"],\"label\":[{\"index\":\"accounting\"}],\"line_alpha\":[1.0],\"line_color\":[\"white\"],\"width\":[0.8],\"x\":[\"accounting\"],\"y\":[1.7614080834419819]}},\"id\":\"de0ee1a5-0d08-4905-b091-84429a4b9c41\",\"type\":\"ColumnDataSource\"},{\"attributes\":{\"callback\":null,\"column_names\":[\"line_color\",\"line_alpha\",\"color\",\"fill_alpha\",\"height\",\"width\",\"y\",\"x\",\"label\"],\"data\":{\"chart_index\":[{\"index\":\"marketing\"}],\"color\":[\"crimson\"],\"fill_alpha\":[0.8],\"height\":[0.7158857808857806],\"index\":[\"marketing\"],\"label\":[{\"index\":\"marketing\"}],\"line_alpha\":[1.0],\"line_color\":[\"white\"],\"width\":[0.8],\"x\":[\"marketing\"],\"y\":[0.3579428904428903]}},\"id\":\"b5c2e4f6-b41f-4161-8627-3d6e422b3333\",\"type\":\"ColumnDataSource\"},{\"attributes\":{\"fill_alpha\":{\"field\":\"fill_alpha\"},\"fill_color\":{\"field\":\"color\"},\"height\":{\"field\":\"height\",\"units\":\"data\"},\"line_color\":{\"field\":\"line_color\"},\"width\":{\"field\":\"width\",\"units\":\"data\"},\"x\":{\"field\":\"x\"},\"y\":{\"field\":\"y\"}},\"id\":\"500d6f2f-7017-494d-927d-04d26e3c56b5\",\"type\":\"Rect\"},{\"attributes\":{\"bottom_units\":\"screen\",\"fill_alpha\":{\"value\":0.5},\"fill_color\":{\"value\":\"lightgrey\"},\"left_units\":\"screen\",\"level\":\"overlay\",\"line_alpha\":{\"value\":1.0},\"line_color\":{\"value\":\"black\"},\"line_dash\":[4,4],\"line_width\":{\"value\":2},\"plot\":null,\"render_mode\":\"css\",\"right_units\":\"screen\",\"top_units\":\"screen\"},\"id\":\"1b45a9a3-2806-438e-9d5e-4c298b20f953\",\"type\":\"BoxAnnotation\"},{\"attributes\":{\"fill_alpha\":{\"field\":\"fill_alpha\"},\"fill_color\":{\"field\":\"color\"},\"height\":{\"field\":\"height\",\"units\":\"data\"},\"line_color\":{\"field\":\"line_color\"},\"width\":{\"field\":\"width\",\"units\":\"data\"},\"x\":{\"field\":\"x\"},\"y\":{\"field\":\"y\"}},\"id\":\"43ba4bef-e70e-4041-ba43-4e9ce58ceca4\",\"type\":\"Rect\"},{\"attributes\":{\"plot\":{\"id\":\"36459975-e305-4762-8c51-9cfa61c4c70b\",\"subtype\":\"Chart\",\"type\":\"Plot\"}},\"id\":\"86495a54-704a-4166-9b16-93bde5e57da0\",\"type\":\"SaveTool\"},{\"attributes\":{\"callback\":null,\"column_names\":[\"line_color\",\"line_alpha\",\"color\",\"fill_alpha\",\"height\",\"width\",\"y\",\"x\",\"label\"],\"data\":{\"chart_index\":[{\"index\":\"technical\"}],\"color\":[\"crimson\"],\"fill_alpha\":[0.8],\"height\":[3.4113970588235296],\"index\":[\"technical\"],\"label\":[{\"index\":\"technical\"}],\"line_alpha\":[1.0],\"line_color\":[\"white\"],\"width\":[0.8],\"x\":[\"technical\"],\"y\":[1.7056985294117648]}},\"id\":\"6e02ce3f-9f48-4e30-8221-b7198c2b4d7b\",\"type\":\"ColumnDataSource\"},{\"attributes\":{\"callback\":null,\"column_names\":[\"line_color\",\"line_alpha\",\"color\",\"fill_alpha\",\"height\",\"width\",\"y\",\"x\",\"label\"],\"data\":{\"chart_index\":[{\"index\":\"marketing\"}],\"color\":[\"crimson\"],\"fill_alpha\":[0.8],\"height\":[0.16083916083916083],\"index\":[\"marketing\"],\"label\":[{\"index\":\"marketing\"}],\"line_alpha\":[1.0],\"line_color\":[\"white\"],\"width\":[0.8],\"x\":[\"marketing\"],\"y\":[0.08041958041958042]}},\"id\":\"f4e10e75-6160-43bc-b832-5eb1bc37fbd7\",\"type\":\"ColumnDataSource\"},{\"attributes\":{\"plot\":{\"id\":\"b4bea73b-0f97-4345-be7c-1bb0d05955fb\",\"subtype\":\"Chart\",\"type\":\"Plot\"}},\"id\":\"fa478368-8837-4f96-9e47-a6034ae947cc\",\"type\":\"SaveTool\"},{\"attributes\":{\"active_drag\":\"auto\",\"active_scroll\":\"auto\",\"active_tap\":\"auto\",\"tools\":[{\"id\":\"05d0fed4-d967-47ca-96cf-a41a7daf10ef\",\"type\":\"PanTool\"},{\"id\":\"da1b4018-5dad-4914-8d5a-8b97f79a59c8\",\"type\":\"WheelZoomTool\"},{\"id\":\"40e5a638-36d5-4207-b563-cac43548552b\",\"type\":\"BoxZoomTool\"},{\"id\":\"958975b1-e372-4d17-9c0d-65317d4ce142\",\"type\":\"SaveTool\"},{\"id\":\"b5fbc444-fd79-470e-93b7-ad8bba5c152e\",\"type\":\"ResetTool\"},{\"id\":\"9bcb2854-a4a9-4512-ade6-7e835443b815\",\"type\":\"HelpTool\"}]},\"id\":\"8f427f6a-1b89-4228-98df-2125bc02597e\",\"type\":\"Toolbar\"},{\"attributes\":{\"fill_alpha\":{\"field\":\"fill_alpha\"},\"fill_color\":{\"field\":\"color\"},\"height\":{\"field\":\"height\",\"units\":\"data\"},\"line_color\":{\"field\":\"line_color\"},\"width\":{\"field\":\"width\",\"units\":\"data\"},\"x\":{\"field\":\"x\"},\"y\":{\"field\":\"y\"}},\"id\":\"b6f0622d-02cd-4b06-9475-34fbada9ca3d\",\"type\":\"Rect\"},{\"attributes\":{\"data_source\":{\"id\":\"74aa138b-d393-4323-b479-ca7056082bee\",\"type\":\"ColumnDataSource\"},\"glyph\":{\"id\":\"7c1f3555-c093-4f2c-aedf-fc34abfe49a2\",\"type\":\"Rect\"},\"hover_glyph\":null,\"nonselection_glyph\":null,\"selection_glyph\":null},\"id\":\"ca1b5503-89f2-4fad-a0a0-97bb9cf619e1\",\"type\":\"GlyphRenderer\"},{\"attributes\":{\"data_source\":{\"id\":\"de76bce5-c73d-407d-b278-5f1597eeff16\",\"type\":\"ColumnDataSource\"},\"glyph\":{\"id\":\"2a875580-4e0a-435c-b88e-06effbc86f44\",\"type\":\"Rect\"},\"hover_glyph\":null,\"nonselection_glyph\":null,\"selection_glyph\":null},\"id\":\"0bdb7ed3-9a30-455b-be1e-8e41a24340a6\",\"type\":\"GlyphRenderer\"},{\"attributes\":{\"callback\":null,\"column_names\":[\"line_color\",\"line_alpha\",\"color\",\"fill_alpha\",\"height\",\"width\",\"y\",\"x\",\"label\"],\"data\":{\"chart_index\":[{\"index\":\"accounting\"}],\"color\":[\"crimson\"],\"fill_alpha\":[0.8],\"height\":[3.8252933507170797],\"index\":[\"accounting\"],\"label\":[{\"index\":\"accounting\"}],\"line_alpha\":[1.0],\"line_color\":[\"white\"],\"width\":[0.8],\"x\":[\"accounting\"],\"y\":[1.9126466753585398]}},\"id\":\"8967e1d3-ee02-48e3-abec-629c7653b2d3\",\"type\":\"ColumnDataSource\"},{\"attributes\":{\"bottom_units\":\"screen\",\"fill_alpha\":{\"value\":0.5},\"fill_color\":{\"value\":\"lightgrey\"},\"left_units\":\"screen\",\"level\":\"overlay\",\"line_alpha\":{\"value\":1.0},\"line_color\":{\"value\":\"black\"},\"line_dash\":[4,4],\"line_width\":{\"value\":2},\"plot\":null,\"render_mode\":\"css\",\"right_units\":\"screen\",\"top_units\":\"screen\"},\"id\":\"f9e908b5-cdeb-4a4d-b06d-a991d0d68c9b\",\"type\":\"BoxAnnotation\"},{\"attributes\":{\"fill_alpha\":{\"field\":\"fill_alpha\"},\"fill_color\":{\"field\":\"color\"},\"height\":{\"field\":\"height\",\"units\":\"data\"},\"line_color\":{\"field\":\"line_color\"},\"width\":{\"field\":\"width\",\"units\":\"data\"},\"x\":{\"field\":\"x\"},\"y\":{\"field\":\"y\"}},\"id\":\"76ba8fb4-8eb4-4209-9808-ea9a1765d03e\",\"type\":\"Rect\"},{\"attributes\":{\"fill_alpha\":{\"field\":\"fill_alpha\"},\"fill_color\":{\"field\":\"color\"},\"height\":{\"field\":\"height\",\"units\":\"data\"},\"line_color\":{\"field\":\"line_color\"},\"width\":{\"field\":\"width\",\"units\":\"data\"},\"x\":{\"field\":\"x\"},\"y\":{\"field\":\"y\"}},\"id\":\"1c2d0b82-ec32-4a7a-b206-4a7b965ea18e\",\"type\":\"Rect\"},{\"attributes\":{\"fill_alpha\":{\"field\":\"fill_alpha\"},\"fill_color\":{\"field\":\"color\"},\"height\":{\"field\":\"height\",\"units\":\"data\"},\"line_color\":{\"field\":\"line_color\"},\"width\":{\"field\":\"width\",\"units\":\"data\"},\"x\":{\"field\":\"x\"},\"y\":{\"field\":\"y\"}},\"id\":\"ce9e981f-460c-441d-a082-a7e1fba6fdc9\",\"type\":\"Rect\"},{\"attributes\":{\"data_source\":{\"id\":\"0cba4753-cacd-42e1-905a-40d27321876b\",\"type\":\"ColumnDataSource\"},\"glyph\":{\"id\":\"740fd9e6-035a-46b3-b155-c9370874cbc0\",\"type\":\"Rect\"},\"hover_glyph\":null,\"nonselection_glyph\":null,\"selection_glyph\":null},\"id\":\"2c906791-bedf-4dc9-9f69-f11a0d0f02ec\",\"type\":\"GlyphRenderer\"},{\"attributes\":{\"callback\":null,\"end\":0.3054803788903924},\"id\":\"2e9ef979-7436-470f-8383-9f32b7cf344f\",\"type\":\"Range1d\"},{\"attributes\":{\"data_source\":{\"id\":\"e6f7cfb4-39b6-436e-9a50-69a0a7079b7d\",\"type\":\"ColumnDataSource\"},\"glyph\":{\"id\":\"fda295fe-167a-4295-abcf-92e9258fce09\",\"type\":\"Rect\"},\"hover_glyph\":null,\"nonselection_glyph\":null,\"selection_glyph\":null},\"id\":\"16222c38-fe53-4cc7-adce-625a1d63e862\",\"type\":\"GlyphRenderer\"},{\"attributes\":{\"fill_alpha\":{\"field\":\"fill_alpha\"},\"fill_color\":{\"field\":\"color\"},\"height\":{\"field\":\"height\",\"units\":\"data\"},\"line_color\":{\"field\":\"line_color\"},\"width\":{\"field\":\"width\",\"units\":\"data\"},\"x\":{\"field\":\"x\"},\"y\":{\"field\":\"y\"}},\"id\":\"7c1f3555-c093-4f2c-aedf-fc34abfe49a2\",\"type\":\"Rect\"},{\"attributes\":{\"data_source\":{\"id\":\"afeccbc6-3a1b-4428-8299-b7a7602c9be4\",\"type\":\"ColumnDataSource\"},\"glyph\":{\"id\":\"383858b8-9bb2-4368-8806-6fafc8a51ded\",\"type\":\"Rect\"},\"hover_glyph\":null,\"nonselection_glyph\":null,\"selection_glyph\":null},\"id\":\"7e77d736-6faa-4e06-b135-593896bcd705\",\"type\":\"GlyphRenderer\"},{\"attributes\":{\"plot\":{\"id\":\"087258af-d19f-4b93-a6c5-288d81aa0134\",\"subtype\":\"Chart\",\"type\":\"Plot\"}},\"id\":\"796f8a7b-977d-49bd-8c16-26e9b32afb2f\",\"type\":\"HelpTool\"},{\"attributes\":{},\"id\":\"facfe53b-0b2c-4f7e-90a4-7c256d5c7e54\",\"type\":\"BasicTickFormatter\"}],\"root_ids\":[\"8b213842-65ac-44f6-9a58-4836f962cdee\"]},\"title\":\"Bokeh Application\",\"version\":\"0.12.2\"}};\n",
       "            var render_items = [{\"docid\":\"72cda7c7-34e6-4e3e-91eb-d1f19a1d52a0\",\"elementid\":\"bdac6f9f-7d18-4a93-841c-1757fd276bfb\",\"modelid\":\"8b213842-65ac-44f6-9a58-4836f962cdee\"}];\n",
       "            \n",
       "            Bokeh.embed.embed_items(docs_json, render_items);\n",
       "        });\n",
       "      },\n",
       "      function(Bokeh) {\n",
       "      }\n",
       "    ];\n",
       "  \n",
       "    function run_inline_js() {\n",
       "      \n",
       "      if ((window.Bokeh !== undefined) || (force === \"1\")) {\n",
       "        for (var i = 0; i < inline_js.length; i++) {\n",
       "          inline_js[i](window.Bokeh);\n",
       "        }if (force === \"1\") {\n",
       "          display_loaded();\n",
       "        }} else if (Date.now() < window._bokeh_timeout) {\n",
       "        setTimeout(run_inline_js, 100);\n",
       "      } else if (!window._bokeh_failed_load) {\n",
       "        console.log(\"Bokeh: BokehJS failed to load within specified timeout.\");\n",
       "        window._bokeh_failed_load = true;\n",
       "      } else if (!force) {\n",
       "        var cell = $(\"#bdac6f9f-7d18-4a93-841c-1757fd276bfb\").parents('.cell').data().cell;\n",
       "        cell.output_area.append_execute_result(NB_LOAD_WARNING)\n",
       "      }\n",
       "  \n",
       "    }\n",
       "  \n",
       "    if (window._bokeh_is_loading === 0) {\n",
       "      console.log(\"Bokeh: BokehJS loaded, going straight to plotting\");\n",
       "      run_inline_js();\n",
       "    } else {\n",
       "      load_libs(js_urls, function() {\n",
       "        console.log(\"Bokeh: BokehJS plotting callback run at\", now());\n",
       "        run_inline_js();\n",
       "      });\n",
       "    }\n",
       "  }(this));\n",
       "</script>"
      ]
     },
     "metadata": {},
     "output_type": "display_data"
    }
   ],
   "source": [
    "from bokeh.charts import Bar, output_file, show\n",
    "from bokeh.io import output_notebook\n",
    "from bokeh.plotting import figure\n",
    "from bokeh.layouts import gridplot\n",
    "from bokeh.layouts import column, row\n",
    "from bokeh.plotting import reset_output\n",
    "from bokeh.charts.attributes import cat\n",
    "from collections import Counter\n",
    "from IPython.display import display\n",
    "row_coll = []\n",
    "rows = []\n",
    "counter = 1\n",
    "\n",
    "for column in mean_by_dept.columns:\n",
    "    column_title_split = column.split('_')\n",
    "    column_title = \"\"\n",
    "    for column_title_piece in column_title_split:\n",
    "        column_title += \" \" +column_title_piece.title()\n",
    "    \n",
    "    p = Bar(mean_by_dept, \n",
    "            values=column, \n",
    "            title='Average' + column_title + ' by department',\n",
    "            color=plot_color,\n",
    "            plot_width=300, \n",
    "            plot_height=200,\n",
    "            ylabel=\"\",\n",
    "            legend=None,\n",
    "            toolbar_location=None)\n",
    "    rows.append(p)\n",
    "    if len(rows) == 3:\n",
    "        row_coll.append(list(rows))\n",
    "        reset_output()\n",
    "        rows = []\n",
    "    \n",
    "row_coll.append(list(rows))\n",
    "    \n",
    "#print row_coll\n",
    "gridplot = gridplot(row_coll)\n",
    "output_notebook()\n",
    "show(gridplot)"
   ]
  },
  {
   "cell_type": "markdown",
   "metadata": {},
   "source": [
    "#### Insights by department\n",
    "* The satisfaction level seems to be quite consistant over all departments. Only **accountants** & **HR** have a slight below average satisfaction level.\n",
    "* Evaluation levels are on a consistant level over all departments.\n",
    "* **HR** & **Marketing** seem to have slightly below average number of projects.\n",
    "* All departments seem to clock in the same amount of time on a monthly basis. Guess there are only so much hours to the week. \n",
    "* **Management** is the clear frontrunner, when it comes to tenure. This makes sense, since a management position comes with greater responsibility & lock-in effects.\n",
    "* **R&D**, **Management**, **Marketing** & **Support** seem to have the most hazardous work environment. With **Accounting** & **HR** being on the safety first side.\n",
    "* **Management** & **R&D** have the highest average loyalty rate. **Accounting** & **HR** on the other hand are fluctuating quite a bit.\n",
    "* **Management** have by far the highest promotion rate. In **Marketing** almost one out of two has had a promotion within the last 5 years, in the **R&D** department over 30 % has advanced on a professional level in the last 5 years. The **Support** and **Technical** departments are on the lowest spectrum."
   ]
  },
  {
   "cell_type": "markdown",
   "metadata": {},
   "source": [
    "## Bi-variate Analysis\n",
    "It's good practice to get a grasp on how the variables are behaving in concert with each other. The relationship between two variables can tell us a lot about possible hypotheses that might be hidden in the data. In order to leverage this part of the analysis to its full extend One-Hot encoding will be performed for all discrete character filled variables, which is a step featured in the **Data Preprocessing**."
   ]
  },
  {
   "cell_type": "code",
   "execution_count": 19,
   "metadata": {
    "collapsed": false
   },
   "outputs": [
    {
     "name": "stdout",
     "output_type": "stream",
     "text": [
      "Processed feature columns (21 total features):\n",
      "['satisfaction_level', 'last_evaluation', 'number_project', 'average_monthly_hours', 'time_spend_company', 'work_accident', 'left', 'promotion_last_5years', 'department_it', 'department_randd', 'department_accounting', 'department_hr', 'department_management', 'department_marketing', 'department_product_mng', 'department_sales', 'department_support', 'department_technical', 'salary_high', 'salary_low', 'salary_medium']\n"
     ]
    }
   ],
   "source": [
    "def preprocess_features(data):\n",
    "    ''' \n",
    "    Preprocesses input data. \n",
    "    converts non-numeric binary variables into\n",
    "    binary (0/1) variables. \n",
    "    Converts categorical variables into dummy variables. \n",
    "    '''\n",
    "    output = pd.DataFrame(index = data.index)\n",
    "\n",
    "    # Investigate each feature column for the data\n",
    "    for col, col_data in data.iteritems():\n",
    "        \n",
    "        # If data type is non-numeric, replace all yes/no values with 1/0\n",
    "        if col_data.dtype == object:\n",
    "            col_data = col_data.replace(['yes', 'no'], [1, 0])\n",
    "\n",
    "        # If data type is categorical, convert to dummy variables\n",
    "        if col_data.dtype == object:\n",
    "            col_data = pd.get_dummies(col_data, prefix = col)  \n",
    "        \n",
    "        # Collect the revised columns\n",
    "        output = output.join(col_data)\n",
    "        # Unify all column names by transforming to lower case\n",
    "        output.columns = output.columns.str.lower()\n",
    "    \n",
    "    return output\n",
    "\n",
    "hr_data = preprocess_features(hr_data)\n",
    "\n",
    "print \"Processed feature columns ({} total features):\\n{}\".format(\n",
    "    len(hr_data.columns), list(hr_data.columns))"
   ]
  },
  {
   "cell_type": "markdown",
   "metadata": {},
   "source": [
    "## Regression & Correlation "
   ]
  },
  {
   "cell_type": "markdown",
   "metadata": {
    "collapsed": false
   },
   "source": [
    "After encoding and preprocessing the data set we're curious in how the variables work with each other. This might be especially insightful when deciding which features to include or exclude. This is an important step to understanding what measures might be helpful when trying to prevent a high leaving rate."
   ]
  },
  {
   "cell_type": "code",
   "execution_count": 20,
   "metadata": {
    "collapsed": false
   },
   "outputs": [
    {
     "data": {
      "image/png": "[encoded data removed]",
      "text/plain": [
       "<matplotlib.figure.Figure at 0x1158779d0>"
      ]
     },
     "metadata": {},
     "output_type": "display_data"
    }
   ],
   "source": [
    "plt.figure(figsize=(16, 14))\n",
    "cmap = sns.diverging_palette(222, 10, as_cmap=True)\n",
    "_ = sns.heatmap(hr_data.corr(), annot=True, vmax=.8, square=True, cmap=cmap)"
   ]
  },
  {
   "cell_type": "markdown",
   "metadata": {},
   "source": [
    "Just based on the heatmap there are already a couple of interesting observations one can make.\n",
    "\n",
    "* A high satistfaction level seems to lead to a lower leaving rate.\n",
    "* Employees with higher salary are less inclined to leave.\n",
    "* On the other hand low salary employees seem to leave the company more often. \n",
    "* There's a positive correlation between the time a person spends at a company and the fact if they left.\n",
    "\n",
    "But in order to get more granular we are interested in the highly correlated (strength > .1) and highly significant (p-Value > 0.05) connections."
   ]
  },
  {
   "cell_type": "code",
   "execution_count": 21,
   "metadata": {
    "collapsed": false
   },
   "outputs": [],
   "source": [
    "def corr_table(data, features, sig_level=0.05, strength=0.0):\n",
    "    import math\n",
    "    import numpy as np\n",
    "    from scipy.stats import pearsonr\n",
    "\n",
    "    from operator import itemgetter\n",
    "    p_val_dict = []\n",
    "    check_dict = []\n",
    "    for feature in features:\n",
    "        feature_first = feature.split('_')[0]\n",
    "        for label in features:\n",
    "            # Since these correlations go in both directions, we only need to store on \n",
    "            # of the correlations and can discard the secon one\n",
    "            # i.e. corr(age, Medu) has equal insights to corr(Medu, age)\n",
    "            feature_comb = label+feature\n",
    "            label_first = label.split('_')[0]\n",
    "            \n",
    "            if feature == label or feature_comb in check_dict or feature_first == label_first:\n",
    "                #feature is already paired with label or equals label\n",
    "                #or feature and label are from the same one-hot-encoding category\n",
    "                continue\n",
    "            else:\n",
    "                check_dict.append(feature+label)\n",
    "                pears = pearsonr(data[feature], data[label])\n",
    "                p_val = pears[1]\n",
    "                corr_strength = pears[0]\n",
    "                cov_strength = np.cov(data[feature], data[label])[0][1]\n",
    "                \n",
    "                # Check if correlation is significant and has a high enough correlation\n",
    "                if p_val < sig_level and math.fabs(corr_strength) > strength:\n",
    "                    p_val_dict.append([feature, label, cov_strength, corr_strength, p_val])\n",
    "\n",
    "    p_corr_title = 'Correlation > ' + str(strength)\n",
    "    p_value_title = 'p-Value < ' + str(sig_level)\n",
    "    p_val_dict = pd.DataFrame(p_val_dict, columns = ['Feature', 'Label', 'Covariance', p_corr_title, p_value_title])\n",
    "    pd.set_option('display.float_format', lambda x: '%.4f' % x)\n",
    "    \n",
    "    p_val_dict['order'] = abs(p_val_dict[p_corr_title])\n",
    "    p_val_dict.sort_values(by='order', inplace=True, ascending=False)\n",
    "    p_val_dict.head()\n",
    "    p_val_dict = p_val_dict.reset_index(drop=True)\n",
    "    p_val_dict = p_val_dict.drop('order', axis=1)\n",
    "    \n",
    "    return p_val_dict\n",
    "\n"
   ]
  },
  {
   "cell_type": "code",
   "execution_count": 22,
   "metadata": {
    "collapsed": false
   },
   "outputs": [],
   "source": [
    "reg_features = hr_data.columns[~hr_data.columns.str.contains('left')]\n",
    "label = reg_features\n",
    "\n",
    "# How many significant correlations are in the data set?\n",
    "correlations_all = corr_table(hr_data, reg_features, strength=0.1)"
   ]
  },
  {
   "cell_type": "code",
   "execution_count": 23,
   "metadata": {
    "collapsed": false
   },
   "outputs": [
    {
     "data": {
      "text/html": [
       "<div>\n",
       "<table border=\"1\" class=\"dataframe\">\n",
       "  <thead>\n",
       "    <tr style=\"text-align: right;\">\n",
       "      <th></th>\n",
       "      <th>Feature</th>\n",
       "      <th>Label</th>\n",
       "      <th>Covariance</th>\n",
       "      <th>Correlation &gt; 0.1</th>\n",
       "      <th>p-Value &lt; 0.05</th>\n",
       "    </tr>\n",
       "  </thead>\n",
       "  <tbody>\n",
       "    <tr>\n",
       "      <th>0</th>\n",
       "      <td>number_project</td>\n",
       "      <td>average_monthly_hours</td>\n",
       "      <td>25.6833</td>\n",
       "      <td>0.4172</td>\n",
       "      <td>0.0000</td>\n",
       "    </tr>\n",
       "    <tr>\n",
       "      <th>1</th>\n",
       "      <td>last_evaluation</td>\n",
       "      <td>number_project</td>\n",
       "      <td>0.0737</td>\n",
       "      <td>0.3493</td>\n",
       "      <td>0.0000</td>\n",
       "    </tr>\n",
       "    <tr>\n",
       "      <th>2</th>\n",
       "      <td>last_evaluation</td>\n",
       "      <td>average_monthly_hours</td>\n",
       "      <td>2.9044</td>\n",
       "      <td>0.3397</td>\n",
       "      <td>0.0000</td>\n",
       "    </tr>\n",
       "    <tr>\n",
       "      <th>3</th>\n",
       "      <td>department_management</td>\n",
       "      <td>salary_high</td>\n",
       "      <td>0.0115</td>\n",
       "      <td>0.2091</td>\n",
       "      <td>0.0000</td>\n",
       "    </tr>\n",
       "    <tr>\n",
       "      <th>4</th>\n",
       "      <td>number_project</td>\n",
       "      <td>time_spend_company</td>\n",
       "      <td>0.3542</td>\n",
       "      <td>0.1968</td>\n",
       "      <td>0.0000</td>\n",
       "    </tr>\n",
       "    <tr>\n",
       "      <th>5</th>\n",
       "      <td>satisfaction_level</td>\n",
       "      <td>number_project</td>\n",
       "      <td>-0.0438</td>\n",
       "      <td>-0.1430</td>\n",
       "      <td>0.0000</td>\n",
       "    </tr>\n",
       "    <tr>\n",
       "      <th>6</th>\n",
       "      <td>last_evaluation</td>\n",
       "      <td>time_spend_company</td>\n",
       "      <td>0.0329</td>\n",
       "      <td>0.1316</td>\n",
       "      <td>0.0000</td>\n",
       "    </tr>\n",
       "    <tr>\n",
       "      <th>7</th>\n",
       "      <td>promotion_last_5years</td>\n",
       "      <td>department_management</td>\n",
       "      <td>0.0037</td>\n",
       "      <td>0.1281</td>\n",
       "      <td>0.0000</td>\n",
       "    </tr>\n",
       "    <tr>\n",
       "      <th>8</th>\n",
       "      <td>average_monthly_hours</td>\n",
       "      <td>time_spend_company</td>\n",
       "      <td>9.3164</td>\n",
       "      <td>0.1278</td>\n",
       "      <td>0.0000</td>\n",
       "    </tr>\n",
       "    <tr>\n",
       "      <th>9</th>\n",
       "      <td>time_spend_company</td>\n",
       "      <td>department_management</td>\n",
       "      <td>0.0338</td>\n",
       "      <td>0.1154</td>\n",
       "      <td>0.0000</td>\n",
       "    </tr>\n",
       "    <tr>\n",
       "      <th>10</th>\n",
       "      <td>satisfaction_level</td>\n",
       "      <td>last_evaluation</td>\n",
       "      <td>0.0045</td>\n",
       "      <td>0.1050</td>\n",
       "      <td>0.0000</td>\n",
       "    </tr>\n",
       "    <tr>\n",
       "      <th>11</th>\n",
       "      <td>satisfaction_level</td>\n",
       "      <td>time_spend_company</td>\n",
       "      <td>-0.0366</td>\n",
       "      <td>-0.1009</td>\n",
       "      <td>0.0000</td>\n",
       "    </tr>\n",
       "  </tbody>\n",
       "</table>\n",
       "</div>"
      ],
      "text/plain": [
       "                  Feature                  Label  Covariance  \\\n",
       "0          number_project  average_monthly_hours     25.6833   \n",
       "1         last_evaluation         number_project      0.0737   \n",
       "2         last_evaluation  average_monthly_hours      2.9044   \n",
       "3   department_management            salary_high      0.0115   \n",
       "4          number_project     time_spend_company      0.3542   \n",
       "5      satisfaction_level         number_project     -0.0438   \n",
       "6         last_evaluation     time_spend_company      0.0329   \n",
       "7   promotion_last_5years  department_management      0.0037   \n",
       "8   average_monthly_hours     time_spend_company      9.3164   \n",
       "9      time_spend_company  department_management      0.0338   \n",
       "10     satisfaction_level        last_evaluation      0.0045   \n",
       "11     satisfaction_level     time_spend_company     -0.0366   \n",
       "\n",
       "    Correlation > 0.1  p-Value < 0.05  \n",
       "0              0.4172          0.0000  \n",
       "1              0.3493          0.0000  \n",
       "2              0.3397          0.0000  \n",
       "3              0.2091          0.0000  \n",
       "4              0.1968          0.0000  \n",
       "5             -0.1430          0.0000  \n",
       "6              0.1316          0.0000  \n",
       "7              0.1281          0.0000  \n",
       "8              0.1278          0.0000  \n",
       "9              0.1154          0.0000  \n",
       "10             0.1050          0.0000  \n",
       "11            -0.1009          0.0000  "
      ]
     },
     "execution_count": 23,
     "metadata": {},
     "output_type": "execute_result"
    }
   ],
   "source": [
    "correlations_all"
   ]
  },
  {
   "cell_type": "markdown",
   "metadata": {},
   "source": [
    "Based on our correlation analysis we can infer the following observations:\n",
    "* Employees with a higher number of project tend to have a significant higher work load per month.\n",
    "* A high evaluation level leads to an increase in the amount of projects (and therefore an increased monthly workload)\n",
    "* People from the management department tend to have a higher salary\n",
    "* An increase of number of project tends to a higher tenure rate.\n",
    "* A low number of projects has a negative correlation with the satisfaction level.\n",
    "* If the last evaluation was higher, the person was more likely to stay.\n",
    "* As mentioned above, people from the management department tend to have a higher promotion rate.\n",
    "* A high effort, measured by an average monthly hours, leads to a significant higher retention rate.\n",
    "* People in management jobs have a higher tenure.\n",
    "* A high last evaluation has a positive impact on the satisfaction level.\n",
    "* A low satisfaction level has a negative correlation with the time an employee stays at a company."
   ]
  },
  {
   "cell_type": "markdown",
   "metadata": {},
   "source": [
    "### Outlier Detection\n",
    "Another problem that might occur in a data set are outliers. Outliers can lead to wrong estimations and poor performance on some of the algorithms available. Simply put, an outlier is a data point that seems to be out of the normal when it comes to a variable or even multiple variables at once. Usually outliers can be univariate or multivariate which means that their abnormal values can either happen on one dimension or multiple variable dimensions. Going on the focus will be on univariate outliers.\n",
    "The initial value to detect outliers used in this analysis is a 1.5 multiple of the Inner Quartile Range."
   ]
  },
  {
   "cell_type": "code",
   "execution_count": 24,
   "metadata": {
    "collapsed": false
   },
   "outputs": [
    {
     "name": "stdout",
     "output_type": "stream",
     "text": [
      "No outliers for feature 'satisfaction_level'.\n",
      "No outliers for feature 'last_evaluation'.\n",
      "No outliers for feature 'number_project'.\n",
      "No outliers for feature 'average_monthly_hours'.\n",
      "\n",
      "Data points considered outliers for the feature 'time_spend_company' - (Min: 3.0 - Max: 4.0):\n",
      "Outliers: 1282 (8.55 %)\n"
     ]
    }
   ],
   "source": [
    "# Outlier detection\n",
    "outliers = {}\n",
    "outliers_all = []\n",
    "sum = 0\n",
    "# For each feature find the data points with extreme high or low values\n",
    "for feature in hr_data[[0,1,2,3,4]].keys():\n",
    "    \n",
    "    # Calculates Q1 for the given feature\n",
    "    Q1 = np.percentile(hr_data[feature], 25)\n",
    "    \n",
    "    # Calculates Q3 for the given feature\n",
    "    Q3 = np.percentile(hr_data[feature], 75)\n",
    "    \n",
    "    # Calculate an outlier step (1.5 times the interquartile range)\n",
    "    step = 1.5 * (Q3 - Q1)\n",
    "    \n",
    "    # Display the outliers\n",
    "    category_outliers = hr_data[~((hr_data[feature] >= Q1 - step) & (hr_data[feature] <= Q3 + step))]\n",
    "    for outlier_no in category_outliers.index:\n",
    "        if outlier_no in outliers:\n",
    "            outliers[outlier_no] += 1\n",
    "        else:\n",
    "            outliers[outlier_no] = 1\n",
    "            outliers_all.append(outlier_no)\n",
    "    if len(category_outliers) > 0:\n",
    "        print \"\"\n",
    "        print \"Data points considered outliers for the feature '{}' - (Min: {} - Max: {}):\".format(feature, Q1, Q3)\n",
    "        print \"Outliers: {} ({:.2f} %)\".format(len(category_outliers), \n",
    "                                              (len(category_outliers) / float(len(hr_data))) * 100 )\n",
    "    else:\n",
    "        print \"No outliers for feature '{}'.\".format(feature)\n",
    "    #display(category_outliers)"
   ]
  },
  {
   "cell_type": "markdown",
   "metadata": {},
   "source": [
    "The data looks pretty clean already, there are only outliers in the category `time_spend_company`. These outliers account for around 8.55 % of the overall data set. In order to determine if they should be removed from the data set we'll be looking more carefully. By increasing the tolerance for outliers, additional variance might be added but it gives us the opportunity to keep more data for our algorithms."
   ]
  },
  {
   "cell_type": "code",
   "execution_count": 25,
   "metadata": {
    "collapsed": false
   },
   "outputs": [
    {
     "name": "stdout",
     "output_type": "stream",
     "text": [
      "1.5: \t 1282 \t (8.55 %)\n",
      "2: \t 564 \t (3.76 %)\n",
      "2.5: \t 564 \t (3.76 %)\n",
      "3: \t 376 \t (2.51 %)\n",
      "4: \t 214 \t (1.43 %)\n",
      "5: \t 214 \t (1.43 %)\n"
     ]
    }
   ],
   "source": [
    "steps = [1.5, 2, 2.5, 3, 4, 5]\n",
    "\n",
    "outlier_index = {}\n",
    "for step_count in steps:\n",
    "    outlier_data = hr_data['time_spend_company']\n",
    "    Q1 = np.percentile(outlier_data, 25)\n",
    "    Q3 = np.percentile(outlier_data, 75)\n",
    "    step = step_count * (Q3 - Q1)\n",
    "    category_outliers = hr_data[~((outlier_data >= Q1 - step) & \n",
    "                                    (outlier_data <= Q3 + step))]\n",
    "    outlier_index[step_count] = category_outliers.index\n",
    "    print \"{}: \\t {} \\t ({:.2f} %)\".format(step_count, \n",
    "                                     len(category_outliers), \n",
    "                                     (len(category_outliers) / float(len(outlier_data))) * 100)\n",
    "    #print category_outliers.index"
   ]
  },
  {
   "cell_type": "markdown",
   "metadata": {},
   "source": [
    "Just widening the step range by `.5` reduces the outlier-rate by just shy of 5 %. To keep as much data as possible we'll remove outliers bigger or smaller than 2 times the Inner Quartile Range."
   ]
  },
  {
   "cell_type": "code",
   "execution_count": 26,
   "metadata": {
    "collapsed": false
   },
   "outputs": [],
   "source": [
    "#norm_data = norm_data.drop(norm_data.index[outlier_index[2]]).reset_index(drop=True)\n",
    "#hr_data = hr_data.drop(hr_data.index[outlier_index[2]]).reset_index(drop=True)"
   ]
  },
  {
   "cell_type": "markdown",
   "metadata": {},
   "source": [
    "## Algorithms and Techniques\n",
    "The list of possible algorithms for this problem is long. There is a large set of possibilities on how to tackle this task but our key metrices to narrow down the list of algorithms will be data-size, computational efficiency and cross-validation scores on the training set.\n",
    "To come closer to a decision when it comes to the potential algorithm we’ll be using let’s take a look at the prerequisites of our setup. To apply any kind of machine learning technique a data set with over 50 data points is required. In this case with around 15000 entries, that prerequisite is met. The data is labelled, which puts this research in the realm of supervised learning. Yet, given the complexity of the domain the research aims at engineering an additional variable through unsupervised learning. By doing so an additional discrete variable is created that allots employees based on their attributes to a certain cluster. \n",
    "This section touches base on the idea behind various classification algorithms.\n",
    "\n",
    "### Supervised Algorithms\n",
    "First the supervised learning algorithms are explored, detailing some of  their features and downfalls. While some models work better on large sets, some of them are better suited for a small set of training data. A common threshold for machine learning algorithms is 100,000 data points. Since the amount of data for this problem lies way below this threshhold, we are more inclined to work with models that perform well on a small set size and can assume that time won’t be too much of an issue since we’re proceeding our calculations offline.\n",
    "As a general note: if the training set is small, classifiers with a high bias and a low variance like Naive Bayes have an advantage over classifier with a low bias but a high variance (which are more likely to overfit) such as for example k-NN.\n",
    "\n",
    "#### Support Vector Machine\n",
    "Support Vector Machines are supervised learning algorithms implementing the principles of statistical learning theory. These will be used in a linear and non-linear implementation to account for a higher complexity of the data. SVMs tend to have a high accuracy while maintaining a fairly low variance (hence are more unlikely to overfit). This model works really well in complicated domains where there is a clear margin separation. SVMs construct a hyper-plane to distinguish the data points from each other. The intuition being that the larger the margin from the closest data points of each class the better the separation criteria.\n",
    "Even if the data turns out to not be linearly separable, this model usually works quite well. However, if our data contains a lot of noise or gets too large, the model tends to perform poorly or very slow. So keeping in mind that we can expect the student data base to grow in the future this approach might become unfeasible at some point.\n",
    "\n",
    "#### Logistic Regression\n",
    "Logistic Regression is one of the basic linear models for classification. It's best used to predict binary or discrete dependent variables. LR is usually a quick and easy solution for machine-learning problems. It's implementation is fairly similar to SVMs with the great upside to work better on large data sets. Additional advantages being that there are a lot of ways to regularize the model and correlation of features doesn't matter as much. Another one of its main advantages is, that new data can easily be added and the model can be updated in an ongoing process. It's flexibility makes it a perfect choice for a running system, that should either be adjusted over time to model better or infused with more data. A downside of LR, is that it might have difficulties with binary features. In this dataset that contains a substantial set of categorical features this might become a problem.\n",
    "\n",
    "#### Decision Tree Classifier\n",
    "Another contender could be a Decision Tree model. Decision Trees are fairly easy to explain and interpret. They are also pretty robust against outliers and can be protected against overfitting through pruning. However, Decision Trees don't support online learning and have to be rebuild every time new information comes in. This might matter, if the data we are using is regularly updated and not only once a quarter. If we need an accurate turnover prediction model, that works year round on recent data and updated models, Decision Trees might have a downturn.\n",
    "\n",
    "#### Random Forest\n",
    "There are ensemble methods that incorporate trees such as Random Forest (RF). RF could prove itself with its ability to accept non-linear features. Other than LR it can handle categorical features very well. It's also well suited for high dimensional spaces (in case we wanted to add or engineer more features) and large numbers of training examples (for future application, once the data base grows). A major downside of RF-models though is it's lack of sensitivity towards correlated features. With correlated features, strong features might end up with low scores.\n",
    "\n",
    "### Unsupervised Algorithms\n",
    "One problem this research is facing when it comes to unsupervised algorithms are the mixture of discrete and continuous variables. Most algorithms mentioned here are better suited for continuous variables and might perform less accurate when working with categorical features. This segment therefore is meant to be a supplement to the supervised learning models and its efficiency will be tested based on the cross-validation score before and after the feature `employee_cluster` has been added. \n",
    "Following are two algorithms that have been on the shortlist for this task. \n",
    "\n",
    "#### Gaussian Mixture Model\n",
    "Gaussian Mixture Models are a probabilistic model for representing normally distributed subpopulations within an overall population. Gaussian mixture models are used a lot when the underlying populations can be explained by a normal distribution and there are many heterogeneous populations. \n",
    "As an example based on this [post](https://www.quora.com/What-is-an-example-of-real-world-application-of-Gaussian-Mixture-Models/answer/Hongsun-Kim), we can look at the average evaluation scoring for people in different departments (R&D, Accounting, HR, Management, Marketing, Product Management, Sales, Support, Technical). It can be assumed the evaluation score distribution is slightly different within each department and it follows a normal distribution. The weighting factor could be the percentage of the population that are from each department as defined above. Then this would be a 9-point Guassian Mixture Model. The key benefits of GMM are density estimations for each cluster, a certain flexibility when choosing the component distribution and the possibility of \"soft\" classification. It is also known to reflect real-world scenarions in a good way.\n",
    "\n",
    "#### K-Means Clustering\n",
    "In general K-Means can be seen as a special case of a Gaussian Mixture Model in which each cluster's covariance along all dimensions approaches 0. This means, each data point will be assigned to exactly one cluster. A Gaussian Mixture Model is a more bayesian approach to clustering. It introduces the ability of soft clustering, which means that data points can be part of more than one cluster. The algorithm also calculates the probability of the data point belonging to a certain center. Some of its key advantages are that K-Means is robust and easy to understand. It is relatively computational efficient and delivers a great result when data points are distinct or groups within are well separated from each other.\n",
    "\n",
    "Because we're dealing with a real world scenario and a data set where it sometimes might be hard to distinguish between data points, we'll go ahead with a GMM implementation. This will also give us the opportunity to soft-label our data-points and refine the clustering at a later point."
   ]
  },
  {
   "cell_type": "markdown",
   "metadata": {},
   "source": [
    "## Benchmark\n",
    "A lot of research and work has been performed to retain talent and decrease employee turnover rates. From corporate funded research and analytics services of companies such as [3] to manage- ment study classics such as [2] or more recent research [3] to name a few.\n",
    "There are valid methods for predicting employee turnover rate and results that can be taken as benchmark models. In this research we’ll be using the machine learning approach of Punnose and Ajit as a benchmark. Their research performed predictive tasks on company information with an AUC (Area under the Curve) score of .86 on hold-out data as a best result using an Extreme Gradient Boosting model.\n",
    "\n",
    "### Evaluation Metric\n",
    "AUC (Area under the Curve) is a common evaluation metric for binary classification problems. Its value is between 0 to 1 and describes the accuracy of a binary classification based on its true positive values. As described here, an area under the curve score is equal to the probability that a classifier will rank a randomly chosen positive instance higher than a randomly chosen negative one.\n",
    "To put this more into perspective, kaggle describes a way of viewing AUC as a plot of the true positive rate vs. the false positive rate where the threshold value for classifying an item as 0 or is increased from 0 to 1. If the classifier is very good, the true positive rate will increase quickly and the area under the curve will be close to 1. If the classifier is no better than random guessing, the true positive rate will increase linearly with the false positive rate and the area under the curve will be around 0.5.\n",
    "\n",
    "### Evaluation Method\n",
    "First the algorithms will perform a 5-fold cross-validation on 80 % of the data. The average score will be the indicator for the best performers. Afterwards the whole dataset will be clustered and the supervised learning algorithms are tested on their performance again through cross-validation. As a final test, and to avoid overfitting which can be a problem especially in tree-based models, the same procedure is applied to the 20 % hold out set."
   ]
  },
  {
   "cell_type": "markdown",
   "metadata": {},
   "source": [
    "# Methodology\n",
    "\n",
    "\n",
    "## Data Preprocessing\n",
    "In this section all steps leading to a clean and usable data set are outlined. This includes detection and treatment of missing values as well as outliers. Encoding of categorical variables and if necessary normalization of numeric ones. Finally this section details a quick summary on feature importance.\n",
    "\n",
    "### Missing values & Outlier detection\n",
    "The data doesn't contain any missing values. In an attempt to trim the data into a more concise state, outliers with a value greater or smaller than 2 times the Inner Quartile range have been removed. \n",
    "\n",
    "### One-Hot Encoding\n",
    "Since algorithms such as XGBoost (like all of the other machine learning algorithms in Python) require every variable to include only digits all discrete character-based variables have been encoded and so-called dummy variables have been created. This gives all the supervised learning algorithms the chance to read in the information that can be derived from these categories.\n",
    "\n",
    "### Feature normalization\n",
    "In order to get all data data on the same scale min-max normalization is performed on all numeric variables. Ensuring standardised feature values implicitly weights all features equally in their representation. Training runs in this research have shown that especially algorithms such as Logistic Regression and Linear SVC perform better with normalized data."
   ]
  },
  {
   "cell_type": "code",
   "execution_count": 27,
   "metadata": {
    "collapsed": false
   },
   "outputs": [],
   "source": [
    "hr_data = (hr_data - hr_data.min()) / (hr_data.max() - hr_data.min())"
   ]
  },
  {
   "cell_type": "markdown",
   "metadata": {},
   "source": [
    "### Feature Relevance\n",
    "One interesting thought to consider is if one of the categories is relevant for understanding why an employee stays with a company. It might be possible that a category can be predicted by the other categories and therefore only contains limited information regarding our final goal. In simple terms, it might be possible that the level of responsibility can be predicted because of the constellation of all other categories. We can make this determination quite easily by training a supervised regression learner on a subset of the data with one feature removed, and then score how well that model can predict the removed feature. The coefficient of determination, R^2, is being used to determine the regression score. R^2 has a positive score range between 0 and 1, with 1 being a perfect fit. A negative R^2 implies the model fails to fit the data.\n",
    "\n",
    "In this step one-hot encoded features are not predicted since its value can easily predicted by looking at the rest of the encoded variables."
   ]
  },
  {
   "cell_type": "code",
   "execution_count": 28,
   "metadata": {
    "collapsed": false
   },
   "outputs": [
    {
     "name": "stdout",
     "output_type": "stream",
     "text": [
      "Prediction score for satisfaction_level (R^2): 0.113393737054\n",
      "Prediction score for last_evaluation (R^2): -0.153874114253\n",
      "Prediction score for number_project (R^2): 0.183037127408\n",
      "Prediction score for average_monthly_hours (R^2): -0.0391372439165\n",
      "Prediction score for time_spend_company (R^2): 0.0158884382496\n",
      "Prediction score for work_accident (R^2): -0.629814043521\n",
      "Prediction score for promotion_last_5years (R^2): -0.0339161250478\n"
     ]
    }
   ],
   "source": [
    "from sklearn.cross_validation import train_test_split\n",
    "from sklearn.tree import DecisionTreeRegressor\n",
    "\n",
    "random_state = 42\n",
    "data = hr_data.copy().drop('left', axis = 1)\n",
    "temp = {}\n",
    "\n",
    "for label in data.columns:\n",
    "    if (\"department\" not in label) & (\"salary\" not in label):\n",
    "        new_data = data.drop(label, axis = 1)\n",
    "        new_data_labels = data[label]\n",
    "\n",
    "        X_train, X_test, y_train, y_test = train_test_split(\n",
    "            new_data, new_data_labels, test_size=0.25, random_state=random_state)\n",
    "\n",
    "        regressor = DecisionTreeRegressor(random_state=random_state)\n",
    "        regressor.fit(X_train, y_train)\n",
    "        regressor.predict(X_test)\n",
    "\n",
    "        score = regressor.score(X_test, y_test)\n",
    "        temp[label] = score\n",
    "        print \"Prediction score for \" + label + \" (R^2): \" + str(score)\n",
    "temp = pd.DataFrame.from_dict(temp, orient='index')\n",
    "temp.columns = ['R^2 score']"
   ]
  },
  {
   "cell_type": "code",
   "execution_count": null,
   "metadata": {
    "collapsed": false
   },
   "outputs": [
    {
     "data": {
      "text/html": [
       "<div>\n",
       "<table border=\"1\" class=\"dataframe\">\n",
       "  <thead>\n",
       "    <tr style=\"text-align: right;\">\n",
       "      <th></th>\n",
       "      <th>R^2 score</th>\n",
       "    </tr>\n",
       "  </thead>\n",
       "  <tbody>\n",
       "    <tr>\n",
       "      <th>number_project</th>\n",
       "      <td>0.1830</td>\n",
       "    </tr>\n",
       "    <tr>\n",
       "      <th>satisfaction_level</th>\n",
       "      <td>0.1134</td>\n",
       "    </tr>\n",
       "    <tr>\n",
       "      <th>time_spend_company</th>\n",
       "      <td>0.0159</td>\n",
       "    </tr>\n",
       "    <tr>\n",
       "      <th>promotion_last_5years</th>\n",
       "      <td>-0.0339</td>\n",
       "    </tr>\n",
       "    <tr>\n",
       "      <th>average_monthly_hours</th>\n",
       "      <td>-0.0391</td>\n",
       "    </tr>\n",
       "    <tr>\n",
       "      <th>last_evaluation</th>\n",
       "      <td>-0.1539</td>\n",
       "    </tr>\n",
       "    <tr>\n",
       "      <th>work_accident</th>\n",
       "      <td>-0.6298</td>\n",
       "    </tr>\n",
       "  </tbody>\n",
       "</table>\n",
       "</div>"
      ],
      "text/plain": [
       "                       R^2 score\n",
       "number_project            0.1830\n",
       "satisfaction_level        0.1134\n",
       "time_spend_company        0.0159\n",
       "promotion_last_5years    -0.0339\n",
       "average_monthly_hours    -0.0391\n",
       "last_evaluation          -0.1539\n",
       "work_accident            -0.6298"
      ]
     },
     "execution_count": 29,
     "metadata": {},
     "output_type": "execute_result"
    }
   ],
   "source": [
    "temp.sort_values('R^2 score', ascending=False)"
   ]
  },
  {
   "cell_type": "markdown",
   "metadata": {},
   "source": [
    "To get a better insight in the relevance of each category for understanding if an employee will stay at a company, we selected each category, dropped it from the data set and tried to predict its values based on the remaining categories. The Decision Tree Regressor failed to predict all categories but `number_of_project` and `satisfaction_level`. Which means all these categories are important. The R^2 scores for `number_of_project` and `satisfaction_level` (both below .2) show that the regression model had difficulties predicting the values as well. We can therefore infer that all numeric categories contain valuable information and should be used."
   ]
  },
  {
   "cell_type": "markdown",
   "metadata": {},
   "source": [
    "## Implementation\n",
    "Let's move forward with the prediction process. After making all features machine readable we'll need to determine a model to use for our purposes. Because we want to find out, whether an employee left the company or is still employed, we'll approach this problem-set as a classification issue. \n",
    "\n",
    "Since we're dealing with a low-mid-range amount of labeled data (below 100K data points) we'll start the prediction task with a Linear Support Vector Machine. There are more sophisticated machine learning algorithm we can lean on but it's always a good idea to start at the bottom and work your way up. The second model we're looking into is a Decision Tree Classifier, because of its simplicity and computational efficiency. As a third contender we'll try implementing a more sophisticated Support Vector Machine that leverages additional dimensions through an rbf kernel and last but not least we'll be predicting through a Random Forest Classifier. Last but not least an eXtreme Gradient Boosting Algorithm is implemented.\n",
    "\n",
    "Since sklearn makes it quite easy to add additional estimators as we go we'll go ahead and implement training and cross validation once and start looping over the process with our different models. eXtreme Gradient Boosting will be implemented seperately. \n",
    "\n",
    "### Setup\n",
    "The prediction process will be as follows:\n",
    "1. The data set with all machine readable information is split into a training and a testing set. 20 % of the original datapoints are left out for testing purposes to validate our final model. In this step the stratify option is being used while splitting in order to keep a similar distribution of label data in testing and training set.\n",
    "2. The training features set will be split into independent (predictors) and dependent (label) variables. The predictors will be used to predict the label.\n",
    "3. A random state will be set which will help with the reproducibility of the prediction process. (Note: Not all estimator implementations might have the option to seed a random state)\n",
    "4. In order to avoid overfitting k-fold cross-validation with k = 5 is performed. This means the training set is split in 5 separate buckets, 4 of these buckets are used to train and the left out bucket is used for testing. CV performs this k-times. The average score will give a better indicator on how the model will perform on the testing set or in a real life application.\n",
    "5. In order to find the best possible setup for the supervised learning algorithms a grid search on the best performing algorithm is performed."
   ]
  },
  {
   "cell_type": "code",
   "execution_count": null,
   "metadata": {
    "collapsed": false
   },
   "outputs": [
    {
     "name": "stdout",
     "output_type": "stream",
     "text": [
      "Training LinearSVC ...\n",
      "Average CV performance for LinearSVC: 0.817313 (in 0.88487 seconds)\n",
      "Training LogisticRegression ...\n",
      "Average CV performance for LogisticRegression: 0.817909 (in 0.292669 seconds)\n",
      "Training DecisionTreeClassifier ...\n",
      "Average CV performance for DecisionTreeClassifier: 0.976506 (in 0.385319 seconds)\n",
      "Training SVC ...\n"
     ]
    }
   ],
   "source": [
    "# Let's start the prediction\n",
    "from sklearn.linear_model import LogisticRegression\n",
    "from sklearn.svm import LinearSVC, SVC\n",
    "from sklearn.ensemble import RandomForestClassifier\n",
    "from sklearn.tree import DecisionTreeClassifier\n",
    "from sklearn.metrics import f1_score\n",
    "from sklearn import cross_validation\n",
    "from time import time\n",
    "\n",
    "# Let's keep 20 % of the data for testing purposes\n",
    "test_size = .2\n",
    "random_state = 42\n",
    "\n",
    "X_all_base = hr_data.drop('left', 1)\n",
    "y_all_base = hr_data['left']\n",
    "\n",
    "# Use for testing later and don't touch: X_test_base / y_test_base\n",
    "X_train_base, X_test_base, y_train_base, y_test_base = cross_validation.train_test_split(\n",
    "    X_all_base, y_all_base, test_size = test_size, random_state = random_state, stratify=y_all_base)\n",
    "\n",
    "clf_dict_base = {}\n",
    "clf_report_base = []\n",
    "clf_feature_relevance_base = []\n",
    "\n",
    "for clf in [LinearSVC(random_state = random_state),\n",
    "            LogisticRegression(random_state = random_state),\n",
    "            DecisionTreeClassifier(random_state = random_state),\n",
    "            SVC(random_state = random_state),\n",
    "            RandomForestClassifier(random_state = random_state)]:\n",
    "    # Extract name of estimator\n",
    "    clf_name = clf.__class__.__name__\n",
    "    print \"Training\", clf_name, \"...\"\n",
    "    # Fit model on training data\n",
    "    clf_dict_base[clf_name] = clf.fit(X_train_base, y_train_base)\n",
    "    # Predict based on it\n",
    "    # y_pred = clf.predict(X_train)\n",
    "    \n",
    "    # Perform cross validation\n",
    "    start = time()\n",
    "    scores = cross_validation.cross_val_score(clf, X_train_base, y_train_base, cv=5, scoring='roc_auc') \n",
    "    end = time()\n",
    "    duration = end - start\n",
    "    print \"Average CV performance for {}: {:.6} (in {:.6} seconds)\".format(clf_name, scores.mean(), duration)\n",
    "    clf_report_base.append([clf_name, scores.mean(), duration])\n",
    "\n",
    "    # Store feature relevance information \n",
    "    if clf_name in [\"RandomForestClassifier\", \"DecisionTreeClassifier\"]:\n",
    "        clf_feature_relevance_base.append(clf.feature_importances_.tolist())\n",
    "    elif clf_name == \"LinearSVC\":\n",
    "        clf_feature_relevance_base.append(clf.coef_[0].tolist())\n",
    "# Store information in list for better visibility\n",
    "\n",
    "clf_report_base = pd.DataFrame(clf_report_base, columns=['classifier', 'mean_score', 'time'])"
   ]
  },
  {
   "cell_type": "code",
   "execution_count": null,
   "metadata": {
    "collapsed": false
   },
   "outputs": [],
   "source": []
  },
  {
   "cell_type": "code",
   "execution_count": null,
   "metadata": {
    "collapsed": false
   },
   "outputs": [],
   "source": [
    "print len(clf_feature_relevance_base[0])\n",
    "print len(X_train_base.columns)"
   ]
  },
  {
   "cell_type": "code",
   "execution_count": null,
   "metadata": {
    "collapsed": false
   },
   "outputs": [],
   "source": [
    "pd.DataFrame(clf_feature_relevance_base, columns=X_train_base.columns, index=['LinearSVC', \n",
    "                                                                              'DecisionTreeClassifier', \n",
    "                                                                              'RandomForestClassifier'])"
   ]
  },
  {
   "cell_type": "code",
   "execution_count": null,
   "metadata": {
    "collapsed": false
   },
   "outputs": [],
   "source": []
  },
  {
   "cell_type": "code",
   "execution_count": null,
   "metadata": {
    "collapsed": false,
    "scrolled": true
   },
   "outputs": [],
   "source": [
    "clf_report_base.sort_values(by=['mean_score', 'time'], ascending=False)"
   ]
  },
  {
   "cell_type": "code",
   "execution_count": null,
   "metadata": {
    "collapsed": false
   },
   "outputs": [],
   "source": [
    "scores_base = cross_validation.cross_val_score(\n",
    "    clf_dict_base['RandomForestClassifier'], X_train_base, y_train_base, cv=5) "
   ]
  },
  {
   "cell_type": "code",
   "execution_count": null,
   "metadata": {
    "collapsed": false
   },
   "outputs": [],
   "source": [
    "scores_base.mean()"
   ]
  },
  {
   "cell_type": "code",
   "execution_count": null,
   "metadata": {
    "collapsed": false,
    "scrolled": false
   },
   "outputs": [],
   "source": [
    "predictor_list_base = []\n",
    "for relevance in clf_dict_base['RandomForestClassifier'].feature_importances_:\n",
    "    predictor_list_base.append(relevance)\n",
    "new_base = pd.DataFrame(predictor_list_base, columns=['importance'], index=X_all_base.columns.values.tolist())\n",
    "new_base.sort_values(by='importance', ascending=False, inplace=True)\n",
    "new_base['features'] = new_base.index\n",
    "\n",
    "p_base = Bar(new_base,\n",
    "        values='importance',\n",
    "        label=cat(columns='features', sort=False),\n",
    "        title='Feature importance',\n",
    "        color='crimson',\n",
    "        plot_width=800, \n",
    "        plot_height=500,\n",
    "        ylabel='importance',\n",
    "        legend=None,\n",
    "        toolbar_location=None)\n",
    "show(p_base)"
   ]
  },
  {
   "cell_type": "markdown",
   "metadata": {},
   "source": [
    "### Method Selection\n",
    "The Random Forest ensemble model has the best average cross validation score. Finetuning of the algorithm parameters will happen later, once the unsupervised additions have been computed.\n",
    "\n",
    "####  Clustering\n",
    "Next an additional layer of context will be added through clustering employees into groups. By doing so a new discrete variable is created that might give additional insight and interpretability to the data set. As mentioned earlier, combining discrete and continuous variables for this task is tricky. Therefore the focus of this supplemental method is on the continuous variables.\n",
    "Since the data is already normalized the next step is feature transformation in order to determin the dimensions that are hidden in the data set."
   ]
  },
  {
   "cell_type": "markdown",
   "metadata": {},
   "source": [
    "##### Feature Transformation\n",
    "Principal Component Analysis is performed on the data set to discover which dimensions about the data best maximize the variance of features involved. In addition to finding these dimensions, PCA will also report the explained variance ratio of each dimension. This suggests how much variance within the data is explained by that dimension alone and gives a good indicator about distinguishing performance of each given dimension. A component, also called dimension, from PCA can be considered a new \"feature\" of the space, however it is a composition of the original features present in the data."
   ]
  },
  {
   "cell_type": "code",
   "execution_count": null,
   "metadata": {
    "collapsed": true
   },
   "outputs": [],
   "source": [
    "import matplotlib.pyplot as plt\n",
    "import matplotlib.cm as cm\n",
    "import pandas as pd\n",
    "import numpy as np\n",
    "from sklearn.decomposition import pca\n",
    "\n",
    "def pca_results(good_data, pca):\n",
    "    '''\n",
    "    Create a DataFrame of the PCA results\n",
    "    Includes dimension feature weights and explained variance\n",
    "    Visualizes the PCA results\n",
    "    '''\n",
    "\n",
    "    # Dimension indexing\n",
    "    dimensions = dimensions = ['Dimension {}'.format(i) for i in range(1,len(pca.components_)+1)]\n",
    "\n",
    "    # PCA components\n",
    "    components = pd.DataFrame(np.round(pca.components_, 4), columns = good_data.keys())\n",
    "    components.index = dimensions\n",
    "\n",
    "    # PCA explained variance\n",
    "    ratios = pca.explained_variance_ratio_.reshape(len(pca.components_), 1)\n",
    "    variance_ratios = pd.DataFrame(np.round(ratios, 4), columns = ['Explained Variance'])\n",
    "    variance_ratios.index = dimensions\n",
    "\n",
    "    # Create a bar plot visualization\n",
    "    fig, ax = plt.subplots(figsize = (14,8))\n",
    "\n",
    "    # Plot the feature weights as a function of the components\n",
    "    components.plot(ax = ax, kind = 'bar');\n",
    "    ax.set_ylabel(\"Feature Weights\")\n",
    "    ax.set_xticklabels(dimensions, rotation=0)\n",
    "\n",
    "\n",
    "    # Display the explained variance ratios\n",
    "    for i, ev in enumerate(pca.explained_variance_ratio_):\n",
    "        ax.text(i-0.40, ax.get_ylim()[1] + 0.05, \"Explained Variance\\n          %.4f\"%(ev))\n",
    "\n",
    "    # Return a concatenated DataFrame\n",
    "    return pd.concat([variance_ratios, components], axis = 1)"
   ]
  },
  {
   "cell_type": "code",
   "execution_count": null,
   "metadata": {
    "collapsed": false
   },
   "outputs": [],
   "source": [
    "from sklearn.decomposition import PCA\n",
    "\n",
    "pca_data = hr_data.ix[:,0:5]\n",
    "pca = PCA(n_components=5)\n",
    "pca = pca.fit(pca_data)\n",
    "\n",
    "# Generate PCA results plot\n",
    "pca_results = pca_results(pca_data, pca)"
   ]
  },
  {
   "cell_type": "code",
   "execution_count": null,
   "metadata": {
    "collapsed": false
   },
   "outputs": [],
   "source": [
    "pd.DataFrame(data=[np.cumsum(pca.explained_variance_ratio_)], columns=\"Add \" + \n",
    "             pca_results.index.values, index=['Combined Explained Variance'])"
   ]
  },
  {
   "cell_type": "markdown",
   "metadata": {},
   "source": [
    "The first 3 dimensions explain **78.16 %** of the variance. Adding dimension 4 pushes that value to over **90 %**. It's interesting to see that the dimension that explains the most variance has mainly negative values and indicates a negative relationship between `satisfaction_level` and the other variables. Dimension 2 builds up on that fact, seeing a mix of `satisfaction_level`, `last_evaluation` score and `average_monthly_hours` in a dependency situation with `time_spend_company` and slightly `number_project`. \n",
    "\n",
    "##### Silhouette Score\n",
    "These insights are taken further by calculating the average [silhouette score](http://scikit-learn.org/stable/auto_examples/cluster/plot_kmeans_silhouette_analysis.html) for each cluster setup. Silhouette analysis shows how well clusters separate and distinguish points. The measure has a range [-1, 1] where +1 indicates that the separation of points is very well done and -1 indicates that the points might have been mislabeled. "
   ]
  },
  {
   "cell_type": "code",
   "execution_count": null,
   "metadata": {
    "collapsed": false
   },
   "outputs": [],
   "source": [
    "from sklearn.decomposition import PCA\n",
    "pca = PCA(n_components=5)\n",
    "pca = pca.fit(pca_data)\n",
    "\n",
    "reduced_data = pca.transform(pca_data)\n",
    "reduced_data = pd.DataFrame(reduced_data, columns = ['Dimension 1', 'Dimension 2', 'Dimension 3', 'Dimension 4', 'Dimension 5'])"
   ]
  },
  {
   "cell_type": "code",
   "execution_count": null,
   "metadata": {
    "collapsed": false
   },
   "outputs": [],
   "source": [
    "from sklearn import mixture\n",
    "from sklearn.metrics import silhouette_score\n",
    "\n",
    "score_list = []\n",
    "score_columns = []\n",
    "preds = {}\n",
    "centers = {}\n",
    "sample_preds = {}\n",
    "\n",
    "for n in range(5,1,-1):\n",
    "    print \"Calculating clusters with {} dimensions.\".format(n)\n",
    "    clusterer = mixture.GMM(n_components=n)\n",
    "    clusterer.fit(reduced_data)\n",
    "\n",
    "    # TODO: Predict the cluster for each data point\n",
    "    preds[n] = clusterer.predict(reduced_data)\n",
    "    # TODO: Find the cluster centers\n",
    "    centers[n] = clusterer.means_\n",
    "    # TODO: Predict the cluster for each transformed sample data point\n",
    "    #sample_preds[n] = clusterer.predict(pca_samples)\n",
    "    # TODO: Calculate the mean silhouette coefficient for the number of clusters chosen\n",
    "    score = silhouette_score(reduced_data, preds[n], metric='euclidean')\n",
    "    score_list.append(score)\n",
    "    score_columns.append(str(n) + \" components\")\n",
    "\n",
    "score_list = pd.DataFrame(data=[score_list],columns=score_columns, index=['Silhouette Score'])\n",
    "score_list"
   ]
  },
  {
   "cell_type": "markdown",
   "metadata": {},
   "source": [
    "The average silhouette score for all points shows that 2 components has the best separation power. Yet, the value is in the low positive range which might indicate that for further unsupervised classification the company should add additional continuous features to describe its clusters better. Using the silhouette score as an indicator, employees will be separated into two classes.\n",
    "\n",
    "##### Visualization of clusters\n",
    "In order to get a better understanding on how this separation looks like, a scatter plot is created that marks both clusters and its members. It's obvious that the separation is heavily influenced by the first Dimension and can be ambiguous add the center of the plot. "
   ]
  },
  {
   "cell_type": "code",
   "execution_count": null,
   "metadata": {
    "collapsed": true
   },
   "outputs": [],
   "source": [
    "def cluster_results(reduced_data, preds, centers):\n",
    "    '''\n",
    "    Visualizes the PCA-reduced cluster data in two dimensions\n",
    "    Adds cues for cluster centers and student-selected sample data\n",
    "    '''\n",
    "\n",
    "    predictions = pd.DataFrame(preds, columns = ['Cluster'])\n",
    "    plot_data = pd.concat([predictions, reduced_data], axis = 1)\n",
    "\n",
    "    # Generate the cluster plot\n",
    "    fig, ax = plt.subplots(figsize = (10,6))\n",
    "\n",
    "    # Color map\n",
    "    cmap = cm.get_cmap('gist_rainbow')\n",
    "\n",
    "    # Color the points based on assigned cluster\n",
    "    for i, cluster in plot_data.groupby('Cluster'):   \n",
    "        cluster.plot(ax = ax, kind = 'scatter', x = 'Dimension 1', y = 'Dimension 2', \\\n",
    "                     color = cmap((i)*1.0/(len(centers)-1)), label = 'Cluster %i'%(i), s=30);\n",
    "\n",
    "    # Plot centers with indicators\n",
    "    for i, c in enumerate(centers):\n",
    "        ax.scatter(x = c[0], y = c[1], color = 'white', edgecolors = 'black', \\\n",
    "                   alpha = 1, linewidth = 2, marker = 'o', s=200);\n",
    "        ax.scatter(x = c[0], y = c[1], marker='$%d$'%(i), alpha = 1, s=100);\n",
    "\n",
    "    # Plot transformed sample points \n",
    "    #ax.scatter(x = pca_samples[:,0], y = pca_samples[:,1], \\\n",
    "    #           s = 150, linewidth = 4, color = 'black', marker = 'x');\n",
    "\n",
    "    # Set plot title\n",
    "    #plt.legend(loc='upper left', numpoints=1, ncol=4, fontsize=12, bbox_to_anchor=(0, 0))\n",
    "    ax.set_title(\"Cluster Learning on PCA-Reduced Data - Centroids Marked by Number\",\n",
    "                 fontsize = 14)"
   ]
  },
  {
   "cell_type": "code",
   "execution_count": null,
   "metadata": {
    "collapsed": false
   },
   "outputs": [],
   "source": [
    "def cluster_results_3d(reduced_data, preds, centers):\n",
    "    from mpl_toolkits.mplot3d import Axes3D\n",
    "    \n",
    "    predictions = pd.DataFrame(preds, columns = ['Cluster'])\n",
    "    plot_data = pd.concat([predictions, reduced_data], axis = 1)\n",
    "    cmap = cm.get_cmap('gist_rainbow')\n",
    "    \n",
    "    fig = plt.figure(figsize = (10,8))\n",
    "    ax = fig.add_subplot(111, projection='3d')\n",
    "    ax2 = fig.add_subplot(111, projection='3d')\n",
    "\n",
    "    fig = fig.gca(projection='3d')\n",
    "    #ax = fig.add_subplot(111)\n",
    "    # For each set of style and range settings, plot n random points in the box\n",
    "    # defined by x in [23, 32], y in [0, 100], z in [zlow, zhigh].\n",
    "    for i, c in enumerate(centers):\n",
    "        ax2.scatter(c[0], c[1], c[2], color = 'white', edgecolors = 'black', \\\n",
    "                   alpha = 1, linewidth = 2, marker = 'o', s=200,\n",
    "                   zorder=1);\n",
    "        ax2.scatter(c[0], c[1], c[2], marker='$%d$'%(i), alpha = 1, s=100,\n",
    "                   zorder=1);\n",
    "        \n",
    "    for i, cluster in plot_data.groupby('Cluster'):   \n",
    "        ax2.scatter(cluster['Dimension 1'], cluster['Dimension 2'], cluster['Dimension 3'],\n",
    "                   c = cmap((i)*1.0/(len(centers)-1)), alpha=0.2,\n",
    "                   label = 'Cluster %i'%(i), s=20,\n",
    "                   zorder=.5)\n",
    "\n",
    "    \n",
    "        #print cluster.head()\n",
    "        #cluster.plot(ax = ax, kind = 'scatter', x = 'Dimension 1', y = 'Dimension 2', z = 'Dimension 3', \\\n",
    "        #             color = cmap((i)*1.0/(len(centers)-1)), label = 'Cluster %i'%(i), s=30);\n",
    "    fig.set_xlabel('Dimension 1')\n",
    "    fig.set_ylabel('Dimension 2')\n",
    "    fig.set_zlabel('Dimension 3')\n",
    "    plt.legend(loc='upper left', numpoints=1, ncol=4, fontsize=12, bbox_to_anchor=(0, 0))\n",
    "    ax2.set_title(\"Cluster Learning on PCA-Reduced Data 3D Plot\",\n",
    "                 fontsize = 14);\n",
    "    plt.show()"
   ]
  },
  {
   "cell_type": "code",
   "execution_count": null,
   "metadata": {
    "collapsed": false
   },
   "outputs": [],
   "source": [
    "# with preds[n] and centers[n] where n is the number of Dimensions\n",
    "no_clusters = 4\n",
    "cluster_results(reduced_data, preds[no_clusters], centers[no_clusters])\n",
    "cluster_results_3d(reduced_data, preds[no_clusters], centers[no_clusters])"
   ]
  },
  {
   "cell_type": "code",
   "execution_count": null,
   "metadata": {
    "collapsed": false
   },
   "outputs": [],
   "source": [
    "predictions = pd.DataFrame(preds[no_clusters], columns = ['Cluster'])\n",
    "hr_data['employee_cluster'] = predictions"
   ]
  },
  {
   "cell_type": "code",
   "execution_count": null,
   "metadata": {
    "collapsed": false
   },
   "outputs": [],
   "source": [
    "hr_data.head()"
   ]
  },
  {
   "cell_type": "code",
   "execution_count": null,
   "metadata": {
    "collapsed": false
   },
   "outputs": [],
   "source": [
    "print hr_data.columns"
   ]
  },
  {
   "cell_type": "markdown",
   "metadata": {},
   "source": [
    "#### Prediction with clusters\n",
    "The additional information created through clusters are used in the prediction process and scores are evaluated compared to the scores without the cluster information. In order to get a better understanding on its performance all prediction algorithms are fed the new information."
   ]
  },
  {
   "cell_type": "code",
   "execution_count": null,
   "metadata": {
    "collapsed": false
   },
   "outputs": [],
   "source": [
    "# Let's start the prediction\n",
    "from sklearn.linear_model import LogisticRegression\n",
    "from sklearn.svm import LinearSVC, SVC\n",
    "from sklearn.ensemble import RandomForestClassifier\n",
    "from sklearn.tree import DecisionTreeClassifier\n",
    "from sklearn.metrics import f1_score\n",
    "from sklearn import cross_validation\n",
    "from time import time\n",
    "\n",
    "# Let's keep 20 % of the data for testing purposes\n",
    "test_size = .2\n",
    "random_state = 42\n",
    "\n",
    "X_all_clus = hr_data.drop('left', 1)\n",
    "y_all_clus = hr_data['left']\n",
    "\n",
    "# Use for testing later and don't touch: X_test_clus / y_test_clus\n",
    "X_train_clus, X_test_clus, y_train_clus, y_test_clus = cross_validation.train_test_split(\n",
    "    X_all_clus, y_all_clus, test_size = test_size, random_state = random_state, stratify=y_all_clus)\n",
    "\n",
    "clf_dict_clus = {}\n",
    "clf_report_clus = []\n",
    "clf_feature_relevance_clus = []\n",
    "\n",
    "for clf_clus in [LinearSVC(random_state = random_state),\n",
    "                LogisticRegression(random_state = random_state),\n",
    "                DecisionTreeClassifier(random_state = random_state),\n",
    "                SVC(random_state = random_state),\n",
    "                RandomForestClassifier(random_state = random_state)]:\n",
    "    # Extract name of estimator\n",
    "    clf_name = clf_clus.__class__.__name__\n",
    "    print \"Training\", clf_name, \"...\"\n",
    "    # Fit model on training data\n",
    "    clf_dict_clus[clf_name] = clf_clus.fit(X_train_clus, y_train_clus)\n",
    "    # Predict based on it\n",
    "    # y_pred = clf.predict(X_train)\n",
    "    \n",
    "    # Perform cross validation\n",
    "    start = time()\n",
    "    scores = cross_validation.cross_val_score(clf_clus, X_train_clus, y_train_clus, cv=5, scoring='roc_auc') \n",
    "    end = time()\n",
    "    duration = end - start\n",
    "    print \"Average CV performance for {}: {:.6} (in {:.6} seconds)\".format(clf_name, scores.mean(), duration)\n",
    "    clf_report_clus.append([clf_name, scores.mean(), duration])\n",
    "\n",
    "    # Store feature relevance information \n",
    "    if clf_name in [\"RandomForestClassifier\", \"DecisionTreeClassifier\"]:\n",
    "        clf_feature_relevance_clus.append(clf_clus.feature_importances_.tolist())\n",
    "    elif clf_name == \"LinearSVC\":\n",
    "        clf_feature_relevance_clus.append(clf_clus.coef_[0].tolist())\n",
    "# Store information in list for better visibility\n",
    "\n",
    "clf_report_clus = pd.DataFrame(clf_report_clus, columns=['classifier', 'mean_score', 'time'])"
   ]
  },
  {
   "cell_type": "code",
   "execution_count": null,
   "metadata": {
    "collapsed": false
   },
   "outputs": [],
   "source": [
    "pd.DataFrame(clf_feature_relevance_clus, columns=X_train_clus.columns, index=['LinearSVC', \n",
    "                                                                              'DecisionTreeClassifier', \n",
    "                                                                              'RandomForestClassifier'])"
   ]
  },
  {
   "cell_type": "code",
   "execution_count": null,
   "metadata": {
    "collapsed": false,
    "scrolled": true
   },
   "outputs": [],
   "source": [
    "clf_report_clus = clf_report_clus.ix[:,0:3]\n",
    "clf_report_clus.sort_values('mean_score', ascending=False)"
   ]
  },
  {
   "cell_type": "code",
   "execution_count": null,
   "metadata": {
    "collapsed": false,
    "scrolled": true
   },
   "outputs": [],
   "source": [
    "clf_report_clus['mean_score non-cluster'] = clf_report_base['mean_score']\n",
    "clf_report_clus['time non-cluster'] = clf_report_base['time']\n",
    "clf_report_clus['score_change'] = clf_report_clus['mean_score'] - clf_report_clus['mean_score non-cluster']\n",
    "clf_report_clus['time_change'] = clf_report_clus['time'] - clf_report_clus['time non-cluster']\n",
    "clf_report_clus.sort_values(by=['mean_score', 'score_change', 'time_change'], ascending=False)"
   ]
  },
  {
   "cell_type": "markdown",
   "metadata": {},
   "source": [
    "The largest `roc_auc` gain takes place for SVC followed by LinearSVC and LogisticRegression. The score gained for DecisionTreeClassifier is marginal as well as the loss for RandomForestClassifier. Based on cross-validation results the supervised classification has only produced slight improvements.\n",
    "RandomForestClassifier is still the leading algorithm for this problem.\n",
    "\n",
    "#### Shift of feature importance\n",
    "It might be interesting to see which features gained importance for the leading algorithm and compare it to the base results in the beginning."
   ]
  },
  {
   "cell_type": "code",
   "execution_count": null,
   "metadata": {
    "collapsed": false,
    "scrolled": false
   },
   "outputs": [],
   "source": [
    "predictor_list = []\n",
    "for relevance in clf_dict_base['RandomForestClassifier'].feature_importances_:\n",
    "    predictor_list.append(relevance)\n",
    "\n",
    "\n",
    "columns_list = X_all_base.columns.values.tolist()\n",
    "\n",
    "new = pd.DataFrame(predictor_list, columns=['importance'], index=columns_list)\n",
    "new.sort_values(by='importance', ascending=False, inplace=True)\n",
    "new['features'] = new.index\n",
    "new = new[:6]\n",
    "\n",
    "p = Bar(new,\n",
    "        values='importance',\n",
    "        label=cat(columns='features', sort=False),\n",
    "        title='Feature importance without cluster information',\n",
    "        color='crimson',\n",
    "        plot_width=800, \n",
    "        plot_height=300,\n",
    "        ylabel='importance',\n",
    "        legend=None)\n",
    "\n",
    "predictor_list_clus = []\n",
    "for relevance in clf_dict_clus['RandomForestClassifier'].feature_importances_:\n",
    "    predictor_list_clus.append(relevance)\n",
    "new_clus = pd.DataFrame(predictor_list_clus, columns=['importance'], index=X_all_clus.columns.values.tolist())\n",
    "new_clus.sort_values(by='importance', ascending=False, inplace=True)\n",
    "new_clus['features'] = new_clus.index\n",
    "\n",
    "new_clus = new_clus[:6]\n",
    "p_clus = Bar(new_clus,\n",
    "        values='importance',\n",
    "        label=cat(columns='features', sort=False),\n",
    "        title='Feature importance with cluster information',\n",
    "        color='crimson',\n",
    "        plot_width=800, \n",
    "        plot_height=300,\n",
    "        ylabel='importance',\n",
    "        legend=None)\n",
    "p.xaxis.major_label_text_font_size = '10pt'\n",
    "p.title.text_font_size = '12pt'\n",
    "\n",
    "p_clus.xaxis.major_label_text_font_size = '10pt'\n",
    "p_clus.title.text_font_size = '12pt'\n",
    "\n",
    "show(p)\n",
    "show(p_clus)\n",
    "print new"
   ]
  },
  {
   "cell_type": "markdown",
   "metadata": {},
   "source": [
    "It can be seen that the important feature remains `satisfaction_level`. It seems as if `employee_cluster` has relevated some of the importance of `time_spend_company` and `average_monthly_hours`. Yet the rankings remain the same."
   ]
  },
  {
   "cell_type": "markdown",
   "metadata": {},
   "source": [
    "#### Parameter Tuning\n",
    "In order to find the best parameter setup, a Grid Search is performed. The basic criteria for deciding on a set of parameters is its `roc_auc` scoring. In order to emulate a real life scenario only 80 % of the training data will be used. 20 % of the data will serve as a sanity check to offer a better assumption on how this tuning would perform on new data. Similar to before a key focus is on stratifying the data to make sure the training and testing sets are having similar proportions of prediction cases. "
   ]
  },
  {
   "cell_type": "code",
   "execution_count": null,
   "metadata": {
    "collapsed": true
   },
   "outputs": [],
   "source": [
    "def predict_labels(clf, features, target):\n",
    "    from sklearn import metrics\n",
    "    ''' Makes predictions using a fit classifier based on AUC score. '''\n",
    "    \n",
    "    # Start the clock, make predictions, then stop the clock\n",
    "    start = time()\n",
    "    y_pred = clf.predict(features)\n",
    "    end = time()\n",
    "    \n",
    "    # Print and return results\n",
    "    prediction_duration = end - start\n",
    "    prediction_auc_score = metrics.roc_auc_score(target.values, y_pred)\n",
    "    print \"Made predictions in {:.4f} seconds.\".format(prediction_duration)\n",
    "    return prediction_auc_score, prediction_duration"
   ]
  },
  {
   "cell_type": "code",
   "execution_count": null,
   "metadata": {
    "collapsed": false
   },
   "outputs": [],
   "source": [
    "from sklearn import grid_search\n",
    "from sklearn import metrics\n",
    "\n",
    "parameters_dict = {\"LinearSVC\" : \n",
    "                    {\"C\": range(1,11),\n",
    "                     \"loss\" : ['hinge', 'squared_hinge'],\n",
    "                     \"penalty\" : ['l2'],\n",
    "                     \"max_iter\" : [100, 200, 300]\n",
    "                    },\n",
    "                   \"LogisticRegression\" :\n",
    "                    {\"C\": range(1,11),\n",
    "                     \"penalty\" : ['l2'],\n",
    "                     \"solver\" : ['sag', 'newton-cg', 'lbfgs', 'liblinear'],\n",
    "                     \"warm_start\" : [True, False]\n",
    "                    },\n",
    "                   \"DecisionTreeClassifier\" :\n",
    "                    {\"criterion\": ['gini', 'entropy'],\n",
    "                     \"max_features\" : ['auto', 'sqrt', 'log2', None],\n",
    "                     \"max_depth\" : [None, 2, 5, 10]                    \n",
    "                    },\n",
    "                   \"SVC\" : \n",
    "                    {\"C\": [1, 2],\n",
    "                     \"kernel\" : ['poly', 'rbf', 'sigmoid'],\n",
    "                     \"degree\" : [2, 3, 4]\n",
    "                    },\n",
    "                   \"RandomForestClassifier\" :\n",
    "                    {\"n_estimators\" : [10],\n",
    "                     \"criterion\": ['gini', 'entropy'],\n",
    "                     \"bootstrap\" : [False, True],\n",
    "                     \"max_features\" : ['auto', 'sqrt', 'log2', None],\n",
    "                     \"max_depth\" : [None, 2, 5],\n",
    "                     \"min_samples_split\" : [2, 4],\n",
    "                     \"warm_start\" : [True, False],\n",
    "                     \"max_leaf_nodes\" : [None, 4, 6]\n",
    "                    }\n",
    "                  }\n",
    "\n",
    "best_estimator_dict = {}\n",
    "\n",
    "test_size = .2\n",
    "random_state = 42\n",
    "\n",
    "X_all_gs = X_train_clus.copy()\n",
    "y_all_gs = y_train_clus.copy()\n",
    "\n",
    "X_train_gs, X_test_gs, y_train_gs, y_test_gs = cross_validation.train_test_split(\n",
    "    X_all_gs, y_all_gs, test_size = test_size, random_state = random_state, stratify=y_all_gs)\n",
    "\n",
    "# Initialize the classifier\n",
    "for clf in [LinearSVC(random_state = random_state),\n",
    "            LogisticRegression(random_state = random_state),\n",
    "            DecisionTreeClassifier(random_state = random_state),\n",
    "            SVC(random_state = random_state),\n",
    "            RandomForestClassifier(random_state = random_state)]:\n",
    "    # Extract name of estimator\n",
    "    clf_name = clf.__class__.__name__\n",
    "    print \"Searching Grid for\", clf_name, \"...\"\n",
    "\n",
    "    # Perform grid search on classifier using roc_auc as scoring method\n",
    "    grid_obj = grid_search.GridSearchCV(clf, param_grid=parameters_dict[clf_name], scoring='roc_auc')\n",
    "\n",
    "    # Fit the grid search object to the training data and find the optimal parameters\n",
    "    grid_obj = grid_obj.fit(X_train_gs, y_train_gs)\n",
    "\n",
    "    # Get the estimator\n",
    "    clf = grid_obj.best_estimator_\n",
    "    best_estimator_dict[clf_name] = clf\n",
    "\n",
    "    # Report the final F1 score for training and testing after parameter tuning\n",
    "    print \"Tuned {} model has a training AUC score of {:.4f}.\".format(\n",
    "        clf_name, predict_labels(clf, X_train_gs, y_train_gs)[0])\n",
    "    print \"Tuned {} model has a testing AUC score of {:.4f}.\".format(\n",
    "        clf_name, predict_labels(clf, X_test_gs, y_test_gs)[0])"
   ]
  },
  {
   "cell_type": "markdown",
   "metadata": {},
   "source": [
    "After performing GridSearch and defining the best fitting parameters the training score improved to .9996 and the testing score scored .9773 which is remarkable since only 80 % of the initial training data was used. GridSearch found following parameters to work best for this problem:"
   ]
  },
  {
   "cell_type": "code",
   "execution_count": null,
   "metadata": {
    "collapsed": false
   },
   "outputs": [],
   "source": [
    "print best_estimator_dict['RandomForestClassifier']"
   ]
  },
  {
   "cell_type": "markdown",
   "metadata": {},
   "source": [
    "To further validate this setup a 5-fold cross-validation is performed and the time for its result is measured."
   ]
  },
  {
   "cell_type": "code",
   "execution_count": null,
   "metadata": {
    "collapsed": false
   },
   "outputs": [],
   "source": [
    "print \"Training RandomForestClassifier ...\"\n",
    "start = time()\n",
    "scores = cross_validation.cross_val_score(\n",
    "    best_estimator_dict['RandomForestClassifier'], X_train_gs, y_train_gs, cv=5, scoring='roc_auc') \n",
    "end = time()\n",
    "duration = end - start\n",
    "print \"Average CV performance for {}: {:.6} (in {:.6} seconds)\".format(\n",
    "    'RandomForestClassifier', scores.mean(), duration)"
   ]
  },
  {
   "cell_type": "markdown",
   "metadata": {
    "collapsed": false
   },
   "source": [
    "The average `roc_auc` score using the tuned parameters is .9858 which is almost as high as the initial cross-validation score. Even though this is a slightly lower score, since it's a subtstantially smaller data set these parameters will be used further down the road.\n",
    "\n",
    "### CV-Training of best estimators"
   ]
  },
  {
   "cell_type": "code",
   "execution_count": null,
   "metadata": {
    "collapsed": false
   },
   "outputs": [],
   "source": [
    "clf_dict_tuned = {}\n",
    "clf_report_tuned = []\n",
    "clf_feature_relevance_tuned = []\n",
    "\n",
    "for clf_tuned in ['LinearSVC', 'LogisticRegression', 'DecisionTreeClassifier', 'SVC', 'RandomForestClassifier']:\n",
    "\n",
    "    # Extract name of estimator\n",
    "    clf_name = clf_tuned\n",
    "    clf_tuned = best_estimator_dict[clf_tuned]\n",
    "    print \"Cross-Validation of\", clf_name, \"...\"    \n",
    "\n",
    "    # Perform cross validation\n",
    "    start = time()\n",
    "    scores = cross_validation.cross_val_score(clf_tuned, X_train_clus, y_train_clus, cv=5, scoring='roc_auc') \n",
    "    end = time()\n",
    "    duration = end - start\n",
    "    print \"Average CV performance for {}: {:.6} (in {:.6} seconds)\".format(clf_name, scores.mean(), duration)\n",
    "    clf_report_tuned.append([clf_name, scores.mean(), duration])\n",
    "\n",
    "    # Store feature relevance information \n",
    "    if clf_name in [\"RandomForestClassifier\", \"DecisionTreeClassifier\"]:\n",
    "        clf_feature_relevance_tuned.append(clf_tuned.feature_importances_.tolist())\n",
    "    elif clf_name == \"LinearSVC\":\n",
    "        clf_feature_relevance_tuned.append(clf_tuned.coef_[0].tolist())\n",
    "# Store information in list for better visibility\n",
    "\n",
    "clf_report_tuned = pd.DataFrame(clf_report_tuned, columns=['classifier', 'mean_score', 'time'])"
   ]
  },
  {
   "cell_type": "code",
   "execution_count": null,
   "metadata": {
    "collapsed": false
   },
   "outputs": [],
   "source": [
    "pd.DataFrame(clf_feature_relevance_tuned, columns=X_train_clus.columns, index=['LinearSVC', \n",
    "                                                                              'DecisionTreeClassifier', \n",
    "                                                                              'RandomForestClassifier'])"
   ]
  },
  {
   "cell_type": "code",
   "execution_count": null,
   "metadata": {
    "collapsed": false,
    "scrolled": true
   },
   "outputs": [],
   "source": [
    "clf_report_tuned = clf_report_tuned.ix[:,0:3]\n",
    "clf_report_tuned.sort_values('mean_score', ascending=False)"
   ]
  },
  {
   "cell_type": "code",
   "execution_count": null,
   "metadata": {
    "collapsed": false,
    "scrolled": true
   },
   "outputs": [],
   "source": [
    "clf_report_tuned['mean_score non-cluster'] = clf_report_clus['mean_score']\n",
    "clf_report_tuned['time non-cluster'] = clf_report_clus['time']\n",
    "clf_report_tuned['score_change'] = clf_report_tuned['mean_score'] - clf_report_tuned['mean_score non-cluster']\n",
    "clf_report_tuned['time_change'] = clf_report_tuned['time'] - clf_report_tuned['time non-cluster']\n",
    "clf_report_tuned.sort_values(by=['mean_score', 'score_change', 'time_change'], ascending=False)"
   ]
  },
  {
   "cell_type": "code",
   "execution_count": null,
   "metadata": {
    "collapsed": true
   },
   "outputs": [],
   "source": []
  },
  {
   "cell_type": "markdown",
   "metadata": {
    "collapsed": false
   },
   "source": [
    "# Results\n",
    "In this section the results of the research are being discussed as well as additional thoughts on robustness and stability of the model.\n",
    "\n",
    "## Evaluation\n",
    "The final leading algorithm is a RandomForestClassifier that has had a good performance right from the base. The data set was exceptionally clean and there were only minor things to be adjusted. Overall research has shown that the complexity of employee turnover prediction is a multi-variate and highly complex task. There are indicators that suggest severe problems when it comes to generalization. Therefore this research has focused on cross-validation wherever possible. The final model seems reasonable and is aligning with solution expectations mentioned earlier in this research. The final parameters of the model seem to leave enough room for generalization and new data. Although the final model has been tested with various inputs to evaluate whether the model generalizes well to unseen data there is still a testing set available that will be used in this section to draw further conclusions about the model. But before heading to this final step there is the question of model stability and robustness that needs to be addressed.\n",
    "\n",
    "## Model Stability\n",
    "To test the model for its stability beyond cross-validation a subset of the testing data is being created that contains only a small sample shuffled sample size of 40 % and additional 20 % for testing purposes. Is robust, the model is supposed to have a similar predictive outcome for training and testing on the stability set."
   ]
  },
  {
   "cell_type": "code",
   "execution_count": null,
   "metadata": {
    "collapsed": false,
    "scrolled": true
   },
   "outputs": [],
   "source": [
    "new_index = np.random.permutation(X_train_base.index)\n",
    "X_train_stab = X_train_clus.reindex(new_index)\n",
    "y_train_stab = y_train_clus.reindex(new_index)\n",
    "#df.reindex(np.random.permutation(df.index))\n",
    "\n",
    "X_train_stab, X_test_stab, y_train_stab, y_test_stab = cross_validation.train_test_split(\n",
    "    X_train_stab, y_train_stab, train_size = .4, test_size = .2, random_state = random_state, stratify=y_train_stab)"
   ]
  },
  {
   "cell_type": "code",
   "execution_count": null,
   "metadata": {
    "collapsed": false
   },
   "outputs": [],
   "source": [
    "print \"Training RandomForestClassifier ...\"\n",
    "start = time()\n",
    "scores = cross_validation.cross_val_score(\n",
    "    best_estimator_dict['RandomForestClassifier'], X_train_stab, y_train_stab, cv=5, scoring='roc_auc') \n",
    "end = time()\n",
    "duration = end - start\n",
    "print \"Average CV performance for {}: {:.6} (in {:.6} seconds)\".format(\n",
    "    'RandomForestClassifier', scores.mean(), duration)"
   ]
  },
  {
   "cell_type": "code",
   "execution_count": null,
   "metadata": {
    "collapsed": false
   },
   "outputs": [],
   "source": [
    "print \"Tuned {} model has a testing AUC score of {:.4f}.\".format(\n",
    "    'RandomForestClassifier', predict_labels(\n",
    "        best_estimator_dict['RandomForestClassifier'], X_test_stab, y_test_stab)[0])"
   ]
  },
  {
   "cell_type": "markdown",
   "metadata": {},
   "source": [
    "On a smaller subsample of 40 % the prediction algorithm still works very well. Its score on the testing score even increases up to .993 indicating a stable model which was to be expected by the usage of cross-validation down the road. "
   ]
  },
  {
   "cell_type": "markdown",
   "metadata": {
    "collapsed": true
   },
   "source": [
    "## Testing\n",
    "As a final step all models will be used on the test set. This will be the final determinator on which algorithm and model setup performs the best. The following setups will be tested for LinearSVC, LogisticRegression, SVC,  DecisionTreeClassifier and RandomForestClassifier: \n",
    "\n",
    "* Base model, with little to no tuning on the parameters\n",
    "* Clustering data, with little to no tuning on the parameters\n",
    "* Clustering data, with tuned parameters\n",
    "\n",
    "The scoring method will be `roc_auc` in order to be able to compare the scoring to mentioned research by [1]."
   ]
  },
  {
   "cell_type": "code",
   "execution_count": null,
   "metadata": {
    "collapsed": false
   },
   "outputs": [],
   "source": [
    "final_results = {}\n",
    "\n",
    "for clf_name in ['LinearSVC', 'LogisticRegression', 'DecisionTreeClassifier', 'SVC', 'RandomForestClassifier']:\n",
    "    print \"Tuned {} model has a final testing AUC score of {:.4f}.\".format(\n",
    "        clf_name, predict_labels(best_estimator_dict[clf_name], X_test_clus, y_test_clus)[0])\n",
    "\n",
    "    temp = []\n",
    "    temp.append(\n",
    "        predict_labels(clf_dict_base[clf_name], X_test_base, y_test_base)[0])\n",
    "    temp.append(\n",
    "        predict_labels(clf_dict_clus[clf_name], X_test_clus, y_test_clus)[0])\n",
    "    temp.append(\n",
    "        predict_labels(best_estimator_dict[clf_name], X_test_clus, y_test_clus)[0])\n",
    "    \n",
    "    print temp\n",
    "    final_results[clf_name] = temp"
   ]
  },
  {
   "cell_type": "code",
   "execution_count": null,
   "metadata": {
    "collapsed": false,
    "scrolled": true
   },
   "outputs": [],
   "source": [
    "final_score = pd.DataFrame.from_dict(final_results, orient='index')\n",
    "final_score.columns = ['base_test_score', 'cluster_test_score', 'tuned_test_score']\n",
    "final_score['max_score'] = final_score[['base_test_score', 'cluster_test_score', 'tuned_test_score']].max(axis=1)\n",
    "final_score.sort_values('max_score', ascending=False)\n",
    "#final_score"
   ]
  },
  {
   "cell_type": "code",
   "execution_count": null,
   "metadata": {
    "collapsed": false
   },
   "outputs": [],
   "source": [
    ".9805 - .86"
   ]
  },
  {
   "cell_type": "markdown",
   "metadata": {},
   "source": [
    "## Justification\n",
    "Using the metric that [1] have been using on their dataset and research about employee turnover this research achieves even higher results without the need for more computational expensive algorithms such as Extreme Gradient Boosting. [1] achieved .86 `roc_auc` score on a hold-out data as a best result using an XGBoost model. In this research we presented a method to achieve an even higher result. The resulting method achieves a .9805 `roc_auc` score and is over .12 higher than the research result presented in [1]. \n",
    "\n",
    "The reason for this might be hard to determine without access to the original data used in [1]. Based on the dataset of this research one possibility could be the clean variables that include only little noise. While [1] had to combine information from multiple sources and work around a quite noisy dataset this research had the benefit of working with exceptionally little obstacles. Therefore the higher results can be linked to the data set. As almost always in machine learning, `better` data beats `better` algorithms. Based on the problem statement and the task that was at hand this research can be seen as a successful solution though. \n",
    "\n",
    "# Conclusion\n",
    "\n",
    "\n",
    "## Important Quailities of this Research\n",
    "\n",
    "### Feature Importance and pro-active behaviour\n",
    "As discussed earlier, for most companies it is as important to understand why an employee is about to leave or leaving as it is to predict. In order to act in advance and possibly change the circumstances in a more favorable way for top performers and valuable assets the variables that are most important to employee turnover should be examined. This research offers a way of looking into the importance of certain aspects of work culture to predict employee turnover. "
   ]
  },
  {
   "cell_type": "code",
   "execution_count": null,
   "metadata": {
    "collapsed": false
   },
   "outputs": [],
   "source": [
    "show(p_clus)"
   ]
  },
  {
   "cell_type": "markdown",
   "metadata": {},
   "source": [
    "Based on the model presented by this research following categories should be examined strongly per individual to make sure to act before it's too late:\n",
    "* Frontrunner is **satisfaction_level**, there are many ways to measure this in a work space. For any company to capture this rather abstract value in a correct way it has to be in touch with its management employees. There is only so much information you can gain by looking at business numbers. Measuring this variable seems to be crucial for employee turnover. A finding that's supported by management and psychology studies mentioned earlier as well.\n",
    "* Second up is work responsibility measured by **number of projects**. It seems as if empowering people helps keep them on board.\n",
    "* **time_spend_company** supports the finding that work relationships nowadays tend to have a shorter life cycle. If the company is big enough, encouraging employees to work on their personal skill set or even promoting different possibilties within the companies might be a good way to achieve a higher retention rate.\n",
    "* **average_monthly_hours** can be an indicator for both, overworked employees or employees that are not being challenged sufficiently.\n",
    "* Rating employees and using their **last_evaluation** might be a good indicator but even better would be time series information on how their performance has changed over time. In addition there are multiple layers when it comes to evaluations on the job. Having a multi-facetted evaluation score sheet that's focusing on performance but also on social skills could be a great indicator for employee turnover.\n",
    "* As mentioned earlier, **employee_cluster** can be very helpful when it comes to categorizing top performers but also employees at risk. With additional continuous variables this could help put employees on the map in even very complex work domains.\n",
    "\n",
    "### Scoring with increasing training data\n",
    "Another important characteristic for robust models is the behavior of their prediction accuracy when using it on different amounts of training data. For this exercise a range between 10 % and 80 % of initial training data will be used and the average scoring on a 5-fold cross-validation is being measured for all algorithms used in this research."
   ]
  },
  {
   "cell_type": "code",
   "execution_count": null,
   "metadata": {
    "collapsed": false
   },
   "outputs": [],
   "source": [
    "perc_scores = {}\n",
    "for clf_name in ['LinearSVC', 'LogisticRegression', 'DecisionTreeClassifier', 'SVC', 'RandomForestClassifier']:\n",
    "    print 'Calculating cv scores for', clf_name, '...'\n",
    "    clf_scores = list()\n",
    "    percentage_list = [.1, .2, .4, .6, .8]\n",
    "    for percentage in percentage_list:\n",
    "        train_size = percentage\n",
    "        random_state = 42\n",
    "\n",
    "        X_perc = hr_data.drop('left', 1)\n",
    "        y_perc = hr_data['left']\n",
    "\n",
    "        X_train_perc, X_test_perc, y_train_perc, y_test_perc = cross_validation.train_test_split(\n",
    "            X_perc, y_perc, train_size = train_size, random_state = random_state, stratify=y_perc)\n",
    "\n",
    "        perc_score_temp = cross_validation.cross_val_score(\n",
    "            best_estimator_dict[clf_name], X_train_perc, y_train_perc, cv=5, scoring='roc_auc')\n",
    "        perc_score_temp = perc_score_temp.mean()\n",
    "        clf_scores.append(perc_score_temp)\n",
    "    perc_scores[clf_name] = clf_scores\n",
    "#perc_scores"
   ]
  },
  {
   "cell_type": "code",
   "execution_count": null,
   "metadata": {
    "collapsed": false
   },
   "outputs": [],
   "source": [
    "perc_plot = pd.DataFrame.from_dict(perc_scores, orient='index')\n",
    "percentage_list = [.1, .2, .4, .6, .8]\n",
    "perc_plot.columns = [str(x) + '%' for x in percentage_list]\n",
    "perc_plot = perc_plot.transpose()\n",
    "perc_plot_ax = perc_plot.plot(\n",
    "    title = 'ROC AUC Score vs. Training Data Percentage', \n",
    "    figsize = (8, 5), \n",
    "    fontsize = 13)\n",
    "perc_plot_ax.set_xlabel(\"Percentage of used data\")\n",
    "perc_plot_ax.set_ylabel(\"ROC AUC Score\")\n",
    "_ = perc_plot_ax"
   ]
  },
  {
   "cell_type": "markdown",
   "metadata": {},
   "source": [
    "An interesting observation can be made when looking at cross-validation scores based on the amount of training data available. Even with as little as 10 %, tree-based algorithms work very well on the data. Which speaks to their robustness for this specific task. The biggest score gain can be observed for SVC, which pops from below .9 to a score just up of .96. Both LogisticRegression as well as LinearSVC are on a lower, yet constant, scoring level."
   ]
  },
  {
   "cell_type": "markdown",
   "metadata": {},
   "source": [
    "### Precision vs Recall\n",
    "As mentioned earlier, one problem of AUC scores can be low recall scores. Some classifiers can have a low recall but a very high AUC score. In order to protect the established model against low recall scores F1 scoring is implemented. For F1 scores to be high, both precision and recall have to be high."
   ]
  },
  {
   "cell_type": "code",
   "execution_count": null,
   "metadata": {
    "collapsed": true
   },
   "outputs": [],
   "source": [
    "def predict_labels_f1(clf, features, target):\n",
    "    from sklearn import metrics\n",
    "    ''' Makes predictions using a fit classifier based on AUC score. '''\n",
    "    \n",
    "    # Start the clock, make predictions, then stop the clock\n",
    "    start = time()\n",
    "    y_pred = clf.predict(features)\n",
    "    end = time()\n",
    "    \n",
    "    # Print and return results\n",
    "    prediction_duration = end - start\n",
    "    prediction_f1_score = metrics.f1_score(target.values, y_pred)\n",
    "    print \"Made predictions in {:.4f} seconds.\".format(prediction_duration)\n",
    "    return prediction_f1_score, prediction_duration"
   ]
  },
  {
   "cell_type": "code",
   "execution_count": null,
   "metadata": {
    "collapsed": false
   },
   "outputs": [],
   "source": [
    "final_results_f1 = {}\n",
    "\n",
    "for clf_name in ['LinearSVC', 'LogisticRegression', 'DecisionTreeClassifier', 'SVC', 'RandomForestClassifier']:\n",
    "    print \"Tuned {} model has a final testing AUC score of {:.4f}.\".format(\n",
    "        clf_name, predict_labels_f1(best_estimator_dict[clf_name], X_test_clus, y_test_clus)[0])\n",
    "\n",
    "    temp = []\n",
    "    temp.append(\n",
    "        predict_labels_f1(clf_dict_base[clf_name], X_test_base, y_test_base)[0])\n",
    "    temp.append(\n",
    "        predict_labels_f1(clf_dict_clus[clf_name], X_test_clus, y_test_clus)[0])\n",
    "    temp.append(\n",
    "        predict_labels_f1(best_estimator_dict[clf_name], X_test_clus, y_test_clus)[0])\n",
    "    \n",
    "    print temp\n",
    "    final_results_f1[clf_name] = temp"
   ]
  },
  {
   "cell_type": "code",
   "execution_count": null,
   "metadata": {
    "collapsed": false,
    "scrolled": true
   },
   "outputs": [],
   "source": [
    "final_score_f1 = pd.DataFrame.from_dict(final_results_f1, orient='index')\n",
    "final_score_f1.columns = ['base_test_score', 'cluster_test_score', 'tuned_test_score']\n",
    "final_score_f1['max_f1_score'] = final_score_f1[\n",
    "    ['base_test_score', 'cluster_test_score', 'tuned_test_score']].max(axis=1)\n",
    "final_score_f1['max_auc_score'] = final_score['max_score']\n",
    "final_score_f1['delta'] = final_score_f1['max_f1_score'] - final_score_f1['max_auc_score']\n",
    "final_score_f1.sort_values('max_f1_score', ascending=False)\n",
    "#final_score"
   ]
  },
  {
   "cell_type": "markdown",
   "metadata": {},
   "source": [
    "When looking at the F1 test scores for the leading algorithm, there is only a small delta between the AUC score and the F1 test results. For LogisticRegression and LinearSVC the delta is quite large though. Using F1 scores put these scores below .5 which makes them worse than random guessing."
   ]
  },
  {
   "cell_type": "code",
   "execution_count": null,
   "metadata": {
    "collapsed": false
   },
   "outputs": [],
   "source": [
    "final_score_f1.ix[:,3:]"
   ]
  },
  {
   "cell_type": "markdown",
   "metadata": {},
   "source": [
    "## Reflection\n",
    "\n",
    "### Introducing the problem, the domain and a potential solution\n",
    "The process developed in this research took a raw data set filled with employee information and turned it into a predictive analysis regarding employee turnover. The research was split into several parts. It starts with an introduction that states additional background information and gives an overview about recent research about employee turnover. In this part the problem and a possible solution is also stated and based on the literature review a benchmark has been established to measure the quality of this research paper. An interesting takeaway from this part was the complexity of the domain and various multi-layered approaches that have been executed in the search of workable solutions. \n",
    "\n",
    "### Exploring the data and its peculiarities\n",
    "Afterwards an in-depth analysis of the data took place. Starting with data exploration and steps to deal with individual traits of the data set. From univariate analysis of continuous and distinct variables to multivariate perspectives including but not limited to regression and correlation analysis the peculiarities of the data. This section highlighted the importance of context, when it comes to a human related topic. Just as important as creating a prediction algorithm is understanding the context and inner relationships of its variables. The takeaway of this segment were multiple possible employee stories and input for additional measures when it comes to employee turnover. \n",
    "\n",
    "### Thoughts on models and algorithms\n",
    "After establishing theoretical and topical groundwork several avenues for machine learning solutions were explored. Starting with a collection of supervised and unsupervised algorithms that could potentially lead to a successful solution and their intuition were mentioned. This segment tried to give a brief introduction into the criterias and upsides which led to the chosen set of algorithms. Afterwards the benchmark was theoretical introduced and explained in deeper detail. A major takeaway was the complexity of combining supervised and unsupervised sets especially when dealing with a mix of variable classes. Since it's not that easy to apply clustering algorithms to a mix of continuous and distinct variables a compromise had to be found.\n",
    "\n",
    "### Exploring methods for handling the data\n",
    "In the next segment the methodology behind handling the data and dealing with its detected peculiarities was discussed. From Data preprocessing with steps such as missing value or outlier detection and handling as well as One-Hot Encoding for categorical variables to feature normalization and the calculation of feature relevance. \n",
    "\n",
    "### Implementing a solution\n",
    "The implementation phase was split into three prediction and two refinement runs. Combining efforts of unsupervised and supervised learning algorithms this segment tried to put into action what was introduced in the solution statement. Before starting with the first prediction, 20 % of the data was set aside for testing later on. For all supervised learning algorithms stratified 5-fold cross-validation was performed in an attempt to create an algorithm that would generalize well on new data. First it started with a basic implementation of the set of discussed supervised learning algorithms and measuring its success based on the same score as the benchmark. \n",
    "Afterwards an unsupervised learning algorithm was implemented to find clusters and additional relationships in the data. The cluster labels were added to the data set and another run of prediction took place. This was a difficult task and prior to starting the research I hoped the information available was richer when it comes to clustering. Because of the small amount of continuous variables and the complexity of mixed clustering methods the clustering results are suboptimal and led to only minor changes in the prediction.\n",
    "In an attempt to fine tune the algorithms GridSearch was performed on all supervised algorithms to find a set of parameters each that worked the best based on its benchmark cross-validation score. \n",
    "\n",
    "### Additional model testing\n",
    "Afterwards robustness of the model was tested by performing additional cross-validation runs on smaller subsets of the data.\n",
    "\n",
    "### Success of the model\n",
    "The final model and solution does fit the expectation stated in the beginning. Yet it is important to point out that this solution is tied to the present data set. With a data set that is more noisy the problem of generalization as mentioned in some of the other research may occur especially when dealing with tree-based algorithms that don't implement pruning. Cross-validation with pruning parameters and boosting are some of the options available to work against this problem. The solution presented here could be used in a general setting to determine not only employee turnover but also feature relevance in companies with a certain size and reporting structure. \n",
    "\n",
    "## Improvement\n",
    "There are a few suggestions to improve this research that would go beyond the scope of this analysis. \n",
    "\n",
    "### More and more diverse data\n",
    "The available information for this research has its limitations. Although it was nice to handle and exceptionally clean already from the beginning there were some aspects that felt could use improvements. In an attempt to get more insights a follow up research could start pulling additional information from a variety of sources, gather more granular splits on some of the existing variables or try to reverse engineer some information that might be hidden in the data set. However with missing codebook and contextual information for the data it is quite hard to add additional sources since most of the available information is highly regional and to a certain extend company specific. \n",
    "\n",
    "### Additional algorithms\n",
    "For similar research more sophisticated algorithms could be used. There have been great results in this domain with Extreme Gradiant Boosting models. In addition the implemenation of an artificial neural net might be possible if the data set grows to an extend where it is feasible to train a net.\n",
    "\n",
    "### Computational Efficiency \n",
    "Some of the parts in this research are computationally expensive. Especially computing the silhouette score and performing GridSearch on all of the algorithms with a broad variety of parameter settings can take a long time to process. An implementation of this research should also focus on parallel computing which is not only possible for specific segments but also for tree-based algorithms such as Random Forest. Another option is preprocessing some of the data upfront and establishing a knowledge data base that can be loaded rather than computed everytime in order to minimize computing time. "
   ]
  },
  {
   "cell_type": "code",
   "execution_count": null,
   "metadata": {
    "collapsed": false
   },
   "outputs": [],
   "source": []
  },
  {
   "cell_type": "markdown",
   "metadata": {},
   "source": [
    "## Data preparation\n",
    "Make data machine readable. One-hot-encoding for categorical cases."
   ]
  },
  {
   "cell_type": "code",
   "execution_count": null,
   "metadata": {
    "collapsed": true
   },
   "outputs": [],
   "source": [
    "# [20]\n",
    "# Causes of employee turnover: A test of the Mobley, Griffeth, Hand, and Meglino model.\n",
    "# Michaels, Charles E.; Spector, Paul E.\n",
    "# Journal of Applied Psychology, Vol 67(1), Feb 1982, 53-59. http://dx.doi.org/10.1037/0021-9010.67.1.53\n",
    "# http://psycnet.apa.org/journals/apl/67/1/53/\n",
    "\n",
    "# [21]\n",
    "# Employee Turnover: A Meta-Analysis and Review with Implications for Research\n",
    "# John L. Cotton1 and Jeffrey M. Tuttle1\n",
    "\n",
    "# [22]\n",
    "# Intermediate linkages in the relationship between job satisfaction and employee turnover.\n",
    "# Mobley, William H.\n",
    "# Journal of Applied Psychology, Vol 62(2), Apr 1977, 237-240. http://dx.doi.org/10.1037/0021-9010.62.2.237\n",
    "#http://psycnet.apa.org/journals/apl/62/2/237/\n",
    "\n",
    "# [23]\n",
    "# Mitchel, J. O. (1981). The effect of intentions, tenure, personal, and organizational variables on\n",
    "# managerial turnover. Academy of Management Journal, 24, 742-750. \n",
    "\n",
    "# [24]\n",
    "# “Turnover and retention research: A glance at the past, a closer review of the present, and a venture into the future”\n",
    "# B. Holtom, T. Mitchell, T. Lee, and M. Eberly, \n",
    "# Academy of Management Annals, 2: 231-274, 2008\n",
    "\n",
    "# [25]\n",
    "# Trevor, C.O. (2001). Interactions among actual ease-of-movement determinants and\n",
    "# job satisfaction in the prediction of voluntary turnover. Academy of Management\n",
    "# Journal, 44, 621–638\n",
    "\n",
    "# [26]\n",
    "# Allen, D.G., Moffit, K.R., & Weeks. K.P. (2005). Turnover intentions and voluntary\n",
    "# turnover: The moderating roles of self-monitoring, locus of control, proactive\n",
    "# personality, and risk aversion. Journal of Applied Psychology, 90, 980–990.\n",
    "\n",
    "\n",
    "# [1] Punnose R, Pankaj A (2016) “Prediction of Employee Turnover in Organizations using Machine Learning Algorithms” in International Journal of Advanced Research in Artificial Intel- ligence, Vol 5.\n",
    "# [2] Weisbeck, D (2015) “Fact or Hype: Do Predictive Workforce Analytics Actually Work?” on visier.com.\n",
    "# [3] Cotton J, Tuttle J (1986) “Employee Turnover: A Meta-Analysis and Review With Impli- cations for Research” in The Academy of Management Review 11(1)."
   ]
  },
  {
   "cell_type": "code",
   "execution_count": null,
   "metadata": {
    "collapsed": true
   },
   "outputs": [],
   "source": []
  }
 ],
 "metadata": {
  "anaconda-cloud": {},
  "cite2c": {
   "citations": {
    "4046282/4E5VI8HP": {
     "author": [
      {
       "family": "Mitchel",
       "given": "J. O."
      }
     ],
     "container-title": "Academy of Management Journal",
     "id": "4046282/4E5VI8HP",
     "issued": {
      "year": "1981"
     },
     "page": "p. 742-750",
     "page-first": "p. 742",
     "title": "The effect of intentions, tenure, personal, and organizational variables on managerial turnover.",
     "type": "article-journal",
     "volume": "Vol 24"
    },
    "4046282/5P9K6ZAZ": {
     "author": [
      {
       "family": "Trevor",
       "given": "C. O."
      }
     ],
     "container-title": "Academy of Management Journal",
     "id": "4046282/5P9K6ZAZ",
     "issued": {
      "year": "2001"
     },
     "page": "p. 621–638",
     "page-first": "p. 621",
     "title": "Interactions among actual ease-of-movement determinants and job satisfaction in the prediction of voluntary turnover.",
     "type": "article-journal",
     "volume": "Vol 44"
    },
    "4046282/DZ7FB7XU": {
     "author": [
      {
       "family": "Punnose",
       "given": "R."
      },
      {
       "family": "Pankaj",
       "given": "A."
      }
     ],
     "container-title": "International Journal of Advanced Research in Artificial Intelligence",
     "id": "4046282/DZ7FB7XU",
     "issued": {
      "year": "2016"
     },
     "title": "Prediction of Employee Turnover in Organizations using Machine Learning Algorithms",
     "type": "article-journal",
     "volume": "Vol 5"
    },
    "4046282/E5IGJ7T9": {
     "author": [
      {
       "family": "Mobley",
       "given": "William H."
      }
     ],
     "container-title": "Journal of Applied Psychology",
     "id": "4046282/E5IGJ7T9",
     "issued": {
      "year": "1977"
     },
     "page": "p. 237-240",
     "page-first": "p. 237",
     "title": "Intermediate linkages in the relationship between job satisfaction and employee turnover.",
     "type": "article-journal",
     "volume": "Vol 62(2)"
    },
    "4046282/HPCFW2W5": {
     "author": [
      {
       "family": "Michaels",
       "given": "Charles E."
      },
      {
       "family": "Spector",
       "given": "Paul E."
      }
     ],
     "container-title": "Journal of Applied Psychology",
     "id": "4046282/HPCFW2W5",
     "issued": {
      "year": "1982"
     },
     "page": "p. 53-59",
     "page-first": "p. 53",
     "title": "Causes of employee turnover: A test of the Mobley, Griffeth, Hand, and Meglino model.",
     "type": "article-journal",
     "volume": "Vol 67(1)"
    },
    "4046282/I6B68G3U": {
     "author": [
      {
       "family": "Holtom",
       "given": "B."
      },
      {
       "family": "Mitchell",
       "given": "T."
      },
      {
       "family": "Lee",
       "given": "T."
      },
      {
       "family": "Eberly",
       "given": "M."
      }
     ],
     "container-title": "Academy of Management Annals",
     "id": "undefined",
     "issued": {
      "year": "2008"
     },
     "page": "p. 231-274",
     "page-first": "p. 231",
     "title": "Turnover and retention research: A glance at the past, a closer review of the present, and a venture into the future",
     "type": "article-journal",
     "volume": "Vol 2"
    },
    "4046282/M4CWJ7CZ": {
     "author": [
      {
       "family": "Hand",
       "given": "J. D."
      },
      {
       "family": "Krzanowski",
       "given": "J. W."
      }
     ],
     "id": "4046282/M4CWJ7CZ",
     "issued": {
      "year": "2009"
     },
     "number-of-pages": "p. 26",
     "publisher": "CRC Press",
     "title": "ROC Curves for Continuous Data",
     "type": "book"
    },
    "4046282/SJ3BZIGV": {
     "author": [
      {
       "family": "Allen",
       "given": "D. G."
      },
      {
       "family": "Moffit",
       "given": "K. R."
      },
      {
       "family": "Weeks",
       "given": "K. P."
      }
     ],
     "container-title": "Journal of Applied Psychology",
     "id": "4046282/SJ3BZIGV",
     "issue": "980990",
     "issued": {
      "year": "2005"
     },
     "title": "Turnover intentions and voluntary turnover: The moderating roles of self-monitoring, locus of control, proactive personality, and risk aversion.",
     "type": "article-journal",
     "volume": "Vol 90"
    },
    "4046282/UZ4GGATW": {
     "author": [
      {
       "family": "Cotton",
       "given": "John L."
      },
      {
       "family": "Tuttle",
       "given": "Jefferey M."
      }
     ],
     "container-title": "Academy of Management Review",
     "id": "4046282/UZ4GGATW",
     "issued": {
      "year": "1986"
     },
     "page": "55–70",
     "page-first": "55",
     "title": "Employee Turnover: A Meta-Analysis and Review with Implications for Research",
     "type": "article-journal",
     "volume": "Vol 11"
    },
    "undefined": {
     "author": [
      {
       "family": "Holtom",
       "given": "B."
      },
      {
       "family": "Mitchell",
       "given": "T."
      },
      {
       "family": "Lee",
       "given": "T."
      },
      {
       "family": "Eberly",
       "given": "M."
      }
     ],
     "container-title": "Academy of Management Annals",
     "id": "undefined",
     "issued": {
      "year": "2008"
     },
     "page": "p. 231-274",
     "page-first": "p. 231",
     "title": "Turnover and retention research: A glance at the past, a closer review of the present, and a venture into the future",
     "type": "article-journal",
     "volume": "Vol 2"
    }
   }
  },
  "kernelspec": {
   "display_name": "Python [conda root]",
   "language": "python",
   "name": "conda-root-py"
  },
  "language_info": {
   "codemirror_mode": {
    "name": "ipython",
    "version": 2
   },
   "file_extension": ".py",
   "mimetype": "text/x-python",
   "name": "python",
   "nbconvert_exporter": "python",
   "pygments_lexer": "ipython2",
   "version": "2.7.12"
  }
 },
 "nbformat": 4,
 "nbformat_minor": 1
}
